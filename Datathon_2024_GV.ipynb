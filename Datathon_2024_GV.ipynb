{
 "cells": [
  {
   "cell_type": "code",
   "execution_count": 1,
   "id": "9e0227cd-0f78-464c-8105-c6b795c84cc7",
   "metadata": {},
   "outputs": [],
   "source": [
    "# kütüphaneleri dahil ediyoruz\n",
    "import numpy as np # veriler üzerinde istatiksel işlemler uygulamak için\n",
    "import pandas as pd # veriler üzerinde hakimiyet kurabilmek için\n",
    "import matplotlib.pyplot as plt # verileri görselleştirme ve çeşitli işlemler için\n",
    "import seaborn as sns # matplotlib'in yanı sıra daha çeşitli görselleştirme ve istatiksel işlemler için\n",
    "\n",
    "# önemsiz uyarı açıklamalarını kapatmak için ekstra bu kütüphaneyi de ekliyoruz.\n",
    "import warnings\n",
    "\n",
    "warnings.filterwarnings(\"ignore\")"
   ]
  },
  {
   "cell_type": "code",
   "execution_count": 2,
   "id": "fb87d310-3fcc-4b77-b610-69f1dbdf1abd",
   "metadata": {},
   "outputs": [],
   "source": [
    "# verileri projeye dahil edelim\n",
    "\n",
    "train_data = pd.read_csv(\"train.csv\")\n",
    "test_data = pd.read_csv(\"test_x.csv\")\n",
    "\n",
    "# orijnal verilerde kayıp veya değişiklik olmaması için (tekrar gözlemelemek için) kopyalıyoruz.\n",
    "df_train = train_data.copy() \n",
    "df_test = test_data.copy()"
   ]
  },
  {
   "cell_type": "code",
   "execution_count": 3,
   "id": "18927c7d-97fd-433c-9cd6-4e953ffdf5ba",
   "metadata": {},
   "outputs": [
    {
     "data": {
      "text/html": [
       "<div>\n",
       "<style scoped>\n",
       "    .dataframe tbody tr th:only-of-type {\n",
       "        vertical-align: middle;\n",
       "    }\n",
       "\n",
       "    .dataframe tbody tr th {\n",
       "        vertical-align: top;\n",
       "    }\n",
       "\n",
       "    .dataframe thead th {\n",
       "        text-align: right;\n",
       "    }\n",
       "</style>\n",
       "<table border=\"1\" class=\"dataframe\">\n",
       "  <thead>\n",
       "    <tr style=\"text-align: right;\">\n",
       "      <th></th>\n",
       "      <th>Basvuru Yili</th>\n",
       "      <th>Degerlendirme Puani</th>\n",
       "      <th>Cinsiyet</th>\n",
       "      <th>Dogum Tarihi</th>\n",
       "      <th>Dogum Yeri</th>\n",
       "      <th>Ikametgah Sehri</th>\n",
       "      <th>Universite Adi</th>\n",
       "      <th>Universite Turu</th>\n",
       "      <th>Burslu ise Burs Yuzdesi</th>\n",
       "      <th>Burs Aliyor mu?</th>\n",
       "      <th>...</th>\n",
       "      <th>Spor Dalindaki Rolunuz Nedir?</th>\n",
       "      <th>Aktif olarak bir STK üyesi misiniz?</th>\n",
       "      <th>Hangi STK'nin Uyesisiniz?</th>\n",
       "      <th>Stk Projesine Katildiniz Mi?</th>\n",
       "      <th>Girisimcilikle Ilgili Deneyiminiz Var Mi?</th>\n",
       "      <th>Girisimcilikle Ilgili Deneyiminizi Aciklayabilir misiniz?</th>\n",
       "      <th>Ingilizce Biliyor musunuz?</th>\n",
       "      <th>Ingilizce Seviyeniz?</th>\n",
       "      <th>Daha Önceden Mezun Olunduysa, Mezun Olunan Üniversite</th>\n",
       "      <th>id</th>\n",
       "    </tr>\n",
       "  </thead>\n",
       "  <tbody>\n",
       "    <tr>\n",
       "      <th>0</th>\n",
       "      <td>2014</td>\n",
       "      <td>52.0</td>\n",
       "      <td>Erkek</td>\n",
       "      <td>4/6/1994</td>\n",
       "      <td>Altindag, Ankara</td>\n",
       "      <td>Ankara</td>\n",
       "      <td>İHSAN DOĞRAMACI BİLKENT</td>\n",
       "      <td>Özel</td>\n",
       "      <td>100.0</td>\n",
       "      <td>Evet</td>\n",
       "      <td>...</td>\n",
       "      <td>Diğer</td>\n",
       "      <td>Hayır</td>\n",
       "      <td>NaN</td>\n",
       "      <td>Evet</td>\n",
       "      <td>Hayır</td>\n",
       "      <td>NaN</td>\n",
       "      <td>NaN</td>\n",
       "      <td>NaN</td>\n",
       "      <td>NaN</td>\n",
       "      <td>0</td>\n",
       "    </tr>\n",
       "    <tr>\n",
       "      <th>1</th>\n",
       "      <td>2014</td>\n",
       "      <td>30.0</td>\n",
       "      <td>Erkek</td>\n",
       "      <td>6/11/1993</td>\n",
       "      <td>Üsküdar</td>\n",
       "      <td>İstanbul</td>\n",
       "      <td>İHSAN DOĞRAMACI BİLKENT</td>\n",
       "      <td>Özel</td>\n",
       "      <td>100.0</td>\n",
       "      <td>Hayır</td>\n",
       "      <td>...</td>\n",
       "      <td>0</td>\n",
       "      <td>Hayır</td>\n",
       "      <td>NaN</td>\n",
       "      <td>Evet</td>\n",
       "      <td>Evet</td>\n",
       "      <td>Bilkent Cyberparkta bir şirkette Türkiye nin i...</td>\n",
       "      <td>NaN</td>\n",
       "      <td>NaN</td>\n",
       "      <td>NaN</td>\n",
       "      <td>1</td>\n",
       "    </tr>\n",
       "    <tr>\n",
       "      <th>2</th>\n",
       "      <td>2014</td>\n",
       "      <td>18.0</td>\n",
       "      <td>Erkek</td>\n",
       "      <td>1/15/1986</td>\n",
       "      <td>Samsun</td>\n",
       "      <td>İstanbul</td>\n",
       "      <td>ULUSLARARASI KIBRIS ÜNİVERSİTESİ</td>\n",
       "      <td>Özel</td>\n",
       "      <td>100.0</td>\n",
       "      <td>Hayır</td>\n",
       "      <td>...</td>\n",
       "      <td>0</td>\n",
       "      <td>Hayır</td>\n",
       "      <td>NaN</td>\n",
       "      <td>Hayır</td>\n",
       "      <td>Hayır</td>\n",
       "      <td>NaN</td>\n",
       "      <td>NaN</td>\n",
       "      <td>NaN</td>\n",
       "      <td>NaN</td>\n",
       "      <td>2</td>\n",
       "    </tr>\n",
       "    <tr>\n",
       "      <th>3</th>\n",
       "      <td>2014</td>\n",
       "      <td>40.0</td>\n",
       "      <td>Erkek</td>\n",
       "      <td>6/4/1991</td>\n",
       "      <td>Diyarbakır</td>\n",
       "      <td>İstanbul</td>\n",
       "      <td>İSTANBUL ŞEHİR ÜNİVERSİTESİ</td>\n",
       "      <td>Özel</td>\n",
       "      <td>100.0</td>\n",
       "      <td>Evet</td>\n",
       "      <td>...</td>\n",
       "      <td>0</td>\n",
       "      <td>Hayır</td>\n",
       "      <td>NaN</td>\n",
       "      <td>Evet</td>\n",
       "      <td>Hayır</td>\n",
       "      <td>NaN</td>\n",
       "      <td>NaN</td>\n",
       "      <td>NaN</td>\n",
       "      <td>NaN</td>\n",
       "      <td>3</td>\n",
       "    </tr>\n",
       "    <tr>\n",
       "      <th>4</th>\n",
       "      <td>2014</td>\n",
       "      <td>24.0</td>\n",
       "      <td>Erkek</td>\n",
       "      <td>2 Kasim 1992</td>\n",
       "      <td>Ankara/Altındağ</td>\n",
       "      <td>Ankara</td>\n",
       "      <td>TURGUT ÖZAL ÜNİVERSİTESİ</td>\n",
       "      <td>Özel</td>\n",
       "      <td>100.0</td>\n",
       "      <td>Evet</td>\n",
       "      <td>...</td>\n",
       "      <td>0</td>\n",
       "      <td>Hayır</td>\n",
       "      <td>NaN</td>\n",
       "      <td>Hayır</td>\n",
       "      <td>Hayır</td>\n",
       "      <td>NaN</td>\n",
       "      <td>NaN</td>\n",
       "      <td>NaN</td>\n",
       "      <td>NaN</td>\n",
       "      <td>4</td>\n",
       "    </tr>\n",
       "  </tbody>\n",
       "</table>\n",
       "<p>5 rows × 44 columns</p>\n",
       "</div>"
      ],
      "text/plain": [
       "   Basvuru Yili  Degerlendirme Puani Cinsiyet  Dogum Tarihi        Dogum Yeri  \\\n",
       "0          2014                 52.0    Erkek      4/6/1994  Altindag, Ankara   \n",
       "1          2014                 30.0    Erkek     6/11/1993           Üsküdar   \n",
       "2          2014                 18.0    Erkek     1/15/1986            Samsun   \n",
       "3          2014                 40.0    Erkek      6/4/1991        Diyarbakır   \n",
       "4          2014                 24.0    Erkek  2 Kasim 1992   Ankara/Altındağ   \n",
       "\n",
       "  Ikametgah Sehri                    Universite Adi Universite Turu  \\\n",
       "0          Ankara           İHSAN DOĞRAMACI BİLKENT            Özel   \n",
       "1        İstanbul           İHSAN DOĞRAMACI BİLKENT            Özel   \n",
       "2        İstanbul  ULUSLARARASI KIBRIS ÜNİVERSİTESİ            Özel   \n",
       "3        İstanbul       İSTANBUL ŞEHİR ÜNİVERSİTESİ            Özel   \n",
       "4          Ankara          TURGUT ÖZAL ÜNİVERSİTESİ            Özel   \n",
       "\n",
       "   Burslu ise Burs Yuzdesi Burs Aliyor mu?  ... Spor Dalindaki Rolunuz Nedir?  \\\n",
       "0                    100.0            Evet  ...                         Diğer   \n",
       "1                    100.0           Hayır  ...                             0   \n",
       "2                    100.0           Hayır  ...                             0   \n",
       "3                    100.0            Evet  ...                             0   \n",
       "4                    100.0            Evet  ...                             0   \n",
       "\n",
       "  Aktif olarak bir STK üyesi misiniz? Hangi STK'nin Uyesisiniz?  \\\n",
       "0                               Hayır                       NaN   \n",
       "1                               Hayır                       NaN   \n",
       "2                               Hayır                       NaN   \n",
       "3                               Hayır                       NaN   \n",
       "4                               Hayır                       NaN   \n",
       "\n",
       "  Stk Projesine Katildiniz Mi? Girisimcilikle Ilgili Deneyiminiz Var Mi?  \\\n",
       "0                         Evet                                     Hayır   \n",
       "1                         Evet                                      Evet   \n",
       "2                        Hayır                                     Hayır   \n",
       "3                         Evet                                     Hayır   \n",
       "4                        Hayır                                     Hayır   \n",
       "\n",
       "  Girisimcilikle Ilgili Deneyiminizi Aciklayabilir misiniz?  \\\n",
       "0                                                NaN          \n",
       "1  Bilkent Cyberparkta bir şirkette Türkiye nin i...          \n",
       "2                                                NaN          \n",
       "3                                                NaN          \n",
       "4                                                NaN          \n",
       "\n",
       "  Ingilizce Biliyor musunuz? Ingilizce Seviyeniz?  \\\n",
       "0                        NaN                  NaN   \n",
       "1                        NaN                  NaN   \n",
       "2                        NaN                  NaN   \n",
       "3                        NaN                  NaN   \n",
       "4                        NaN                  NaN   \n",
       "\n",
       "  Daha Önceden Mezun Olunduysa, Mezun Olunan Üniversite id  \n",
       "0                                                NaN     0  \n",
       "1                                                NaN     1  \n",
       "2                                                NaN     2  \n",
       "3                                                NaN     3  \n",
       "4                                                NaN     4  \n",
       "\n",
       "[5 rows x 44 columns]"
      ]
     },
     "execution_count": 3,
     "metadata": {},
     "output_type": "execute_result"
    }
   ],
   "source": [
    "df_train.head() # veriye dair ilk gözlem\n",
    "# ancak sütun isimlerine dair düzgün bilgi vermiyor. Daha çeşitli bilgilere erişmek için\n",
    "# biraz daha istatiksel olarak kurcalamak lazım."
   ]
  },
  {
   "cell_type": "code",
   "execution_count": 4,
   "id": "4b5c2ab1-28c9-4ee6-bbc5-896f1f0af09b",
   "metadata": {},
   "outputs": [
    {
     "data": {
      "text/plain": [
       "(65125, 44)"
      ]
     },
     "execution_count": 4,
     "metadata": {},
     "output_type": "execute_result"
    }
   ],
   "source": [
    "df_train.shape # veri ve gözlem sayısı"
   ]
  },
  {
   "cell_type": "code",
   "execution_count": 5,
   "id": "753608c5-a0c2-4275-8b41-323357c05c18",
   "metadata": {},
   "outputs": [
    {
     "name": "stdout",
     "output_type": "stream",
     "text": [
      "<class 'pandas.core.frame.DataFrame'>\n",
      "RangeIndex: 65125 entries, 0 to 65124\n",
      "Data columns (total 44 columns):\n",
      " #   Column                                                     Non-Null Count  Dtype  \n",
      "---  ------                                                     --------------  -----  \n",
      " 0   Basvuru Yili                                               65125 non-null  int64  \n",
      " 1   Degerlendirme Puani                                        65124 non-null  float64\n",
      " 2   Cinsiyet                                                   64956 non-null  object \n",
      " 3   Dogum Tarihi                                               64948 non-null  object \n",
      " 4   Dogum Yeri                                                 64334 non-null  object \n",
      " 5   Ikametgah Sehri                                            63088 non-null  object \n",
      " 6   Universite Adi                                             64993 non-null  object \n",
      " 7   Universite Turu                                            64870 non-null  object \n",
      " 8   Burslu ise Burs Yuzdesi                                    22440 non-null  float64\n",
      " 9   Burs Aliyor mu?                                            65125 non-null  object \n",
      " 10  Bölüm                                                      64894 non-null  object \n",
      " 11  Universite Kacinci Sinif                                   64751 non-null  object \n",
      " 12  Universite Not Ortalamasi                                  62372 non-null  object \n",
      " 13  Daha Once Baska Bir Universiteden Mezun Olmus              27780 non-null  object \n",
      " 14  Lise Adi                                                   64741 non-null  object \n",
      " 15  Lise Adi Diger                                             4733 non-null   object \n",
      " 16  Lise Sehir                                                 64071 non-null  object \n",
      " 17  Lise Turu                                                  64278 non-null  object \n",
      " 18  Lise Bolumu                                                64116 non-null  object \n",
      " 19  Lise Bolum Diger                                           1526 non-null   object \n",
      " 20  Lise Mezuniyet Notu                                        59208 non-null  object \n",
      " 21  Baska Bir Kurumdan Burs Aliyor mu?                         64894 non-null  object \n",
      " 22  Burs Aldigi Baska Kurum                                    21148 non-null  object \n",
      " 23  Baska Kurumdan Aldigi Burs Miktari                         20963 non-null  object \n",
      " 24  Anne Egitim Durumu                                         64719 non-null  object \n",
      " 25  Anne Calisma Durumu                                        53229 non-null  object \n",
      " 26  Anne Sektor                                                30588 non-null  object \n",
      " 27  Baba Egitim Durumu                                         64118 non-null  object \n",
      " 28  Baba Calisma Durumu                                        52507 non-null  object \n",
      " 29  Baba Sektor                                                44747 non-null  object \n",
      " 30  Kardes Sayisi                                              63993 non-null  object \n",
      " 31  Girisimcilik Kulupleri Tarzi Bir Kulube Uye misiniz?       63296 non-null  object \n",
      " 32  Uye Oldugunuz Kulubun Ismi                                 16434 non-null  object \n",
      " 33  Profesyonel Bir Spor Daliyla Mesgul musunuz?               64010 non-null  object \n",
      " 34  Spor Dalindaki Rolunuz Nedir?                              32850 non-null  object \n",
      " 35  Aktif olarak bir STK üyesi misiniz?                        52283 non-null  object \n",
      " 36  Hangi STK'nin Uyesisiniz?                                  15607 non-null  object \n",
      " 37  Stk Projesine Katildiniz Mi?                               36817 non-null  object \n",
      " 38  Girisimcilikle Ilgili Deneyiminiz Var Mi?                  52285 non-null  object \n",
      " 39  Girisimcilikle Ilgili Deneyiminizi Aciklayabilir misiniz?  14599 non-null  object \n",
      " 40  Ingilizce Biliyor musunuz?                                 58671 non-null  object \n",
      " 41  Ingilizce Seviyeniz?                                       28592 non-null  object \n",
      " 42  Daha Önceden Mezun Olunduysa, Mezun Olunan Üniversite      419 non-null    object \n",
      " 43  id                                                         65125 non-null  int64  \n",
      "dtypes: float64(2), int64(2), object(40)\n",
      "memory usage: 21.9+ MB\n"
     ]
    }
   ],
   "source": [
    "df_train.info() # verinin tamamı hakkında özet bilgi"
   ]
  },
  {
   "cell_type": "code",
   "execution_count": 6,
   "id": "2758cc4b-071b-4e19-901a-7304081a4357",
   "metadata": {},
   "outputs": [],
   "source": [
    "# verideki isimlendirmeler bir 'ankete' göre yapılmış. Ancak biz bunları kod alanına döktüğümüzde problem yaşıyoruz.\n",
    "# hem çok uzun hem de kafa karıştırıcı. Dolayısıyla bu datasetin üzerinde oynarken kolayımıza gelecek şekilde isimleri değistiriyoruz.\n",
    "# rename parametresinde sözlük tipinde isimleri değiştiriyoruz ancak yaptığımızın kalıcı olmasını istiyorsak,\n",
    "# sonuna 'inplace' yapısını ekliyoruz. \n",
    "df_train.rename(columns={\"Basvuru Yili\": \"b_yili\",\n",
    "                        \"Degerlendirme Puani\": \"D_puani\",\n",
    "                        \"Cinsiyet\": \"cinsiyet\",\n",
    "                        \"Dogum Tarihi\": \"d_tarihi\",\n",
    "                        \"Dogum Yeri\": \"d_yeri\",\n",
    "                        \"Ikametgah Sehri\": \"ikametgah\",\n",
    "                        \"Universite Adi\": \"uni_adi\",\n",
    "                        \"Universite Turu\": \"uni_turu\",\n",
    "                        \"Burslu ise Burs Yuzdesi\": \"burs_yuzdesi\",\n",
    "                        \"Burs Aliyor mu?\": \"bursu_varmi\",\n",
    "                        \"Bölüm\": \"bolum\",\n",
    "                        \"Universite Kacinci Sinif\": \"uni_kacinci_sinif\",\n",
    "                        \"Universite Not Ortalamasi\": \"uni_not_ort\",\n",
    "                        \"Daha Once Baska Bir Universiteden Mezun Olmus\": \"baska_uni_mezunmu\",\n",
    "                        \"Lise Adi\": \"lise_adi\",\n",
    "                        \"Lise Adi Diger\": \"lise_diger\",\n",
    "                        \"Lise Sehir\": \"lise_sehir\",\n",
    "                        \"Lise Turu\": \"lise_turu\",\n",
    "                        \"Lise Bolumu\": \"lise_bolumu\",\n",
    "                        \"Lise Bolum Diger\": \"lise_bolum_diger\",\n",
    "                        \"Lise Mezuniyet Notu\": \"lise_mez_notu\",\n",
    "                        \"Baska Bir Kurumdan Burs Aliyor mu?\": \"baska_burs_varmi\",\n",
    "                        \"Burs Aldigi Baska Kurum\": \"burs_aldigi_kurum\",\n",
    "                        \"Baska Kurumdan Aldigi Burs Miktari\": \"bk_burs_miktari\",\n",
    "                        \"Anne Egitim Durumu\": \"a_egitim_durumu\",\n",
    "                        \"Anne Calisma Durumu\": \"a_calisma_durumu\",\n",
    "                        \"Anne Sektor\": \"a_sektor\",\n",
    "                        \"Baba Egitim Durumu\":\"b_egitim_durumu\",\n",
    "                        \"Baba Calisma Durumu\": \"b_calisma_durumu\",\n",
    "                        \"Baba Sektor\":\"b_sektor\",\n",
    "                        \"Kardes Sayisi\":\"k_sayisi\",\n",
    "                        \"Girisimcilik Kulupleri Tarzi Bir Kulube Uye misiniz?\":\"gir_klube_uyemi\",\n",
    "                        \"Uye Oldugunuz Kulubun Ismi\":\"kulup_ismi\",\n",
    "                        \"Profesyonel Bir Spor Daliyla Mesgul musunuz?\":\"spor_dali_mesgulmu\",\n",
    "                        \"Spor Dalindaki Rolunuz Nedir?\":\"spor_rolu_ne\",\n",
    "                        \"Aktif olarak bir STK üyesi misiniz?\":\"aktif_stk_uyesimi\",\n",
    "                        \"Hangi STK'nin Uyesisiniz?\":\"hangi_stk\",\n",
    "                        \"Stk Projesine Katildiniz Mi?\":\"stk_proje_katildimi\",\n",
    "                        \"Girisimcilikle Ilgili Deneyiminiz Var Mi?\":\"gir_deneyim_varmi\",\n",
    "                        \"Girisimcilikle Ilgili Deneyiminizi Aciklayabilir misiniz?\":\"gir_deneyim_acikla\",\n",
    "                        \"Ingilizce Biliyor musunuz?\":\"ing_varmi\",\n",
    "                        \"Ingilizce Seviyeniz?\":\"ing_seviye\",\n",
    "                        \"Daha Önceden Mezun Olunduysa, Mezun Olunan Üniversite\":\"ikinci_uni_varmi\"}, inplace = True)"
   ]
  },
  {
   "cell_type": "code",
   "execution_count": 7,
   "id": "a9d30a98-5401-4eec-945a-c375ed80ad08",
   "metadata": {},
   "outputs": [
    {
     "data": {
      "text/html": [
       "<div>\n",
       "<style scoped>\n",
       "    .dataframe tbody tr th:only-of-type {\n",
       "        vertical-align: middle;\n",
       "    }\n",
       "\n",
       "    .dataframe tbody tr th {\n",
       "        vertical-align: top;\n",
       "    }\n",
       "\n",
       "    .dataframe thead th {\n",
       "        text-align: right;\n",
       "    }\n",
       "</style>\n",
       "<table border=\"1\" class=\"dataframe\">\n",
       "  <thead>\n",
       "    <tr style=\"text-align: right;\">\n",
       "      <th></th>\n",
       "      <th>count</th>\n",
       "      <th>mean</th>\n",
       "      <th>std</th>\n",
       "      <th>min</th>\n",
       "      <th>25%</th>\n",
       "      <th>50%</th>\n",
       "      <th>75%</th>\n",
       "      <th>max</th>\n",
       "    </tr>\n",
       "  </thead>\n",
       "  <tbody>\n",
       "    <tr>\n",
       "      <th>b_yili</th>\n",
       "      <td>65125.0</td>\n",
       "      <td>2018.277298</td>\n",
       "      <td>2.669979</td>\n",
       "      <td>2014.0</td>\n",
       "      <td>2016.0</td>\n",
       "      <td>2019.0</td>\n",
       "      <td>2021.0</td>\n",
       "      <td>2022.0</td>\n",
       "    </tr>\n",
       "    <tr>\n",
       "      <th>D_puani</th>\n",
       "      <td>65124.0</td>\n",
       "      <td>32.086466</td>\n",
       "      <td>18.139239</td>\n",
       "      <td>0.0</td>\n",
       "      <td>18.0</td>\n",
       "      <td>29.0</td>\n",
       "      <td>44.0</td>\n",
       "      <td>102.0</td>\n",
       "    </tr>\n",
       "    <tr>\n",
       "      <th>burs_yuzdesi</th>\n",
       "      <td>22440.0</td>\n",
       "      <td>34.226181</td>\n",
       "      <td>41.632412</td>\n",
       "      <td>0.0</td>\n",
       "      <td>0.0</td>\n",
       "      <td>0.0</td>\n",
       "      <td>75.0</td>\n",
       "      <td>100.0</td>\n",
       "    </tr>\n",
       "    <tr>\n",
       "      <th>id</th>\n",
       "      <td>65125.0</td>\n",
       "      <td>32562.000000</td>\n",
       "      <td>18800.112478</td>\n",
       "      <td>0.0</td>\n",
       "      <td>16281.0</td>\n",
       "      <td>32562.0</td>\n",
       "      <td>48843.0</td>\n",
       "      <td>65124.0</td>\n",
       "    </tr>\n",
       "  </tbody>\n",
       "</table>\n",
       "</div>"
      ],
      "text/plain": [
       "                count          mean           std     min      25%      50%  \\\n",
       "b_yili        65125.0   2018.277298      2.669979  2014.0   2016.0   2019.0   \n",
       "D_puani       65124.0     32.086466     18.139239     0.0     18.0     29.0   \n",
       "burs_yuzdesi  22440.0     34.226181     41.632412     0.0      0.0      0.0   \n",
       "id            65125.0  32562.000000  18800.112478     0.0  16281.0  32562.0   \n",
       "\n",
       "                  75%      max  \n",
       "b_yili         2021.0   2022.0  \n",
       "D_puani          44.0    102.0  \n",
       "burs_yuzdesi     75.0    100.0  \n",
       "id            48843.0  65124.0  "
      ]
     },
     "execution_count": 7,
     "metadata": {},
     "output_type": "execute_result"
    }
   ],
   "source": [
    "df_train.describe().T # sayısal veriler üzerinde istatiksel gözlem"
   ]
  },
  {
   "cell_type": "code",
   "execution_count": 8,
   "id": "4b1ebdb9-5a61-488b-8ca2-b3b5aa61ef9c",
   "metadata": {},
   "outputs": [
    {
     "data": {
      "text/plain": [
       "b_yili                     0\n",
       "D_puani                    1\n",
       "cinsiyet                 169\n",
       "d_tarihi                 177\n",
       "d_yeri                   791\n",
       "ikametgah               2037\n",
       "uni_adi                  132\n",
       "uni_turu                 255\n",
       "burs_yuzdesi           42685\n",
       "bursu_varmi                0\n",
       "bolum                    231\n",
       "uni_kacinci_sinif        374\n",
       "uni_not_ort             2753\n",
       "baska_uni_mezunmu      37345\n",
       "lise_adi                 384\n",
       "lise_diger             60392\n",
       "lise_sehir              1054\n",
       "lise_turu                847\n",
       "lise_bolumu             1009\n",
       "lise_bolum_diger       63599\n",
       "lise_mez_notu           5917\n",
       "baska_burs_varmi         231\n",
       "burs_aldigi_kurum      43977\n",
       "bk_burs_miktari        44162\n",
       "a_egitim_durumu          406\n",
       "a_calisma_durumu       11896\n",
       "a_sektor               34537\n",
       "b_egitim_durumu         1007\n",
       "b_calisma_durumu       12618\n",
       "b_sektor               20378\n",
       "k_sayisi                1132\n",
       "gir_klube_uyemi         1829\n",
       "kulup_ismi             48691\n",
       "spor_dali_mesgulmu      1115\n",
       "spor_rolu_ne           32275\n",
       "aktif_stk_uyesimi      12842\n",
       "hangi_stk              49518\n",
       "stk_proje_katildimi    28308\n",
       "gir_deneyim_varmi      12840\n",
       "gir_deneyim_acikla     50526\n",
       "ing_varmi               6454\n",
       "ing_seviye             36533\n",
       "ikinci_uni_varmi       64706\n",
       "id                         0\n",
       "dtype: int64"
      ]
     },
     "execution_count": 8,
     "metadata": {},
     "output_type": "execute_result"
    }
   ],
   "source": [
    "# eksik verilerin gözlemi\n",
    "\n",
    "df_train.isnull().sum()"
   ]
  },
  {
   "cell_type": "code",
   "execution_count": 9,
   "id": "b8656c92-6f32-4afe-81b9-d9043b4823a2",
   "metadata": {
    "scrolled": true
   },
   "outputs": [],
   "source": [
    "# verinin içindeki 'id' parametresini indeks haline geçiriyoruz. (gerek duyulmadı)\n",
    "\n",
    "# df_train.set_index('id', inplace = True)\n",
    "\n",
    "# df_train.head()"
   ]
  },
  {
   "cell_type": "code",
   "execution_count": 10,
   "id": "d31454d9-566d-417e-be64-97c5b151b9b0",
   "metadata": {},
   "outputs": [],
   "source": [
    "# değerlendirme puanı kısmında bir tane eksik veri vardı onu da '0' ile doldurduk.\n",
    "# temel olarak ilk olarak bu şekilde bir gözlem gerçekleştirelim ardından değiştirebiliriz\n",
    "\n",
    "df_train['D_puani'].fillna(0.0, inplace= True)"
   ]
  },
  {
   "cell_type": "code",
   "execution_count": 11,
   "id": "53b7e5f6-6e70-4ee5-9740-96030b7ec699",
   "metadata": {},
   "outputs": [
    {
     "data": {
      "text/html": [
       "<div>\n",
       "<style scoped>\n",
       "    .dataframe tbody tr th:only-of-type {\n",
       "        vertical-align: middle;\n",
       "    }\n",
       "\n",
       "    .dataframe tbody tr th {\n",
       "        vertical-align: top;\n",
       "    }\n",
       "\n",
       "    .dataframe thead th {\n",
       "        text-align: right;\n",
       "    }\n",
       "</style>\n",
       "<table border=\"1\" class=\"dataframe\">\n",
       "  <thead>\n",
       "    <tr style=\"text-align: right;\">\n",
       "      <th></th>\n",
       "      <th>b_yili</th>\n",
       "      <th>D_puani</th>\n",
       "      <th>cinsiyet</th>\n",
       "      <th>d_tarihi</th>\n",
       "      <th>d_yeri</th>\n",
       "      <th>ikametgah</th>\n",
       "      <th>uni_adi</th>\n",
       "      <th>uni_turu</th>\n",
       "      <th>burs_yuzdesi</th>\n",
       "      <th>bursu_varmi</th>\n",
       "      <th>...</th>\n",
       "      <th>spor_rolu_ne</th>\n",
       "      <th>aktif_stk_uyesimi</th>\n",
       "      <th>hangi_stk</th>\n",
       "      <th>stk_proje_katildimi</th>\n",
       "      <th>gir_deneyim_varmi</th>\n",
       "      <th>gir_deneyim_acikla</th>\n",
       "      <th>ing_varmi</th>\n",
       "      <th>ing_seviye</th>\n",
       "      <th>ikinci_uni_varmi</th>\n",
       "      <th>id</th>\n",
       "    </tr>\n",
       "  </thead>\n",
       "  <tbody>\n",
       "    <tr>\n",
       "      <th>65120</th>\n",
       "      <td>2022</td>\n",
       "      <td>0.0</td>\n",
       "      <td>Erkek</td>\n",
       "      <td>18.06.2003 00:00</td>\n",
       "      <td>İstanbul</td>\n",
       "      <td>İstanbul</td>\n",
       "      <td>İstanbul Aydın Üniversitesi</td>\n",
       "      <td>Özel</td>\n",
       "      <td>NaN</td>\n",
       "      <td>Evet</td>\n",
       "      <td>...</td>\n",
       "      <td>-</td>\n",
       "      <td>Hayır</td>\n",
       "      <td>-</td>\n",
       "      <td>NaN</td>\n",
       "      <td>Hayır</td>\n",
       "      <td>-</td>\n",
       "      <td>Hayır</td>\n",
       "      <td>NaN</td>\n",
       "      <td>NaN</td>\n",
       "      <td>65120</td>\n",
       "    </tr>\n",
       "    <tr>\n",
       "      <th>65121</th>\n",
       "      <td>2022</td>\n",
       "      <td>0.0</td>\n",
       "      <td>Erkek</td>\n",
       "      <td>18.04.2002 00:00</td>\n",
       "      <td>Hatay</td>\n",
       "      <td>Muğla</td>\n",
       "      <td>Muğla Sıtkı Koçman Üniversitesi</td>\n",
       "      <td>Devlet</td>\n",
       "      <td>NaN</td>\n",
       "      <td>Hayır</td>\n",
       "      <td>...</td>\n",
       "      <td>-</td>\n",
       "      <td>Hayır</td>\n",
       "      <td>-</td>\n",
       "      <td>NaN</td>\n",
       "      <td>Hayır</td>\n",
       "      <td>-</td>\n",
       "      <td>Hayır</td>\n",
       "      <td>NaN</td>\n",
       "      <td>NaN</td>\n",
       "      <td>65121</td>\n",
       "    </tr>\n",
       "    <tr>\n",
       "      <th>65122</th>\n",
       "      <td>2022</td>\n",
       "      <td>0.0</td>\n",
       "      <td>Erkek</td>\n",
       "      <td>23.10.1999 00:00</td>\n",
       "      <td>Mersin</td>\n",
       "      <td>Mersin</td>\n",
       "      <td>Süleyman Demirel Üniversitesi</td>\n",
       "      <td>Devlet</td>\n",
       "      <td>NaN</td>\n",
       "      <td>Hayır</td>\n",
       "      <td>...</td>\n",
       "      <td>-</td>\n",
       "      <td>Hayır</td>\n",
       "      <td>-</td>\n",
       "      <td>NaN</td>\n",
       "      <td>Hayır</td>\n",
       "      <td>-</td>\n",
       "      <td>Hayır</td>\n",
       "      <td>NaN</td>\n",
       "      <td>NaN</td>\n",
       "      <td>65122</td>\n",
       "    </tr>\n",
       "    <tr>\n",
       "      <th>65123</th>\n",
       "      <td>2022</td>\n",
       "      <td>0.0</td>\n",
       "      <td>Erkek</td>\n",
       "      <td>17.11.2000 00:00</td>\n",
       "      <td>Samsun</td>\n",
       "      <td>Samsun</td>\n",
       "      <td>Karabük Üniversitesi</td>\n",
       "      <td>Devlet</td>\n",
       "      <td>NaN</td>\n",
       "      <td>Hayır</td>\n",
       "      <td>...</td>\n",
       "      <td>-</td>\n",
       "      <td>Hayır</td>\n",
       "      <td>-</td>\n",
       "      <td>NaN</td>\n",
       "      <td>Hayır</td>\n",
       "      <td>-</td>\n",
       "      <td>Hayır</td>\n",
       "      <td>NaN</td>\n",
       "      <td>NaN</td>\n",
       "      <td>65123</td>\n",
       "    </tr>\n",
       "    <tr>\n",
       "      <th>65124</th>\n",
       "      <td>2022</td>\n",
       "      <td>0.0</td>\n",
       "      <td>Kadın</td>\n",
       "      <td>27.04.2000 00:00</td>\n",
       "      <td>Hatay</td>\n",
       "      <td>Hatay</td>\n",
       "      <td>Gaziantep Üniversitesi</td>\n",
       "      <td>Devlet</td>\n",
       "      <td>NaN</td>\n",
       "      <td>Hayır</td>\n",
       "      <td>...</td>\n",
       "      <td>Takım Oyuncusu</td>\n",
       "      <td>Evet</td>\n",
       "      <td>Genç Kızılay Topluluğu'nda 3 yıldır gönüllüyüm...</td>\n",
       "      <td>NaN</td>\n",
       "      <td>Evet</td>\n",
       "      <td>Aile desteğiyle yemek sektöründe küçük bir işl...</td>\n",
       "      <td>Evet</td>\n",
       "      <td>NaN</td>\n",
       "      <td>NaN</td>\n",
       "      <td>65124</td>\n",
       "    </tr>\n",
       "  </tbody>\n",
       "</table>\n",
       "<p>5 rows × 44 columns</p>\n",
       "</div>"
      ],
      "text/plain": [
       "       b_yili  D_puani cinsiyet          d_tarihi    d_yeri ikametgah  \\\n",
       "65120    2022      0.0    Erkek  18.06.2003 00:00  İstanbul  İstanbul   \n",
       "65121    2022      0.0    Erkek  18.04.2002 00:00     Hatay     Muğla   \n",
       "65122    2022      0.0    Erkek  23.10.1999 00:00    Mersin    Mersin   \n",
       "65123    2022      0.0    Erkek  17.11.2000 00:00    Samsun    Samsun   \n",
       "65124    2022      0.0    Kadın  27.04.2000 00:00     Hatay     Hatay   \n",
       "\n",
       "                               uni_adi uni_turu  burs_yuzdesi bursu_varmi  \\\n",
       "65120      İstanbul Aydın Üniversitesi     Özel           NaN        Evet   \n",
       "65121  Muğla Sıtkı Koçman Üniversitesi   Devlet           NaN       Hayır   \n",
       "65122    Süleyman Demirel Üniversitesi   Devlet           NaN       Hayır   \n",
       "65123             Karabük Üniversitesi   Devlet           NaN       Hayır   \n",
       "65124           Gaziantep Üniversitesi   Devlet           NaN       Hayır   \n",
       "\n",
       "       ...    spor_rolu_ne aktif_stk_uyesimi  \\\n",
       "65120  ...               -             Hayır   \n",
       "65121  ...               -             Hayır   \n",
       "65122  ...               -             Hayır   \n",
       "65123  ...               -             Hayır   \n",
       "65124  ...  Takım Oyuncusu              Evet   \n",
       "\n",
       "                                               hangi_stk stk_proje_katildimi  \\\n",
       "65120                                                  -                 NaN   \n",
       "65121                                                  -                 NaN   \n",
       "65122                                                  -                 NaN   \n",
       "65123                                                  -                 NaN   \n",
       "65124  Genç Kızılay Topluluğu'nda 3 yıldır gönüllüyüm...                 NaN   \n",
       "\n",
       "      gir_deneyim_varmi                                 gir_deneyim_acikla  \\\n",
       "65120             Hayır                                                  -   \n",
       "65121             Hayır                                                  -   \n",
       "65122             Hayır                                                  -   \n",
       "65123             Hayır                                                  -   \n",
       "65124              Evet  Aile desteğiyle yemek sektöründe küçük bir işl...   \n",
       "\n",
       "      ing_varmi ing_seviye ikinci_uni_varmi     id  \n",
       "65120     Hayır        NaN              NaN  65120  \n",
       "65121     Hayır        NaN              NaN  65121  \n",
       "65122     Hayır        NaN              NaN  65122  \n",
       "65123     Hayır        NaN              NaN  65123  \n",
       "65124      Evet        NaN              NaN  65124  \n",
       "\n",
       "[5 rows x 44 columns]"
      ]
     },
     "execution_count": 11,
     "metadata": {},
     "output_type": "execute_result"
    }
   ],
   "source": [
    "df_train.tail()"
   ]
  },
  {
   "cell_type": "code",
   "execution_count": 12,
   "id": "c0fdc741-f2ce-4adb-b8c0-546474f4e543",
   "metadata": {},
   "outputs": [],
   "source": [
    "# Kategorik değişkenler üzerinde sayma gerçekleştirip gözlem yapabilmek adına bunu görselleştiriyoruz.\n",
    "# Fonksiyon oluşturma amacımız görselleştirme işlemini belirlediğimiz standarda göre işlemek \n",
    "# Yani belirli ölçütler verdik ve buna bağlı tüm kategorik verilerin 'value_counts'larını aldık.\n",
    "def plotBar(degisken, n = 10):\n",
    "    df_ = df_train[degisken]\n",
    "    df_sayma = df_.value_counts()\n",
    "    df_sayma = df_sayma[:n]\n",
    "    plt.figure()\n",
    "    plt.bar(df_sayma.index, df_sayma, color = \"red\")\n",
    "    plt.xticks(df_sayma.index, df_sayma.index.values)\n",
    "    plt.xticks(rotation=60)\n",
    "    plt.ylabel(\"Frekans\")\n",
    "    plt.title(f\"Veri Sıklığı - {degisken}\")\n",
    "    plt.show()\n",
    "    print(f\"{degisken}: \\n {df_sayma}\")"
   ]
  },
  {
   "cell_type": "code",
   "execution_count": 13,
   "id": "b02d8ffb-7dbf-4bcb-9cd4-0368168f3211",
   "metadata": {
    "scrolled": true
   },
   "outputs": [],
   "source": [
    "# cat_df = df_train.select_dtypes(include = ['object'])\n",
    "\n",
    "# for i in cat_df:\n",
    "    # plotBar(i)"
   ]
  },
  {
   "cell_type": "code",
   "execution_count": 14,
   "id": "26f61c53-370c-46a3-8d91-2ded34b30300",
   "metadata": {
    "scrolled": true
   },
   "outputs": [
    {
     "data": {
      "text/html": [
       "<div>\n",
       "<style scoped>\n",
       "    .dataframe tbody tr th:only-of-type {\n",
       "        vertical-align: middle;\n",
       "    }\n",
       "\n",
       "    .dataframe tbody tr th {\n",
       "        vertical-align: top;\n",
       "    }\n",
       "\n",
       "    .dataframe thead th {\n",
       "        text-align: right;\n",
       "    }\n",
       "</style>\n",
       "<table border=\"1\" class=\"dataframe\">\n",
       "  <thead>\n",
       "    <tr style=\"text-align: right;\">\n",
       "      <th></th>\n",
       "      <th>b_yili</th>\n",
       "      <th>D_puani</th>\n",
       "      <th>cinsiyet</th>\n",
       "      <th>d_tarihi</th>\n",
       "      <th>d_yeri</th>\n",
       "      <th>ikametgah</th>\n",
       "      <th>uni_adi</th>\n",
       "      <th>uni_turu</th>\n",
       "      <th>burs_yuzdesi</th>\n",
       "      <th>bursu_varmi</th>\n",
       "      <th>...</th>\n",
       "      <th>spor_rolu_ne</th>\n",
       "      <th>aktif_stk_uyesimi</th>\n",
       "      <th>hangi_stk</th>\n",
       "      <th>stk_proje_katildimi</th>\n",
       "      <th>gir_deneyim_varmi</th>\n",
       "      <th>gir_deneyim_acikla</th>\n",
       "      <th>ing_varmi</th>\n",
       "      <th>ing_seviye</th>\n",
       "      <th>ikinci_uni_varmi</th>\n",
       "      <th>id</th>\n",
       "    </tr>\n",
       "  </thead>\n",
       "  <tbody>\n",
       "    <tr>\n",
       "      <th>57503</th>\n",
       "      <td>2022</td>\n",
       "      <td>67.0</td>\n",
       "      <td>Kadın</td>\n",
       "      <td>19.04.2002 00:00</td>\n",
       "      <td>Adana</td>\n",
       "      <td>İstanbul</td>\n",
       "      <td>Marmara Üniversitesi</td>\n",
       "      <td>Devlet</td>\n",
       "      <td>NaN</td>\n",
       "      <td>Hayır</td>\n",
       "      <td>...</td>\n",
       "      <td>Bireysel</td>\n",
       "      <td>Evet</td>\n",
       "      <td>Üniversite kulüplerinde aktif rol alıyorum ( G...</td>\n",
       "      <td>NaN</td>\n",
       "      <td>Evet</td>\n",
       "      <td>İşletme Kulübü bünyesinde Girişimcilik Departm...</td>\n",
       "      <td>Evet</td>\n",
       "      <td>NaN</td>\n",
       "      <td>NaN</td>\n",
       "      <td>57503</td>\n",
       "    </tr>\n",
       "    <tr>\n",
       "      <th>57504</th>\n",
       "      <td>2022</td>\n",
       "      <td>67.0</td>\n",
       "      <td>Kadın</td>\n",
       "      <td>10.05.2001 00:00</td>\n",
       "      <td>Antalya</td>\n",
       "      <td>İstanbul</td>\n",
       "      <td>Boğaziçi Üniversitesi</td>\n",
       "      <td>Devlet</td>\n",
       "      <td>NaN</td>\n",
       "      <td>Hayır</td>\n",
       "      <td>...</td>\n",
       "      <td>Lider/Kaptan</td>\n",
       "      <td>Evet</td>\n",
       "      <td>Bir süreliğine Af Örgütü'nde gönüllü çalıştım....</td>\n",
       "      <td>NaN</td>\n",
       "      <td>Evet</td>\n",
       "      <td>Size&amp;Me adlı girişimde 7 aylığına kurucu ortak...</td>\n",
       "      <td>Evet</td>\n",
       "      <td>NaN</td>\n",
       "      <td>NaN</td>\n",
       "      <td>57504</td>\n",
       "    </tr>\n",
       "    <tr>\n",
       "      <th>57505</th>\n",
       "      <td>2022</td>\n",
       "      <td>67.0</td>\n",
       "      <td>Kadın</td>\n",
       "      <td>9.04.2001 00:00</td>\n",
       "      <td>Diğer</td>\n",
       "      <td>İzmir</td>\n",
       "      <td>Dokuz Eylül Üniversitesi</td>\n",
       "      <td>Devlet</td>\n",
       "      <td>NaN</td>\n",
       "      <td>Hayır</td>\n",
       "      <td>...</td>\n",
       "      <td>Bireysel</td>\n",
       "      <td>Evet</td>\n",
       "      <td>Liseye başladığmdan beri gönüllülük hayatımın ...</td>\n",
       "      <td>NaN</td>\n",
       "      <td>Evet</td>\n",
       "      <td>2021 senesinde 2 yakın arkadaşımla birlikte \"M...</td>\n",
       "      <td>Evet</td>\n",
       "      <td>NaN</td>\n",
       "      <td>NaN</td>\n",
       "      <td>57505</td>\n",
       "    </tr>\n",
       "    <tr>\n",
       "      <th>57506</th>\n",
       "      <td>2022</td>\n",
       "      <td>66.0</td>\n",
       "      <td>Erkek</td>\n",
       "      <td>20.03.2001 00:00</td>\n",
       "      <td>Hatay</td>\n",
       "      <td>İstanbul</td>\n",
       "      <td>Koç Üniversitesi</td>\n",
       "      <td>Özel</td>\n",
       "      <td>NaN</td>\n",
       "      <td>Evet</td>\n",
       "      <td>...</td>\n",
       "      <td>Lider/Kaptan</td>\n",
       "      <td>Evet</td>\n",
       "      <td>Expo2021 Hatay Gönüllüsü, Tema Vakfı gönüllüsü...</td>\n",
       "      <td>NaN</td>\n",
       "      <td>Evet</td>\n",
       "      <td>Katıldığım birçok programda girişim fikri üzer...</td>\n",
       "      <td>Evet</td>\n",
       "      <td>NaN</td>\n",
       "      <td>NaN</td>\n",
       "      <td>57506</td>\n",
       "    </tr>\n",
       "    <tr>\n",
       "      <th>57507</th>\n",
       "      <td>2022</td>\n",
       "      <td>66.0</td>\n",
       "      <td>Kadın</td>\n",
       "      <td>4.02.2000 00:00</td>\n",
       "      <td>İzmir</td>\n",
       "      <td>Ankara</td>\n",
       "      <td>Orta Doğu Teknik Üniversitesi</td>\n",
       "      <td>Devlet</td>\n",
       "      <td>NaN</td>\n",
       "      <td>Hayır</td>\n",
       "      <td>...</td>\n",
       "      <td>Takım Oyuncusu</td>\n",
       "      <td>Evet</td>\n",
       "      <td>2018-2021 yılları arasında ODTÜ bünyesindeki Ç...</td>\n",
       "      <td>NaN</td>\n",
       "      <td>Evet</td>\n",
       "      <td>Lisede instagram'da başladığım \"oncekahvem\" is...</td>\n",
       "      <td>Evet</td>\n",
       "      <td>NaN</td>\n",
       "      <td>NaN</td>\n",
       "      <td>57507</td>\n",
       "    </tr>\n",
       "    <tr>\n",
       "      <th>...</th>\n",
       "      <td>...</td>\n",
       "      <td>...</td>\n",
       "      <td>...</td>\n",
       "      <td>...</td>\n",
       "      <td>...</td>\n",
       "      <td>...</td>\n",
       "      <td>...</td>\n",
       "      <td>...</td>\n",
       "      <td>...</td>\n",
       "      <td>...</td>\n",
       "      <td>...</td>\n",
       "      <td>...</td>\n",
       "      <td>...</td>\n",
       "      <td>...</td>\n",
       "      <td>...</td>\n",
       "      <td>...</td>\n",
       "      <td>...</td>\n",
       "      <td>...</td>\n",
       "      <td>...</td>\n",
       "      <td>...</td>\n",
       "      <td>...</td>\n",
       "    </tr>\n",
       "    <tr>\n",
       "      <th>57636</th>\n",
       "      <td>2022</td>\n",
       "      <td>60.0</td>\n",
       "      <td>Erkek</td>\n",
       "      <td>15.03.2001 00:00</td>\n",
       "      <td>Balıkesir</td>\n",
       "      <td>Muş</td>\n",
       "      <td>Atatürk Üniversitesi</td>\n",
       "      <td>Devlet</td>\n",
       "      <td>NaN</td>\n",
       "      <td>Hayır</td>\n",
       "      <td>...</td>\n",
       "      <td>Takım Oyuncusu</td>\n",
       "      <td>Evet</td>\n",
       "      <td>Afad gönüllüsüyüm ve de ihh derneği bünyesinde...</td>\n",
       "      <td>NaN</td>\n",
       "      <td>Evet</td>\n",
       "      <td>Arkadaşlarımla birlikte para topladık ve bozuk...</td>\n",
       "      <td>Evet</td>\n",
       "      <td>NaN</td>\n",
       "      <td>NaN</td>\n",
       "      <td>57636</td>\n",
       "    </tr>\n",
       "    <tr>\n",
       "      <th>57637</th>\n",
       "      <td>2022</td>\n",
       "      <td>60.0</td>\n",
       "      <td>Kadın</td>\n",
       "      <td>15.02.2002 00:00</td>\n",
       "      <td>İzmir</td>\n",
       "      <td>İstanbul</td>\n",
       "      <td>Boğaziçi Üniversitesi</td>\n",
       "      <td>Devlet</td>\n",
       "      <td>NaN</td>\n",
       "      <td>Hayır</td>\n",
       "      <td>...</td>\n",
       "      <td>Bireysel</td>\n",
       "      <td>Evet</td>\n",
       "      <td>Lisede FRC Robotik Yarışması 6429 takım üyesiy...</td>\n",
       "      <td>NaN</td>\n",
       "      <td>Evet</td>\n",
       "      <td>Lisede bir robotik takımı üyesiydim ve bu bağl...</td>\n",
       "      <td>Evet</td>\n",
       "      <td>NaN</td>\n",
       "      <td>NaN</td>\n",
       "      <td>57637</td>\n",
       "    </tr>\n",
       "    <tr>\n",
       "      <th>57638</th>\n",
       "      <td>2022</td>\n",
       "      <td>60.0</td>\n",
       "      <td>Erkek</td>\n",
       "      <td>24.10.2001 00:00</td>\n",
       "      <td>Batman</td>\n",
       "      <td>Batman</td>\n",
       "      <td>Kocaeli Üniversitesi</td>\n",
       "      <td>Devlet</td>\n",
       "      <td>NaN</td>\n",
       "      <td>Hayır</td>\n",
       "      <td>...</td>\n",
       "      <td>Takım Oyuncusu</td>\n",
       "      <td>Evet</td>\n",
       "      <td>İnsani yardımlarda ve belediyenin çöp toplama ...</td>\n",
       "      <td>NaN</td>\n",
       "      <td>Evet</td>\n",
       "      <td>Lisede kendi tasarladığım oyuncakları satıyordum.</td>\n",
       "      <td>Evet</td>\n",
       "      <td>NaN</td>\n",
       "      <td>NaN</td>\n",
       "      <td>57638</td>\n",
       "    </tr>\n",
       "    <tr>\n",
       "      <th>57639</th>\n",
       "      <td>2022</td>\n",
       "      <td>60.0</td>\n",
       "      <td>Kadın</td>\n",
       "      <td>12.03.2001 00:00</td>\n",
       "      <td>Ankara</td>\n",
       "      <td>İstanbul</td>\n",
       "      <td>TOBB Ekonomi ve Teknoloji Üniversitesi</td>\n",
       "      <td>Özel</td>\n",
       "      <td>NaN</td>\n",
       "      <td>Hayır</td>\n",
       "      <td>...</td>\n",
       "      <td>Lider/Kaptan</td>\n",
       "      <td>Evet</td>\n",
       "      <td>okulumuzun hayvan severler derneğine üyeyim. b...</td>\n",
       "      <td>NaN</td>\n",
       "      <td>Evet</td>\n",
       "      <td>Şu an takım arkadaşlarımla beraber geliştirmek...</td>\n",
       "      <td>Evet</td>\n",
       "      <td>NaN</td>\n",
       "      <td>NaN</td>\n",
       "      <td>57639</td>\n",
       "    </tr>\n",
       "    <tr>\n",
       "      <th>57640</th>\n",
       "      <td>2022</td>\n",
       "      <td>60.0</td>\n",
       "      <td>Erkek</td>\n",
       "      <td>14.02.2002 00:00</td>\n",
       "      <td>Afyonkarahisar</td>\n",
       "      <td>İstanbul</td>\n",
       "      <td>Boğaziçi Üniversitesi</td>\n",
       "      <td>Devlet</td>\n",
       "      <td>NaN</td>\n",
       "      <td>Hayır</td>\n",
       "      <td>...</td>\n",
       "      <td>Bireysel</td>\n",
       "      <td>Evet</td>\n",
       "      <td>Lise yıllarımda birçok topluma hizmet projesin...</td>\n",
       "      <td>NaN</td>\n",
       "      <td>Evet</td>\n",
       "      <td>Şu anda yeşil dönüşümün en önemli paydaşlarınd...</td>\n",
       "      <td>Evet</td>\n",
       "      <td>NaN</td>\n",
       "      <td>NaN</td>\n",
       "      <td>57640</td>\n",
       "    </tr>\n",
       "  </tbody>\n",
       "</table>\n",
       "<p>138 rows × 44 columns</p>\n",
       "</div>"
      ],
      "text/plain": [
       "       b_yili  D_puani cinsiyet          d_tarihi          d_yeri ikametgah  \\\n",
       "57503    2022     67.0    Kadın  19.04.2002 00:00           Adana  İstanbul   \n",
       "57504    2022     67.0    Kadın  10.05.2001 00:00         Antalya  İstanbul   \n",
       "57505    2022     67.0    Kadın   9.04.2001 00:00           Diğer     İzmir   \n",
       "57506    2022     66.0    Erkek  20.03.2001 00:00           Hatay  İstanbul   \n",
       "57507    2022     66.0    Kadın   4.02.2000 00:00           İzmir    Ankara   \n",
       "...       ...      ...      ...               ...             ...       ...   \n",
       "57636    2022     60.0    Erkek  15.03.2001 00:00       Balıkesir       Muş   \n",
       "57637    2022     60.0    Kadın  15.02.2002 00:00           İzmir  İstanbul   \n",
       "57638    2022     60.0    Erkek  24.10.2001 00:00          Batman    Batman   \n",
       "57639    2022     60.0    Kadın  12.03.2001 00:00          Ankara  İstanbul   \n",
       "57640    2022     60.0    Erkek  14.02.2002 00:00  Afyonkarahisar  İstanbul   \n",
       "\n",
       "                                      uni_adi uni_turu  burs_yuzdesi  \\\n",
       "57503                    Marmara Üniversitesi   Devlet           NaN   \n",
       "57504                   Boğaziçi Üniversitesi   Devlet           NaN   \n",
       "57505                Dokuz Eylül Üniversitesi   Devlet           NaN   \n",
       "57506                        Koç Üniversitesi     Özel           NaN   \n",
       "57507           Orta Doğu Teknik Üniversitesi   Devlet           NaN   \n",
       "...                                       ...      ...           ...   \n",
       "57636                    Atatürk Üniversitesi   Devlet           NaN   \n",
       "57637                   Boğaziçi Üniversitesi   Devlet           NaN   \n",
       "57638                    Kocaeli Üniversitesi   Devlet           NaN   \n",
       "57639  TOBB Ekonomi ve Teknoloji Üniversitesi     Özel           NaN   \n",
       "57640                   Boğaziçi Üniversitesi   Devlet           NaN   \n",
       "\n",
       "      bursu_varmi  ...    spor_rolu_ne aktif_stk_uyesimi  \\\n",
       "57503       Hayır  ...        Bireysel              Evet   \n",
       "57504       Hayır  ...    Lider/Kaptan              Evet   \n",
       "57505       Hayır  ...        Bireysel              Evet   \n",
       "57506        Evet  ...    Lider/Kaptan              Evet   \n",
       "57507       Hayır  ...  Takım Oyuncusu              Evet   \n",
       "...           ...  ...             ...               ...   \n",
       "57636       Hayır  ...  Takım Oyuncusu              Evet   \n",
       "57637       Hayır  ...        Bireysel              Evet   \n",
       "57638       Hayır  ...  Takım Oyuncusu              Evet   \n",
       "57639       Hayır  ...    Lider/Kaptan              Evet   \n",
       "57640       Hayır  ...        Bireysel              Evet   \n",
       "\n",
       "                                               hangi_stk stk_proje_katildimi  \\\n",
       "57503  Üniversite kulüplerinde aktif rol alıyorum ( G...                 NaN   \n",
       "57504  Bir süreliğine Af Örgütü'nde gönüllü çalıştım....                 NaN   \n",
       "57505  Liseye başladığmdan beri gönüllülük hayatımın ...                 NaN   \n",
       "57506  Expo2021 Hatay Gönüllüsü, Tema Vakfı gönüllüsü...                 NaN   \n",
       "57507  2018-2021 yılları arasında ODTÜ bünyesindeki Ç...                 NaN   \n",
       "...                                                  ...                 ...   \n",
       "57636  Afad gönüllüsüyüm ve de ihh derneği bünyesinde...                 NaN   \n",
       "57637  Lisede FRC Robotik Yarışması 6429 takım üyesiy...                 NaN   \n",
       "57638  İnsani yardımlarda ve belediyenin çöp toplama ...                 NaN   \n",
       "57639  okulumuzun hayvan severler derneğine üyeyim. b...                 NaN   \n",
       "57640  Lise yıllarımda birçok topluma hizmet projesin...                 NaN   \n",
       "\n",
       "      gir_deneyim_varmi                                 gir_deneyim_acikla  \\\n",
       "57503              Evet  İşletme Kulübü bünyesinde Girişimcilik Departm...   \n",
       "57504              Evet  Size&Me adlı girişimde 7 aylığına kurucu ortak...   \n",
       "57505              Evet  2021 senesinde 2 yakın arkadaşımla birlikte \"M...   \n",
       "57506              Evet  Katıldığım birçok programda girişim fikri üzer...   \n",
       "57507              Evet  Lisede instagram'da başladığım \"oncekahvem\" is...   \n",
       "...                 ...                                                ...   \n",
       "57636              Evet  Arkadaşlarımla birlikte para topladık ve bozuk...   \n",
       "57637              Evet  Lisede bir robotik takımı üyesiydim ve bu bağl...   \n",
       "57638              Evet  Lisede kendi tasarladığım oyuncakları satıyordum.   \n",
       "57639              Evet  Şu an takım arkadaşlarımla beraber geliştirmek...   \n",
       "57640              Evet  Şu anda yeşil dönüşümün en önemli paydaşlarınd...   \n",
       "\n",
       "      ing_varmi ing_seviye ikinci_uni_varmi     id  \n",
       "57503      Evet        NaN              NaN  57503  \n",
       "57504      Evet        NaN              NaN  57504  \n",
       "57505      Evet        NaN              NaN  57505  \n",
       "57506      Evet        NaN              NaN  57506  \n",
       "57507      Evet        NaN              NaN  57507  \n",
       "...         ...        ...              ...    ...  \n",
       "57636      Evet        NaN              NaN  57636  \n",
       "57637      Evet        NaN              NaN  57637  \n",
       "57638      Evet        NaN              NaN  57638  \n",
       "57639      Evet        NaN              NaN  57639  \n",
       "57640      Evet        NaN              NaN  57640  \n",
       "\n",
       "[138 rows x 44 columns]"
      ]
     },
     "execution_count": 14,
     "metadata": {},
     "output_type": "execute_result"
    }
   ],
   "source": [
    "df_train[(df_train['b_yili'] == 2022) & (df_train['D_puani'] >= 60)]"
   ]
  },
  {
   "cell_type": "markdown",
   "id": "cae5a482-118b-4149-8868-451d13e69cfc",
   "metadata": {},
   "source": [
    "## Düzenlemeler"
   ]
  },
  {
   "cell_type": "markdown",
   "id": "2b448fb3-5967-4ff1-9deb-a8e450e4c491",
   "metadata": {},
   "source": [
    "### Cinsiyet bölümü"
   ]
  },
  {
   "cell_type": "code",
   "execution_count": 15,
   "id": "d1e11b37-52b0-40ec-9241-1a4f16505584",
   "metadata": {},
   "outputs": [
    {
     "data": {
      "text/plain": [
       "array(['Erkek', 'Kadın', 'ERKEK', 'Belirtmek istemiyorum', nan],\n",
       "      dtype=object)"
      ]
     },
     "execution_count": 15,
     "metadata": {},
     "output_type": "execute_result"
    }
   ],
   "source": [
    "df_train['cinsiyet'].unique() # cinsiyet sütunundaki tüm benzersiz verileri gözlemiyoruz"
   ]
  },
  {
   "cell_type": "code",
   "execution_count": 16,
   "id": "6de8201b-1591-47aa-9350-21bf3b70a66e",
   "metadata": {},
   "outputs": [],
   "source": [
    "df_train['cinsiyet'] = df_train['cinsiyet'].str.lower() # aynı veriler olduğu ancak büyük küçük harf dengesizliğinden tüm veriyi küçük harfe dönüştürüyorum\n",
    "df_train['cinsiyet'] = df_train['cinsiyet'].fillna('belirtmek istemiyorum') # boş verileri dolduruyorum"
   ]
  },
  {
   "cell_type": "code",
   "execution_count": 17,
   "id": "531f8989-c71f-4849-8c8a-a7d55d0f3ff7",
   "metadata": {},
   "outputs": [
    {
     "data": {
      "text/plain": [
       "0"
      ]
     },
     "execution_count": 17,
     "metadata": {},
     "output_type": "execute_result"
    }
   ],
   "source": [
    "df_train['cinsiyet'].isnull().sum() # boş verileri gözlemliyorum"
   ]
  },
  {
   "cell_type": "code",
   "execution_count": 18,
   "id": "b7d2daf5-f002-46ac-9d93-4ec22ca28c3f",
   "metadata": {},
   "outputs": [],
   "source": [
    "cins = {'belirtmek istemiyorum': 0,\n",
    "       'erkek': 1,\n",
    "       'kadın': 2} # veriler üzerinde sayısal dönüşüm uygulamak için uygun hale getiriyorum.\n",
    "\n",
    "df_train['cinsiyet'] = df_train['cinsiyet'].map(cins).astype(int)"
   ]
  },
  {
   "cell_type": "code",
   "execution_count": 19,
   "id": "310c0258-c0af-4290-a9c1-e32bae54571b",
   "metadata": {},
   "outputs": [
    {
     "data": {
      "text/plain": [
       "cinsiyet\n",
       "1    32764\n",
       "2    32077\n",
       "0      284\n",
       "Name: count, dtype: int64"
      ]
     },
     "execution_count": 19,
     "metadata": {},
     "output_type": "execute_result"
    }
   ],
   "source": [
    "df_train['cinsiyet'].value_counts() # ayrıca verideki dengeleri gözetlemek istiyorum bu yüzden value_counts ile saydırma işlemi gerçekleştiriyorum."
   ]
  },
  {
   "cell_type": "code",
   "execution_count": 20,
   "id": "24e7449b-c98a-4862-b2ba-bdb035951980",
   "metadata": {},
   "outputs": [
    {
     "data": {
      "image/png": "[encoded data removed]",
      "text/plain": [
       "<Figure size 640x480 with 1 Axes>"
      ]
     },
     "metadata": {},
     "output_type": "display_data"
    }
   ],
   "source": [
    "toplam = df_train['cinsiyet'].value_counts()\n",
    "sns.barplot(x=toplam.index, y=toplam.values)\n",
    "plt.title('Cinsiyet Dağılımı')\n",
    "plt.text(2.5, 25, \"1 = erkek, 2 = kadın\", fontsize=12, color='red')\n",
    "plt.show()"
   ]
  },
  {
   "cell_type": "markdown",
   "id": "c18e6b01-da45-4a0f-a57e-c66317f1ec7e",
   "metadata": {},
   "source": [
    "### doğum tarihi bölümü"
   ]
  },
  {
   "cell_type": "code",
   "execution_count": 21,
   "id": "723062df-32f7-46fa-907e-823c8b0f4478",
   "metadata": {},
   "outputs": [
    {
     "data": {
      "text/plain": [
       "array(['4/6/1994', '6/11/1993', '1/15/1986', ..., '10.04.2003 00:00',\n",
       "       '13.12.1997 00:00', '12.11.2003 00:00'], dtype=object)"
      ]
     },
     "execution_count": 21,
     "metadata": {},
     "output_type": "execute_result"
    }
   ],
   "source": [
    "# benzer şeyleri tüm bu kirli veriler için uygulayacağım ancak farklı olan bazı şeylerin üzerine düşeceğim.\n",
    "\n",
    "df_train['d_tarihi'].unique()"
   ]
  },
  {
   "cell_type": "code",
   "execution_count": 22,
   "id": "f51f45df-16d3-45cd-b449-91a68ffb9e21",
   "metadata": {},
   "outputs": [],
   "source": [
    "from datetime import datetime\n",
    "\n",
    "df_train['d_tarihi'] = pd.to_datetime(df_train['d_tarihi'], errors='coerce', dayfirst=True)\n",
    "df_train['d_tarihi'] = df_train['d_tarihi'].fillna(pd.Timestamp('2000-01-01'))\n",
    "df_train['yil'] = df_train['d_tarihi'].dt.year # bu noktada 'datetime' kütüphanesiyle verideki düzensiz 'doğum tarihi' sütununu\n",
    "# düzeltme imkanı buluyoruz. 'yıl,ay, ve yaş' şeklinde üç farklı sütuna böleceğiz. \n",
    "today = datetime.today()\n",
    "df_train['yas'] = today.year - df_train['yil']\n",
    "df_train['ay'] = df_train['d_tarihi'].dt.month\n",
    "df_train['yil']= df_train['yil'].astype(int)\n",
    "\n",
    "df_train=df_train.drop('d_tarihi',axis=1)"
   ]
  },
  {
   "cell_type": "markdown",
   "id": "4413d442-512c-4704-b130-374e2bc5eb5d",
   "metadata": {},
   "source": [
    "### dogum yeri bölümü"
   ]
  },
  {
   "cell_type": "code",
   "execution_count": 23,
   "id": "4f8e551b-9a83-48f6-9034-550f94b984d2",
   "metadata": {},
   "outputs": [
    {
     "data": {
      "text/plain": [
       "array(['Altindag, Ankara', 'Üsküdar', 'Samsun', ..., 'bergama/ izmir',\n",
       "       'Tacikistan', 'Ankara keçiören'], dtype=object)"
      ]
     },
     "execution_count": 23,
     "metadata": {},
     "output_type": "execute_result"
    }
   ],
   "source": [
    "df_train['d_yeri'].unique()"
   ]
  },
  {
   "cell_type": "code",
   "execution_count": 24,
   "id": "682c7b04-2746-489f-8294-4912f9bf42d2",
   "metadata": {},
   "outputs": [
    {
     "data": {
      "text/plain": [
       "791"
      ]
     },
     "execution_count": 24,
     "metadata": {},
     "output_type": "execute_result"
    }
   ],
   "source": [
    "df_train['d_yeri'].isnull().sum()"
   ]
  },
  {
   "cell_type": "code",
   "execution_count": 25,
   "id": "5d8cccc5-4327-492e-b8a4-847460d70852",
   "metadata": {},
   "outputs": [],
   "source": [
    "sehirler = [\n",
    "    \"Adana\", \"Adıyaman\", \"Afyonkarahisar\", \"Ağrı\", \"Aksaray\", \"Amasya\", \"Ankara\", \"Antalya\",\n",
    "    \"Ardahan\", \"Artvin\", \"Aydın\", \"Balıkesir\", \"Bartın\", \"Batman\", \"Bayburt\", \"Bilecik\", \"Bingöl\",\n",
    "    \"Bitlis\", \"Bolu\", \"Burdur\", \"Bursa\", \"Çanakkale\", \"Çankırı\", \"Çorum\", \"Denizli\", \"Diyarbakır\",\n",
    "    \"Düzce\", \"Edirne\", \"Elazığ\", \"Erzincan\", \"Erzurum\", \"Eskişehir\", \"Gaziantep\", \"Giresun\", \"Gümüşhane\",\n",
    "    \"Hakkari\", \"Hatay\", \"Iğdır\", \"Isparta\", \"İstanbul\", \"İzmir\", \"Kahramanmaraş\", \"Karabük\", \"Karaman\",\n",
    "    \"Kars\", \"Kastamonu\", \"Kayseri\", \"Kilis\", \"Kırıkkale\", \"Kırklareli\", \"Kırşehir\", \"Kocaeli\", \"Konya\",\n",
    "    \"Kütahya\", \"Malatya\", \"Manisa\", \"Mardin\", \"Mersin\", \"Muğla\", \"Muş\", \"Nevşehir\", \"Niğde\", \"Ordu\",\n",
    "    \"Osmaniye\", \"Rize\", \"Sakarya\", \"Samsun\", \"Siirt\", \"Sinop\", \"Sivas\", \"Şanlıurfa\", \"Şırnak\", \"Tekirdağ\",\n",
    "    \"Tokat\", \"Trabzon\", \"Tunceli\", \"Uşak\", \"Van\", \"Yalova\", \"Yozgat\", \"Zonguldak\"\n",
    "]\n",
    "\n",
    "# doğum yeri gibi bilgiler barındıran yerler aşırı düzensiz olduğu için elimizle oluşturduğumuz\n",
    "# şehirler veriseti vasıtasıyla bu düzensiz veriyi saptama ve sonucunda değiştirme uyguluyoruz alttaki fonksiyon ile.\n",
    "def temizle_sehir(sehir):\n",
    "    if pd.isna(sehir):\n",
    "        return None\n",
    "    if isinstance(sehir, str):\n",
    "        sehir = sehir.lower()\n",
    "        sehir = sehir.strip()\n",
    "\n",
    "        for il in sehirler:\n",
    "            if il.lower() in sehir:\n",
    "                return il\n",
    "    return None"
   ]
  },
  {
   "cell_type": "code",
   "execution_count": 26,
   "id": "61ab1db0-6174-427c-bcf5-e5a6a16dc669",
   "metadata": {},
   "outputs": [],
   "source": [
    "df_train[\"d_yeri\"] = df_train[\"d_yeri\"].apply(temizle_sehir) "
   ]
  },
  {
   "cell_type": "code",
   "execution_count": 27,
   "id": "38568aae-6905-450c-9559-376ed95390c1",
   "metadata": {},
   "outputs": [],
   "source": [
    "turkish_characters = str.maketrans('çğıöşü', 'cgiosu') # türkçe karakter problemi bulunan birkaç yer için\n",
    "# str'nin maketrans parametresini kullanacağız. dönüşüm sağlıyoruz"
   ]
  },
  {
   "cell_type": "code",
   "execution_count": 28,
   "id": "9a588f22-0a3c-4f23-bf91-6e2c3fe8f24e",
   "metadata": {},
   "outputs": [],
   "source": [
    "# df_train['d_yeri'] = df_train['d_yeri'].str.lower().str.translate(turkish_characters)"
   ]
  },
  {
   "cell_type": "code",
   "execution_count": 29,
   "id": "b0da3657-2aa0-4dd6-b027-cb8cf2921ec0",
   "metadata": {},
   "outputs": [],
   "source": [
    "# df_train['d_yeri'] = df_train['d_yeri'].str.replace('[,/-]', ' ', regex=True).str.strip()\n",
    "df_train['d_yeri'] = df_train['d_yeri'].fillna('yok')"
   ]
  },
  {
   "cell_type": "code",
   "execution_count": 30,
   "id": "c7ad4744-f20b-424c-af92-8f3075928e2c",
   "metadata": {},
   "outputs": [],
   "source": [
    "from sklearn.preprocessing import LabelEncoder\n",
    "\n",
    "le = LabelEncoder() # bu 'object' veriler için (bazıları için çok anlamlı olmasa da) label encoder ile sayısallandırma işlemi uyguluyoruz.\n",
    "#buna cinsiyetteki gibi 'map' kullanarak elle müdahale edemiyoruz çünkü çok fazla veri var."
   ]
  },
  {
   "cell_type": "code",
   "execution_count": 31,
   "id": "c4266509-529d-4b22-8868-96de5c0e4ba4",
   "metadata": {},
   "outputs": [],
   "source": [
    "df_train['d_yeri'] = le.fit_transform(df_train['d_yeri'])"
   ]
  },
  {
   "cell_type": "markdown",
   "id": "3eb3de62-0fc9-4ed0-adb6-67ab57ea568e",
   "metadata": {
    "scrolled": true
   },
   "source": [
    "### ikametgah bölümü"
   ]
  },
  {
   "cell_type": "code",
   "execution_count": 32,
   "id": "075a4cf7-2a50-4b8a-90f1-6146898e63d0",
   "metadata": {
    "scrolled": true
   },
   "outputs": [
    {
     "data": {
      "text/plain": [
       "array(['Ankara', 'İstanbul', 'Esenler/İstanbul', 'Kayseri',\n",
       "       'Bahçelievler/Ankara', 'İSTANBUL', 'İzmir', 'Kahramanmaraş',\n",
       "       'Üsküdar/İstanbul', 'İZMİR', 'Trabzon', 'Kars', 'Kırşehir',\n",
       "       'Gebze/Kocaeli', 'Buca/İzmir', 'Sarıyer/İstanbul', 'Ordu',\n",
       "       'Osmaniye', nan, 'Maltepe/İstanbul', 'Antalya', 'Florya/İstanbul',\n",
       "       'Gaziosmanpaşa/İstanbul', 'Istanbul', 'Etimesgut/Ankara', 'Konya',\n",
       "       'ANKARA', 'Bartın', 'Girne', 'Bingöl', 'Mersin', 'KAYSERİ',\n",
       "       'BURSA', 'Manisa', 'Samsun', 'GÖLCÜK', 'Diyarbakır', 'istanbul',\n",
       "       'Kırklareli', 'KOCAELİ', 'AYDIN', 'Muğla', 'Zonguldak', 'Erzurum',\n",
       "       'GAZİMAĞUSA', 'Bursa', 'DENİZLİ', 'Batman', 'Gaziantep', 'Aydın',\n",
       "       'Kocaeli', 'Gazimağusa', 'Adana', 'Balıkesir', 'Şanlıurfa',\n",
       "       'Sakarya', 'ANTALYA', 'Izmir', 'ADANA', 'NEVŞEHİR', 'KONYA',\n",
       "       'ISTANBUL', 'Niğde', 'Arhavi', 'ankara', 'AKSARAY', 'Güzelyurt',\n",
       "       'Kütahya', 'AFYONKARAHİSAR', 'Uşak', 'SAKARYA', 'Bolu', 'mersin',\n",
       "       'izmir', 'Aksaray', 'Kastamonu', 'K.maraş', 'Tekirdağ', 'Düzce',\n",
       "       '------', 'Sinop', 'Elazığ', 'Kırıkkale', 'Isparta', 'Ağrı',\n",
       "       'Giresun', 'Hatay', 'Denizli', 'Çanakkale', 'Siirt', 'Sivas',\n",
       "       'Malatya', 'Şırnak', 'Hakkari', 'Mardin', 'Van', 'stanbul',\n",
       "       'Lefkoşa', 'Lefke', 'Agri', 'Adiyaman', 'Erzincan', 'Diger',\n",
       "       'Bayburt', 'Sanliurfa', 'Eskisehir', 'Balikesir', 'Tekirdag',\n",
       "       'Yozgat', 'Çorum', 'Karabük', 'Mugla', 'Aydin', 'Nigde', 'Bitlis',\n",
       "       'Amasya', 'Tunceli', 'Sirnak', 'Edirne', 'Çankiri',\n",
       "       'Kahramanmaras', 'Ardahan', 'Usak', 'Tokat', 'Yalova', 'Elazig',\n",
       "       'Karaman', 'Burdur', 'Diyarbakir', 'Gümüshane', 'Kirklareli',\n",
       "       'Mus', 'Hakkâri', 'Artvin', 'Kirikkale', 'Igdir', 'Eskişehir',\n",
       "       'Rize', 'Iğdır', 'Muş', 'Adıyaman', 'Bilecik', 'Afyonkarahisar',\n",
       "       'Diğer', 'Nevşehir', 'Gümüşhane', 'Çankırı', 'Ünye/Ordu', 'Afyon',\n",
       "       'Kağıthane/İstanbul', 'Polatlı/Ankara', 'Esenyurt/İstanbul',\n",
       "       'Bahçeşehir/İstanbul', 'Bahçelievler/İstanbul', 'Yahyalı/Kayseri',\n",
       "       'Zeytinburnu/İstanbul', 'Hamburg', 'ZONGULDAK', 'Kilis',\n",
       "       'Feriköy/İstanbul', 'Çankaya/Ankara', 'Nevsehir', 'MANİSA',\n",
       "       'DİYARBAKIR', 'kocaeli', 'MERSİN', 'Alaplı/Zonguldak', 'YOZGAT',\n",
       "       'Kırgızistan-Bişkek', 'SAMSUN', 'İstanbul\\nNiğde', 'Batman/Merkez',\n",
       "       'İSKENDERUN', 'Ataşehir/İstanbul', 'Gemlik/Bursa', 'UŞAK',\n",
       "       'Aliağa/İzmir', 'Palandöken/Erzurum', 'Çiğli/İzmir',\n",
       "       'Güngören/İstanbul', 'Silivri/İstanbul', 'Konak/İzmir',\n",
       "       'Gönen/Balıkesir', 'Beşiktaş/İstanbul', 'Bağlar/Diyarbakır',\n",
       "       'Fatih/İstanbul', 'KAHRAMANMARAŞ', 'Kartal/İstanbul',\n",
       "       'Seyhan/Adana', 'Adapazarı/Sakarya', 'Germencik/Aydın', 'TRABZON',\n",
       "       'BURDUR', 'İzmit', 'Kocamustafapaşa/Fatih/İstanbul', 'Nürnberg',\n",
       "       'Yunusemre/Manisa', 'konya', 'Bigadiç/Balıkesir',\n",
       "       'Keçiören/Ankara', 'Bornova/İzmir', 'ERZURUM', 'Balçova/İzmir',\n",
       "       'Kadıköy/İstanbul', 'ESKİŞEHİR', 'Eryaman/Ankara', 'Şile/İstanbul',\n",
       "       'KKTC', 'KIRIKKALE', 'Hacettepe/Ankara', 'Avcılar/İstanbul', 'VAN',\n",
       "       'Beylikdüzü/İstanbul', 'Antakya', 'ODTÜ/Ankara',\n",
       "       'Dilovası/Kocaeli', 'Çaycuma/Zonguldak', 'Kaman/Kırşehir',\n",
       "       'Bilkent/Ankara', 'Derince/Kocaeli', 'Bartin', 'Darıca/Kocaeli',\n",
       "       'Sincan/Ankara', 'Yenibosna/İstanbul', 'Çirişhanee',\n",
       "       'Mamak/Ankara', 'Kepez/Antalya', 'Bağcılar/İstanbul',\n",
       "       'Akhisar/Manisa', 'Fethiye/Muğla', 'Odunpazarı/Eskişehir',\n",
       "       'Bakırköy/İstanbul', 'Ortaca/Muğla', 'Gündoğmuş/Antalya',\n",
       "       'Söke/Aydın', 'ODTÜ/Çankaya/Ankara', 'Nilüfer/Bursa',\n",
       "       'Merkez/Kastamonu', 'Mersin-Adana', 'Melikgazi/Kayseri',\n",
       "       'Orhangazi/Bursa', 'AMASYA', 'Gotham', 'GothamCity', 'İZMİT',\n",
       "       'Bodrum', 'Göle', 'GAZİANTEP', 'Gebze', 'iskenderun', 'TEKİRDAĞ',\n",
       "       'ISPARTA', 'BALIKESİR', 'TOKAT', 'Manavgat', 'ELAZIĞ', 'izmit',\n",
       "       'KAHTA', 'Kuşadası', 'erzurum', 'KIRKLARELİ', 'ORDU', 'KOCAELI',\n",
       "       'ÇORUM', 'DÜZCE', 'SİVAS', 'Adapazarı', 'ADAPAZARI', 'i̇zmir',\n",
       "       'Yenişehir', 'İsparta', 'TUNCELİ', 'KAYSERI', 'MUĞLA', 'MALATYA',\n",
       "       'Bozüyük', 'KARAMAN', 'Selçuk,İzmir', 'IĞDIR', 'GİRESUN',\n",
       "       'ŞANLIURFA', 'kayseri', 'ADIYAMAN', 'MARDİN', 'YALOVA', 'Oslo',\n",
       "       'ÇANAKKALE', 'İskenderun', 'ERZİNCAN', 'Alanya', 'GÜMÜŞHANE',\n",
       "       'Adapazari', 'Fatih', 'uşak', 'OSMANİYE',\n",
       "       'OpenAIrequestfailedtimeout', 'DENIZLI', 'KARABÜK', 'Çerkezköy',\n",
       "       'bilecik', 'KIRŞEHİR', 'trabzon', 'BAKÜ', 'Bağcılar', 'Fethiye',\n",
       "       'BUCAK', 'kütahya', 'İstanbul,Kocaeli', 'Bandırma', 'BOLU',\n",
       "       'ARTVİN', 'yalova', 'IZMIR', 'bursa', 'şanlıurfa', 'Üsküdar',\n",
       "       'Akçaabat', 'gaziantep', 'ANTAKYA', 'Kirsehir'], dtype=object)"
      ]
     },
     "execution_count": 32,
     "metadata": {},
     "output_type": "execute_result"
    }
   ],
   "source": [
    "df_train['ikametgah'].unique()"
   ]
  },
  {
   "cell_type": "code",
   "execution_count": 33,
   "id": "d614820d-bf0c-4963-8e14-660f4e10c180",
   "metadata": {},
   "outputs": [
    {
     "data": {
      "text/plain": [
       "2037"
      ]
     },
     "execution_count": 33,
     "metadata": {},
     "output_type": "execute_result"
    }
   ],
   "source": [
    "df_train['ikametgah'].isnull().sum()"
   ]
  },
  {
   "cell_type": "code",
   "execution_count": 34,
   "id": "f9f68646-9667-43bf-8f8f-ce49dbd8e95e",
   "metadata": {},
   "outputs": [],
   "source": [
    "df_train[\"ikametgah\"] = df_train[\"ikametgah\"].apply(temizle_sehir)"
   ]
  },
  {
   "cell_type": "code",
   "execution_count": 35,
   "id": "ed58d933-45ae-43ed-8cf8-8f2e4fe6816d",
   "metadata": {},
   "outputs": [],
   "source": [
    "# df_train['ikametgah'] = df_train['ikametgah'].str.lower().str.translate(turkish_characters)"
   ]
  },
  {
   "cell_type": "code",
   "execution_count": 36,
   "id": "302d5fa6-1b5c-41f4-9b46-deddbe9b213e",
   "metadata": {},
   "outputs": [],
   "source": [
    "# df_train['ikametgah'] = df_train['ikametgah'].str.replace('[,/-]', ' ', regex=True).str.strip()\n",
    "df_train['ikametgah'] = df_train['ikametgah'].fillna('yok')"
   ]
  },
  {
   "cell_type": "code",
   "execution_count": 37,
   "id": "2482f8a6-8b9c-4d6d-b063-499aeda6c8be",
   "metadata": {},
   "outputs": [],
   "source": [
    "df_train['ikametgah'] = le.fit_transform(df_train['ikametgah'])"
   ]
  },
  {
   "cell_type": "markdown",
   "id": "e5b25f6f-c5d9-4663-b8fa-9f12cd8f819c",
   "metadata": {},
   "source": [
    "### \"Üniversite adi\" bölümü"
   ]
  },
  {
   "cell_type": "code",
   "execution_count": 38,
   "id": "a1ee37b3-6a41-4dc2-b031-03978045e0b7",
   "metadata": {
    "scrolled": true
   },
   "outputs": [
    {
     "data": {
      "text/plain": [
       "array(['İHSAN DOĞRAMACI BİLKENT', 'ULUSLARARASI KIBRIS ÜNİVERSİTESİ',\n",
       "       'İSTANBUL ŞEHİR ÜNİVERSİTESİ', 'TURGUT ÖZAL ÜNİVERSİTESİ',\n",
       "       'İSTANBUL TİCARET ÜNİVERSİTESİ', 'İSTANBUL MEDİPOL ÜNİVERSİTESİ',\n",
       "       'FATİH SULTAN MEHMET VAKIF', 'BAHÇEŞEHİR ÜNİVERSİTESİ',\n",
       "       'NUH NACİ YAZGAN ÜNİVERSİTESİ', 'FATİH ÜNİVERSİTESİ',\n",
       "       'BAŞKENT ÜNİVERSİTESİ', 'ÇAĞ ÜNİVERSİTESİ', 'İZMİR ÜNİVERSİTESİ',\n",
       "       'ZİRVE ÜNİVERSİTESİ', 'YAŞAR ÜNİVERSİTESİ',\n",
       "       'İSTANBUL AREL ÜNİVERSİTESİ', 'TED ÜNİVERSİTESİ',\n",
       "       'YENİ YÜZYIL ÜNİVERSİTESİ', 'İZMİR EKONOMİ ÜNİVERSİTESİ',\n",
       "       'İSTANBUL BİLGİ ÜNİVERSİTESİ', 'İSTANBUL GELİŞİM ÜNİVERSİTESİ',\n",
       "       'BEYKENT ÜNİVERSİTESİ', 'AVRASYA ÜNİVERSİTESİ',\n",
       "       'OKAN ÜNİVERSİTESİ', 'KOÇ ÜNİVERSİTESİ', 'HALİÇ ÜNİVERSİTESİ',\n",
       "       'IŞIK ÜNİVERSİTESİ', 'ATILIM ÜNİVERSİTESİ',\n",
       "       'NİŞANTAŞI ÜNİVERSİTESİ', 'İSTANBUL AYDIN ÜNİVERSİTESİ',\n",
       "       'UFUK ÜNİVERSİTESİ', 'SABANCI ÜNİVERSİTESİ',\n",
       "       'İSTANBUL 29 MAYIS ÜNİVERSİTESİ', 'MALTEPE ÜNİVERSİTESİ',\n",
       "       'ULUSLARARASI ANTALYA ÜNİVERSİTESİ', 'TOBB EKONOMİ VE TEKNOLOJİ',\n",
       "       'KTO KARATAY ÜNİVERSİTESİ', 'ÇANKAYA ÜNİVERSİTESİ',\n",
       "       'İSTANBUL KÜLTÜR ÜNİVERSİTESİ', 'YEDİTEPE ÜNİVERSİTESİ',\n",
       "       'GİRNE AMERİKAN ÜNİVERSİTESİ', 'HASAN KALYONCU ÜNİVERSİTESİ',\n",
       "       'ÜSKÜDAR ÜNİVERSİTESİ', 'MELİKŞAH ÜNİVERSİTESİ',\n",
       "       'CANİK BAŞARI ÜNİVERSİTESİ', 'KADİR HAS ÜNİVERSİTESİ',\n",
       "       'İSTANBUL ESENYURT ÜNİVERSİTESİ', 'İSTANBUL KAVRAM MESLEK',\n",
       "       'İSTANBUL KEMERBURGAZ ÜNİVERSİTESİ', 'YAKIN DOĞU ÜNİVERSİTESİ',\n",
       "       'GEDİZ ÜNİVERSİTESİ', 'GEDİK ÜNİVERSİTESİ',\n",
       "       'İSTANBUL BİLİM ÜNİVERSİTESİ', 'ŞİFA ÜNİVERSİTESİ',\n",
       "       'ÖZYEĞİN ÜNİVERSİTESİ', 'TOROS ÜNİVERSİTESİ',\n",
       "       'PİRİ REİS ÜNİVERSİTESİ', 'DOĞU AKDENİZ ÜNİVERSİTESİ',\n",
       "       'ULUDAĞ ÜNİVERSİTESİ', 'BURSA ORHANGAZİ ÜNİVERSİTESİ',\n",
       "       'GİRESUN ÜNİVERSİTESİ', 'DOĞUŞ ÜNİVERSİTESİ',\n",
       "       'BEYKOZ LOJİSTİK MESLEK', 'TÜRK HAVA KURUMU ÜNİVERSİTESİ',\n",
       "       'HACETTEPE ÜNİVERSİTESİ', 'İSTANBUL SABAHATTİN ZAİM',\n",
       "       'BOĞAZİÇİ ÜNİVERSİTESİ', 'MEVLANA ÜNİVERSİTESİ',\n",
       "       'OSMANİYE KORKUT ATA ÜNİVERSİTESİ', 'LEFKE AVRUPA ÜNİVERSİTESİ',\n",
       "       'ORTA DOĞU TEKNİK ÜNİVERSİTESİ', 'AMASYA ÜNİVERSİTESİ',\n",
       "       'KOCAELİ ÜNİVERSİTESİ', 'FIRAT ÜNİVERSİTESİ',\n",
       "       'ACIBADEM ÜNİVERSİTESİ', 'SÜLEYMAN ŞAH ÜNİVERSİTESİ',\n",
       "       'MEF ÜNİVERSİTESİ', 'PLATO MESLEK YÜKSEKOKULU',\n",
       "       'ANADOLU ÜNİVERSİTESİ', 'İPEK ÜNİVERSİTESİ',\n",
       "       'ABANT İZZET BAYSAL ÜNİVERSİTESİ', 'İSTANBUL ÜNİVERSİTESİ',\n",
       "       'ALANYA HAMDULLAH EMİN PAŞA', 'BEZM-İ ALEM VAKIF ÜNİVERSİTESİ',\n",
       "       'RECEP TAYYİP ERDOĞAN ÜNİVERSİTESİ', 'ÇUKUROVA ÜNİVERSİTESİ',\n",
       "       'BALIKESİR ÜNİVERSİTESİ', 'Toros Üniversitesi',\n",
       "       'Özyeğin Üniversitesi', 'Yeditepe Üniversitesi',\n",
       "       'Koç Üniversitesi', 'İstanbul Aydın Üniversitesi',\n",
       "       'İstanbul Kültür Üniversitesi', 'Işık Üniversitesi',\n",
       "       'Nuh Naci Yazgan Üniversitesi', 'Gediz Üniversitesi',\n",
       "       'Atılım Üniversitesi', 'Sabancı Üniversitesi',\n",
       "       'Fatih Üniversitesi', 'İzmir Üniversitesi', 'Okan Üniversitesi',\n",
       "       'Çankaya Üniversitesi', 'İstanbul Ticaret Üniversitesi',\n",
       "       'Bahçeşehir Üniversitesi', 'İzmir Ekonomi Üniversitesi',\n",
       "       'İhsan Doğramacı Bilkent Üniversitesi',\n",
       "       'Uluslararası Antalya Üniversitesi', 'İstanbul Bilgi Üniversitesi',\n",
       "       'Acıbadem Üniversitesi', 'Kadir Has Üniversitesi',\n",
       "       'Süleyman Şah Üniversitesi', 'İstanbul Teknik Üniversitesi',\n",
       "       'TED Üniversitesi', 'Yaşar Üniversitesi',\n",
       "       'İstanbul Gelişim Üniversitesi',\n",
       "       'İstanbul Sabahattin Zaim Üniversitesi',\n",
       "       'İstanbul Arel Üniversitesi', 'İstanbul Medipol Üniversitesi',\n",
       "       'Canik Başarı Üniversitesi', 'İpek Üniversitesi',\n",
       "       'MEF Üniversitesi', 'Piri Reis Üniversitesi',\n",
       "       'Melikşah Üniversitesi', 'İstanbul Kavram Meslek Yüksekokulu',\n",
       "       'Plato Meslek Yüksekokulu', 'İstanbul 29 Mayıs Üniversitesi',\n",
       "       'Bursa Orhangazi Üniversitesi', 'Nişantaşı Üniversitesi',\n",
       "       'TOBB Ekonomi ve Teknoloji Üniversitesi',\n",
       "       'İstanbul Şehir Üniversitesi', 'Yeni Yüzyıl Üniversitesi',\n",
       "       'Türk Hava Kurumu Üniversitesi', 'Başkent Üniversitesi',\n",
       "       'Girne Amerikan Üniversitesi', 'Beykent Üniversitesi',\n",
       "       'Mersin Üniversitesi', 'İstanbul Esenyurt Üniversitesi',\n",
       "       'Uluslararası Kıbrıs Üniversitesi', 'Şifa Üniversitesi',\n",
       "       'Zirve Üniversitesi', 'Üsküdar Üniversitesi',\n",
       "       'Hasan Kalyoncu Üniversitesi', 'Avrasya Üniversitesi',\n",
       "       'Doğuş Üniversitesi', 'İstanbul Kemerburgaz Üniversitesi',\n",
       "       'Maltepe Üniversitesi', 'Gedik Üniversitesi',\n",
       "       'Biruni Üniversitesi', 'Mevlana Üniversitesi',\n",
       "       'İstanbul Bilim Üniversitesi', 'Lefke Avrupa Üniversitesi',\n",
       "       'Haliç Üniversitesi', 'KAFKAS ÜNİVERSİTESİ',\n",
       "       'AĞRI İBRAHİM ÇEÇEN ÜNİVERSİTESİ', 'YILDIRIM BEYAZIT ÜNİVERSİTESİ',\n",
       "       'ANKARA ÜNİVERSİTESİ', 'GAZİ ÜNİVERSİTESİ', 'MARMARA ÜNİVERSİTESİ',\n",
       "       'ÇANAKKALE ONSEKİZ MART', 'DİCLE ÜNİVERSİTESİ',\n",
       "       'SAKARYA ÜNİVERSİTESİ', 'SÜLEYMAN DEMİREL ÜNİVERSİTESİ',\n",
       "       'İSTANBUL TEKNİK ÜNİVERSİTESİ', 'DUMLUPINAR ÜNİVERSİTESİ',\n",
       "       'KIRKLARELİ ÜNİVERSİTESİ', 'BAYBURT ÜNİVERSİTESİ',\n",
       "       'ONDOKUZ MAYIS ÜNİVERSİTESİ', 'BÜLENT ECEVİT ÜNİVERSİTESİ',\n",
       "       'GAZİOSMANPAŞA ÜNİVERSİTESİ', 'KARADENİZ TEKNİK ÜNİVERSİTESİ',\n",
       "       'Diğer', 'NAMIK KEMAL ÜNİVERSİTESİ',\n",
       "       'ÇANKIRI KARATEKİN ÜNİVERSİTESİ', 'KARABÜK ÜNİVERSİTESİ',\n",
       "       'MEHMET AKİF ERSOY ÜNİVERSİTESİ', 'ERZİNCAN ÜNİVERSİTESİ',\n",
       "       'SİİRT ÜNİVERSİTESİ', 'TÜRK-ALMAN ÜNİVERSİTESİ',\n",
       "       'TRAKYA ÜNİVERSİTESİ', 'NECMETTİN ERBAKAN ÜNİVERSİTESİ',\n",
       "       'SİNOP ÜNİVERSİTESİ', 'KASTAMONU ÜNİVERSİTESİ',\n",
       "       'YILDIZ TEKNİK ÜNİVERSİTESİ', 'ATATÜRK ÜNİVERSİTESİ',\n",
       "       'ADNAN MENDERES ÜNİVERSİTESİ', 'İZMİR KATİP ÇELEBİ ÜNİVERSİTESİ',\n",
       "       'CELAL BAYAR ÜNİVERSİTESİ', 'MERSİN ÜNİVERSİTESİ',\n",
       "       'UŞAK ÜNİVERSİTESİ', 'MUĞLA SITKI KOÇMAN ÜNİVERSİTESİ',\n",
       "       'ERCİYES ÜNİVERSİTESİ', 'AKDENİZ ÜNİVERSİTESİ',\n",
       "       'GAZİANTEP ÜNİVERSİTESİ', 'MUSTAFA KEMAL ÜNİVERSİTESİ',\n",
       "       'YÜZÜNCÜ YIL ÜNİVERSİTESİ', 'ESKİŞEHİR OSMANGAZİ ÜNİVERSİTESİ',\n",
       "       'BİNGÖL ÜNİVERSİTESİ', 'AKSARAY ÜNİVERSİTESİ', 'EGE ÜNİVERSİTESİ',\n",
       "       'KONYA TARIM VE GIDA ÜNİVERSİTESİ', 'GÜMÜŞHANE ÜNİVERSİTESİ',\n",
       "       'PAMUKKALE ÜNİVERSİTESİ', 'ABDULLAH GÜL ÜNİVERSİTESİ',\n",
       "       'SELÇUK ÜNİVERSİTESİ', 'GALATASARAY ÜNİVERSİTESİ',\n",
       "       'BİLECİK ŞEYH EDEBALİ ÜNİVERSİTESİ', 'MARDİN ARTUKLU ÜNİVERSİTESİ',\n",
       "       'CUMHURİYET ÜNİVERSİTESİ', 'İSTANBUL MEDENİYET ÜNİVERSİTESİ',\n",
       "       'ADIYAMAN ÜNİVERSİTESİ', 'KAHRAMANMARAŞ SÜTÇÜ İMAM',\n",
       "       'DOKUZ EYLÜL ÜNİVERSİTESİ', 'YALOVA ÜNİVERSİTESİ',\n",
       "       'HARRAN ÜNİVERSİTESİ', 'IĞDIR ÜNİVERSİTESİ',\n",
       "       'MUŞ ALPARSLAN ÜNİVERSİTESİ', 'BURSA TEKNİK ÜNİVERSİTESİ',\n",
       "       'GEBZE YÜKSEK TEKNOLOJİ ENSTİTÜSÜ', 'KARAMANOĞLU MEHMETBEY', nan,\n",
       "       'TUNCELİ ÜNİVERSİTESİ', 'ŞIRNAK ÜNİVERSİTESİ',\n",
       "       'NEVŞEHİR HACI BEKTAŞ VELİ', 'BOZOK ÜNİVERSİTESİ',\n",
       "       'KAPADOKYA MESLEK YÜKSEKOKULU', 'ADANA BİLİM VE TEKNOLOJİ',\n",
       "       'HİTİT ÜNİVERSİTESİ', 'NİĞDE ÜNİVERSİTESİ',\n",
       "       'MİMAR SİNAN GÜZEL SANATLAR', 'İNÖNÜ ÜNİVERSİTESİ',\n",
       "       'BİTLİS EREN ÜNİVERSİTESİ', 'ARTVİN ÇORUH ÜNİVERSİTESİ',\n",
       "       'AFYON KOCATEPE ÜNİVERSİTESİ', 'DÜZCE ÜNİVERSİTESİ',\n",
       "       'BARTIN ÜNİVERSİTESİ', 'KIRIKKALE ÜNİVERSİTESİ',\n",
       "       'BİRUNİ ÜNİVERSİTESİ', 'ERZİNCAN BİNALİ YILDIRIM ÜNİVERSİTESİ',\n",
       "       'İHSAN DOĞRAMACI BİLKENT ÜNİVERSİTESİ',\n",
       "       'TOBB EKONOMİ VE TEKNOLOJİ ÜNİVERSİTESİ',\n",
       "       'HATAY MUSTAFA KEMAL ÜNİVERSİTESİ',\n",
       "       'FATİH SULTAN MEHMET VAKIF ÜNİVERSİTESİ', 'AYDIN ADNAN MENDERES',\n",
       "       'İSTANBUL GEDİK ÜNİVERSİTESİ', 'VAN YÜZÜNCÜ YIL ÜNİVERSİTESİ',\n",
       "       'İSTANBUL OKAN ÜNİVERSİTESİ',\n",
       "       'MİMAR SİNAN GÜZEL SANATLAR ÜNİVERSİTESİ',\n",
       "       'ACIBADEM MEHMET ALİ AYDINLAR ÜNİVERSİTESİ',\n",
       "       'TEKİRDAĞ NAMIK KEMAL ÜNİVERSİTESİ', 'ALTINBAŞ ÜNİVERSİTESİ',\n",
       "       'İZMİR YÜKSEK TEKNOLOJİ ENSTİTÜSÜ',\n",
       "       'BEZM-İ ÂLEM VAKIF ÜNİVERSİTESİ', 'FENERBAHÇE ÜNİVERSİTESİ',\n",
       "       'SAĞLIK BİLİMLERİ ÜNİVERSİTESİ',\n",
       "       'İSTANBUL AYVANSARAY ÜNİVERSİTESİ', 'İSTİNYE ÜNİVERSİTESİ',\n",
       "       'İSTANBUL ÜNİVERSİTESİ-', 'İZMİR KAVRAM MESLEK ÜNİVERSİTESİ',\n",
       "       'DEMİROĞLU BİLİM ÜNİVERSİTESİ', 'İSTANBUL RUMELİ ÜNİVERSİTESİ',\n",
       "       'BEYKOZ ÜNİVERSİTESİ', 'İBN HALDUN ÜNİVERSİTESİ',\n",
       "       'İSTANBUL SABAHATTİN ZAİM ÜNİVERSİTESİ', 'KAPADOKYA ÜNİVERSİTESİ',\n",
       "       'İZMİR DEMOKRASİ ÜNİVERSİTESİ', 'NİĞDE ÖMER HALİSDEMİR',\n",
       "       'İSTANBUL KENT ÜNİVERSİTESİ', 'BURSA ULUDAĞ ÜNİVERSİTESİ',\n",
       "       'KARAMANOĞLU MEHMETBEY ÜNİVERSİTESİ',\n",
       "       'KONYA GIDA VE TARIM ÜNİVERSİTESİ',\n",
       "       'ZONGULDAK BÜLENT ECEVİT ÜNİVERSİTESİ',\n",
       "       'ESKİŞEHİR TEKNİK ÜNİVERSİTESİ',\n",
       "       'KOCAELİ SAĞLIK VE TEKNOLOJİ ÜNİVERSİTESİ',\n",
       "       'KIRŞEHİR AHİ EVRAN ÜNİVERSİTESİ', 'ANKARA MEDİPOL ÜNİVERSİTESİ',\n",
       "       'ANKARA YILDIRIM BEYAZIT ÜNİVERSİTESİ',\n",
       "       'OSTİM TEKNİK ÜNİVERSİTESİ', 'MUNZUR ÜNİVERSİTESİ',\n",
       "       'TOKAT GAZİOSMANPAŞA ÜNİVERSİTESİ',\n",
       "       'SİVAS CUMHURİYET ÜNİVERSİTESİ', 'KİLİS 7 ARALIK ÜNİVERSİTESİ',\n",
       "       'ÇANAKKALE ONSEKİZ MART ÜNİVERSİTESİ',\n",
       "       'ANKARA HACI BAYRAM VELİ ÜNİVERSİTESİ',\n",
       "       'İSTANBUL YENİ YÜZYIL ÜNİVERSİTESİ', 'BATMAN ÜNİVERSİTESİ',\n",
       "       'TRABZON ÜNİVERSİTESİ', 'ANKARA SOSYAL BİLİMLER ÜNİVERSİTESİ',\n",
       "       'ISPARTA UYGULAMALI BİLİMLER ÜNİVERSİTESİ',\n",
       "       'KAHRAMANMARAŞ SÜTÇÜ İMAM ÜNİVERSİTESİ',\n",
       "       'MANİSA CELÂL BAYAR ÜNİVERSİTESİ',\n",
       "       'İSTANBUL SAĞLIK VE TEKNOLOJİ ÜNİVERSİTESİ',\n",
       "       'İSTANBUL ŞİŞLİ MESLEK ÜNİVERSİTESİ', 'ANTALYA AKEV ÜNİVERSİTESİ',\n",
       "       'KÜTAHYA SAĞLIK BİLİMLERİ ÜNİVERSİTESİ',\n",
       "       'ALANYA ALAADDİN KEYKUBAT ÜNİVERSİTESİ',\n",
       "       'AFYONKARAHİSAR SAĞLIK BİLİMLERİ ÜNİVERSİTESİ',\n",
       "       'BANDIRMA ONYEDİ EYLÜL ÜNİVERSİTESİ',\n",
       "       'İSKENDERUN TEKNİK ÜNİVERSİTESİ',\n",
       "       'FARUK SARAÇ TASARIM MESLEK YÜKSEKOKULU (İSTANBUL)',\n",
       "       'ARDAHAN ÜNİVERSİTESİ', 'İSTANBUL GALATA ÜNİVERSİTESİ',\n",
       "       'GEBZE TEKNİK ÜNİVERSİTESİ',\n",
       "       'NEVŞEHİR HACI BEKTAŞ VELİ ÜNİVERSİTESİ', 'SANKO ÜNİVERSİTESİ',\n",
       "       'İSTANBUL ATLAS ÜNİVERSİTESİ', 'HAKKARİ ÜNİVERSİTESİ',\n",
       "       'ALANYA HAMDULLAH EMİN PAŞA ÜNİVERSİTESİ',\n",
       "       'YOZGAT BOZOK ÜNİVERSİTESİ', 'KÜTAHYA DUMLUPINAR ÜNİVERSİTESİ',\n",
       "       'LOKMAN HEKİM ÜNİVERSİTESİ', 'ANTALYA BİLİM ÜNİVERSİTESİ',\n",
       "       'ANKARA BİLİM ÜNİVERSİTESİ', 'İZMİR BAKIRÇAY ÜNİVERSİTESİ',\n",
       "       'KONYA TEKNİK ÜNİVERSİTESİ', 'ADANA ALPARSLAN TÜRKEŞ BİLİM VE',\n",
       "       'Çağ Üniversitesi', 'Yüzüncü Yıl Üniversitesi',\n",
       "       'Fatih Sultan Mehmet Vakıf Üniversitesi',\n",
       "       'YÜKSEK İHTİSAS ÜNİVERSİTESİ', 'İSTANBUL ŞİŞLİ MESLEK YÜKSEKOKULU',\n",
       "       'FARUK SARAÇ TASARIM MESLEK', 'Doğu Akdeniz Üniversitesi',\n",
       "       'Bozok Üniversitesi', 'Bezmiâlem Üniversitesi',\n",
       "       'Ufuk Üniversitesi', 'Turgut Özal Üniversitesi',\n",
       "       'SAMSUN ÜNİVERSİTESİ', 'İZMİR TINAZTEPE ÜNİVERSİTESİ',\n",
       "       'SELAHADDİN EYYUBİ ÜNİVERSİTESİ', 'KTO Karatay Üniversitesi',\n",
       "       'AVRUPA MESLEK YÜKSEKOKULU', 'ERZURUM TEKNİK ÜNİVERSİTESİ',\n",
       "       'BOLU ABANT İZZET BAYSAL ÜNİVERSİTESİ',\n",
       "       'SAKARYA UYGULAMALI BİLİMLER ÜNİVERSİTESİ',\n",
       "       'AKDENİZ KARPAZ ÜNİVERSİTESİ', 'KIRGIZİSTAN-TÜRKİYE MANAS',\n",
       "       'AHİ EVRAN ÜNİVERSİTESİ', 'ORDU ÜNİVERSİTESİ',\n",
       "       'HOCA AHMET YESEVİ TÜRK-KAZAK', 'ANKARA SOSYAL BİLİMLER',\n",
       "       'POLİS AKADEMİSİ', 'Bülent Ecevit Üniversitesi',\n",
       "       'Akdeniz Üniversitesi', 'Ankara Üniversitesi',\n",
       "       'Eskişehir Osmangazi Üniversitesi', 'İnönü Üniversitesi',\n",
       "       'Yıldız Teknik Üniversitesi', 'Bartın Üniversitesi',\n",
       "       'Karabük Üniversitesi', 'Namık Kemal Üniversitesi',\n",
       "       'Ege Üniversitesi', 'İstanbul Üniversitesi',\n",
       "       'Erciyes Üniversitesi', 'Kocaeli Üniversitesi',\n",
       "       'Anadolu Üniversitesi', 'Marmara Üniversitesi',\n",
       "       'Uludağ Üniversitesi', 'Fırat Üniversitesi',\n",
       "       'Orta Doğu Teknik Üniversitesi', 'Gazi Üniversitesi',\n",
       "       'Yıldırım Beyazıt Üniversitesi', 'Celal Bayar Üniversitesi',\n",
       "       'Atatürk Üniversitesi', 'Pamukkale Üniversitesi',\n",
       "       'Osmaniye Korkut Ata Üniversitesi', 'Bingöl Üniversitesi',\n",
       "       'İskenderun Teknik Üniversitesi', 'Trakya Üniversitesi',\n",
       "       'Hacettepe Üniversitesi', 'Selçuk Üniversitesi',\n",
       "       'Gebze Teknik Üniversitesi', 'Dumlupınar Üniversitesi',\n",
       "       'Adnan Menderes Üniversitesi', 'Boğaziçi Üniversitesi',\n",
       "       'Gaziantep Üniversitesi', 'Giresun Üniversitesi',\n",
       "       'Sakarya Üniversitesi', 'Dokuz Eylül Üniversitesi',\n",
       "       'Erzincan Üniversitesi', 'Galatasaray Üniversitesi',\n",
       "       'Süleyman Demirel Üniversitesi', 'Harran Üniversitesi',\n",
       "       'Mehmet Akif Ersoy Üniversitesi', 'Ondokuz Mayıs Üniversitesi',\n",
       "       'Mimar Sinan Güzel Sanatlar Üniversitesi',\n",
       "       'Kırıkkale Üniversitesi', 'Kilis 7 Aralık Üniversitesi',\n",
       "       'Düzce Üniversitesi', 'Karadeniz Teknik Üniversitesi',\n",
       "       'Yalova Üniversitesi', 'İzmir Katip Çelebi Üniversitesi',\n",
       "       'Mustafa Kemal Üniversitesi',\n",
       "       'Alanya Alaaddin Keykubat Üniversitesi',\n",
       "       'Afyon Kocatepe Üniversitesi', 'Ağrı İbrahim Çeçen Üniversitesi',\n",
       "       'Aksaray Üniversitesi', 'Recep Tayyip Erdoğan Üniversitesi',\n",
       "       'Tunceli Üniversitesi', 'Dicle Üniversitesi',\n",
       "       'Abant İzzet Baysal Üniversitesi', 'Kırklareli Üniversitesi',\n",
       "       'Bandırma Onyedi Eylül Üniversitesi',\n",
       "       'Kahramanmaraş Sütçü İmam Üniversitesi', 'Niğde Üniversitesi',\n",
       "       'Çukurova Üniversitesi', 'Balıkesir Üniversitesi',\n",
       "       'Amasya Üniversitesi', 'Çanakkale Onsekiz Mart Üniversitesi',\n",
       "       'Abdullah Gül Üniversitesi', 'Cumhuriyet Üniversitesi',\n",
       "       'Muğla Sıtkı Koçman Üniversitesi',\n",
       "       'İzmir Yüksek Teknoloji Enstitüsü',\n",
       "       'Necmettin Erbakan Üniversitesi', 'Bursa Teknik Üniversitesi',\n",
       "       'Karamanoğlu Mehmetbey Üniversitesi', 'Sinop Üniversitesi',\n",
       "       'Adıyaman Üniversitesi', 'İstanbul Medeniyet Üniversitesi',\n",
       "       'Ahi Evran Üniversitesi', 'Kastamonu Üniversitesi',\n",
       "       'Bitlis Eren Üniversitesi', 'Ordu Üniversitesi',\n",
       "       'Bilecik Şeyh Edebali Üniversitesi',\n",
       "       'Adana Bilim ve Teknoloji Üniversitesi', 'Siirt Üniversitesi',\n",
       "       'Gümüşhane Üniversitesi', 'Nevşehir Hacı Bektaş Veli Üniversitesi',\n",
       "       'Hitit Üniversitesi', 'Uşak Üniversitesi', 'Batman Üniversitesi',\n",
       "       'Gaziosmanpaşa Üniversitesi', 'Erzurum Teknik Üniversitesi',\n",
       "       'Bayburt Üniversitesi', 'Selahaddin Eyyubi Üniversitesi',\n",
       "       'Çankırı Karatekin Üniversitesi', 'Türk-Alman Üniversitesi',\n",
       "       'Mardin Artuklu Üniversitesi', 'Muş Alparslan Üniversitesi',\n",
       "       'Hakkari Üniversitesi', 'Ardahan Üniversitesi',\n",
       "       'HARP AKADEMİLERİ (KARA, DENİZ,',\n",
       "       'BURDUR MEHMET AKİF ERSOY ÜNİVERSİTESİ', 'KAYSERİ ÜNİVERSİTESİ',\n",
       "       'TARSUS ÜNİVERSİTESİ', 'KAHRAMANMARAŞ İSTİKLAL ÜNİVERSİTESİ',\n",
       "       'ANKARA MÜZİK VE GÜZEL SANATLAR ÜNİVERSİTESİ',\n",
       "       'MALATYA TURGUT ÖZAL ÜNİVERSİTESİ',\n",
       "       'GAZİANTEP İSLAM BİLİM VE TEKNOLOJİ ÜNİVERSİTESİ',\n",
       "       'Aydın Adnan Menderes Üniversitesi', 'Bursa Uludağ Üniversitesi',\n",
       "       'Erzincan Binali Yıldırım Üniversitesi', 'Fenerbahçe Üniversitesi',\n",
       "       'Eskişehir Teknik Üniversitesi',\n",
       "       'Ankara Yıldırım Beyazıt Üniversitesi',\n",
       "       'Kırşehir Ahi Evran Üniversitesi', 'Sağlık Bilimleri Üniversitesi',\n",
       "       'Afyonkarahisar Sağlık Bilimleri Üniversitesi',\n",
       "       'Konya Gıda ve Tarım Üniversitesi',\n",
       "       'Tokat Gaziosmanpaşa Üniversitesi',\n",
       "       'Manisa Celal Bayar Üniversitesi', 'İbn Haldun Üniversitesi',\n",
       "       'Adana Alparslan Türkeş Bilim ve Teknoloji Üniversitesi',\n",
       "       'İstanbul Üniversitesi-Cerrahpaşa', 'Ankara Medipol Üniversitesi',\n",
       "       'Bolu Abant İzzet Baysal Üniversitesi',\n",
       "       'Sivas Cumhuriyet Üniversitesi', 'Van Yüzüncü Yıl Üniversitesi',\n",
       "       'Yozgat Bozok Üniversitesi', 'Tekirdağ Namık Kemal Üniversitesi',\n",
       "       'Trabzon Üniversitesi', 'İzmir Bakırçay Üniversitesi',\n",
       "       'İstanbul Kent Üniversitesi', 'Niğde Ömer Halisdemir Üniversitesi',\n",
       "       'Bezmialem Vakıf Üniversitesi', 'Munzur Üniversitesi',\n",
       "       'Zonguldak Bülent Ecevit Üniversitesi', 'Samsun Üniversitesi',\n",
       "       'Şırnak Üniversitesi', 'İstinye Üniversitesi', 'Brown University',\n",
       "       'University of Southern California',\n",
       "       'Kütahya Sağlık Bilimleri Üniversitesi', 'Kafkas Üniversitesi',\n",
       "       'İzmir Kâtip Çelebi Üniversitesi',\n",
       "       'Burdur Mehmet Akif Ersoy Üniversitesi',\n",
       "       'Ankara Sosyal Bilimler Üniversitesi',\n",
       "       'Ankara Hacı Bayram Veli Üniversitesi',\n",
       "       'İzmir Demokrasi Üniversitesi', 'Altınbaş Üniversitesi',\n",
       "       'Gaziantep İslam Bilim ve Teknoloji Üniversitesi',\n",
       "       'Kahramanmaraş İstiklal Üniversitesi',\n",
       "       'Kütahya Dumlupınar Üniversitesi', 'İstanbul Gedik Üniversitesi',\n",
       "       'İzmir Kavram Meslek Yüksekokulu', 'Bard College',\n",
       "       'Sakarya Uygulamalı Bilimler Üniversitesi',\n",
       "       'Uluslararası Final Üniversitesi', 'İstanbul Galata Üniversitesi',\n",
       "       'Sanko Üniversitesi', 'Beykoz Üniversitesi',\n",
       "       'Konya Teknik Üniversitesi',\n",
       "       'Isparta Uygulamalı Bilimler Üniversitesi',\n",
       "       'Hatay Mustafa Kemal Üniversitesi', 'İstanbul Okan Üniversitesi',\n",
       "       'Antalya Bilim Üniversitesi', 'Artvin Çoruh Üniversitesi',\n",
       "       'Fatih Sultan Mehmet Üniversitesi', 'Tarsus Üniversitesi',\n",
       "       'İstanbul Sağlık ve Teknoloji Üniversitesi',\n",
       "       'Antalya Akev Üniversitesi', 'Yüksek İhtisas Üniversitesi',\n",
       "       'İstanbul Topkapı Üniversitesi', 'Ostim Teknik Üniversitesi',\n",
       "       'Yakın Doğu Üniversitesi', 'Lokman Hekim Üniversitesi',\n",
       "       'Malatya Turgut Özal Üniversitesi', 'İstanbul Rumeli Üniversitesi',\n",
       "       'İzmir Tınaztepe Üniversitesi', 'Kayseri Üniversitesi',\n",
       "       'Iğdır Üniversitesi',\n",
       "       'Ankara Sosyal Bilimler Üniversitesi Kuzey Kıbrıs Kampüsü',\n",
       "       'Kocaeli Sağlık ve Teknoloji Üniversitesi',\n",
       "       'Ankara Bilim Üniversitesi',\n",
       "       'Jandarma ve Sahil Güvenlik Akademisi(Askeri)',\n",
       "       'Kapadokya Üniversitesi', 'Milli Savunma Üniversitesi (Askerî)',\n",
       "       'Demiroğlu Bilim Üniversitesi', 'İstanbul Atlas Üniversitesi'],\n",
       "      dtype=object)"
      ]
     },
     "execution_count": 38,
     "metadata": {},
     "output_type": "execute_result"
    }
   ],
   "source": [
    "df_train['uni_adi'].unique()"
   ]
  },
  {
   "cell_type": "code",
   "execution_count": 39,
   "id": "67ee9817-8340-45e1-9df8-9bb161916d0a",
   "metadata": {},
   "outputs": [
    {
     "data": {
      "text/plain": [
       "132"
      ]
     },
     "execution_count": 39,
     "metadata": {},
     "output_type": "execute_result"
    }
   ],
   "source": [
    "df_train['uni_adi'].isnull().sum()"
   ]
  },
  {
   "cell_type": "code",
   "execution_count": 40,
   "id": "fda428b7-437d-47c5-9290-6f356fcb1b93",
   "metadata": {},
   "outputs": [
    {
     "data": {
      "text/html": [
       "<div>\n",
       "<style scoped>\n",
       "    .dataframe tbody tr th:only-of-type {\n",
       "        vertical-align: middle;\n",
       "    }\n",
       "\n",
       "    .dataframe tbody tr th {\n",
       "        vertical-align: top;\n",
       "    }\n",
       "\n",
       "    .dataframe thead th {\n",
       "        text-align: right;\n",
       "    }\n",
       "</style>\n",
       "<table border=\"1\" class=\"dataframe\">\n",
       "  <thead>\n",
       "    <tr style=\"text-align: right;\">\n",
       "      <th></th>\n",
       "      <th>Şehir</th>\n",
       "      <th>Üniversite</th>\n",
       "      <th>Tür</th>\n",
       "    </tr>\n",
       "  </thead>\n",
       "  <tbody>\n",
       "    <tr>\n",
       "      <th>0</th>\n",
       "      <td>Adana</td>\n",
       "      <td>Adana Alparslan Türkeş Bilim ve Teknoloji Üniv...</td>\n",
       "      <td>Devlet</td>\n",
       "    </tr>\n",
       "    <tr>\n",
       "      <th>1</th>\n",
       "      <td>Adana</td>\n",
       "      <td>Çukurova Üniversitesi</td>\n",
       "      <td>Devlet</td>\n",
       "    </tr>\n",
       "    <tr>\n",
       "      <th>2</th>\n",
       "      <td>Adıyaman</td>\n",
       "      <td>Adıyaman Üniversitesi</td>\n",
       "      <td>Devlet</td>\n",
       "    </tr>\n",
       "    <tr>\n",
       "      <th>3</th>\n",
       "      <td>Afyonkarahisar</td>\n",
       "      <td>Afyon Kocatepe Üniversitesi</td>\n",
       "      <td>Devlet</td>\n",
       "    </tr>\n",
       "    <tr>\n",
       "      <th>4</th>\n",
       "      <td>Afyonkarahisar</td>\n",
       "      <td>Afyonkarahisar Sağlık Bilimleri Üniversitesi</td>\n",
       "      <td>Devlet</td>\n",
       "    </tr>\n",
       "  </tbody>\n",
       "</table>\n",
       "</div>"
      ],
      "text/plain": [
       "            Şehir                                         Üniversite     Tür\n",
       "0           Adana  Adana Alparslan Türkeş Bilim ve Teknoloji Üniv...  Devlet\n",
       "1           Adana                              Çukurova Üniversitesi  Devlet\n",
       "2        Adıyaman                              Adıyaman Üniversitesi  Devlet\n",
       "3  Afyonkarahisar                        Afyon Kocatepe Üniversitesi  Devlet\n",
       "4  Afyonkarahisar       Afyonkarahisar Sağlık Bilimleri Üniversitesi  Devlet"
      ]
     },
     "execution_count": 40,
     "metadata": {},
     "output_type": "execute_result"
    }
   ],
   "source": [
    "uni_adi_cs = pd.read_csv(\"turkiye_universiteleri.csv\", sep = ';')\n",
    "\n",
    "uni_adi_cs.head(5) # burada kaggle'da yarışmacılardan birinin oluşturduğu üniversiteler verisetini kullandım\n",
    "# üniversite adı sütununu da çok kirli olduğundan bu işlemi uygulamak en iyi olacaktı"
   ]
  },
  {
   "cell_type": "code",
   "execution_count": 41,
   "id": "4dd358e8-0d05-468e-9c06-a02f9a25812f",
   "metadata": {},
   "outputs": [
    {
     "data": {
      "text/plain": [
       "0    Adana Alparslan Türkeş Bilim ve Teknoloji Üniv...\n",
       "1                                Çukurova Üniversitesi\n",
       "2                                Adıyaman Üniversitesi\n",
       "3                          Afyon Kocatepe Üniversitesi\n",
       "4         Afyonkarahisar Sağlık Bilimleri Üniversitesi\n",
       "Name: Üniversite, dtype: object"
      ]
     },
     "execution_count": 41,
     "metadata": {},
     "output_type": "execute_result"
    }
   ],
   "source": [
    "uniler = uni_adi_cs['Üniversite'] # csv dosyasından bunu bir değişkene atıyoruz\n",
    "\n",
    "uniler.head()"
   ]
  },
  {
   "cell_type": "code",
   "execution_count": 42,
   "id": "eff3e755-da40-4aa0-ac45-28e2378875ef",
   "metadata": {},
   "outputs": [],
   "source": [
    "def temizle_uni(universite):\n",
    "    if pd.isna(universite):\n",
    "        return None\n",
    "    if isinstance(universite, str):\n",
    "        universite = universite.lower()\n",
    "        universite = universite.strip()\n",
    "\n",
    "        for uni in uniler:\n",
    "            if uni.lower() in universite:\n",
    "                return uni\n",
    "    return None # şehirler de uyguladığımız düzenlemeyi uyguluyoruz. işte harfleri küçültme, gereksiz kısımları atma ve elimizdeki veri ile var olanı eşleştirme"
   ]
  },
  {
   "cell_type": "code",
   "execution_count": 43,
   "id": "49c0fa48-2909-41a0-88b5-d1c7f007f523",
   "metadata": {},
   "outputs": [],
   "source": [
    "df_train[\"uni_adi\"] = df_train[\"uni_adi\"].apply(temizle_uni)"
   ]
  },
  {
   "cell_type": "code",
   "execution_count": 44,
   "id": "7e7f8471-b97f-4c6e-b2a7-39487461c880",
   "metadata": {},
   "outputs": [],
   "source": [
    "# df_train['uni_adi'] = df_train['uni_adi'].str.lower().str.translate(turkish_characters)"
   ]
  },
  {
   "cell_type": "code",
   "execution_count": 45,
   "id": "64065e56-6e71-4aaa-a5f6-bf447cc40281",
   "metadata": {},
   "outputs": [],
   "source": [
    "# df_train['uni_adi'] = df_train['uni_adi'].str.replace('[,/-]', ' ', regex=True).str.strip()\n",
    "df_train['uni_adi'] = df_train['uni_adi'].fillna('yok')"
   ]
  },
  {
   "cell_type": "code",
   "execution_count": 46,
   "id": "2c289033-e5d5-4ec4-913d-37e0018c8e95",
   "metadata": {},
   "outputs": [
    {
     "data": {
      "text/plain": [
       "uni_adi\n",
       "yok                                53054\n",
       "İstanbul Üniversitesi                561\n",
       "İstanbul Teknik Üniversitesi         490\n",
       "Yıldız Teknik Üniversitesi           478\n",
       "Marmara Üniversitesi                 412\n",
       "                                   ...  \n",
       "Ankara Bilim Üniversitesi              2\n",
       "İzmir Kavram Meslek Yüksekokulu        2\n",
       "İzmir Tınaztepe Üniversitesi           1\n",
       "Yüksek İhtisas Üniversitesi            1\n",
       "İstanbul Atlas Üniversitesi            1\n",
       "Name: count, Length: 192, dtype: int64"
      ]
     },
     "execution_count": 46,
     "metadata": {},
     "output_type": "execute_result"
    }
   ],
   "source": [
    "df_train['uni_adi'].value_counts()"
   ]
  },
  {
   "cell_type": "code",
   "execution_count": 47,
   "id": "9a5216ef-cdf9-4e2b-bf37-50c9bae735cd",
   "metadata": {},
   "outputs": [],
   "source": [
    "df_train['uni_adi'] = le.fit_transform(df_train['uni_adi'])"
   ]
  },
  {
   "cell_type": "markdown",
   "id": "d8c85473-ae82-405b-8b61-9e452f8f6677",
   "metadata": {},
   "source": [
    "### \"Üniversite türü\" bölümü"
   ]
  },
  {
   "cell_type": "code",
   "execution_count": 48,
   "id": "6715cfc3-6d04-490f-aa23-e519aa160f15",
   "metadata": {},
   "outputs": [
    {
     "data": {
      "text/plain": [
       "array(['Özel', 'Devlet', 'DEVLET', 'ÖZEL', nan], dtype=object)"
      ]
     },
     "execution_count": 48,
     "metadata": {},
     "output_type": "execute_result"
    }
   ],
   "source": [
    "df_train['uni_turu'].unique()"
   ]
  },
  {
   "cell_type": "code",
   "execution_count": 49,
   "id": "f9663dae-0f75-4c8c-b2d4-31b4fb4afd30",
   "metadata": {},
   "outputs": [
    {
     "data": {
      "text/plain": [
       "255"
      ]
     },
     "execution_count": 49,
     "metadata": {},
     "output_type": "execute_result"
    }
   ],
   "source": [
    "df_train['uni_turu'].isnull().sum()"
   ]
  },
  {
   "cell_type": "code",
   "execution_count": 50,
   "id": "29095b14-e7d1-4ceb-9191-af4cd9232700",
   "metadata": {},
   "outputs": [],
   "source": [
    "df_train['uni_turu'] = df_train['uni_turu'].str.lower()\n",
    "df_train['uni_turu'] = df_train['uni_turu'].fillna('devlet')"
   ]
  },
  {
   "cell_type": "code",
   "execution_count": 51,
   "id": "ea5faeb3-7a0d-4437-891c-439eb2ae5425",
   "metadata": {},
   "outputs": [],
   "source": [
    "df_train['uni_turu'] = le.fit_transform(df_train['uni_turu'])"
   ]
  },
  {
   "cell_type": "code",
   "execution_count": 52,
   "id": "bc32027b-51cb-43fb-9da1-adeca14bfb75",
   "metadata": {},
   "outputs": [
    {
     "data": {
      "text/plain": [
       "array([1, 0])"
      ]
     },
     "execution_count": 52,
     "metadata": {},
     "output_type": "execute_result"
    }
   ],
   "source": [
    "df_train['uni_turu'].unique()"
   ]
  },
  {
   "cell_type": "code",
   "execution_count": 53,
   "id": "58b8a56d-b1fb-4a7a-8d88-2d9c9f509c08",
   "metadata": {
    "scrolled": true
   },
   "outputs": [
    {
     "data": {
      "text/plain": [
       "<Axes: ylabel='uni_turu'>"
      ]
     },
     "execution_count": 53,
     "metadata": {},
     "output_type": "execute_result"
    },
    {
     "data": {
      "image/png": "[encoded data removed]",
      "text/plain": [
       "<Figure size 640x480 with 1 Axes>"
      ]
     },
     "metadata": {},
     "output_type": "display_data"
    }
   ],
   "source": [
    "df_train['uni_turu'].value_counts().plot.barh()"
   ]
  },
  {
   "cell_type": "markdown",
   "id": "5cee9556-9ef9-42f9-a36c-08cb40312c23",
   "metadata": {},
   "source": [
    "### \"burslu ise burs yüzdesi\" bölümü"
   ]
  },
  {
   "cell_type": "code",
   "execution_count": 54,
   "id": "835b246b-de3a-405d-9b68-458936c7e589",
   "metadata": {},
   "outputs": [
    {
     "data": {
      "text/plain": [
       "array([100. ,  99. ,  98. ,  91.5,  90. ,  88. ,  87.5,  85. ,  82.5,\n",
       "        80. ,  75. ,  74. ,  72. ,  70. ,  69. ,  67.5,  67. ,  65. ,\n",
       "        64. ,  63. ,  62.5,  62. ,  60. ,  57.5,  57. ,  55. ,  50. ,\n",
       "        49. ,  48. ,  46. ,  45. ,  41.5,  41. ,  40. ,  37. ,  35. ,\n",
       "        32. ,  30. ,  25. ,  20. ,  11. ,  10. ,   8. ,   7. ,   6. ,\n",
       "         5. ,   4. ,   3. ,   2. ,   1. ,   0. ,   nan])"
      ]
     },
     "execution_count": 54,
     "metadata": {},
     "output_type": "execute_result"
    }
   ],
   "source": [
    "df_train['burs_yuzdesi'].unique()"
   ]
  },
  {
   "cell_type": "code",
   "execution_count": 55,
   "id": "0a798f26-c7d9-44a3-a56c-b73b62d07a9e",
   "metadata": {},
   "outputs": [
    {
     "data": {
      "text/plain": [
       "42685"
      ]
     },
     "execution_count": 55,
     "metadata": {},
     "output_type": "execute_result"
    }
   ],
   "source": [
    "df_train['burs_yuzdesi'].isnull().sum()"
   ]
  },
  {
   "cell_type": "code",
   "execution_count": 56,
   "id": "d8f47538-a1e6-4ef5-9d71-f90ba5e6426f",
   "metadata": {},
   "outputs": [],
   "source": [
    "df_train['burs_yuzdesi'] = df_train['burs_yuzdesi'].fillna(0)"
   ]
  },
  {
   "cell_type": "code",
   "execution_count": 57,
   "id": "4c389dab-18a4-4259-976d-90494142be8b",
   "metadata": {},
   "outputs": [],
   "source": [
    "df_train['burs_yuzdesi'] = pd.to_numeric(df_train['burs_yuzdesi'], errors='coerce')"
   ]
  },
  {
   "cell_type": "code",
   "execution_count": 58,
   "id": "d60e96d8-5989-4b9e-ab51-604f8ed96ebe",
   "metadata": {},
   "outputs": [],
   "source": [
    "def categorize_burs_yuzdesi(yuzde):\n",
    "    if pd.isna(yuzde):  # \n",
    "        return 'yok' # yukarıda da gördüğümüz üzere burs yüzdesi bu aralıkta \n",
    "    elif yuzde == 0: # bunları belirli ölçütlerde düzenleyerek analiz yapmaya uygun hale getiriyoruz\n",
    "        return 'yok'\n",
    "    elif 25 <= yuzde < 50:\n",
    "        return 'az'\n",
    "    elif yuzde == 100:\n",
    "        return 'full'\n",
    "    elif 50 <= yuzde < 65:\n",
    "        return 'orta'\n",
    "    elif 65 <= yuzde < 75:\n",
    "        return 'orta üst'\n",
    "    else:\n",
    "        return 'yüksek'\n",
    "\n",
    "df_train['burs_yuzdesi'] = df_train['burs_yuzdesi'].apply(categorize_burs_yuzdesi)\n",
    "\n",
    "df_train['burs_yuzdesi']=df_train['burs_yuzdesi'].map({'full':5, 'yüksek':4, 'orta üst':3, 'orta':2, 'az':1, 'yok':0})\n",
    "df_train['burs_yuzdesi']=df_train['burs_yuzdesi'].astype(int) # yukarıda görüldüğü üzere atamaları yaptık.\n",
    "# bu yaptığımız genel olarak makine öğrenmesi için 'değerlendirme puanını' etkileyen sütunları için gerçekleştiriliyor."
   ]
  },
  {
   "cell_type": "markdown",
   "id": "8df83bbd-d68b-4e0f-bc5c-c72a6523864d",
   "metadata": {},
   "source": [
    "### \"Burs alıyor mu\" bölümü"
   ]
  },
  {
   "cell_type": "code",
   "execution_count": 59,
   "id": "5f903f87-875c-44ef-8731-fdb5cb449f80",
   "metadata": {},
   "outputs": [
    {
     "data": {
      "text/plain": [
       "array(['Evet', 'Hayır', 'hayır', 'evet', 'EVET'], dtype=object)"
      ]
     },
     "execution_count": 59,
     "metadata": {},
     "output_type": "execute_result"
    }
   ],
   "source": [
    "df_train['bursu_varmi'].unique()"
   ]
  },
  {
   "cell_type": "code",
   "execution_count": 60,
   "id": "8acf3362-a577-4420-8123-52caea61b588",
   "metadata": {},
   "outputs": [
    {
     "data": {
      "text/plain": [
       "0"
      ]
     },
     "execution_count": 60,
     "metadata": {},
     "output_type": "execute_result"
    }
   ],
   "source": [
    "df_train['bursu_varmi'].isnull().sum()"
   ]
  },
  {
   "cell_type": "code",
   "execution_count": 61,
   "id": "0515ece9-af85-4f64-8f2d-3ddc4b8515be",
   "metadata": {},
   "outputs": [],
   "source": [
    "df_train['bursu_varmi'] = df_train['bursu_varmi'].str.lower()"
   ]
  },
  {
   "cell_type": "code",
   "execution_count": 62,
   "id": "5b103856-f089-4276-af73-10af4d412d1d",
   "metadata": {},
   "outputs": [
    {
     "data": {
      "text/plain": [
       "array(['evet', 'hayır'], dtype=object)"
      ]
     },
     "execution_count": 62,
     "metadata": {},
     "output_type": "execute_result"
    }
   ],
   "source": [
    "df_train['bursu_varmi'].unique()"
   ]
  },
  {
   "cell_type": "code",
   "execution_count": 63,
   "id": "0cc013eb-12b1-48ff-9ed6-4b463d367a18",
   "metadata": {},
   "outputs": [],
   "source": [
    "burs_a = {'evet': 1, 'hayır': 0}\n",
    "\n",
    "df_train['bursu_varmi'] = df_train['bursu_varmi'].map(burs_a).astype(int)"
   ]
  },
  {
   "cell_type": "markdown",
   "id": "a0f95f98-b8f9-4f23-bb7f-c9eb85d3c270",
   "metadata": {},
   "source": [
    "### \"Bölüm\" bölümü"
   ]
  },
  {
   "cell_type": "code",
   "execution_count": 64,
   "id": "103b5411-afe2-44b0-b9b6-359b821ccaf6",
   "metadata": {},
   "outputs": [
    {
     "data": {
      "text/plain": [
       "array(['Bilgisayar Muhendisligi', 'Elektrik Elektronik Mühendisliği',\n",
       "       'Finans Yönetimi ve Pazarlama', ...,\n",
       "       'Yiyecek ve İçecek İşletmeciliği', 'İslam İktisadı ve Finans',\n",
       "       'Nanoteknoloji Mühendisliği'], dtype=object)"
      ]
     },
     "execution_count": 64,
     "metadata": {},
     "output_type": "execute_result"
    }
   ],
   "source": [
    "df_train['bolum'].unique()"
   ]
  },
  {
   "cell_type": "code",
   "execution_count": 65,
   "id": "dd5d0623-0bf0-42d3-bc56-e5214c93ceb7",
   "metadata": {},
   "outputs": [
    {
     "data": {
      "text/plain": [
       "231"
      ]
     },
     "execution_count": 65,
     "metadata": {},
     "output_type": "execute_result"
    }
   ],
   "source": [
    "df_train['bolum'].isnull().sum()"
   ]
  },
  {
   "cell_type": "code",
   "execution_count": 66,
   "id": "1364eaca-ce0a-4feb-af08-d0ed1a45b7a4",
   "metadata": {},
   "outputs": [],
   "source": [
    "df_train['bolum'] = df_train['bolum'].fillna('yok')"
   ]
  },
  {
   "cell_type": "code",
   "execution_count": 67,
   "id": "0c704caa-41b6-428a-bd49-daa183c779b1",
   "metadata": {},
   "outputs": [
    {
     "data": {
      "text/html": [
       "<div>\n",
       "<style scoped>\n",
       "    .dataframe tbody tr th:only-of-type {\n",
       "        vertical-align: middle;\n",
       "    }\n",
       "\n",
       "    .dataframe tbody tr th {\n",
       "        vertical-align: top;\n",
       "    }\n",
       "\n",
       "    .dataframe thead th {\n",
       "        text-align: right;\n",
       "    }\n",
       "</style>\n",
       "<table border=\"1\" class=\"dataframe\">\n",
       "  <thead>\n",
       "    <tr style=\"text-align: right;\">\n",
       "      <th></th>\n",
       "      <th>Bölüm İsimleri</th>\n",
       "    </tr>\n",
       "  </thead>\n",
       "  <tbody>\n",
       "    <tr>\n",
       "      <th>0</th>\n",
       "      <td>Acil Durum ve Afet Yönetimi</td>\n",
       "    </tr>\n",
       "    <tr>\n",
       "      <th>1</th>\n",
       "      <td>Acil Durum ve Afet Yönetimi (Açıköğretim)</td>\n",
       "    </tr>\n",
       "    <tr>\n",
       "      <th>2</th>\n",
       "      <td>Acil Yardım ve Afet Yönetimi (Fakülte)</td>\n",
       "    </tr>\n",
       "    <tr>\n",
       "      <th>3</th>\n",
       "      <td>Acil Yardım ve Afet Yönetimi (Yüksekokul)</td>\n",
       "    </tr>\n",
       "    <tr>\n",
       "      <th>4</th>\n",
       "      <td>Adalet</td>\n",
       "    </tr>\n",
       "  </tbody>\n",
       "</table>\n",
       "</div>"
      ],
      "text/plain": [
       "                              Bölüm İsimleri\n",
       "0                Acil Durum ve Afet Yönetimi\n",
       "1  Acil Durum ve Afet Yönetimi (Açıköğretim)\n",
       "2     Acil Yardım ve Afet Yönetimi (Fakülte)\n",
       "3  Acil Yardım ve Afet Yönetimi (Yüksekokul)\n",
       "4                                     Adalet"
      ]
     },
     "execution_count": 67,
     "metadata": {},
     "output_type": "execute_result"
    }
   ],
   "source": [
    "bolumler_2 = pd.read_csv(\"bolumler.csv\")\n",
    "\n",
    "bolumler_2.head(5)  # burada farklı bir notebook'ta internetten veri çekme işlemi uyguladım\n",
    "# bölüm sütunu da çok düzensiz olduğu için hızlı şekilde müdahale edebilmek adına\n",
    "# internette türkiye'deki tüm üniversite bölümleri verilerinin olduğu bir siteden request ve beautifulsoap gibi kütüphaneler kullanarak\n",
    "# veriyi çekip csv dosyasına aktardım."
   ]
  },
  {
   "cell_type": "code",
   "execution_count": 68,
   "id": "7b81b920-c699-467d-b544-39c7da17e1ec",
   "metadata": {},
   "outputs": [
    {
     "data": {
      "text/plain": [
       "0                  Acil Durum ve Afet Yönetimi\n",
       "1    Acil Durum ve Afet Yönetimi (Açıköğretim)\n",
       "2       Acil Yardım ve Afet Yönetimi (Fakülte)\n",
       "3    Acil Yardım ve Afet Yönetimi (Yüksekokul)\n",
       "4                                       Adalet\n",
       "Name: Bölüm İsimleri, dtype: object"
      ]
     },
     "execution_count": 68,
     "metadata": {},
     "output_type": "execute_result"
    }
   ],
   "source": [
    "bolum_i = bolumler_2['Bölüm İsimleri']\n",
    "\n",
    "bolum_i.head()"
   ]
  },
  {
   "cell_type": "code",
   "execution_count": 69,
   "id": "60ed822c-6a3c-44eb-ba6e-77362e7cff7c",
   "metadata": {},
   "outputs": [],
   "source": [
    "def temizle_bolum(bolum2):\n",
    "    if pd.isna(bolum2):\n",
    "        return None\n",
    "    if isinstance(bolum2, str):\n",
    "        bolum2 = bolum2.lower()\n",
    "        bolum2 = bolum2.strip()\n",
    "\n",
    "        for bol in bolum_i:\n",
    "            if bol.lower() in bolum2:\n",
    "                return bol\n",
    "    return None # böylelikle yine aynı işlem ile bölümleri temizledim."
   ]
  },
  {
   "cell_type": "code",
   "execution_count": 70,
   "id": "a2edd777-c487-4ec3-9c31-266ea758db26",
   "metadata": {},
   "outputs": [],
   "source": [
    "df_train[\"bolum\"] = df_train[\"bolum\"].apply(temizle_bolum)"
   ]
  },
  {
   "cell_type": "code",
   "execution_count": 71,
   "id": "eea904dd-a209-49fd-92b7-ea4ddc1bb79c",
   "metadata": {},
   "outputs": [],
   "source": [
    "# df_train['bolum'] = df_train['bolum'].str.lower().str.translate(turkish_characters)"
   ]
  },
  {
   "cell_type": "code",
   "execution_count": 72,
   "id": "5627e72e-506e-4d4d-a3ea-b4a8723f359c",
   "metadata": {},
   "outputs": [],
   "source": [
    "# df_train['bolum'] = df_train['bolum'].replace('[^a-z\\s]', '', regex=True)"
   ]
  },
  {
   "cell_type": "code",
   "execution_count": 73,
   "id": "673d64eb-4cae-4c27-a5fd-9e703b0c5270",
   "metadata": {},
   "outputs": [],
   "source": [
    "#df_train['bolum'] = df_train['bolum'].str.replace('\\s+', ' ', regex=True).str.strip()"
   ]
  },
  {
   "cell_type": "code",
   "execution_count": 74,
   "id": "d39d95d7-ffff-4d13-818a-438f0e6f5de3",
   "metadata": {},
   "outputs": [
    {
     "data": {
      "text/plain": [
       "bolum\n",
       "İşletme                                      4470\n",
       "Endüstri Mühendisliği                        3373\n",
       "Elektrik                                     2714\n",
       "Bilgisayar Mühendisliği                      2669\n",
       "Hukuk                                        2453\n",
       "                                             ... \n",
       "Nanobilim ve Nanoteknoloji                      1\n",
       "Kanatlı Hayvan Yetiştiriciliği                  1\n",
       "Sahne ve Dekor Tasarımı                         1\n",
       "Küresel Siyaset ve Uluslararası İlişkiler       1\n",
       "Nanoteknoloji Mühendisliği                      1\n",
       "Name: count, Length: 327, dtype: int64"
      ]
     },
     "execution_count": 74,
     "metadata": {},
     "output_type": "execute_result"
    }
   ],
   "source": [
    "df_train['bolum'].value_counts()"
   ]
  },
  {
   "cell_type": "code",
   "execution_count": 75,
   "id": "d05937db-5cb6-4eb2-ad9f-657300ad5eaa",
   "metadata": {},
   "outputs": [],
   "source": [
    "df_train['bolum'] = le.fit_transform(df_train['bolum'])"
   ]
  },
  {
   "cell_type": "markdown",
   "id": "d11dd4be-18c7-4e9e-bc28-aeac60af1802",
   "metadata": {
    "scrolled": true
   },
   "source": [
    "### \"Universite Kacinci Sinif\" bölümü"
   ]
  },
  {
   "cell_type": "code",
   "execution_count": 76,
   "id": "3e9789a4-0aa3-42f0-88df-7651ba91c495",
   "metadata": {},
   "outputs": [
    {
     "data": {
      "text/plain": [
       "array(['3', '1', nan, '2', '4', 'Hazırlık', 'Mezun', 'hazırlık',\n",
       "       'Yüksek Lisans', '5', '6', 'Tez', '0'], dtype=object)"
      ]
     },
     "execution_count": 76,
     "metadata": {},
     "output_type": "execute_result"
    }
   ],
   "source": [
    "df_train['uni_kacinci_sinif'].unique()"
   ]
  },
  {
   "cell_type": "code",
   "execution_count": 77,
   "id": "90816717-a8d5-43a3-a149-7f2dd1e5e3f4",
   "metadata": {},
   "outputs": [
    {
     "data": {
      "text/plain": [
       "374"
      ]
     },
     "execution_count": 77,
     "metadata": {},
     "output_type": "execute_result"
    }
   ],
   "source": [
    "df_train['uni_kacinci_sinif'].isnull().sum()"
   ]
  },
  {
   "cell_type": "code",
   "execution_count": 78,
   "id": "b84d7381-8852-4a78-8732-9e62e5467339",
   "metadata": {},
   "outputs": [],
   "source": [
    "df_train['uni_kacinci_sinif'] = df_train['uni_kacinci_sinif'].str.lower()\n",
    "df_train['uni_kacinci_sinif'] = df_train['uni_kacinci_sinif'].fillna('yok')"
   ]
  },
  {
   "cell_type": "code",
   "execution_count": 79,
   "id": "494b735d-8430-4438-8c11-5e6c2b5d8d96",
   "metadata": {},
   "outputs": [],
   "source": [
    "uni_sin_map = {'1': 1, '2': 2, '3': 3,'4': 4, '5': 5,'6':6,'yüksek lisans':0,'tez':0,'mezun':0,\"hazırlık\":0, \"0\":0, \"yok\": 0}\n",
    "\n",
    "df_train['uni_kacinci_sinif'] = df_train['uni_kacinci_sinif'].map(uni_sin_map).astype(int)"
   ]
  },
  {
   "cell_type": "markdown",
   "id": "78310d4b-e8b2-4c83-b7fa-318f025ea714",
   "metadata": {},
   "source": [
    "### \"Universite Not Ortalamasi\" bölümü"
   ]
  },
  {
   "cell_type": "code",
   "execution_count": 80,
   "id": "9b27226c-54c4-4e6c-97eb-c6f3fbbf6078",
   "metadata": {},
   "outputs": [
    {
     "data": {
      "text/plain": [
       "array(['3.50-3', '3.00-2.50', nan, '2.50 ve altı', '3.00 - 4.00',\n",
       "       '3.50 - 4.00', '3.00 - 3.50', '2.50 -3.00', 'Ortalama bulunmuyor',\n",
       "       'ORTALAMA BULUNMUYOR', '4-3.5', '2.50 - 3.00', '2.00 - 2.50',\n",
       "       '1.00 - 2.50', 'Not ortalaması yok', '4.0-3.5', '3.00 - 3.49',\n",
       "       '2.50 - 2.99', '1.80 - 2.49', 'Hazırlığım', '0 - 1.79'],\n",
       "      dtype=object)"
      ]
     },
     "execution_count": 80,
     "metadata": {},
     "output_type": "execute_result"
    }
   ],
   "source": [
    "df_train['uni_not_ort'].unique()"
   ]
  },
  {
   "cell_type": "code",
   "execution_count": 81,
   "id": "e98566c4-8a4f-408c-8f7c-6327912a2e45",
   "metadata": {},
   "outputs": [
    {
     "data": {
      "text/plain": [
       "2753"
      ]
     },
     "execution_count": 81,
     "metadata": {},
     "output_type": "execute_result"
    }
   ],
   "source": [
    "df_train['uni_not_ort'].isnull().sum()"
   ]
  },
  {
   "cell_type": "code",
   "execution_count": 82,
   "id": "e8c4e264-c5ed-4eb6-8660-59cb3379c105",
   "metadata": {},
   "outputs": [],
   "source": [
    "df_train['uni_not_ort'] = df_train['uni_not_ort'].str.lower()\n",
    "df_train['uni_not_ort'] = df_train['uni_not_ort'].fillna('yok')"
   ]
  },
  {
   "cell_type": "code",
   "execution_count": 83,
   "id": "1d81eae4-f1fc-4f6d-a1a1-e3ff45afb892",
   "metadata": {
    "scrolled": true
   },
   "outputs": [],
   "source": [
    "uni_not_mapping = {\n",
    "    'hazırlığım': 0,\n",
    "    'ortalama bulunmuyor': 0,\n",
    "    'not ortalaması yok': 0,\n",
    "    'yok':0,\n",
    "    '0 - 1.79': 0,\n",
    "    '1.00 - 2.50':1,\n",
    "    '1.80 - 2.49':1,\n",
    "    '2.50 ve altı':1,\n",
    "    '2.00 - 2.50':1,\n",
    "    \"3.00-2.50\":2,\n",
    "    \"2.50 - 3.00\":2,\n",
    "    \"2.50 - 2.99\":2,\n",
    "    '2.50 -3.00':2,\n",
    "    '3.00 - 3.50':3,\n",
    "    '3.50-3':3,\n",
    "    '3.00 - 3.49':3,\n",
    "    '3.00 - 4.00':3,\n",
    "    '3.50 - 4.00':4,\n",
    "    '4-3.5':4,\n",
    "    '4.0-3.5':4\n",
    "}\n",
    "\n",
    "df_train['uni_not_ort'] = df_train['uni_not_ort'].map(uni_not_mapping).astype(int)"
   ]
  },
  {
   "cell_type": "markdown",
   "id": "08aab603-d1b8-4933-8b4f-1fc93afad9e7",
   "metadata": {},
   "source": [
    "### \"Daha Once Baska Bir Universiteden Mezun Olmus\" bölümü"
   ]
  },
  {
   "cell_type": "code",
   "execution_count": 84,
   "id": "b582405b-bc20-4304-8020-7e29767be006",
   "metadata": {},
   "outputs": [
    {
     "data": {
      "text/plain": [
       "array(['Hayır', 'Evet', nan], dtype=object)"
      ]
     },
     "execution_count": 84,
     "metadata": {},
     "output_type": "execute_result"
    }
   ],
   "source": [
    "df_train['baska_uni_mezunmu'].unique()"
   ]
  },
  {
   "cell_type": "code",
   "execution_count": 85,
   "id": "62e9883e-ba79-41c8-9565-7c4783eb45ba",
   "metadata": {},
   "outputs": [
    {
     "data": {
      "text/plain": [
       "37345"
      ]
     },
     "execution_count": 85,
     "metadata": {},
     "output_type": "execute_result"
    }
   ],
   "source": [
    "df_train['baska_uni_mezunmu'].isnull().sum()"
   ]
  },
  {
   "cell_type": "code",
   "execution_count": 86,
   "id": "e079b1eb-cb66-467b-87c1-0b17dcba5e46",
   "metadata": {},
   "outputs": [],
   "source": [
    "df_train['baska_uni_mezunmu'] = df_train['baska_uni_mezunmu'].str.lower()\n",
    "df_train['baska_uni_mezunmu'] = df_train['baska_uni_mezunmu'].fillna('hayır')"
   ]
  },
  {
   "cell_type": "code",
   "execution_count": 87,
   "id": "b4fb1e94-46eb-46f4-bdcb-7557e14209e3",
   "metadata": {},
   "outputs": [],
   "source": [
    "baska_uni = {'evet': 1, 'hayır': 0}\n",
    "\n",
    "df_train['baska_uni_mezunmu'] = df_train['baska_uni_mezunmu'].map(baska_uni).astype(int)"
   ]
  },
  {
   "cell_type": "code",
   "execution_count": 88,
   "id": "01b2f311-5cd4-489d-ac36-b1bb18d493e8",
   "metadata": {},
   "outputs": [
    {
     "data": {
      "text/plain": [
       "array([3, 2, 0, 1, 4])"
      ]
     },
     "execution_count": 88,
     "metadata": {},
     "output_type": "execute_result"
    }
   ],
   "source": [
    "df_train['uni_not_ort'].unique()"
   ]
  },
  {
   "cell_type": "markdown",
   "id": "04769df6-91e2-4048-a3b8-1df388ca91bc",
   "metadata": {},
   "source": [
    "### \"Lise Adi\" bölümü"
   ]
  },
  {
   "cell_type": "code",
   "execution_count": 89,
   "id": "58d755cf-95d4-4b67-aa42-58a0712ce351",
   "metadata": {},
   "outputs": [
    {
     "data": {
      "text/plain": [
       "array(['Ankara Ataturk Anadolu Lisesi', 'Betül Can Anadolu Lisesi',\n",
       "       'Batem', ...,\n",
       "       'BAĞCILAR EDİP İPLİK MESLEKİ VE TEKNİK ANADOLU LİSESİ',\n",
       "       'Ahmet Vefik paşa Anadolu lisesi',\n",
       "       'Samsun Terme Karadeniz mesleki teknik Anadolu lisesi'],\n",
       "      dtype=object)"
      ]
     },
     "execution_count": 89,
     "metadata": {},
     "output_type": "execute_result"
    }
   ],
   "source": [
    "df_train['lise_adi'].unique()"
   ]
  },
  {
   "cell_type": "code",
   "execution_count": 90,
   "id": "81d44f22-e2b4-45fe-a944-f7c5cc1b2a22",
   "metadata": {},
   "outputs": [
    {
     "data": {
      "text/plain": [
       "384"
      ]
     },
     "execution_count": 90,
     "metadata": {},
     "output_type": "execute_result"
    }
   ],
   "source": [
    "df_train['lise_adi'].isnull().sum()"
   ]
  },
  {
   "cell_type": "code",
   "execution_count": 91,
   "id": "8de4f730-c592-414c-b82e-009f0830ea80",
   "metadata": {},
   "outputs": [],
   "source": [
    "df_train['lise_adi'] = df_train['lise_adi'].str.lower().str.translate(turkish_characters)"
   ]
  },
  {
   "cell_type": "code",
   "execution_count": 92,
   "id": "717a0752-ebd5-4148-9e35-46eb216b68df",
   "metadata": {},
   "outputs": [],
   "source": [
    "df_train['lise_adi'] = df_train['lise_adi'].replace('[^a-z\\s]', '', regex=True)\n",
    "df_train['lise_adi'] = df_train['lise_adi'].fillna('yok')"
   ]
  },
  {
   "cell_type": "code",
   "execution_count": 93,
   "id": "e64caff2-5892-423d-9d42-414e26b8107d",
   "metadata": {},
   "outputs": [],
   "source": [
    "df_train['lise_adi'] = df_train['lise_adi'].str.replace('\\s+', ' ', regex=True).str.strip()"
   ]
  },
  {
   "cell_type": "code",
   "execution_count": 94,
   "id": "3ece9f2e-3add-4f48-90bf-c661c5550512",
   "metadata": {},
   "outputs": [
    {
     "data": {
      "text/plain": [
       "lise_adi\n",
       "                                                        4272\n",
       "acik ogretim lisesi                                      387\n",
       "yok                                                      386\n",
       "ataturk lisesi                                           273\n",
       "cumhuriyet anadolu lisesi                                266\n",
       "                                                        ... \n",
       "persembe anadolu otelcilik ve turizm meslek lisesi         1\n",
       "suruc yunus emre anadolu lisesi                            1\n",
       "kochisar                                                   1\n",
       "safranbolu fatih anadolu lisesi                            1\n",
       "samsun terme karadeniz mesleki teknik anadolu lisesi       1\n",
       "Name: count, Length: 21921, dtype: int64"
      ]
     },
     "execution_count": 94,
     "metadata": {},
     "output_type": "execute_result"
    }
   ],
   "source": [
    "df_train['lise_adi'].value_counts()"
   ]
  },
  {
   "cell_type": "code",
   "execution_count": 95,
   "id": "a3fde5d4-0cdf-4db7-bc4e-eebf81d9cb5e",
   "metadata": {},
   "outputs": [],
   "source": [
    "df_train['lise_adi'] = le.fit_transform(df_train['lise_adi'])"
   ]
  },
  {
   "cell_type": "markdown",
   "id": "94c5f5f8-10ee-4c58-979b-b6a96f90ced4",
   "metadata": {},
   "source": [
    "### \"Lise Adi Diger\" bölümü"
   ]
  },
  {
   "cell_type": "code",
   "execution_count": 96,
   "id": "01eb0e38-9e34-420c-8648-a1c63338ff01",
   "metadata": {},
   "outputs": [
    {
     "data": {
      "text/plain": [
       "array([nan, 'İstanbul Alman Lisesi', 'şehzade mehmet koleji', ...,\n",
       "       'Gençosman İmkb tml', 'nefise andicen lisesi',\n",
       "       'büyük çiğli anadolu lisesi'], dtype=object)"
      ]
     },
     "execution_count": 96,
     "metadata": {},
     "output_type": "execute_result"
    }
   ],
   "source": [
    "df_train['lise_diger'].unique()"
   ]
  },
  {
   "cell_type": "code",
   "execution_count": 97,
   "id": "363972bb-97b1-4218-80e2-a14181f2dd58",
   "metadata": {},
   "outputs": [
    {
     "data": {
      "text/plain": [
       "60392"
      ]
     },
     "execution_count": 97,
     "metadata": {},
     "output_type": "execute_result"
    }
   ],
   "source": [
    "df_train['lise_diger'].isnull().sum()"
   ]
  },
  {
   "cell_type": "code",
   "execution_count": 98,
   "id": "ed5d11a1-a510-4ad9-b4ad-28040843878a",
   "metadata": {},
   "outputs": [],
   "source": [
    "df_train['lise_diger'] = df_train['lise_diger'].str.lower().str.translate(turkish_characters)"
   ]
  },
  {
   "cell_type": "code",
   "execution_count": 99,
   "id": "dbc16d35-eff9-4652-a850-e1e87060650a",
   "metadata": {},
   "outputs": [],
   "source": [
    "df_train['lise_diger'] = df_train['lise_diger'].replace('[^a-z\\s]', '', regex=True)\n",
    "df_train['lise_diger'] = df_train['lise_diger'].fillna('yok')"
   ]
  },
  {
   "cell_type": "code",
   "execution_count": 100,
   "id": "9f9ac3cd-64cf-41cc-b779-4ade37360b49",
   "metadata": {},
   "outputs": [],
   "source": [
    "df_train['lise_diger'] = df_train['lise_diger'].str.replace('\\s+', ' ', regex=True).str.strip()"
   ]
  },
  {
   "cell_type": "code",
   "execution_count": 101,
   "id": "145cc67c-0033-469f-98ba-efc6402ce0c3",
   "metadata": {},
   "outputs": [],
   "source": [
    "df_train['lise_diger'] = le.fit_transform(df_train['lise_diger'])"
   ]
  },
  {
   "cell_type": "markdown",
   "id": "65df4d15-ef6a-4001-aacd-3626cf7f1d85",
   "metadata": {},
   "source": [
    "### \"Lise Sehir\" bölümü"
   ]
  },
  {
   "cell_type": "code",
   "execution_count": 102,
   "id": "aee2cbb1-bd44-4ab5-90f1-affc2994c3a1",
   "metadata": {
    "scrolled": true
   },
   "outputs": [
    {
     "data": {
      "text/plain": [
       "array(['Ankara', 'Diyarbakır', 'ANKARA', 'İstanbul', 'sivas', 'Kayseri',\n",
       "       'İzmir', 'Trabzon', 'Anamur/MERSİN', 'İSTANBUL', 'Kars',\n",
       "       'kahramanmaas', 'Konya', 'Kırşehir', 'İstanbul Anadolu',\n",
       "       'Eskişehir', 'izmir', 'Mersin', 'Adana', 'istanbul', 'Sakarya',\n",
       "       'Osmaniye', 'Istanbul', 'Antalya', 'Erzurum', 'malatya', 'Bolu',\n",
       "       'Afyonkarahisar', 'Çanakkale', 'sakarya', 'Gemlik', 'ankara',\n",
       "       'Ordu', 'antalya', 'ISTANBUL', 'Bartın', 'Aksaray', 'Zile',\n",
       "       'Samsun', 'Bingöl', 'BURSA', 'ANTALYA', 'Samsun / Bafra',\n",
       "       'Balıkesir', 'BALIKESİR', 'Bursa', 'Manisa-Turgutlu', 'Soma',\n",
       "       'Aydın', 'bursa', 'samsun', 'KOCAELİ', 'karabük', 'Bilecik',\n",
       "       'Izmir', 'İSTANBUL - BEŞİKTAŞ', 'Kocaeli', 'Kütahya', 'diyarbakir',\n",
       "       'Kırklareli', 'Nazilli / Aydın', 'Tekirdağ', 'ANTAYA', 'Manisa',\n",
       "       'Sivas', 'İZMİR', 'çorum', 'SAMSUN', 'ABD Missouri',\n",
       "       'Zonguldak Ereğli', 'aydın', 'MANİSA', 'Mugla', 'Zonguldak',\n",
       "       'KÜRKCÜ', 'Tokat Merkez', 'gaziantep', 'Alanya', 'Düzce',\n",
       "       'ANAMUR/MERSİN', 'Malatya', 'aksaray', 'Erzurun', 'İstabul',\n",
       "       'manisa salihli', 'Hakkari', 'Ferizaj-Kosova', 'şanlıurfa',\n",
       "       'Denizli', 'mardin', 'Kahramanmaraş', 'Milas/ Muğla', 'konya',\n",
       "       'Kdz.Ereğli', 'Fatih', 'kocaeli', 'Muğla', 'fethıye', 'Kırıkkale',\n",
       "       'KAYSERİ', 'Bandırma', 'mugla', 'Alanya-ANTALYA', 'Isparta',\n",
       "       'Ermenek/KARAMAN', 'Erzincan', 'nazilli', 'Baku', 'Simav/Kutahya',\n",
       "       'mersin', 'Gazipaşa', 'Batman', 'mersin tarsus', 'Hatay',\n",
       "       'KARTAL-İSTANBUL', 'Tokat', 'Gaziantep', 'Kolej', 'Nevşehir',\n",
       "       'Çorum', 'KONYA', 'Duzıcı', 'kayseri', 'Şanlıurfa',\n",
       "       'AFYONKARAHİSAR', 'Niğde', 'Denizl', 'MALATYA', 'Artvin', 'Tarsus',\n",
       "       'Atyrau', 'manisa', 'Kocaeli- İzmit', 'TİRE/İZMİR', 'NEVŞEHİR',\n",
       "       'bodrum', 'Rize', 'tekirdağ', 'İzmit', 'Montezuma/New Mexico',\n",
       "       'muğla', 'Nazilli', 'adana/seyhan', 'KÜTAHYA', 'Kirklareli',\n",
       "       'TRABZON', 'Elazig', 'SAKARYA', 'Mersin tarsus', 'alanya',\n",
       "       'Kocaeli/Karamürsel', 'Balikesir', 'Zonguldak/Ereğli', 'Yozgat',\n",
       "       'AMASYA', 'kütahya', 'Kiraz/İzmir', 'Karabük', 'Elazığ',\n",
       "       'Çanakklale', 'BODRUM/MUĞLA', 'ERZİNCAN', 'Van', 'Mardin',\n",
       "       'BATMAN', 'Turgutlu', 'İnegöl', 'uşak', 'Yalova', 'Kastamonu',\n",
       "       'K.maraş', 'Çankırı', 'Bayburt', 'Kilis', 'Edirne', 'Afyon',\n",
       "       'Amasya', 'Giresun', 'Uşak', '------', 'Gümüşhane', 'Şırnak',\n",
       "       'Siirt', 'Adıyaman', 'Burdur', 'Sinop', 'Ağrı', nan, 'Sanliurfa',\n",
       "       'Diyarbakir', 'Diger', 'Aydin', 'Adiyaman', 'Kirikkale',\n",
       "       'Eskisehir', 'Tekirdag', 'Bitlis', 'Tunceli', 'Sirnak', 'Çankiri',\n",
       "       'Kahramanmaras', 'Usak', 'Ardahan', 'Hakkâri', 'Nigde', 'Agri',\n",
       "       'Mus', 'Kirsehir', 'Igdir', 'Karaman', 'Gümüshane', 'Bartin',\n",
       "       'Muş', 'Diğer', 'Iğdır', 'adıyaman', 'ADANA', 'siirt', 'Nevsehir',\n",
       "       'Ankara/Polatlı', 'akhisar', 'Iskenderun', 'Tekirdağ/Çorlu',\n",
       "       'edirne', ':Ankara', 'istanbul-üsküdar', 'ÇORUM', 'İstanbuk',\n",
       "       'Çorlu/ TEKİRDAĞ', 'İZMİR/FOÇA, KARABÜK/SAFRANBOLU',\n",
       "       'Amasya Merzifon', 'mustafakemalpaşa', 'Sakarya /Sapanca',\n",
       "       'DENİZLİ', 'BOLU', 'Kasyeri', 'LEFKOŞA', 'istanbul büyükçekmece',\n",
       "       'tarsus', 'Tekirdağ,İstanbul', 'Beylikdüzü', 'KIRIKKALE', 'adana',\n",
       "       'izmit/karamürsel', 'HAKKARİ', 'RİZE', 'Konya / Ereğli', 'KARAMAN',\n",
       "       'BEYPAZARI', 'yılmaz', 'Kahramanmraş', 'bursa/gemlik',\n",
       "       'Konya/Çumra', 'ıstanbul', 'BALIKESİR - EDREMİT',\n",
       "       'İstanbul maltepe', 'konya ~ ılgın', 'diyarbakır', 'AFYON',\n",
       "       'antakya', 'Turhal/TOKAT', 'giresun', 'batman',\n",
       "       'Şanlıurfa/Karaköprü', 'kocaeli izmit', 'midyat', 'Sarıyer',\n",
       "       'Yenişehir/Bursa', 'ADIYAMAN', 'İstanbul/Güngören',\n",
       "       'ALAPLI/ZONGULDAK', 'KAHTA', 'YOZGAT', 'mersın', 'K.Maraş',\n",
       "       'SAMSUN/BAFRA', 'artvin', 'İskenderun', 'GİRESUN', 'Aydın/Nazilli',\n",
       "       'Akhisar/Manisa', 'UŞAK', 'ALİAĞA / İZMİR', 'MERSİN', 'MARDİN',\n",
       "       'Manisa Alaşehir', 'iskenderun', 'SİİRT', 'erzurum', 'VAN',\n",
       "       'Gönen / Balıkesir', 'çanakkale', 'Alanya / Antalya', 'OSMANİYE',\n",
       "       'KORKUTELİ/ANTALYA', 'KAHRAMANMARAS', 'KAHRAMANMARAŞ',\n",
       "       'antalya / gazipaşa', 'ORDU', 'Shkoder', 'ISPARTA', 'karaman',\n",
       "       'Antakya', 'UZUNKÖPRÜ/EDİRNE', 'Orhangazi/Bursa',\n",
       "       'şanlıyrfa-viranşehir', 'balıkesir', 'Shirvan', 'Şanlıurfa/Hilvan',\n",
       "       'ERZURUM', 'Gürün/SİVAS', 'MUĞLA', 'denizli', 'hatay', 'rize',\n",
       "       'balikesir', 'ızmır', 'Bağcılar/İstanbul', 'Siverek / Ş.Urfa',\n",
       "       'yozgat', 'nevşehir', 'menemen', 'corly', 'Osmangazi/BURSA',\n",
       "       'Antalya manavgat', 'ANTAKYA', 'Elbistan/Kahramanmaraş',\n",
       "       'KIRKLARELİ', 'ZİLE', 'manisa /akhisar', 'mersin/tarsus',\n",
       "       'GAZİPAŞA', 'Bozüyük / Bilecik', 'Manisa - Akhisar', 'kırklareli',\n",
       "       'Manisa - Salihli', 'Peshawar', 'Yerköy/Yozgat', 'bandırma',\n",
       "       'Edremit', 'Sancaktepe', 'asdasd', 'SİVAS', 'ARTVİN', 'Ünye',\n",
       "       'Nizip', 'DENIZLI', 'esme/uşak', 'ERMENEK/KARAMAN', 'osmaniye',\n",
       "       'ESKİŞEHİR', 'yahyalı', 'Zonguldak/Devrek', 'BİLECİK', 'Ceyhan',\n",
       "       'Muğla/Merkez', 'DİYARBAKIR', 'TOKAT', 'BUCAK / BURDUR', 'ordu',\n",
       "       'Antalya/Van', 'sivas -gemerek', 'ZONGULDAK', 'bitlis', 'ısparta',\n",
       "       'Dörtyol/Hatay', 'Orhangazi / Bursa', 'zonguldak', 'SİNOP',\n",
       "       'siverek', 'kutahya', 'ağrı patnos', 'ARDAHAN', 'Edirne/Uzunköprü',\n",
       "       'Kırıkhan', 'Doğubayazıt/AĞRI', 'Kırklareli/Babaeski', 'amasya',\n",
       "       'BURSA/İnegöl', 'ZONGULDAK/DEVREK', 'trabzon', 'Soma/Manisa',\n",
       "       'Giresun -Görele', 'Ateş', 'Turhal', 'tokat', 'Tarsus/Mersin',\n",
       "       'kilis', 'BİTLİS', 'Şanlıurfa/ceylanpınar', 'SOMA', 'KONYA/EREĞLİ',\n",
       "       'Aydın/Kuşadası', 'düzce', 'YALOVA', 'afyon', 'Çorlu/Tekirdağ',\n",
       "       'TEKİRDAĞ', 'bolu', 'GAZİANTEP', 'BALIKESİR-GÖNEN', 'Seydişehir',\n",
       "       'İsyanbul', 'tekirdağ/ saray', 'elazığ', 'izmir tire', 'BEYŞEHİR',\n",
       "       'Erciş', 'Silivri', 'KİLİS', 'TUNCELİ', 'Polatlı-Ankara',\n",
       "       'Merkez /Elazığ', 'yalova', 'BALIKESİR-BURHANİYE', 'AYDIN', 'muş',\n",
       "       'Karabuk', 'Edirne/Keşan', 'EDREMİT', 'Manisa-Soma', 'HATAY',\n",
       "       'silopi/şırnak', 'Bakırköy/İSTANBUL', 'KONYA / EREĞLİ',\n",
       "       'Akşehir/Konya', 'Bandırma/Balıkesir', 'ığdır',\n",
       "       'karamürsel/kocaeli', 'KARABÜK/YENİCE', 'Gönen', 'adıyaman/kahta',\n",
       "       'Lefkoşa/KKTC', 'niğde', 'kahramanmaras', 'şanliurfa', 'van',\n",
       "       'Saray/TEKİRDAĞ', 'NİĞDE', 'ELAZIĞ', 'Polatlı', 'TARSUS', 'narman',\n",
       "       'kahta', 'bartın', 'AĞRI', 'Bursa Mudanya', 'ıgdır', 'Diyarakır',\n",
       "       'Nazilli/Aydın', 'Antalya/Alanya', 'marmaris', 'Eskişeir',\n",
       "       'konya karapınar', 'balıkesir edremit', 'Antalya Alanya',\n",
       "       'Bursa / Orhangazi', 'ÇORLU', 'BafraSamsun', 'adana/ kozan',\n",
       "       'Antakya hatay', 'Bozüyük/Bilecik', 'IZMIR', 'Kastamony',\n",
       "       'söke/aydın', 'Gebze', 'Amasya - Suluova', 'UNYE',\n",
       "       'turgutlu/MANİSA', 'gebze', 'bandirma', 'Polatlı/ANKARA',\n",
       "       'İstanbul/ Beşiktaş', 'BİGA/ÇANAKKALE', 'luleburgaz', 'kirklareli',\n",
       "       'Isranbul', 'Söke, Aydın', 'Manavgat', 'Ankata',\n",
       "       'Sanliurfa/viransehir', 'KASTAMONU', 'Çeşme/İzmir', 'elazig',\n",
       "       'MUŞ', 'Ayvalık', 'KARABÜK', 'afyonkarahisar', 'BOYABAT/SİNOP',\n",
       "       'Maltepe', 'malatua', 'SAMSUN - Çarşamba', 'düzce/akçakoca',\n",
       "       'Lüleburgaz', 'çorlu-tekirdağ', 'Hatay/İskenderun', 'erzincan',\n",
       "       'LÜLEBURGAZ / KIRKLARELİ', 'bursa inegöl', 'Bergama/İZMİR',\n",
       "       'AKHİSAR/MANİSA', 'BARTIN', 'çerkezköy', 'ÇORUM/SUNGURLU',\n",
       "       'KOCAEİ', 'İstanbul/Şile', 'adıyaman Gölbaşı', 'YEŞİLKÖY',\n",
       "       'Samsun Bafra', 'iznik bursa', 'KOCAELi', 'Kocaeli/Darıca',\n",
       "       'GAZIANTEP', 'ŞANLIURFA', 'Salihli MANİSA', 'AKSARAY', 'ÇANAKKALE',\n",
       "       'Sandıklı', 'Görele', 'bursa - yıldırım', 'siverek /şanlıurfa',\n",
       "       'KIRŞEHİR', 'Ayvalık/Balıkesir', 'Karaman/Ermenek', 'bilecik',\n",
       "       'Kocaeli-Çayırova', 'KÜTAHYA/TAVŞANLI', 'manavgat', 'Rize/Ardeşen',\n",
       "       'AMASYA TAŞOVA', 'ünye', 'Aydın-Yalova', 'Hatay- Dörtyol',\n",
       "       'silopi', 'adiyaman', 'mardin nusaybin', 'ÇANKIRI', 'SİVAS/ GÜRÜN',\n",
       "       'Keşan / EDİRNE', 'samsun terme', 'sinop', 'BURDUR',\n",
       "       'kahramanmaraş', 'Trabzon/Of', 'Fethiye/Muğla',\n",
       "       'İstanbulKüçükçekmece', 'KURUCAŞİLE/BARTIN',\n",
       "       'Afşin / Kahramanmaraş', 'kinshasa', 'Keşan', 'çorlu/ tekirdağ',\n",
       "       'Marmaris', 'Fethiye', 'tire/izmir', 'İzmit/KOCAELİ',\n",
       "       'kdz.eregli / zonguldak', 'Boyabat', 'ÜSKÜDAR / İSTANBUL',\n",
       "       'eskisehir', 'Manavgat/Antalya', 'DÜZCE', 'Bakırköy',\n",
       "       'İSTANBUL TUZLA', 'Edirne / Keşan', 'ÜNYE/ORDU', 'ALANYA',\n",
       "       'Bergama /İzmir', 'ödemiş', 'Çorlu', 'istanbul-küçükçekmece',\n",
       "       'eskişehir', 'Turhal/Tokat', 'Ağrı/Patnos', 'cankiri', 'esenler',\n",
       "       'İzmir/Çeşme', 'Mustafakemalpaşa/Bursa', 'safranbolu',\n",
       "       'Yatağan/MUĞLA', 'BALIKESİR/GÖNEN', 'HATAY/KIRIKHAN',\n",
       "       'villefranche sur saone', 'BATMAN/MERKEZ', 'ümraniye', 'kastamonu',\n",
       "       'SEYDİKEMER / MUĞLA', 'Suşehri/ SİVAS', 'ödemiş/izmir',\n",
       "       'Lüleburgaz/Kırklareli', 'bigadiç', 'Sinop/boyabat', 'ş.urfa',\n",
       "       'Pasinler/Erzurum', 'bayburt', 'silivri', 'MANİSA /TURGUTLU',\n",
       "       'Akşehir, Konya', 'Konya /Ereğli', 'Bayrampaşa',\n",
       "       'Silvan/Diyarbakır', 'konya ereğli', 'beypazarı', 'IĞDIR',\n",
       "       'kumluca antlaya', 'Bozyazı', 'Kocaeli-Darıca', 'Tavşanlı',\n",
       "       'LÜLEBURGAZ', 'BORÇKA', 'PENDİK', 'turgutlu/manisa',\n",
       "       'Gebze/KOCAELİ', 'serik/antalya', 'Mersin/Tarsus', 'Akşehir',\n",
       "       'Darıca/Kocaeli', 'kuşadası/aydın', 'ŞANLIURFA/Viransehir',\n",
       "       'Balikesir/Susurluk', 'SARIGÖL/MANİSA', 'BURDUR/GÖLHİSAR',\n",
       "       'Azerbaycan / Baku', 'çubuk', 'kirsehir', 'Cerkezkoy',\n",
       "       'Birecik/ Şanlı Urfa', 'Bursa inegöl', 'hatay iskenderun',\n",
       "       'alanya/antalya', 'Amasya/Merzifon', 'denizli/tavas', 'YÜKSEKOVA',\n",
       "       'Kağıthane', 'HATAY KIRIKHAN', 'Aliaga', 'koyulhisar',\n",
       "       'İZMİR TİRE', 'Havsa/EDİRNE', 'Sorgun', 'ERZURUM/OLTU',\n",
       "       'BOZÜYÜK/BİLECİK', 'NAZİLLİ', 'Tire/ İzmir', 'mardin-kızıltepe',\n",
       "       'Cizre', 'Tokat / Erbaa', 'burdur', 'İzmir/Kemalpaşa/Ulucak',\n",
       "       'hatay-dörtyol', 'Hatay iskenderun', 'Hatay/Antakya',\n",
       "       'Bolu/göynük', 'TekirdağMuratlı', 'viranşehie', 'BESNİ', 'KARS',\n",
       "       'İstanbul/yeşilköy', 'KAYSERI', 'salihli/manisa', 'G.antep',\n",
       "       'SANLIURFA', 'Çanakkale/Biga', 'KAHMANMARAŞ /AFŞİN', 'ORD',\n",
       "       'boyabat', 'Mustafakemalpaşa/BURSA', 'Salihli', 'AKÇAKOCA',\n",
       "       'Tranzon', 'Trabzon /Of', 'Balıkesir/Susurluk', 'Bakıoğlu',\n",
       "       'Beylikduzu', 'Akdağmadeni', 'ANKARA-ÇANKAYA', 'ardahan',\n",
       "       'İzmit/ KOCAELİ', 'İnegöl/BURSA', 'Mersin-Sinop',\n",
       "       'Havran Balıkesir', 'Kdz. Ereğli/zonguldak', 'kırıkkale',\n",
       "       'gıresun', 'KARTEPE/KOCAELİ', 'corum', 'alaşehirmanisa',\n",
       "       'Muğla merkez', 'BilecikBozüyük', 'Hatay-Antakya', 'MErsin',\n",
       "       'gümüşhane', 'Burdur/Bucak', 'dıyarbakır', 'Ş.urfa',\n",
       "       'Tuzla/İstanbul', 'SEYDİŞEHİR', 'hakkari', 'GÜMÜŞHANE', 'Bakü',\n",
       "       'Patnos/Ağrı', 'OSMANİYE/TOPRAKKALE', 'turhal/tokat', 'Almanya',\n",
       "       'Karasu / sakarya', 'Kırşehir / Kaman', 'KASTAMONU/inebolu',\n",
       "       'Gümüşyaka', 'Bursa Gemlik', 'TARSUS/MERSİN', 'zile/tokat',\n",
       "       'Balıkesir/Ayvalık', 'İzmir/Kiraz', 'Mardin-Midyat', 'KUŞADASI',\n",
       "       'SİNOPBOYABAT', 'Suluova', 'Karamürsel/Kocaeli', 'Edirne Kesan',\n",
       "       'manisa/turgutlu', 'aantalya', 'kadirli', 'kars', 'KAyseri',\n",
       "       'Bucak-BURDUR', 'aydın/kuşadası', 'Tosya', 'silifke',\n",
       "       'Germncik/AYDIN', 'CEYHAN', 'Van - Elazığ', 'Gaziantep/Nizip',\n",
       "       'ŞEKİ', 'bornova', 'zonguldak ereğli', 'Gölcük/KOCAELİ',\n",
       "       'Konya /Seydişehir', 'kartal/ist.', 'ağrı', 'Türkiye',\n",
       "       'Çorlu / TEKİRDAĞ', 'inegöl', 'Balıkesir/Manyas',\n",
       "       'Erzurum /Pasinler', 'Silifke / Mersin', 'Duzce',\n",
       "       'istanbul kartal', 'Iğdır / İstanbul / İstanbul', 'Çine/AYDIN',\n",
       "       'İNEGÖL', 'Kocaeli/Gebze', 'Pertek/Tunceli', 'IZMIT',\n",
       "       'Maltepe / İstanbul', 'Söke/Aydın', 'Merkez/Kastamonu', 'gebe',\n",
       "       'tekirdag', 'Bafra/Samsun', 'Kutahya', 'fethiye', 'Nusaybin',\n",
       "       'ÜNYE / ORDU', 'Manisa/Alaşehir', 'Silivri/İSTANBUL',\n",
       "       'Maden/ Elazığ', 'Mut/MERSİN', 'POLATLI', 'istabul',\n",
       "       'Muratlı/Tekirdağ', 'eskisehir/sivrihisar', 'Manisa/Turgutlu',\n",
       "       'Silifke', 'mrsin', 'İskenderun / HATAY', 'İZMİT',\n",
       "       'çorlu/velimeşe', 'Zonguldak merkez', 'Afyon - Sandıklı', 'kemer',\n",
       "       'MERSIN', 'ANTAKYA HATAY', 'istanbu', 'ŞANLIURFA/ MERKEZ',\n",
       "       'çankırı', 'Adana/Ceyhan', 'mardin kızıltepe', 'amasya/suluova',\n",
       "       'suriye, lazkiye', 'gazipaşa/ANTALYA', 'Zakatala', 'van/muradiye',\n",
       "       'Sumgayıt', 'derik', 'KONYA-KARAPINAR', 'ÜSKÜDAR',\n",
       "       'İstanbul Zeytinburnu', 'ergani', 'SORGUN/YOZGAT', 'Menemen',\n",
       "       'ERBAA', 'yozgat /sorgun', 'Küçükçekmece-İst.', 'SAMSUN/Çarşamba',\n",
       "       'şırnak', 'usak', 'ereğli', 'Akhisar', 'bucak', 'CORUM',\n",
       "       'Uşak/Banaz', 'ADİYAMAN', 'hatay antakya', 'Burhaniye/Balıkesir',\n",
       "       'Silvan / DİYARBAKIR', 'gönen- balıkesir', 'BİLECİK-MERKEZ',\n",
       "       'Kocaeli İzmit', 'nizipgaziantep', 'Urun', 'Viranşehir',\n",
       "       'Keşan/Edirne', 'nusaybin', 'Aydın Söke', 'İstanbul/Esenyurt',\n",
       "       'Ankara, Balıkesir', 'diyarbakır çınar', 'Bingöl-Genç', 'BULUT',\n",
       "       'Çanakkale/Çan', 'ÖDEMİŞ', 'Darıca/kocaeli', 'Vakfıkebir',\n",
       "       'Samsun/bafra', 'ceyhan', 'Karabbük', 'Milas', 'İstanbul/Beyoğlu',\n",
       "       'Kütahya/Tavşanlı', 'canakkale', 'söke', 'İST',\n",
       "       'Edremit / Balıkesir', 'adana/kozan', 'İZMİR/BERGAMA',\n",
       "       'balikesir/edremit', 'ÜNYE', 'Artvin arhavi', 'erbaa',\n",
       "       'izmir/tire', 'Ağrı/Doğubeyazıt', 'Balıkesir/Bandırma',\n",
       "       'BURSA-YENİŞEHİR', 'OSMANIYE', 'KDZ Ereğli', 'izmit', 'kırşehir',\n",
       "       'ALANYA/ANTALYA', 'AYDIN/Nazilli', 'gebze/kocaeli', 'DIYARBAKIR',\n",
       "       'İZMİR ALİAĞA', 'Tosya/KASTAMONU', 'Samsun-Terme', 'Mut - Mersin',\n",
       "       'AĞRI/ PATNOS', 'İZMİR BERGAMA', 'Alaşehir', 'samsun-terme',\n",
       "       'ANKARA / POLATLI', 'Balıkesir - Savaştepe', 'AfyonKarahisar',\n",
       "       'EDİRNE', 'Dörtyol', 'İSTANBUL HEYBELİADA', 'ANKAR',\n",
       "       'HATAY3 YIL-OSMANIYE1', 'cizre / şırnak', 'BAFRA', 'BİNGÖL',\n",
       "       'Ş.URFA', 'MANİSA/SALİHLİ', 'Boyabat/Sinop', 'EREĞLİ', 'Siverek',\n",
       "       'Marmaris/Muğla', 'Afyon, izmir', 'Erenköy-İstanbul',\n",
       "       'Izmir bergama', 'Tursunzade'], dtype=object)"
      ]
     },
     "execution_count": 102,
     "metadata": {},
     "output_type": "execute_result"
    }
   ],
   "source": [
    "df_train['lise_sehir'].unique()"
   ]
  },
  {
   "cell_type": "code",
   "execution_count": 103,
   "id": "296c0aeb-7b7f-4903-a781-ab03dea9705a",
   "metadata": {},
   "outputs": [
    {
     "data": {
      "text/plain": [
       "1054"
      ]
     },
     "execution_count": 103,
     "metadata": {},
     "output_type": "execute_result"
    }
   ],
   "source": [
    "df_train['lise_sehir'].isnull().sum()"
   ]
  },
  {
   "cell_type": "code",
   "execution_count": 104,
   "id": "c91f4ce9-2093-445b-9fdc-6af2967f88df",
   "metadata": {},
   "outputs": [],
   "source": [
    "df_train[\"lise_sehir\"] = df_train[\"lise_sehir\"].apply(temizle_sehir)"
   ]
  },
  {
   "cell_type": "code",
   "execution_count": 105,
   "id": "0b7f7590-6b1e-4623-a9b9-ab145de07cc4",
   "metadata": {},
   "outputs": [],
   "source": [
    "df_train['lise_sehir'] = df_train['lise_sehir'].fillna('yok')"
   ]
  },
  {
   "cell_type": "code",
   "execution_count": 106,
   "id": "b25d1e6f-84cb-49d6-a7aa-8b1207a70d5f",
   "metadata": {},
   "outputs": [],
   "source": [
    "df_train['lise_sehir'] = le.fit_transform(df_train['lise_sehir'])"
   ]
  },
  {
   "cell_type": "markdown",
   "id": "8ef5718a-b92f-4eee-a0cf-b0b04bcf036d",
   "metadata": {},
   "source": [
    "### \"Lise Turu\" bölümü"
   ]
  },
  {
   "cell_type": "code",
   "execution_count": 107,
   "id": "40435f28-2a4a-4fed-b3b2-d0d803e6e343",
   "metadata": {},
   "outputs": [
    {
     "data": {
      "text/plain": [
       "array(['Anadolu lisesi', 'Meslek lisesi', 'Fen lisesi', 'Özel lisesi',\n",
       "       'Düz lise', 'İmam Hatip Lisesi', 'Meslek Lisesi', 'Fen Lisesi',\n",
       "       'Düz Lise', 'Anadolu Lisesi', 'Özel Lise', nan, 'Özel Lisesi',\n",
       "       'Diğer', 'Özel', 'Meslek', 'Devlet'], dtype=object)"
      ]
     },
     "execution_count": 107,
     "metadata": {},
     "output_type": "execute_result"
    }
   ],
   "source": [
    "df_train['lise_turu'].unique()"
   ]
  },
  {
   "cell_type": "code",
   "execution_count": 108,
   "id": "33e8cc77-a10c-4ead-8ab2-e70381392aad",
   "metadata": {},
   "outputs": [
    {
     "data": {
      "text/plain": [
       "847"
      ]
     },
     "execution_count": 108,
     "metadata": {},
     "output_type": "execute_result"
    }
   ],
   "source": [
    "df_train['lise_turu'].isnull().sum()"
   ]
  },
  {
   "cell_type": "code",
   "execution_count": 109,
   "id": "959cd3c4-abdf-4d97-8e3f-29307b0bb2a2",
   "metadata": {},
   "outputs": [],
   "source": [
    "df_train['lise_turu'] = df_train['lise_turu'].str.lower()\n",
    "df_train['lise_turu'] = df_train['lise_turu'].fillna('yok')"
   ]
  },
  {
   "cell_type": "code",
   "execution_count": 110,
   "id": "19987673-a524-47e5-a9e5-846c6191f8b1",
   "metadata": {},
   "outputs": [],
   "source": [
    "lise_turu_map = {'i̇mam hatip lisesi': 0, 'diğer': 0, 'devlet': 0,'düz lise': 0,\n",
    "                 'yok': 0, 'meslek lisesi':0,'meslek':0,'özel':1,\"özel lisesi\":1,\n",
    "                 \"özel lise\":1,'anadolu lisesi':0, 'fen lisesi':0}\n",
    "\n",
    "df_train['lise_turu'] = df_train['lise_turu'].map(lise_turu_map).astype(int)"
   ]
  },
  {
   "cell_type": "markdown",
   "id": "dab413f7-ffeb-4701-be9b-bfe15fd20329",
   "metadata": {},
   "source": [
    "### \"Lise Bolumu\" bölümü"
   ]
  },
  {
   "cell_type": "code",
   "execution_count": 111,
   "id": "becd25a8-89bd-4fbf-a634-0dee5bd929d5",
   "metadata": {
    "scrolled": true
   },
   "outputs": [
    {
     "data": {
      "text/plain": [
       "array(['MF', 'Elektirk', 'Sayısal', 'TM', 'EA', 'TS 1-2', 'Fen',\n",
       "       'Düz lise', 'sayısal', 'Elektrikli Ev Aletleri', 'EŞIT AĞIRLIK',\n",
       "       'TS', 'Eşit Ağırlık', 'Matematik - Fen', 'Fen matematik',\n",
       "       'Matematik Fen', 'Eşit ağırlık', 'türkçe ve matematik',\n",
       "       'KONAKLAMA VE SEYAHAT HİZMETLERİ', 'Esit Agirlik',\n",
       "       'Fen - Matematik', 'Türkçe - Matematik', 'esıt agırlık',\n",
       "       'Bilişim Teknolojileri', 'Tm', 'Fen-Matematik', 'Sayisal',\n",
       "       'Fen Bilimleri', 'türkçe-matematik', 'Sayisal MF',\n",
       "       'Türkçe-Matematik', 'tm', 'matematik-fen', 'yok',\n",
       "       '1 yıl TS , 2 yıl TM', 'Sözel', 'Matematik-Fen', 'esit agirlik',\n",
       "       'Turkce matematil', 'Mf', 'Sosyal bilimler', 'EŞİT AĞIRLIK',\n",
       "       'FEN-MATEMATİK', 'FEN BİLİMLERİ',\n",
       "       'Sayısal Matematik - Fen Bilimleri MF', 'Matematik/Fen', 'SAYISAL',\n",
       "       'eşit ağırlık', 'FM', 'eşit agırlık', 'sözel', 'Türkçe matematik',\n",
       "       'eşit ağirlik', 'Grafik Ve Fotoğraf', 'fen', 'türkçe matematik',\n",
       "       'TMSSosyal Bilimler Liselerine Özel ayrıca IBDP denilen International Baccalaureate Diploma Programme adında uluslararası ekstra bir diplomam daha var',\n",
       "       'SPOR', 'Türkçe Matematik', 'Halkla İlişkiler ve Organizasyon',\n",
       "       'mf', 'sayisal', '-', 'Yabancı Dİl', 'Fen bölümü', 'Ingilizce',\n",
       "       'Fen bilimleri', 'Fen Bölümü', 'Gemi Yapımı', 'Özel Fen Lisesi',\n",
       "       'Sayısal2 yıl - Eşit Ağırlık2yıl', 'fen bilimleri',\n",
       "       'ÇOCUK GELİŞİMİ', 'Eşit agırlık', 'inşaat teknolojileri',\n",
       "       'Okulum Sosyal Bilimler Lisesi ancak yazılmadığı için Fen Lisesini işaretledim zira Sosyal Bilimler Liseleri Fenl Lisesi Muadili okullardır. Alanım: Türkçe-Matematik/Sosyal Bilimler',\n",
       "       'imam hatip', 'bilgisayarlı muhasebe', 'Matematik ve enformatik',\n",
       "       'Matematik- Fen', 'Ulastirma Hizmetleri',\n",
       "       'Alan Bulunmayan Özel Lise', 'MFMatematik-Fen', 'fen Bilimleri',\n",
       "       'SÖZEL', 'felsefe',\n",
       "       'Fen - Matematik 10. Sınıf Eşit Ağırlık 11. ve 12. Sınıf',\n",
       "       'Fen ve Matematik', 'Eşitağırlık', 'Ortak', 'sosyal bilimler',\n",
       "       'Yabancı Dil', 'Anadolu', 'Dil', 'Sayısal MF',\n",
       "       'Düz lise bölüm yok', 'Mf Sayısal', 'muhasebe finansman',\n",
       "       'Fen Matematik', 'FEN', 'Türkçe- Matematik', 'Turkce-Matematık',\n",
       "       'Gemi yönetimi', 'MATEMATİK-FEN', 'Yiyecek İçecek Hizmetleri',\n",
       "       'Eşit Ağırlık-TM', 'Fizik-matematik', 'Gazetecilik', 'eşitağırlık',\n",
       "       'Matematik fen', 'matematik fen', 'sayiasal', 'Grafik ve Fotoğraf',\n",
       "       'Fen-Matematik Bölümü', 'Türkçe-matematik',\n",
       "       'International Baccalaureate', 'TÜRKÇE-MATEMATİK',\n",
       "       'Okul Öncesi Öğretmenliği', 'dil', 'elektrik- elektronik',\n",
       "       'teknik harita tapu kadastro', 'Metal Teknolojileri', 'muhasebe',\n",
       "       'Otomotiv', 'Fen bolumu', 'Sosyal Bilimler', 'yabanci dil',\n",
       "       'yazilim/donanim', 'SOSYAL BİLİMLER', 'Matematik-FenSayısal',\n",
       "       'mekatronik', 'TİCARET LİSESİ',\n",
       "       'Türkçe-Matematik ve Uluslararası Bakalorya', 'TUrkce Matematik',\n",
       "       'turkce matematik', 'Yabanci Dil', 'Dış Ticaret',\n",
       "       'eşit ağırlık tm', 'Uluslararası bakalorya programı',\n",
       "       'Bilgisayar rogramcılığı', 'FEN SAYISAL BİLİMLERİ ALANI',\n",
       "       'EŞİT AĞIRLIK TÜRKÇE-MATEMATİK ALANI', 'SOSYAL ALANI', nan,\n",
       "       'DİL ALANI', 'Diğer', 'fen ve matematik', 'FEN-MAT',\n",
       "       'Matematik-Fen Bölümü', 'Türkçe-Sosyal',\n",
       "       'Eşit Ağırlık-Türkçe Matematik', 'yabancı dil', 'BİLGİSAYAR',\n",
       "       'Bilişim Sistemleri', 'TM/', 'TM Türkçe-Matematik', 'ELEKTRİK',\n",
       "       'TM eşit ağırlık', 'fm', 'Bilgisayar programcılığı',\n",
       "       'Türkçe Mateatik', 'Eşit ağırlık TM', 'Muhasebe ve Finansman',\n",
       "       'Matematik Fen, Sayısal', 'Gemi Elektroniği ve Haberleşme',\n",
       "       'Bilgisayar Programcılığı/Web Tasarım', 'Grafik Tasarım',\n",
       "       'GİYİM ÜRETİM TEKSTİL TEKNOLOJİSİ', 'Kimya', 'Sosyal',\n",
       "       'türkçe-mat', 'Eşit AğırlıkTM', 'KONAKLAMA HİZMETLERİ',\n",
       "       'Fen BilimleriSayısal', 'Web tasarım ve programlama',\n",
       "       'TM-Eşit Ağırlık', 'Alansız', 'Elektrik-Elektronik',\n",
       "       'Bilişim Teknolojileri - Web Programcılığı', 'Esit agirlik',\n",
       "       'Yabanci dil', 'fen matematik', 'Muhasabe-Finansman',\n",
       "       'İnternet Programcılığı', 'TÜRKÇE MATEMATİK ALANI', 'Aşçılık',\n",
       "       'giyim üretim teknolojisi', 'MF-Sayısal', 'YABANCI DİL',\n",
       "       'Elektrik Elektronik', 'Gazetecilik / Sözel',\n",
       "       'Tekstil Teknolojisi', 'Îmâm hatip', 'Elektrik',\n",
       "       'yabancı dil ingilizce', 'Sayısal + Eşit Ağırlık',\n",
       "       'Bilgisayar Teknolojileri', 'TÜRKÇE MATEMATİK',\n",
       "       'Bilişim teknolojileri', 'fen lisesi',\n",
       "       'elektrik-elektronik /elektromekaanik taşıyıcılar',\n",
       "       'Matematik- Fen Bilimi', 'Bilgisayarlı Muhasebe', 'Matematik-fen',\n",
       "       'Bilişim Teknolojileri Temelleri', 'Bilgisayar', 'Sayısal fen',\n",
       "       'Bilişim Teknolojileri Alanı / Web Tasarım ve Programlama Dalı',\n",
       "       'Yabancı dil', 'MF ağırlık', 'Sayısal -MF',\n",
       "       'Elektronik/Habreleşme Teknolojisi', 'elektronik',\n",
       "       'Web Programcılığı', 'bilgisayar teknolojileri', 'sosyal bilgiler',\n",
       "       'yiyecek ve icecek hizmetleri-pastacilik', 'EA esit agırlık',\n",
       "       'Bilgisayar destekli makina ressamlığı', 'Sozel', 'ELEKTRONİK',\n",
       "       'ınsaat', 'BİLİŞİM TEKNOLOJİLERİ', 'EA/TM', 'bilgisayar',\n",
       "       'Bilgisayar ögretmenligi', 'Fen lisesi', 'Sayısal Bölümü',\n",
       "       'Bilgisayar Programcılığı', 'turkce ve matematık',\n",
       "       'Radyo ve Televizyon', 'veri tabanı programcılığı', 'Muhasebe',\n",
       "       'Yok', 'Matematik-Türkçe', 'esit agırlık', 'Elektrik- Elektronik',\n",
       "       'BİLGİSAYARLI MUHASEBE', 'Bölüm yok.', 'Yiyecek ve İçecek',\n",
       "       'Sayısak', 'ALAN YOK', 'elektirk elektronik', 'Mutfak',\n",
       "       'mesleki eğitim veren bölüm', 'Elektironik', 'sozel',\n",
       "       'elektrik elektronik', 'Web Programlama', 'MAKİNA',\n",
       "       'sayısal fen bölümü', 'MATEMATİK/FEN', 'Eşit Ağırlık Tm', 'Makina',\n",
       "       'Tütkçe-matematik', 'Ağ İşletmenliği', 'Elektrik ve elektronik',\n",
       "       'sayısalmf', 'Radyo-Televizyon', 'TÜRKÇE /MATEMATİK',\n",
       "       'Turkce Matematik', 'eşit agirlik',\n",
       "       'Elektrik - Elektronik Teknolojisi', 'fen bölümü',\n",
       "       'Trkçe-Matematik', 'BILISIM TEKNOLOJILERI', 'inşaat',\n",
       "       'DEPARTMENT OF ELECTRICAL ELECRONICS', 'WEB PROGRAMCILIĞI',\n",
       "       'ÇOCUK GELİŞİMİ VE EĞİTİMİ BÖLÜMÜ', 'sayısal -fen ağırlıklı',\n",
       "       'Turkce matematik', 'eşir ağırlık', 'Tapu ve Kadastro',\n",
       "       'bilişim teknolojileri', 'Elektrik-elektonik',\n",
       "       'elektrik tesisat ve pano', 'Bilgisayar Programlama', 'mat-fen',\n",
       "       'SOSYAL BİLİMLER ve EDEBİYAT',\n",
       "       'elektrik elektronik endustriyel bakım onarım',\n",
       "       'türkçe- matematik', 'turizm', 'kimya',\n",
       "       'BİLİŞİM TEKNOLOJİLERİ ALANI', 'SERVİS', 'yiyecek içecek- mutfak',\n",
       "       'Bilim İnsanı Yetiştirme', 'muhasebe ve finansman',\n",
       "       'otomotiv teknolojisi', 'Türkçe-Matemeatik', 'sosyal bilğiler',\n",
       "       'eşitagırlık', 'Matematik', 'Muhasebe Finansman',\n",
       "       'BİLGİSAYARLİ MUHASEBE', 'Tekstil',\n",
       "       'Matematik ve Fen Bilimleri Bölümü', 'Mat / Fen', 'Fen-matematik',\n",
       "       'SAYISAL ALAN', 'Bilişim teknolojileri web tasarım',\n",
       "       'Türkçe-Matematitj', 'BİLGİSAYARLI MAKİNE İMALATI',\n",
       "       'Veritabanı Programcılığı', 'Ağ işletmenliği', 'asdasd',\n",
       "       'bilisim teknoloji', 'matematik', 'KİMYA', 'anadolu lisesi',\n",
       "       'laboratuvar teknikerliği', 'Sosyal/Sozel', 'Sayısal bilimler',\n",
       "       'Konaklama ve Seyahat', 'dil bölümü',\n",
       "       'BİLGİSAYAR PROGRAMCILIĞI WEB TASARIMI', 'fen-matematik',\n",
       "       'Eşit Ağırlık TM', 'sözel bölüm', 'Konaklama Ve Seyahat',\n",
       "       'Turkce-Matematik', 'Bölüm yok',\n",
       "       'Bilişm Teknolojileri Alanı : Web Tasarımı ve Programlama',\n",
       "       'EŞİT AGIRLIK', 'Sosyal bilimlet', 'Makina Teknolojisi',\n",
       "       'EŞİTAĞIRLIK',\n",
       "       'MUHASEBE VE FİNANSMAN / DIŞ TİCARET OFİS HİZMETLERİ', 'SOSYAL',\n",
       "       'bilişim teknolojiler', 'sayısal-fen bilimleri',\n",
       "       'Bilgisayar Bölümü', 'Fen bilimleri sayısal',\n",
       "       'grafik tasarım ve fotografçılık', 'Okul birincisi',\n",
       "       'Elektirik Elektronik Teknolojisi', 'İngilizce Eğitim',\n",
       "       'FEN/FEN BİLİMLERİ', 'Bilgisayar Yazılım', 'düz',\n",
       "       'giyim uretim teknolojisi', 'T-M', 'müzik', '..', 'Torna -Tesviye',\n",
       "       'Matematik-FenBilimleri', 'YOK', 'Bilgisayar/Web programcılığı',\n",
       "       'Çocuk Gelişimi', 'Yabancı Dil ingilizce',\n",
       "       'Veri Tabanı Programcılığı', 'turkce - matematik', 'Dış Tİcaret',\n",
       "       'Grafik ve Fotoğrafçılık', 'matematik/fen',\n",
       "       'Elektrik - Elektronik', 'Anadolu Lisesi', 'turkce-matematik',\n",
       "       'GRAFİK TASARIM', 'kimya teknolojileri', 'Fen Bilimleri Sayısal',\n",
       "       'Bilişim Teknolojileri-Veri Tabanı Programcılığı', 'YDL',\n",
       "       'Soyal bilimler', 'bilişim', 'Makine', 'Maliye',\n",
       "       'ANADOLU LİSESİ ALMANCA', 'türçe matematik',\n",
       "       'Grafik Tasarım ve Fotoğrafçılık', 'EKONOMETRİ', 'Yabancı Dil ing',\n",
       "       'türkçe sosyal', 'Elektrik Elektronik Teknolojisi',\n",
       "       'Fen Bilimleri/Sayısal', 'Fen -Matematik', 'MESLEK - EŞİT AĞIRLIK',\n",
       "       'Bilişim Teknolojiler', 'Eşit Ağırlıl', 'çocuk gelişimi',\n",
       "       'İNŞAAT TEKNOLOJİSİ', 'TÜRKÇE-MATEMATİM',\n",
       "       'Bilişim Teknolojileri - Ağ İşletmenliği', 'web tasarim',\n",
       "       'Matematik-Fen sayısal', 'Hava', 'makine', 'DÜZ LİSE',\n",
       "       'Ulaştırma hizmetleri-lojistik', 'Fen bilimleri-sayısal',\n",
       "       'makina,cnc', 'Fen bililmleri',\n",
       "       'Endüstriyel Otomasyon Teknolojileri Mekatronik Dalı',\n",
       "       'Elektrik Elektronik Teknikerliği / Sayısal', 'Eşit ağırlık/Tm',\n",
       "       'SAYISAL BİLİMLER', 'Bilgisayarli Muhasebe',\n",
       "       'TÜRKÇE-MATEMATİK EŞİT AĞIRLIK', 'Fen- Matematik', 'lojistik',\n",
       "       'çocuk gelişimi ve eğitimi', 'anadolu öğretmen',\n",
       "       'Matematik-Fen SAYISAL', 'fen bilimmleri', 'ALAN:TÜRKÇE MATEMATİK',\n",
       "       'halkla iliskiler ve organizasyon hizmetleri', 'cocuk gelişimi',\n",
       "       'Bilişim Sistemleri/Web Tasarımı', 'mutfak', 'Bilgisayar Donanım',\n",
       "       'Arkeoloji', 'ea', 'turkce-matematık', 'cocuk gelisimi',\n",
       "       'ELEKTİRİK VE ELEKTRONİK BÖLÜMÜ', 'inşaat mühendisliği',\n",
       "       'Fen Ağırlıklı', 'sosyal Bilgiler',\n",
       "       'Doğalgaz be tesisat teknolojileri', 'Fen - Mat', 'TMEŞİT AĞIRLIK',\n",
       "       'Çocuk Gelişimi ve Eğitimi', 'BÜRO YÖNETİMİ VE SEKRETERLİK',\n",
       "       'Sayısal Bilimler', 'Anadolu teknik-İnşaat/ mimari yapı',\n",
       "       'Cocuk gelişimi ve eğitimi', 'FEN BİLİMLERİ ALANI', 'SOZEL',\n",
       "       'FEN BILIMLERI', 'Web tasarımı', 'ESİT AGIRLIK',\n",
       "       'Giyim üretim teknolojileri', 'Grafik ve fotoğrafçılık',\n",
       "       'SayısalMF',\n",
       "       'Çocuk Gelişimi ve Eğitimi / Erken Çocukluk Eğitimi Dalı',\n",
       "       'Çocuk gelişimi ve eğitimi', 'sosyal', 'hemşirelik', 'dış ticaret',\n",
       "       'Eşit Ağırlık/Almanca', 'Fen- matematik', 'esit ağırlık',\n",
       "       'çocuk geişimi', 'TÜRKÇE_MATEMATİK', 'Genel Kültür',\n",
       "       'WEB TASARIM VE PROGRAMLAMA', 'Matemetik Fen', 'İMAM HATİP LİSESİ',\n",
       "       'Eşit ağırlik', 'SAYISAL MF', 'Otomasyon Sistemleri',\n",
       "       'eşit ağarlık', 'Fen / Matematik', 'Uçak Bakım Teknisyenliği',\n",
       "       'ingilizce agirlikli', 'BİLGİSAYAR BÖLÜMÜ', 'Türkçe- Mathematik',\n",
       "       'Dil bölümü',\n",
       "       'BİLİŞİM TEKNOLOJİLERİ BÖLÜMÜ - VERİ TABANI PROGRAMCILIĞI',\n",
       "       'Otomatik Kumanda', 'Alan ayrımı yok',\n",
       "       'Endüstriyel Otomasyon Teknolojileri Endüstri Kontrol dalı',\n",
       "       'Otomasyon Teknolojileri', 'E-A', 'MF - Sayısal', 'CNC',\n",
       "       'Fen Bilimleri-Sayısal', 'Muhasebe Finansman- Dış Ticaret',\n",
       "       'FEN MATEMATİK', 'TM-EA', 'TÜRKÇE - MATEMATİK',\n",
       "       'Tesisat Teknoljileri', 'Eşit agirlik', 'makina teknolojisi',\n",
       "       'MF SAYISAL', 'Almanca', 'SPOR BÖLÜMÜ', 'Elektronik Haberleşme',\n",
       "       'Matemeatik', 'Eşit ağırşık', 'YİYECEK İÇECEK HİZMETLERİ',\n",
       "       'Eş,it Ağırlık', 'Türkçe - matematik', 'bilgisayarli muhasebe',\n",
       "       'eşit agarlık', '10. ve 11. sınıflar Fen, 12. sınıf Dil',\n",
       "       'YDA - TM', 'ESIT AĞIRLIK', 'grafık', 'TÜRKÇE-MATEMATIK',\n",
       "       'Türkçe Sosyal Bilimler', 'Resim', 'MatematikFen', 'fen bolumu',\n",
       "       'MODA TASARIMI', 'Türkçe - Matematik - Sosyal', 'Eşitağırlıl',\n",
       "       'Eşit AgirlikTürkce Matematik', 'eşit ağırlık TM',\n",
       "       'Sayılsa Fen bölümü', 'Eşit Ağırlak', 'turkçe matematik',\n",
       "       'Esit Agırlık', 'YABANCI DİLİNGİLİZCE',\n",
       "       'Elektrik-Elektronik Teknolojisi', 'yabancı dil agirlikli sayisal',\n",
       "       'TÜRKÇE-MATEMETİK', 'Fen Bilimi', 'MAKİNE TEKNOLOJİSİ',\n",
       "       'MATEMATİK-FEN SAYISAL', 'bilgisayar programcılığı',\n",
       "       'GİYİM ÜRETİM TEKNOLOJİSİ', 'turkçe-matematik', 'bölüm yok', 'T.M',\n",
       "       'ingilizce', 'Eşit Agirlik', 'eşit ağırluj', 'Türkçe- matematik',\n",
       "       'Matemetik- Fen', 'MAKİNA TEKNOLOJİSİ', 'HAZIR GİYİM',\n",
       "       'Türkçe -Matematik', 'yiyecek içecek hizmetleri', 'Alan:Sayısal',\n",
       "       'Bilişim Teknolojileri / Veritabanı Programcılığı', 'SÖZEL BÖLÜMÜ',\n",
       "       'Bilişim', 'Makine Teknolojileri', 'Uçak Bakım-Gövde Motor',\n",
       "       'Bilişim Teknolojileri/ Veri Tabanı Programcılığı',\n",
       "       'MATEMATİK-fEN', 'Muhasebe bölümü', 'littéraire',\n",
       "       'Matematik-Fen Bilimleri', 'Elekrik-Elektronik', 'Sayısal /MF',\n",
       "       'grafik ve fotoğrafçılık', 'Türkçe/Matematik', 'Fen/Fen Bilimleri',\n",
       "       'Bilgisayar / Yazılım', 'BİLGİSAYAR YAZILIM', 'yabancı dıl',\n",
       "       'ELEKTRİK-ELEKTRONİK TEKNOLOJİSİ ALANI / ELEKTRİK TESİSATÇILIĞI VE PANO MONTÖRLÜĞÜ DALI',\n",
       "       'Elektronik', 'Türkçe-Matematil', 'İngilizce', 'Eşit Ağırlık.',\n",
       "       'çocuk gelişimi veeğitimi', 'Muhasebe finansman',\n",
       "       'GRAFİK VE FOTOĞRAF',\n",
       "       'Bilişim Teknolojileri / Web tasarım ve programlama',\n",
       "       'Bilişim Teknolojileri Alanı- Veri Tabanı Programcılığı Dalı',\n",
       "       'bilişim teknolojileri-web tasarım ve programlama', 'Sayılsal',\n",
       "       'FEN BİLİMLERI', 'ts', 'eşit ağılık', 'FEN / FEN BİLİMLERİ',\n",
       "       'Bilgisayarlı Muhasebe ve Finansman', 'makine bolumu',\n",
       "       'Yabancı diil ingilizce', 'bilişim teknolojısı',\n",
       "       'OKUL ÖNCESİ VE EĞİTİMİ', 'SOSYAL BİLİMLERİ',\n",
       "       'Elektrik Elektronik - Endüstriyel Kontrol ve Arıza Analizi',\n",
       "       'TM EŞİT AĞIRLIK', 'BİLİŞİM TEKNOLOJİLERİ/Bilgisayar donanımı',\n",
       "       'PAZARLAMA', 'Alan Ayrımı.Olmayan Lise', 'EŞİT AĞIRLIK BÖLÜMÜ',\n",
       "       'ÖĞRETMEN LİSESİ', 'stg science et technique de la gestion',\n",
       "       'İnşaat Mühendisliği', 'Halkla İlişkiler', 'moda tasarımı',\n",
       "       'Plastik Teknolojisi', 'Anadolu/Türkçe-Matematik',\n",
       "       'Bilisim teknolojileri', 'MF - Fen Bilimleri', 'Matemaik-Fen',\n",
       "       'Esıt agırlık', 'eşit ağrlık', 'türkçe matemetik', 'Ea',\n",
       "       'Anadolu İmam Hatip', 'Makina mühendisliği', 'sigortacılık',\n",
       "       'Türkçe-Matemetik', 'Sayısal Mat Fen', 'Eşit Ağırlık -TM',\n",
       "       'Türkçe Sosyal', 'wep programcılığı', 'Yiyecek içecek hizmetleri',\n",
       "       'KONAKLAMA VE SEYAHAT', 'Teknik Bilgisayar', 'türkçe_matematik',\n",
       "       'fen bilimleri bölümü sayısal', 'Türkce Matematik',\n",
       "       'sayısal mat-fen', 'Bilişim teknolojileri/web tasarım',\n",
       "       'Büro Yönetimi ve Yönetici Asistanlığı', 'grafik tasarım',\n",
       "       'EŞİT AĞRLIK', 'sözle', 'elektirik elektronik',\n",
       "       'Otomasyon Teknolojileri Alanı/ Mekatronik Dalı',\n",
       "       'MUHASEBE VE FİNANSMAN', 'Gıda Teknolojisi', 'Eşit Ağıtlık',\n",
       "       'Yabancı Dil Ağırlıklı Fen', 'TMturkce matematik', 'TÜRKÇE-SOSYAL',\n",
       "       'MATEMATİK FEN', 'T.M.', 'Bilim İnsanı Yetiştirme Programı',\n",
       "       'Önbüro', 'elektronık haberlesme', 'DÜZ', 'Matematik -Türkçe',\n",
       "       'türkçe-matematik tm', 'matematik-türkçe', 'Eşit Agırlık',\n",
       "       'Türkçe-Matematik TM', 'Dil Bölümü', 'ÇOÇUK GELİŞİMİ',\n",
       "       'MUHASEBE FİNANSMAN', 'MF- Almanca', 'eşit ağırlıklı programlar',\n",
       "       'Alan Yok', 'yazılım ve bilişim teknolojileri',\n",
       "       'Muhasebe ve finansman', 'servis', '2010', 'TÜRKÇE - SOSYAL',\n",
       "       'Sosyaş Bilimler', 'Eşit Ağırlık - İngilizce',\n",
       "       'ELEKTRİK ELEKTRONİK', 'Mekatronik',\n",
       "       'Türkçe- Matematik Eşitağırlık', 'Eşit Ağırlık Türkçe-Matematik',\n",
       "       'lise', 'MATEMATİK', 'Harita Tapu Kadastro',\n",
       "       'ENdrüstriyel Bakım ve Onarım', 'Düz',\n",
       "       'Elektrik-Elektronik Bölümü', 'TÜRKÇE MATEMATİK EŞİT AGIRLIK',\n",
       "       'Elektrik Elektronik Teknolojisi Alanı',\n",
       "       'Bilgisayar programcılığı- veri tabanı programcılığı',\n",
       "       'EŞİT-AĞIRLIK', 'MUHASEBE VE FİNANSMAN/ DIŞ TİCARET',\n",
       "       'Bölüm Ayrımı Olmayanlar', 'ULASTIRMA HIZMETLERI',\n",
       "       'Sayısal sınıfı', 'ESIT AGIRLIK', 'DIŞ TİCARET', 'MUHASEBE',\n",
       "       'aşçılık', 'Bilisim Teknolojileri', 'mfmatematik-fen', 'TMS',\n",
       "       'Gıda teknolojisi', 'sayısal bilimler', 'Dış ticaret',\n",
       "       'Web Tasarımı', 'normal', 'Mat-Fen', 'eşit-ağırlık',\n",
       "       'öğretmen lisesi', 'Fm', 'ESİT AGRLIK', 'sayılsal', 'Sayısal/Fen',\n",
       "       'Özel', 'Söz', 'Yabancı Dil İngilizce', 'tesviye', 'Eşit Ağirlik',\n",
       "       'Eşit AĞIRLIK', 'öğretmen Lisesi', 'Bilgisayar programcılıgı',\n",
       "       'elektirik', 'ELEKTRİK-ELEKTRONİK', 'İMAM HATİP', 'eşit agıalık',\n",
       "       'elektrik-elektronik teknolojisi', 'DAL YOK', 'harita-kadastro',\n",
       "       'Türkçe-Matematik Bölümü', 'Sosyal Bilgiler', 'GENEL KÜLTÜR',\n",
       "       'Metal Teknolojisi', 'Matematik -Fen', 'Sayısal-MF',\n",
       "       'Bilişim sistemleri/veri tabanı',\n",
       "       'Ahsap teknolojisi / mobilya imalatı', 'Sasyısal', 'Servis',\n",
       "       'BİLİŞİM TEKNOLOJİLERİ - VERİ TABANI', 'Pazarlama ve Perakende',\n",
       "       'Fen Bilimler', 'Yiyecek ve içecek', 'Sayısal / Eşit ağırlık',\n",
       "       'Web Tasarım', 'BilişimTeknolojileri', 'Eşit Ağarlık',\n",
       "       'Türkce matematik', 'Haberleşme TeknolojileriElektrik-Elektronik',\n",
       "       'Askeri Lise', 'Elektril-elektronik', 'Fen Lisesi',\n",
       "       'Web Tasarım ve Programlama', 'sosyal bilimler ve edebiyat',\n",
       "       'Turkce-matematik', 'bilgisayar/ web tasarımı', 'fen bilimi',\n",
       "       'Makina Teknolojisi/ CNC bölümü', 'FEN BÖLÜMLERİ', 'Alan yok',\n",
       "       'Yiyecek-İçecek İşletmeciliği', 'kimya teknolojisi',\n",
       "       'Teknik kimya', 'Yabancı dil Almanca', 'endustriel Otomasyon',\n",
       "       'Radyo,Tv,Sinema',\n",
       "       'Bilgisayar Teknolojileri ve Bilişim Sistemleri', '_',\n",
       "       'Bilgisayar Proğramcılığı', 'Elektrik elektronik', 'MF-SAYISAL',\n",
       "       'Spor', 'ELEKTİRİK-ELEKTRONİK/PANO MONTÖRLÜĞÜ İÇ TESİSAT', 't/s',\n",
       "       'Motor', 'Türkçe Matematik TM Bölümü', 'Matbaa', 'Sayısal Böl.',\n",
       "       'sayısal - eşit agırlık', 'Endüstriyel Bakım Onarım', 'elektrik',\n",
       "       'BİLİŞİM TEKNOLOJİLERİ - WEB TASARIM', 'Bölüm Yok',\n",
       "       'SOSYAL BİLİMLER VE EDEBİYAT BÖLÜMÜ', 'Fen mtematik',\n",
       "       'Eşit ağırlıkTM', 'Sayısal / MF', 'Otomotiv Teknolojisi',\n",
       "       'Endüstriyel Otomasyon Teknolojileri',\n",
       "       'Bölüm ayrımı bulunmamaktadır.',\n",
       "       'Bilim Insanı Yetistirme Programı', 'Fen Bolumu', '.',\n",
       "       'Yabancı Dil/İngilizce', 'tm_mf',\n",
       "       'ANADOLU LİSESİ-İNGİLİZCE/OKULU BİRİNCİ OLARAK BİTİRDİM',\n",
       "       'Grafik Tasarım ve fotoğraf', 'BİLGİSAYAR VERİ TABANI',\n",
       "       'Matematik- Fen Bilimleri MF', 'TÜRKÇE-MATEMETIK',\n",
       "       'Kontrol ve Enstrümantasyon Teknolojisi',\n",
       "       'grafık tasarım ve fotografcılık',\n",
       "       'bilisim teknolojileri web programcılığı', 'türkçe/matematik',\n",
       "       'spor', 'BILISIM TEKNOLOJİLERİ', 'Yiyecek içecek',\n",
       "       'bilgisayar bölümü', 'MATEMATİK-FEN BÖLÜMÜ', 'moda tasarrım',\n",
       "       'Yabancı Dil İngilizce,Fransızca, Almanca', 'bilimsel',\n",
       "       'Esit agırlık', 'Kimya Teknolojisi', 'edebiyat',\n",
       "       'endustriyel otomasyon', 'SAYILSAL',\n",
       "       'GİYİM ÜRETİM TEKNOLOJİSİ KADIN GİYİM MODELİSTLİĞİ',\n",
       "       'Bilişim Teknoljileri Web Programcılığı',\n",
       "       'Fen Bilimleri Bölümü Sayısal', 'eşit ağırlık/TM',\n",
       "       'Türkçe?Matematik', 'Turkce - Matematik', 'Yabancidil',\n",
       "       'iklimlendirme ve tesisat tenolojisi', 'düz imam hatip programı',\n",
       "       'Büro Yonetimi ve Yonetici Asistanligi', 'fen bilimler', 'SÖZ.',\n",
       "       'Tarih', 'Muhasebe-Finansman', 'radyoloji teknisyenliği',\n",
       "       'Mf mezuniyet notu:87', 'sayısal bölüm', 'MF sayısal', 'işletme',\n",
       "       'ALAN AYRIMI OLMAYANLAR', 'Radyo Tv ve Sinema', 'DİL', 'TS Sözel',\n",
       "       'M-F', '89.72', 'Matematik Fen Sayısal',\n",
       "       'BİLİŞİM TEKNOLOJİLERİ - VERİTABANI PROGRAMCILIĞI', 'mf ağırlıklı',\n",
       "       'Muhasebe ve Bilgisayarlı Muhasebe', 'yabancı dilinglizce',\n",
       "       'Türkçe Matmatik', 'radyoloji', 'Bilgisayar Programcılıgı',\n",
       "       'MATEMATİK FEN VE TÜRKÇE MATEMATİK', 'Muhasebe-Finans',\n",
       "       'YAPI RESSAMLIĞI', 'eşit ağıtlık tm', 'GIDA TEKNOLOJİSİ',\n",
       "       'TURKCE MATEMATİK', 'sayısal-fen',\n",
       "       'Grafik tasarım ve fotoğrafçılık', 'pazarlama ve perakende',\n",
       "       'fen bilimleri / sayısal', 'Tıp Sekreterliği', 'GRAFİK-FOTOĞRAF',\n",
       "       'Ön Büro', 'fensayısal', 'EŞİT AĞIRLIK TM',\n",
       "       'Elektronik-Haberleşme', 'Kontrol ve Enstrumantasyon Teknolojiler',\n",
       "       'Esitagirlik', 'elektrik /elektronik',\n",
       "       'BİLİŞİM TEKNOLOJİLERİ/WEB PROGRAMCILIĞI',\n",
       "       'bilişim teknolojileri bölümü', 'hazır gıyım',\n",
       "       'Bilgisayar - Yazılım', 'Sözel Bilimler', 'MAKİNE',\n",
       "       'Bilgisayar / web tasarım', 'Sosyal Bilimler ve Edebiyat',\n",
       "       'büro yönetimi', 'Bankacilik ve Sigortacilik',\n",
       "       'esit agirlik-turkce matematik', 'BİLGİSAYAR/WEB TASARIM',\n",
       "       'Halkla ilişkiler ve organizasyon', 'sö', 'sayısak',\n",
       "       'FEN BİLİMLERİSAYISAL', 'turizm ve otlecilik', 'Sosyal Bilimleri',\n",
       "       'Matematif - Fen Bilimleri', 'kalıp', 'TURKCE-MATEMATIK',\n",
       "       'Konaklama Seyahat', 'genel kültür',\n",
       "       'BİLİŞİM TEKNOLOJİLERİ / WEB TASARIM',\n",
       "       'iklimlendirme ve soğutma bölümü',\n",
       "       'ELEKTRİK-ELEKTRONİK TEKNOLOJİSİ', 'ELEKTRİK ELEKTRONİK BÖLÜMÜ',\n",
       "       'SAYISALMF', 'sosyal biimler', 'BİLGİSAYARLI MAKİNA İMALATI',\n",
       "       'Radyo/Televizyon Programcılığı', 'sayısal mf', 'matematik - fen',\n",
       "       'Sayısaş', 'Gıda Teknonojisi', 'Türkçe-matematık',\n",
       "       'Eşit AğıtlıkTM', 'Sözel Türkçe - Sosyal', 'Elektril-Elektronik',\n",
       "       'Fen - Sayısal', 'Kimya Teknolojileri', 'Makine Teknolojisi / CNC',\n",
       "       'Fen Bikimleri', 'Yabancı Dil Bölümü', 'esitagirlik',\n",
       "       'türkce matematik', 'Askeri', 'Fen Bililmleri',\n",
       "       'Metal teknolojileri', 'SayısalMat-Fen', 'otomasyon', 'imam',\n",
       "       'Elektrik-elektronik', 'tıp', 'Güverte yönetimi',\n",
       "       'MUHASEBE VE FİNANS', 'fen bilmleri', 'Giyim Üretim Teknolojisi'],\n",
       "      dtype=object)"
      ]
     },
     "execution_count": 111,
     "metadata": {},
     "output_type": "execute_result"
    }
   ],
   "source": [
    "df_train['lise_bolumu'].unique()"
   ]
  },
  {
   "cell_type": "code",
   "execution_count": 112,
   "id": "8aa384b1-46db-4a6f-8fde-3deb6b3ef541",
   "metadata": {},
   "outputs": [
    {
     "data": {
      "text/plain": [
       "1009"
      ]
     },
     "execution_count": 112,
     "metadata": {},
     "output_type": "execute_result"
    }
   ],
   "source": [
    "df_train['lise_bolumu'].isnull().sum()"
   ]
  },
  {
   "cell_type": "code",
   "execution_count": 113,
   "id": "195b6cb5-f3e9-4654-b2f7-654e878d8e65",
   "metadata": {},
   "outputs": [],
   "source": [
    "df_train['lise_bolumu'] = df_train['lise_bolumu'].str.lower().str.translate(turkish_characters)"
   ]
  },
  {
   "cell_type": "code",
   "execution_count": 114,
   "id": "a56ddd15-a412-4cdd-b78f-fc62c94c75b9",
   "metadata": {},
   "outputs": [],
   "source": [
    "df_train['lise_bolumu'] = df_train['lise_bolumu'].replace('[^a-z\\s]', '', regex=True)\n",
    "df_train['lise_bolumu'] = df_train['lise_bolumu'].fillna('yok')"
   ]
  },
  {
   "cell_type": "code",
   "execution_count": 115,
   "id": "8651e595-7824-440c-9aa1-7ebf6b9bb64b",
   "metadata": {},
   "outputs": [],
   "source": [
    "df_train['lise_bolumu'] = df_train['lise_bolumu'].str.replace('\\s+', ' ', regex=True).str.strip()"
   ]
  },
  {
   "cell_type": "code",
   "execution_count": 116,
   "id": "b8c11073-6bff-48ab-a625-4bba62be73dd",
   "metadata": {
    "scrolled": true
   },
   "outputs": [],
   "source": [
    "df_train['lise_bolumu'] = le.fit_transform(df_train['lise_bolumu'])"
   ]
  },
  {
   "cell_type": "markdown",
   "id": "57941dd8-3d89-4b56-88ad-8313e622e21c",
   "metadata": {},
   "source": [
    "### \"Lise Bolum Diger\" bölümü"
   ]
  },
  {
   "cell_type": "code",
   "execution_count": 117,
   "id": "c10749a3-526e-4226-949e-1b6bf126f0a7",
   "metadata": {
    "scrolled": true
   },
   "outputs": [
    {
     "data": {
      "text/plain": [
       "array([nan, '-', 'ÖZEL FEN LİSESİ',\n",
       "       'Sosyal Bilimleri Lisesi seçeneği koymadığınız için Fen Lisesi sekmesini işaretledim.',\n",
       "       'Grafik Ve Fotoğraf', 'Bilişim Teknolojileri', 'mezuniyet notu:80',\n",
       "       'Çocuk gelişimi ve eğitimi', 'yabancı dili:almanca', 'Ticaret',\n",
       "       'devlet lisesi', 'Bilgisayarlı Muhasebe bölümü',\n",
       "       'Güverte Yönetimi', 'Gazetecilik', 'Bakalorya programı',\n",
       "       'Eşit ağırlık devlet lisesi', 'Bilgisayarlı Muhasebe',\n",
       "       'Alman Bölümü', 'Muhasebe ve Finansman', 'ANADOLU ÖĞRETMEN LİSESİ',\n",
       "       'turizm ve otelcilik', 'dil bölümü', 'halkla ilişkiler',\n",
       "       'IB High level : Fizik Matematik', 'Pazarlama', 'MUHASEBE',\n",
       "       'İnşaat Teknolojisi', 'ACİL TIP TEKNİKERLİĞİ',\n",
       "       'Grafik Tasarım ve Fotoğrafçılık', 'elektrik ve elektronik',\n",
       "       'görüntü ve ses', 'Uluslararası Bakalorya Diploma Programı',\n",
       "       'ÇOCUK GELİŞİMİ',\n",
       "       'İlk üç sene sayısal (1 yıl International Baccalaureate), son yıl regular programda eşit ağırlık',\n",
       "       'Genel', 'Bilgisayar Programcılığı',\n",
       "       '3sene sayısal , son sene eşit ağırlık', 'Grafik ve Fotoğraf',\n",
       "       'Bilgisayar bölümü ', 'IB Programı', 'Meslek',\n",
       "       'Özel Fen lisesine okuduğum için dolaylı olarak bölümüm sayısaldı ancak resmiyette alanımız yoktu. ',\n",
       "       'Muzik', 'Alan dışı', 'Lojistik', 'Fen lisesi',\n",
       "       'Metal Teknolojileri', 'ACİL TIP TEKNİSYENİ', 'IB/Sayısal',\n",
       "       '1,2, ve 3. sınıflarda FM öğrencisiyken son sene TM bölümüne geçiş yaptım',\n",
       "       'Çocuk Gelişimi', 'Diş Teknisiyenliği', 'makine teknolojileri',\n",
       "       'Hemşirelik', 'Alan yok', 'Blişim Teknolojileri', 'bilimsel (FEN)',\n",
       "       'Bilişim Teknolojileri - Veri Tabanı Programcılığı',\n",
       "       'bilişim teknolojileri', 'IB', 'Veri tabanı programcılığı',\n",
       "       'Düz lise', 'Giyim üretim teknolojisi',\n",
       "       'elektrik-elektronik teknolojisi bölümü', 'muhasebe',\n",
       "       'Elektronik Haberleşme Sistemleri', 'HEMŞİRELİK',\n",
       "       'Pazarlama ve perakende', 'Cnc', 'Bilim', 'Uluslararası Bakalorya',\n",
       "       'Bilgisayar', 'inşaat', 'Duz', 'ILAHIYAT', 'Spor bölümü',\n",
       "       'Sadece ilk oturum', 'Acil Tıp Teknisyenliği', 'Meslek lisesi',\n",
       "       'Alan Seçimi Yok', 'Muhasebe', 'Çocuk gelişimi özel eğitim',\n",
       "       'Polis Akademisine öğrenci kaynağı yetiştiren Emniyet Genel Müdürlüğüne bağlı lise düzeyinde eğitim veren kurum',\n",
       "       'radyo televizyon ve sinema', 'resim', 'Sağlık bakım teknisyeni',\n",
       "       'Web programcılığı', 'Çocuk gelişimi',\n",
       "       'Grafik tasarım ve fotoğrafçılık', 'Bilişim teknolojileri',\n",
       "       'Bilişim Teknolojileri Bölümü', 'Muhasebe ve finansman',\n",
       "       'Bİlgisayarlı muhasebe', 'Web Tasarım ve Programlama',\n",
       "       'Çocuk gelisimi', 'sayisal ve sozel',\n",
       "       '3 yıl sayısal son yıl TM okudum.', 'Denizcilik', 'Bilişim',\n",
       "       '3 yıl sayısal son yıl eşit ağırlık bölümündeydim.',\n",
       "       'Web Programcılığı', 'Elektrik-Elektronik Teknolojisi',\n",
       "       'Yabancı Dil ağırlıklı sözel', 'İnşaat teknolojisi',\n",
       "       'Bilişim Sistemleri / Veritabanı Programcılığı (Sayısal)',\n",
       "       'giyim üretim teknolojisi', 'muhasebe finansman',\n",
       "       'Elektrik Elektronik', 'Bilgisayar teknikerligi',\n",
       "       'Acil Tıp Teknisyeni', 'Makine', 'Ağ İşletmenciliği', 'Güverte',\n",
       "       'Veri', 'ALAN YOK', 'Fen Lisesi', 'Eşit Ağrılık2012/13',\n",
       "       'GAZETECİLİK BÖLÜMÜ', 'Eşit Ağırlık Bölümü Okudum', 'Süper Lise',\n",
       "       'grafik ve fotoğraf', 'grafik tasarım ve fotoğrafçılık',\n",
       "       'muhasebe finans bölümü', 'büroyonetimi ve tıp sektreterliği',\n",
       "       'endüstriyel kontrol', 'yok.', 'hasta ve yaşlı hizmetleri',\n",
       "       'bilişim teknolojileri / veri tabanı programcılığı',\n",
       "       'Teknik Lise Web Program Programcılığı',\n",
       "       'Giyim Üretim Teknolojisi', 'Web tasarım ve programlama',\n",
       "       'İklimlendirme', 'Makina Ressamlığı', 'Elektrik-Elektronik',\n",
       "       'Dış Ticaret', 'Bilişim Teknolojileri / Veri Tabanı Programcılığı',\n",
       "       'Bar', 'Kolej',\n",
       "       'İlk 3 yıl sayısal son 1 yıl TM (okumak istediğim bölüme karar verdiğim için)',\n",
       "       'Web Tasarım', 'Elektrik Elektronik / Haberleşme', 'Bölüm Yok',\n",
       "       'Yapı Ressamlığı', 'Ulaştırma Hizmetleri (Lojistik)',\n",
       "       'ATT ACİL TIP TEKNİKERLİĞİ', 'Yiyecek ve içecek',\n",
       "       'Grafik Tasarım Ve Fotoğrafçılık', 'Makina Teknolojisi',\n",
       "       'Veri tabanı programcılğı', 'Uluslararası Bakalorya (IB)',\n",
       "       '3 yıl sayısal son yıl eşit ağırlık', 'DIŞ TİCARET',\n",
       "       'Muhasebe (dış ticaret)', 'GEMİ MAKİNA ZABİTLİĞİ',\n",
       "       'Elektrik ve elektronik pano montörlüğü',\n",
       "       'International Baccalaureatte',\n",
       "       'Lisemizde herhangi bir şekilde bölüm seçme durumu yoktu.',\n",
       "       'Ön Büro ve Konaklama İşletmeciliği', 'Web proglamlama',\n",
       "       'İstanbul', 'BİLGİSAYARLI MUHASEBE',\n",
       "       'AP Branş derleri ile seçmeli Amerikan sistemi. Tekil müfredat yok.',\n",
       "       'moda tasarım', 'Veritabanı Programcılığı', 'Grafik tasarımı',\n",
       "       'Meslek- Bilişim', 'Mekatronik',\n",
       "       'Bilişim teknolojileri / Web tasarım', 'Dış ticaret muhasebe',\n",
       "       'Sağlık Bakım Teknisyeni', 'açıköğretim', 'Gıda Teknolojisi',\n",
       "       'Sayısal', 'international baccalaureate',\n",
       "       'Grafik ve Fotoğrafçılık', 'Tüm Dersler+dil+mesleki dersler',\n",
       "       'yok', 'ts', 'Elektrik Elektronik bölümü', 'elektrik elektronik',\n",
       "       'Ulaştırma/Lojistik', 'Muhasebe Finansman', 'Yat kaptanlığı',\n",
       "       'Sosyal Bilimler', 'TMS ', 'Eloktronik',\n",
       "       '3 yıl sayısal 1 yıl eşit ağırlık', 'Bolum yok',\n",
       "       'Polis Koleji müfredatı eşit ağırlık ağrılıklı', 'Gemi Yönetimi',\n",
       "       'Lisede bölüm seçmiyorduk.', 'alan yok', 'ELEKTRİK', 'Alanı Yok',\n",
       "       'teknik kimya', 'Bilişim eknolojileri', 'Almanca',\n",
       "       'Sınava eşit ağırlıktan girdim.', 'Mutfak',\n",
       "       'Amerikadaki okulumda alan seçmek gibi bir zorunluluğum yoktu, o nedenle herhangi bir alandan mezun olarak bitirmedim.',\n",
       "       'Matematik Fen', 'BU BİLGİLER MEZUN OLDUĞUM LİSE BİLGİLERİDİR.',\n",
       "       'Aynı zamanda Fen öğrencisiydim.', 'meslek lisesi',\n",
       "       'Bilgisayar programcılığı / Web tasarım',\n",
       "       'BÜRO YÖNETİMİ VE SEKRETERLİK BÖLÜMÜ TIP SEKRETERLİĞİ ALANI', '86',\n",
       "       'Anadolu Öğretmen Lisesi', 'Spor',\n",
       "       'Radyo Televizyon Programcılığı',\n",
       "       'Bilişim/ Web Tasarım ve Programlama',\n",
       "       'Bilgisayarlı Muhasebe/Muhasebe ve Finans', '84',\n",
       "       'BİLİŞİM TEKNOLOJİLERİ', 'BİLİŞİM SİSTEMLERİ',\n",
       "       'Çocuk Gelişimi ve Eğitimi', 'Cocuk gelisimi ve eğitimi',\n",
       "       'Bilgisayar Teknolojileri', 'Saglik bilimleri bioloji kimya',\n",
       "       'Almanca dili', '79.25', 'Meslek bölümü', 'elektrik-elektronik',\n",
       "       'Adalet', 'sayısal',\n",
       "       'Askeri Liselerde Bölüm Sistemi Mevcut Olmayıp Bütün Dersler Görülmekteydi.',\n",
       "       'Elektrik Elektronik mezunuyum',\n",
       "       'Türkçe-Matematik-Sosyal Sadece SBLlerde uygulanan TMS bölümü',\n",
       "       'Öğretmen lisesi', 'International Bachelorate - SAT- AP',\n",
       "       'erken cocukluk', '.', 'Yok', 'International Baccalaureate',\n",
       "       'makina cnc', '3. sınıfta TMye geçtim',\n",
       "       'Elektrik Elektronik Teknolojisi', 'BİLGİSAYAR',\n",
       "       'İngilizce ağırlıklı sayısal', 'çocuk gelişimi',\n",
       "       'Makine Teknolojisi', 'Otomasyon sistemleri',\n",
       "       'Veri Tabanı Programcılığı', 'MUHASEBE VE FİNANSMAN',\n",
       "       'Yabancı Dille Eğitim Yapan Özel Lise', 'Front Office',\n",
       "       'GIDA TEKNOLOJİSİ', 'bilgisayar', 'Bilgisayar bölümü',\n",
       "       'Giyim üretim teknolojileri', 'Türkçe sosyal Sözel',\n",
       "       'Ulaştırma Hizmetleri/Lojistik', 'Bilişim Teknelojileri', 'makine',\n",
       "       'SOSYAL BİLİMLER LİSESİ', 'BilişimTeknolojileri alanı',\n",
       "       'ELEKTRİK-ELEKTRONİK TEKNOLOJİLERİ', 'sigortacılık',\n",
       "       'Halkla ilişkiler ve Organizasyon', 'KİMYA BÖLÜMÜ',\n",
       "       'Giyim Üretim Kadın Terziliği', 'moda Tasarım',\n",
       "       'Sosyal Bilimler Lisesi', 'okul birincisi olarak mezun oldum',\n",
       "       'Bilim İnsanı Yetiştirme Programı', 'Resim',\n",
       "       'Bilişim Teknolojileri/Veri tabanı programcılığı',\n",
       "       'Bilgisayarlı muhasebe ve fansman', 'Muhasebe-Finansman',\n",
       "       'Bilişim Alanı', 'büro yönetimi ve sekreterlik',\n",
       "       'Bilişim Teknolojileri Alanı', 'T-M',\n",
       "       'eklemek istediğim birşey yok', 'GAZETECİLİK/ SAYFA sEKRETERLİĞİ',\n",
       "       'muhasebe ve finans', 'gemi yapım alanı', 'veri tabanı',\n",
       "       'Web tasarımı', 'Konaklama ve Seyahat', 'Aşçılık',\n",
       "       'BİLİŞİM TEKNOLOJİLERİ ALANI/WEB TASARIM DALI',\n",
       "       'Makine Ressamlığı', 'sayısaldan geçiş', 'Fen Bilimleri',\n",
       "       'MİMARLIK BÖLÜMÜ', 'Elektrik-elektronik teknolojileri',\n",
       "       'CNCBilgisayar Sayımlı Yönetim', 'GEMİ YÖNETİMİ GÜVERTE', 'EA',\n",
       "       'Çocuk ve Gelişimi', 'bilişim', 'WEB TASARIM VE PROGRAMLAMA',\n",
       "       'Yabancı dil', 'bilgisayar proğramcılığı', 'kimya', 'sözel',\n",
       "       'MUHASEBE-FİNANSMAN', 'Bilgisayarlı muhasebe', 'Otomasyon',\n",
       "       'Science', '+Bilgisayar',\n",
       "       'MAKİNE TEKNOLOJİLERİ/BİLGİSAYARLI MAKİNE İMALATI', 'hemşirelik',\n",
       "       'ELEKTRİK ELEKTRONİK', 'teknoloji tasarım', 'alansız', 'sağlık',\n",
       "       'Otomasyon bölümü', 'Yiyecek İçecek Hizmetleri',\n",
       "       'Otomasyon Sistemleri', 'Muhasebe ve Finans', 'tekstil',\n",
       "       'ÇOCUK GELİŞİMİ VE EĞİTİMİ', 'Elektrik Elektronik .Teksnolojisi',\n",
       "       'ENDÜSTRİYEL OTOMASYON', 'İnşaat Teknolojileri', 'El sanatları',\n",
       "       'bilgisayarlı muhasebe', 'Grafik ve Fotoğraçılık', '79.73',\n",
       "       'Bilişim Teknolojileri-Web Tasarım', 'SBL', 'Bilgisayar donanım',\n",
       "       'Radyo ve Televizyon', 'Eşit ağırlık',\n",
       "       'BİLİŞİM TEKNOLOJİLERİ ALANI',\n",
       "       'Muhasebe / Dış ticaret ve finansman', 'Sosyal Bİlimler Lisesi',\n",
       "       'normal', 'çocuk gelişimi ve eğitimi Bölümü',\n",
       "       'Bilişim TeknolojileriVeri Tabanı Prog.',\n",
       "       'yiyecek içecek hizmetleri', 'OTOMOTİV',\n",
       "       'çocuk gelişim alanı özel eğitim bölümü',\n",
       "       'UÇAK BAKIM - UÇAK ELEKTRİK-ELEKTRONİĞİ',\n",
       "       'Bilgiaayar Programcılığı', 'Biyomedikal', 'bölüm ayrımı olmayan',\n",
       "       '0', 'Elektrik-Elektronik Teknolojileri', 'ÇOCUK GELİŞİMİ EĞİTİMİ',\n",
       "       'Grafik Tasarım', 'bilgisayar web programcılığı',\n",
       "       'Çocuk gelişimi bölümü', 'ELEKTRİK-ELEKTRONİK', 'müzik',\n",
       "       'Yiyecek ve İçecek/ Mutfak',\n",
       "       'Bilişim Teknolojileri/Web Programcılığı', 'Aşşçılık',\n",
       "       'Bilgisayarlı Muhasebe ve Finansman', 'eşit ağırlık',\n",
       "       'buro yonetimi ve sekreterlik', 'muhasebe bölümü', 'sözel bölüm',\n",
       "       'elektronik', 'Çocuk Gelişimi bölümü', '...', 'psikoloji',\n",
       "       'Spor Branşı/Atletizm', 'çocuk gelişimi ve eğitim alanı',\n",
       "       'dil alanı', 'İnşaat Teknolojileri/Yapı Ressamlığı',\n",
       "       'acil tıp teknisyeni',\n",
       "       'Elektrik Elektronik Bölümü/ Esndüstriye Bakım Onarım',\n",
       "       'Yiyecek İçecek Hizmetleri / Bar',\n",
       "       'Bilgisayar Programcılığı / Veri tabanı', 'resim bölümü',\n",
       "       'Elektronik', 'radyo-tvprogramcılığı', 'RESİM',\n",
       "       'MUHASEBE VE VERGİ UYGULAMALARI', 'FİNANS BORSA',\n",
       "       'Cocuk Gelisimi ve Egitimi', 'KİMYA TEKNOLOJİSİ/KİMYA LABORATUARI',\n",
       "       'yiyecek içecekmutfak',\n",
       "       'makine teknolojileri/bilgisayarlı makina imalatıCNC',\n",
       "       'Matemetil Sayısal', 'Sayisal', 'meslek sayısal',\n",
       "       'Muhasebe ve Finansman Bölümü', 'sosyal hizmetler',\n",
       "       'Tarım teknolojileri', 'gıda teknolojisi',\n",
       "       'grafik ve fotografçılık', 'elektrik elektronik haberlesme',\n",
       "       'grafik tasarım', 'anadolu lisesi',\n",
       "       'Eletrik Elektronik Teknolojisi- Endüstriyel Bakım Onarım dalı',\n",
       "       'WEB TASARIM', 'Anadolu Teknik', 'İbrahim Çalık', 'Elektrik',\n",
       "       'Makina-Sayısal', 'çocuk gelişimi ve eğitimi', 'Makina',\n",
       "       'YİYECEK İÇECEK HİZMETLERİ', 'FİNANSMANMUHASEBE', 'Alansız',\n",
       "       'Motorlu Araçlar Teknolojisi', 'RADYO TELEVİZYON', 'makina CNC',\n",
       "       'saç bakımı ve güzellik hizmetleri programı',\n",
       "       'Ayakkabı ve Saraciye Teknolojileri', 'Muhasebe Ve Finansman',\n",
       "       'acik ogretim lisesi', 'Sözel', 'ELEKTRONİK', 'Teknik Alan',\n",
       "       'bilişim teknolojisi', '74,18 100 lük sistemde',\n",
       "       'End Kalıp tasarım', 'BİLGİSAYAR PROGRAMCILIĞI', 'Gazeticilik',\n",
       "       'web tasarım', 'Hasta ve Yaşlı Bıkımı', 'wep tasarım bölümü', 'hs',\n",
       "       'eşitağırlık', 'Elektrik - Elektronik Teknolojisi',\n",
       "       'CNCComputer Numerık Kontrol', 'Veri Tabanı Programcılığı Bölümü',\n",
       "       'Fizik kimya biyoloji', 'Muhasebe Finans', 'Elektrik - Elektronik',\n",
       "       'Elektrik elektronik', 'Sözel /sosyal', 'sayısal matematik',\n",
       "       'alan yoktu', 'MAKİNE', 'dini ve sosyal', 'Elektrik Alanı',\n",
       "       'Bilgisayar Bölümü/Web Programcılığı', 'Makine Bölümü',\n",
       "       'Elektronik Teknolojisi', 'ELEKTRIK ELEKTRONIK TEKNOLOJILERI',\n",
       "       'sayısal bölüm olarak kabul edilmektedir elektrik böümü.',\n",
       "       'elektrik-elektronik teknolojisi', 'tm', 'Müzik Bölümü',\n",
       "       'web tasarım ve programlama', 'elektirik elektronik',\n",
       "       'bilisim teknolojileri', 'Elektrik ve Teknoloji',\n",
       "       'Web tasarım ve Programlama', 'soğutma ve iklimlendirme',\n",
       "       'bilgisayar programlama', 'Büro Yönetimi ve Yönetici Asistanlıgı',\n",
       "       'Sayısal Matematik-Fen', 'ahşap tekmolojisi', 'FEN',\n",
       "       'pazarlama perakende', 'makina ressamlığı', 'imam hatip',\n",
       "       'batman tutgut özal anadolu lisesi', 'Metal teknolojisi',\n",
       "       'BİLİŞİM TEKNOLOJİLERİ/Wep Programcılığı',\n",
       "       'elektrik elektronik teknolojisi', 'büro yönetimi',\n",
       "       'Bilişim Teknolojileri/Web Programcılıgı', 'anadolu teknik',\n",
       "       'elektrik-elektronik teknolojiler', 'Elektirik',\n",
       "       'Elektrik-elektronik',\n",
       "       'Bilişim Teknolojileri Veri Tabanı Programcılığı',\n",
       "       'Bİlişim sistemleri', 'makina teknolojisi', '78', 'bölüm yok',\n",
       "       '..', 'Bilgisayarlı Makine İmalatiCNC', '12.sınıfta TM ye gectim',\n",
       "       'Mezuniyet notum 100 % 67', 'ELEKTRİK ELEKTRONİK TEKNOLOJİSİ',\n",
       "       'bilgisayar bölümü', '------', 'BİLİŞİM BÖLÜMÜ', 'otomotiv',\n",
       "       'muhasebe ve finansman bilgisayarlı muhasebe bölümü',\n",
       "       'Elektronik Haberleşme Teknolojisi',\n",
       "       'Elektrik Elektronik Teknolojileri', 'ENDÜSTRİYEL BAKIM VE ONARIM',\n",
       "       'bize ders vermediler sadece boş bi kağıt parayı düşünen insanlar böyle olur',\n",
       "       'BİLİŞİM TEKNOLOJİLERİ / WEB PROGRAMCILIĞI',\n",
       "       'ELEKTRİK VE ELEKTRONİK TEKNOLOJİSİ', 'Bilgisayar Programlama',\n",
       "       '59,70 diploma puanı', 'Kimya', 'BİLGİSAYAR BÖLÜMÜ',\n",
       "       'bilişim teknolojileri bölümü',\n",
       "       'BİLİŞİM TEKNOLOJİLERİ VERİTABANI DALI', 'endusturu meslek lisesi',\n",
       "       'meslek', 'resim öğretmenliği', 'GENEL OLARAK SÖZEL.',\n",
       "       'Elektronik Haberleşme Tekn.', 'ELEKTRİK TEKNOLOJİSİ', 'MOTOR',\n",
       "       'Bilişim teknolojileri alanı', 'Bilişim Teknolojileri Bolumu',\n",
       "       'BİLGİSAYARLI MUASEBE', 'nuhasebe', 'Meslek Lisesi',\n",
       "       'anadolu öğretmen', 'Elektrik/Elektronik',\n",
       "       'ELEKTRONİK HABERLEŞME TEKNOLOJİSİ', 'metal teknoluji',\n",
       "       'Hayvan Sağlığı', 'Matbaa Teknolojisi Alanı',\n",
       "       'Muhasebe ve Vergi Uygulamaları', 'Elektrik elektronik bölümü',\n",
       "       'Bilisim Teknolojileri', 'İNŞAAT', 'genel kültür',\n",
       "       'Lisede bölüm farklılığı yoktu.', 'Askeri', 'Okul Öcesi Eğitimi',\n",
       "       'lojistik', 'bölüm yoktu karışık eğitim aldım', 'adalet',\n",
       "       'Web tasarım bölümü ', 'Yabancı dil + sayısal',\n",
       "       'Elektrik, elektronik ve Telekomünikasyon', 'Lojistik - Ulaştırma',\n",
       "       \"Eşit Ağırlık Sözel - TMS (SBL'lere özel)\", 'Bölüm yoktu',\n",
       "       'İnsaat Teknolojisi', 'Muhasebe ve finans ',\n",
       "       'Bilgisayarlı Muhasebe - Eşit Ağırlık', 'Spor ',\n",
       "       'bilgisayar/ veri tabanı programcılığı', 'Bigisayar Programlama',\n",
       "       'Muhasebe ', 'Turizm', 'Bilgisayar  bölümü', 'Hepsi',\n",
       "       'Gemi inşaatı', 'Cocuk gelişimi',\n",
       "       'metal kaynak celik kontruksiyon', 'Her sene birini okudum',\n",
       "       'Bölüm yok', 'Elektrik- Elektronik ', 'Bilişim Teknolojileri ',\n",
       "       \"Sağlık Meslek'de bölüm olmuyor\", 'Askeri Lise',\n",
       "       'Meslek Lisesi(Sayısal Bölüm)', 'Mobilya iç mekan tasarımj',\n",
       "       'IB International Baccalaureate',\n",
       "       'tesisat teknolojisi ve iklimlendirme', 'askeri lise',\n",
       "       'Muhasebe/Finansman', 'Makina Teknolojisi ', 'Dış ticaret',\n",
       "       'web tasarım programcılığı',\n",
       "       'Askeri Lise Olduğu İçin Bölüm Seçimi Yoktu',\n",
       "       'Grafik tasarim ve fotografcilik', 'Bilisim teknolojileri',\n",
       "       'Lisede IB(international Bachalorate) programindan mezun oldum ayrica sayisal bolumu derslerini de basari ile verdim',\n",
       "       'IT', 'AŞÇILIK', 'mobilya dekorasyon ', 'Konservatuvar',\n",
       "       'İlk üç yıl sayısal ve son yıl eşit ağırlık öğrencisi idim.',\n",
       "       'elektrik-elektornik', 'Elektrik- Elektronik', 'ÇOÇUK GELİŞİMİ',\n",
       "       'Mekanik', 'teknik lise', 'Uçak gövde motor', 'Hapisinden vardı ',\n",
       "       'Kontrol ve Otomasyon Teknolojileri',\n",
       "       'Büro Yönetimi ve Sekreterlik', 'Muhasebe finansman ',\n",
       "       'Alan dersleri C# Java', 'Elektro mekanik taşıyıcılar',\n",
       "       'muhasebe ve finansman', 'Meslek bilişim teknolojileri',\n",
       "       'Endüstriyel Otomasyon Teknolojileri', 'Veri tabanı Programcılığı',\n",
       "       'Peyzaj Planlama ve Tasarımı', 'Elektrik ve Elektronik',\n",
       "       'ELEKTRİK ELEKTRONİK/ ENDÜSTRİYEL BAKIM VE ONARIM',\n",
       "       '3 sene sayısal son sene eşit ağırlık okudum',\n",
       "       'Bilişim teknolojileri ', 'grafik', 'turizm otelcilik',\n",
       "       '3 sene sayısal son sene eşit ağırlık', 'Mekatronik/Otomasyon',\n",
       "       'fen', 'HEMŞİRE', 'imam hatip programı', 'Elektronik Güvenlik',\n",
       "       'Bilişim Teknolojileri / Web Programcılığı ve Tasarımı',\n",
       "       'Teknik bilgisayar', 'WEB PROGRAMCILIĞI', 'Askeri müfredat',\n",
       "       'edebi', 'Okul birincisi', 'Bilgisayar Bölümü', 'TM+sozel',\n",
       "       'Müzik', 'Laboratuvar Hizmetleri', 'Çocuk gelişimi ve özel egitim',\n",
       "       'Güzellik ve saç bakımı', 'X', 'Elektrik elektronik tekolojisi',\n",
       "       '11 yillik egtim', 'Anadolu Teknik Lisesi', 'spor',\n",
       "       'Büro Yönetimi ve Hukuk Sekreterliği', 'Mimari Yapı Ressamlığı',\n",
       "       'Makine (Bilgisayar Destekli Endüstriyel Modelleme)',\n",
       "       'Bilişim Teknolojileri Veritabanı Programcılığı',\n",
       "       'Gıda teknolojisi', 'Web Tasarımı',\n",
       "       'Bilgisayar destekli makina imalatı', 'diş protez',\n",
       "       'Otomativ Bölümü', 'Muhasebe/ Dış ticaret',\n",
       "       'elektronik ve haberleşme', 'Alanı yok',\n",
       "       'Elektrik-Elektronik Tesisat ve Pano monitörlüğü',\n",
       "       'Bilisim teknolojileri/ag isletmenligi', 'BÖLÜM YOK', 'Düz',\n",
       "       'Yabanci', 'Büro Yönetimi', 'gıda teknisyenliği',\n",
       "       'Çocuk Gelişimi ve eğitimi', 'Harita Tapu Kadastro (TEKNİK LİSE)',\n",
       "       'makina bakım onarım', 'Alan ayrımı olmayan',\n",
       "       'BİLİŞİM TEKNOLOJİLERİ/VERİ TABANI PROGRAMCILIĞI',\n",
       "       'ELEKTRİK ELEKTRONİK TEKNOLOJİSİ ALANI - ENDÜSTRİYEL BAKIM ONARIM BÖLÜMÜ',\n",
       "       'Endüstriyel Otomasyon', 'Borsa finans hizmetler',\n",
       "       'Elektrik elektronik bölümü anadolu teknik', 'Genel kültür',\n",
       "       'Tarım Teknolojileri Alanı/ Endüstriyel sebze ve meyve yetiştiriciliği dalı',\n",
       "       'Bilişim Teknolojileri/Veritabanı', 'ELEKTRİK-ELEKTRONİK BÖLÜMÜ',\n",
       "       'Büro yönetimi', 'Teknik Servis', 'Web Programlama',\n",
       "       'TM ve MF aynı anda', 'anestezi', 'Edebiyat vé dil',\n",
       "       'Bilişim/Web Programlama', 'güzellik ve saç bakımı',\n",
       "       'Bölüm ayrımı yok', 'Tesisat teknolojisi ve iklimlendirme',\n",
       "       'METAL TEKNOLOJİLERİ', 'Çocuk Gelişimi Ve Eğitimi',\n",
       "       'Çocuk gelişimi ve eğitimi /Erken Çocukluk', 'Radyo Televizyon',\n",
       "       'Biyoloji', 'Grafik Tasarımı', 'Science, 16.5/20',\n",
       "       'Elektrik elektronik haberlesme',\n",
       "       'bilgisayar destekli makine ressamlığı', 'yazılım',\n",
       "       'TESİSAT TEKNOLOJİSİ VE İKLİMLENDİRME', 'Bilgiseyar',\n",
       "       'Servis bölümü', 'Veri Tabanlı Programlama',\n",
       "       'Makine Teknolojileri', 'ENDÜSTRİYEL OTOMASYON TEKNOLOJİLERİ',\n",
       "       'İmam hatip lisesi', 'Diş Protez Teknisyenliği',\n",
       "       'MUHASEBE FİNANSMAN', 'elektrik pano montatörlüğü',\n",
       "       'Makine Teknolojileri-Bilgisayar Destekli Endüstriyel Modelleme',\n",
       "       'Çoçuk gelişi Bölümü', 'dış ticaret',\n",
       "       'teknik Lise elektrik Elektronik',\n",
       "       'Makine Teknolojisi Alanı (zorunlu sayısal)',\n",
       "       'Hasta ve yaşlı hizemetleri', 'Yiyecek İcecek Hizmetleri',\n",
       "       'Kimya Teknolojisi', 'Borsa Finans', 'Eşit ağırlıklı',\n",
       "       'deri giyim tasarım', 'Elektrik Tesisatları ve Pano Monitörlüğü',\n",
       "       'Alan Yok', 'Pazarlama Ve Perakendecilik', 'baccalaureate',\n",
       "       'Bilişim Teknolojiler Alanı', 'Cocuk gelisimi',\n",
       "       'Bilişim Teknolojileri - Web Tasarım', 'Görüntü ve Ses Sistemleri',\n",
       "       'MUHASEBE VE FİNANSMAN ALANI', 'ASKERİ LİSE',\n",
       "       'MUHASEBE VE FİNANMAN', 'Askeri lise', 'Turizm Meslek Lisesi',\n",
       "       'mutfak', 'İmam Hatip', 'düz lise', 'Özel eğitim',\n",
       "       'Bilişim ve Teknolojileri | Web Programcılığı',\n",
       "       'Türkçe - Matematik - Sosyal', 'Otomasyon teknolajileri',\n",
       "       'Plastik Teknolojisi / Kalıp', 'Web tasarim',\n",
       "       'mobilya ve dekerasyon', 'Muhasebe ve finasman',\n",
       "       'Grafik tasarım ve fotoraf', 'Ön büro',\n",
       "       'duz lise. bolum kaldirildi.', 'Sosyal Hizmetler',\n",
       "       'Muhasebe Ve Finansman Uygulamaları', 'Hasta ve yaşlı hizmetleri',\n",
       "       'Bilişim Teknolojileri-Programlama',\n",
       "       'Makine Teknolojileri | CNC DALI',\n",
       "       'mobilya ve iç mekan tasarımı alanı', 'Fen bilimleri',\n",
       "       'bilgisayar programcılığı',\n",
       "       'Uluslararası Bakalorya Programı ve MF bölümü çift diploma',\n",
       "       'Grafik tasarim', 'SANAT VE TASARIM',\n",
       "       'Bilgisayar Destekli Makine Ressamlığı',\n",
       "       'Bilişim Teknolojileri - Web Programcılığı',\n",
       "       'Giyim Üretim Teknolojileri', 'genel', 'Resim Bölümü',\n",
       "       'Bölüm olmayan', 'muhasebe ve finasman', 'Muhasebe- Dış Ticaret',\n",
       "       'Giyim üretim teknolojisi / kadın giysi modelistliği',\n",
       "       'güvenlik sistemleri', 'Sanat ve tasarım', 'elektrik',\n",
       "       'turizm lisesi', 'Çocuk gelişimi,TM',\n",
       "       'bilişim teknolojileri/web programcılığı', 'ağ işletmenliği',\n",
       "       'hasta ve yaşlı bakımı', 'Bilimsel', 'Ulaştırma Hizmetleri',\n",
       "       'Cnc Tezgahları ve Modelleme', 'BİYOMEDİKAL',\n",
       "       'YİYECEK VE İÇECEK BÖLÜMÜ', 'Alan-Dal Yok',\n",
       "       'Elektromekanik - Deniz Motorları', 'Ahşap', 'Tarım teknoloji',\n",
       "       'Kadın Giyim Modelistliği', 'Anestezi ve Reanimasyon',\n",
       "       'grafik tasarımı', 'Elektrik elektronik teknolojisi',\n",
       "       'makine / cnc', 'AÇIK ÖĞRETİM', 'Kimya Teknolijisi',\n",
       "       'Uçak Teknisyenliği (Gövde-Motor)',\n",
       "       'Anadolu İletişim Meslek Lisesi/Radyo Televizyon Programcılığı',\n",
       "       'Turizm ve Otelcilik/Konaklama ve Seyahat',\n",
       "       'Anestezi Ve Reanimasyon', 'Bilişim ve Teknolojileri',\n",
       "       'Kadın terziligi', 'askeri', 'Güzellik ve Saç Bakımı',\n",
       "       'Giyim üretimi', 'Açık öğretim', 'Web program', 'Genel Bilim Lise',\n",
       "       'Radyoloji teknisyeni', 'BİLİMSEL', 'Sağlık lisesi',\n",
       "       'Sağlık hizmetleri/ Sağlık bakım teknisyeniliği.',\n",
       "       'Uygulamalı Askeri Bilimler - Akademik Eğitim', 'IB programı',\n",
       "       'Hemşire yardımcılığı', 'Halkla ilişkiler ve organizasyon',\n",
       "       'Sağlık', 'Hemşire', 'açık lise', 'TEKNİK LİSE',\n",
       "       'Çocuk Gelişimi ve Eğitimi alanı/erken çocukluk dalı',\n",
       "       'ÖZEL EĞİTİM', 'Yiyecek içecek hizmetleri', 'Muhasebe bölümü',\n",
       "       'Bilişim ve teknoloji', 'Turizm, konaklama ve seyahat alanı',\n",
       "       'Elektronik Haberleşme', 'Uçak Elektrik-Elektroniği',\n",
       "       'Açıköğretim okuduğum için bölümüm yok', 'Bölümü yok/ Dalı yok',\n",
       "       'anestezi ve reanimasyon', 'Çocuk Gelişimi- Özel Eğitim', 'farklı',\n",
       "       'açık öğretim', 'International Baccalaureate: 27',\n",
       "       'Bilişim teklonojileri bölümü Veri tabanı dalı', 'Gemi Yapımı',\n",
       "       'Bilişim Teknolojileri - Ağ İşletmenliği',\n",
       "       'motorlu araçlar teknolojisi', 'güverte', 'American Curriculum',\n",
       "       'International Baccalaureate diploma programı', 'Eşit - Dil',\n",
       "       'Bilgisayarlı muhasebe ve finansman', 'Grafik ve fotoğrafçılık',\n",
       "       'Web tasarım', 'Grafik tasarım ve fotoğraf',\n",
       "       'Büro yönetimi yönetici asistanlığı',\n",
       "       'Meslek lisesi, Tekstil bölümü', 'Acil Tıp teknisyeni', 'Anestezi',\n",
       "       'Bilişim Teknolojileri - Veritabanı', 'hem saysal hem sözel',\n",
       "       'Hemșire yardimcisi', 'Güzel sanatlar lisesi- resim bölümü',\n",
       "       'Kimya teknolojisi', 'MUHASEBE-BİLGİSAYARLI MUHASEBE',\n",
       "       'Halkla ilişkiler ve organizyon bölümü', 'Amerikan lisesi',\n",
       "       'Yabancı Dil/Eşit Ağırlık',\n",
       "       'Endüstriyel Otomasyon teknolojileri ,mekatronik alt dali',\n",
       "       'Diğer', 'Laboratuvar Teknisyenliği',\n",
       "       'Bilisim Teknolojileri/Web programcılığı',\n",
       "       'Açık lise olduğu için bölümüm yoktu.', 'Spor bilimleri',\n",
       "       'Açıköğretim', 'Tesisat&İklimlendirme', 'Gemi Makineleri',\n",
       "       'Tıbbı sekreterlik', 'Çocuk gelişim',\n",
       "       'Askeri lise okudum diğerden kastınızı anlamadım.', 'CNC',\n",
       "       'Bilisim Teknolojileri veri tabani programciligi',\n",
       "       'SAĞLIK BAKIM TEKNİSYENLİĞİ', 'Endüstriyel bakım onarım',\n",
       "       'Biyomedikal Cihaz Teknolojileri', 'Bilgisayar Proğramcılığı',\n",
       "       'düz', 'Sağlık meslek lisesi', 'Grafik ve fotoğraf',\n",
       "       'Yiyecek içecek servisi', 'giyim üretim teknolojileri',\n",
       "       'Bilişim teknolojileri / Veri tabanı programcılığı',\n",
       "       'Erken çocuklu eğitimi ve çocuk gelişimi',\n",
       "       'Endüstriyel Otomasyon/ Mekatronik', 'Taknik',\n",
       "       'Sağlık Meslek Lisesi', 'Grafik tasarım', 'kimya bölümü',\n",
       "       'Elektrik- elektronik', 'Kimya bölümü',\n",
       "       'Bilişim Teknolojileri - Veri Tabanı', 'Denizcilik alanı',\n",
       "       'Elektrik elektronik ve pano', 'Müzik bölümü',\n",
       "       'Saglik Meslek Lisesi',\n",
       "       'Heybeliada Askeri Deniz Lisesi, 4 yıl okudum', 'Radyoloji',\n",
       "       'Elektrik ve elektronik bölümü pano monitörlüğü ve tesisatçılık dalı',\n",
       "       'Harita', 'ELEKTRIK ELEKTRONİK', 'İmam hatip',\n",
       "       'Grafikerlik ve fotoğrafçılık', 'Anestezi teknisyenliği',\n",
       "       'Yiyecek icecek hizmetleri'], dtype=object)"
      ]
     },
     "execution_count": 117,
     "metadata": {},
     "output_type": "execute_result"
    }
   ],
   "source": [
    "df_train['lise_bolum_diger'].unique()"
   ]
  },
  {
   "cell_type": "code",
   "execution_count": 118,
   "id": "cd7764b9-62e3-461c-abe3-0744b41c39ba",
   "metadata": {},
   "outputs": [
    {
     "data": {
      "text/plain": [
       "63599"
      ]
     },
     "execution_count": 118,
     "metadata": {},
     "output_type": "execute_result"
    }
   ],
   "source": [
    "df_train['lise_bolum_diger'].isnull().sum()"
   ]
  },
  {
   "cell_type": "code",
   "execution_count": 119,
   "id": "3c9ea5fe-8076-4237-b046-6908c2cdd22f",
   "metadata": {},
   "outputs": [],
   "source": [
    "df_train['lise_bolum_diger'] = df_train['lise_bolum_diger'].replace('[^a-z\\s]', '', regex=True)\n",
    "df_train['lise_bolum_diger'] = df_train['lise_bolum_diger'].fillna('yok')"
   ]
  },
  {
   "cell_type": "code",
   "execution_count": 120,
   "id": "e61fe9ed-8978-4ecf-a931-26d8c2b50b19",
   "metadata": {},
   "outputs": [],
   "source": [
    "df_train['lise_bolum_diger'] = df_train['lise_bolum_diger'].str.replace('\\s+', ' ', regex=True).str.strip()"
   ]
  },
  {
   "cell_type": "code",
   "execution_count": 121,
   "id": "73d9ae27-70fc-48e3-a3e2-5f17eb83d978",
   "metadata": {
    "scrolled": true
   },
   "outputs": [],
   "source": [
    "df_train['lise_bolum_diger'] = le.fit_transform(df_train['lise_bolum_diger'])"
   ]
  },
  {
   "cell_type": "markdown",
   "id": "4284a04a-c16e-4b58-b308-22cd77ac5a63",
   "metadata": {},
   "source": [
    "### \"Lise Mezuniyet Notu\" bölümü"
   ]
  },
  {
   "cell_type": "code",
   "execution_count": 122,
   "id": "07f98c64-fd42-4c90-93f7-5698a3e59a67",
   "metadata": {},
   "outputs": [
    {
     "data": {
      "text/plain": [
       "array(['3.50-3', '3.00 - 4.00', '3.00-2.50', '2.50 ve altı', '4.00-3.50',\n",
       "       '3.50-3.00', nan, '69-55', '100-85', '84-70', '54-45', '44-0',\n",
       "       '75 - 100', '50 - 75', 'Not ortalaması yok', '25 - 50', '0 - 25',\n",
       "       '50 - 74', '25 - 49', '0 - 24'], dtype=object)"
      ]
     },
     "execution_count": 122,
     "metadata": {},
     "output_type": "execute_result"
    }
   ],
   "source": [
    "df_train['lise_mez_notu'].unique()"
   ]
  },
  {
   "cell_type": "code",
   "execution_count": 123,
   "id": "8ab92859-56ca-48f4-9f15-18fc5f5879ef",
   "metadata": {},
   "outputs": [
    {
     "data": {
      "text/plain": [
       "5917"
      ]
     },
     "execution_count": 123,
     "metadata": {},
     "output_type": "execute_result"
    }
   ],
   "source": [
    "df_train['lise_mez_notu'].isnull().sum()"
   ]
  },
  {
   "cell_type": "code",
   "execution_count": 124,
   "id": "228a9dac-79aa-4827-be92-de36a24a84c1",
   "metadata": {},
   "outputs": [],
   "source": [
    "df_train['lise_mez_notu'] = df_train['lise_mez_notu'].fillna('yok')"
   ]
  },
  {
   "cell_type": "code",
   "execution_count": 125,
   "id": "4b3350a5-6100-4377-b289-b1af5df570b3",
   "metadata": {},
   "outputs": [],
   "source": [
    "# unknown_values = df_train[~df_train['lise_mez_notu'].isin(lise_not_mapping.keys())]['lise_mez_notu'].unique()\n",
    "\n",
    "# print(\"Haritaya uymayan değerler:\", unknown_values)\n",
    "\n",
    "lise_not_mapping = {\n",
    "    'Not ortalaması yok': 0,\n",
    "    'yok': 0,\n",
    "    '44-0': 0,\n",
    "    '0 - 25': 0,\n",
    "    '0 - 24': 0,\n",
    "    '25 - 50': 0,\n",
    "    '25 - 49': 0,\n",
    "    '2.50 ve altı': 0,\n",
    "    '54-45': 0,\n",
    "    '69-55': 1,\n",
    "    '3.00-2.50': 1,\n",
    "    '50 - 74': 1,\n",
    "    '50 - 75': 1,\n",
    "    '3.00 - 4.00': 1,\n",
    "    '3.50-3.00': 1,\n",
    "    '3.50-3': 1,\n",
    "    '84-70': 1,\n",
    "    '75 - 100': 2,\n",
    "    '100-85': 2,\n",
    "    '4.00-3.50': 2,\n",
    "}\n",
    "\n",
    "df_train['lise_mez_notu'] = df_train['lise_mez_notu'].map(lise_not_mapping).astype(int)"
   ]
  },
  {
   "cell_type": "markdown",
   "id": "62979467-d671-453f-9a9c-5b6e34e726a4",
   "metadata": {},
   "source": [
    "### \"Baska Bir Kurumdan Burs Aliyor mu?\" bölümü"
   ]
  },
  {
   "cell_type": "code",
   "execution_count": 126,
   "id": "b4b715f6-ce3e-4f4e-a465-dc5c407385a2",
   "metadata": {},
   "outputs": [
    {
     "data": {
      "text/plain": [
       "array(['Hayır', 'Evet', nan], dtype=object)"
      ]
     },
     "execution_count": 126,
     "metadata": {},
     "output_type": "execute_result"
    }
   ],
   "source": [
    "df_train['baska_burs_varmi'].unique()"
   ]
  },
  {
   "cell_type": "code",
   "execution_count": 127,
   "id": "1ac59405-6caf-4477-9e09-5cb6e364ec76",
   "metadata": {},
   "outputs": [
    {
     "data": {
      "text/plain": [
       "231"
      ]
     },
     "execution_count": 127,
     "metadata": {},
     "output_type": "execute_result"
    }
   ],
   "source": [
    "df_train['baska_burs_varmi'].isnull().sum()"
   ]
  },
  {
   "cell_type": "code",
   "execution_count": 128,
   "id": "ebf87ca7-e558-47f3-9234-785317ed3e69",
   "metadata": {},
   "outputs": [],
   "source": [
    "df_train['baska_burs_varmi'] = df_train['baska_burs_varmi'].str.lower()\n",
    "df_train['baska_burs_varmi'] = df_train['baska_burs_varmi'].fillna('hayır')"
   ]
  },
  {
   "cell_type": "code",
   "execution_count": 129,
   "id": "ad3b3aaa-f1c7-49dd-9766-07fb73e03919",
   "metadata": {},
   "outputs": [],
   "source": [
    "baska_burs_map = {'evet': 1, 'hayır': 0}\n",
    "\n",
    "df_train['baska_burs_varmi'] = df_train['baska_burs_varmi'].map(baska_burs_map).astype(int)"
   ]
  },
  {
   "cell_type": "markdown",
   "id": "663ed35f-e081-484f-a3b2-1dbcacf736ec",
   "metadata": {},
   "source": [
    "### \"Burs Aldigi Baska Kurum\" bölümü"
   ]
  },
  {
   "cell_type": "code",
   "execution_count": 130,
   "id": "377e89b6-ffff-4364-b2f9-40004a2ac9c2",
   "metadata": {},
   "outputs": [
    {
     "data": {
      "text/plain": [
       "array([nan, 'kyk', 'KYK', ..., 'KYK/BURSKOOP', 'Nuh Çimento Vakfı',\n",
       "       'KYK Yök bursu'], dtype=object)"
      ]
     },
     "execution_count": 130,
     "metadata": {},
     "output_type": "execute_result"
    }
   ],
   "source": [
    "df_train['burs_aldigi_kurum'].unique()"
   ]
  },
  {
   "cell_type": "code",
   "execution_count": 131,
   "id": "21deb9dc-7a88-4744-8985-ce738658acae",
   "metadata": {},
   "outputs": [
    {
     "data": {
      "text/plain": [
       "43977"
      ]
     },
     "execution_count": 131,
     "metadata": {},
     "output_type": "execute_result"
    }
   ],
   "source": [
    "df_train['burs_aldigi_kurum'].isnull().sum()"
   ]
  },
  {
   "cell_type": "code",
   "execution_count": 132,
   "id": "366637c6-36e0-49fe-b4e8-9f2402caab5a",
   "metadata": {},
   "outputs": [
    {
     "data": {
      "text/plain": [
       "burs_aldigi_kurum\n",
       "-                                         4711\n",
       "KYK                                       2969\n",
       "Kyk                                       2918\n",
       "kyk                                        758\n",
       "Kredi ve Yurtlar Kurumu                    624\n",
       "                                          ... \n",
       "Kale Holding,Çanakkale Ticaret borsası       1\n",
       "Akkim                                        1\n",
       "Say Vakfı                                    1\n",
       "KYK Geri odemeli kredi aliyorum              1\n",
       "KYK Yök bursu                                1\n",
       "Name: count, Length: 3959, dtype: int64"
      ]
     },
     "execution_count": 132,
     "metadata": {},
     "output_type": "execute_result"
    }
   ],
   "source": [
    "df_train['burs_aldigi_kurum'].value_counts()"
   ]
  },
  {
   "cell_type": "code",
   "execution_count": 133,
   "id": "2e2d8ae0-5a29-46ce-9382-8ae44429f6eb",
   "metadata": {},
   "outputs": [],
   "source": [
    "df_train['burs_aldigi_kurum'] = df_train['burs_aldigi_kurum'].str.lower().str.translate(turkish_characters)"
   ]
  },
  {
   "cell_type": "code",
   "execution_count": 134,
   "id": "4ebb4f21-f35b-4ffc-889a-3f5112e163c5",
   "metadata": {},
   "outputs": [],
   "source": [
    "df_train['burs_aldigi_kurum'] = df_train['burs_aldigi_kurum'].replace({'-': 'yok'})\n",
    "df_train['burs_aldigi_kurum'] = df_train['burs_aldigi_kurum'].fillna('yok')"
   ]
  },
  {
   "cell_type": "code",
   "execution_count": 135,
   "id": "978c7b03-0665-4053-b610-de33e8a846d7",
   "metadata": {},
   "outputs": [
    {
     "data": {
      "text/plain": [
       "burs_aldigi_kurum\n",
       "yok                               48717\n",
       "kyk                                6666\n",
       "kredi ve yurtlar kurumu             896\n",
       "kredi yurtlar kurumu                758\n",
       "kyk bursu                           526\n",
       "                                  ...  \n",
       "kyk kredi bursu                       1\n",
       "yuksekogretim kredi                   1\n",
       "ordu golkoy cetilliler dernegi        1\n",
       "biota vakfi                           1\n",
       "kyk yok bursu                         1\n",
       "Name: count, Length: 3255, dtype: int64"
      ]
     },
     "execution_count": 135,
     "metadata": {},
     "output_type": "execute_result"
    }
   ],
   "source": [
    "df_train['burs_aldigi_kurum'].value_counts()"
   ]
  },
  {
   "cell_type": "code",
   "execution_count": 136,
   "id": "10d25ae7-61eb-4ed9-9933-0c0d78487814",
   "metadata": {},
   "outputs": [],
   "source": [
    "df_train['burs_aldigi_kurum'] = le.fit_transform(df_train['burs_aldigi_kurum'])"
   ]
  },
  {
   "cell_type": "markdown",
   "id": "2e94e9a5-0a8d-4de9-996e-104fa18b97b1",
   "metadata": {},
   "source": [
    "### \"Baska Kurumdan Aldigi Burs Miktari\" bölümü"
   ]
  },
  {
   "cell_type": "code",
   "execution_count": 137,
   "id": "57fd63ae-c221-404e-8b97-41853bce4812",
   "metadata": {
    "scrolled": true
   },
   "outputs": [
    {
     "data": {
      "text/plain": [
       "array([nan, '300', '300 TL', '150 TL', '430tlyılda 10 ay', '400',\n",
       "       '250 TL',\n",
       "       'Toplamda 1000 lira fakat mezun oldugun icin devam etmiyor',\n",
       "       '850 TL', '500 TL', '300 tl', 'AYLIK 280 TL', '430', '1000 TL',\n",
       "       '900 TL', '300 LİRA', '365', '500TL, 300TL', '125 TL', '850',\n",
       "       '180', '260', '300 lira', '425 TL', 'aylık 100 tl',\n",
       "       '300 TL nakit + yemek + ulaşım', '300TL', '250', '900', '150',\n",
       "       '400 TL', '800', '300 tl aylık', '280', '400,00 TL', '200 TL',\n",
       "       '430 tl', '500 TL - 300 TL', '400 tl', '325 TL', '300 TL / Aylık',\n",
       "       '275 TLAYLIK', '10 ay süre ile aylık 600 TL', '500 tl ve 300 tl',\n",
       "       '500 tl', 'BİN TÜRK LİRASI', '475', '300,0 tl', '675 TL',\n",
       "       'kredi-300', 'Aylık 300 TL', '300-400', '750', '330 TL',\n",
       "       'aylık 330 tl', '490', '320 TL', '560 TL',\n",
       "       'Tam Burslu olduğum için yalnız eğitim ücreti ek burs almıyorum',\n",
       "       '500', '600 TL/Yurt Bursu/Kitap Bursu', '430TL', '350', '600',\n",
       "       '8 Ay Boyunca Aylık 720 TL', '330', '250 tl',\n",
       "       '350 TL - Türkiye Girişimcilik Vakfından burs kazandığım takdirde Çelik İhracatçıları Birliğindeki bursumdan vazgeçeceğim.',\n",
       "       '150 TL/Ay', '100 tl', '300TL nakit + yemek ve yurt bursu',\n",
       "       '10 ay süresince 600 TL cep harçlığı', '590',\n",
       "       'Aylık 490 TL - 9 ay boyunca', '1990', '475 TL', '560?', '600 TL',\n",
       "       '180 TL', '560 tl', '200',\n",
       "       'Nakit burslar 700TL, Nakde çevrilen yemek ve yol burslarıyla 1160',\n",
       "       '330 tl', 'Üstün başarı bursu - 750 TL', '250 Tl', '100 TL', '560',\n",
       "       '535', 'aylık 200 tl', '200 TL/ay', '700 TL', '1500',\n",
       "       '600 okul,200 LCW', '2000', '620', '175', '325', '570', '1200',\n",
       "       '1750', '610', '275', '520', '460', '515', '1100', '820', '815',\n",
       "       '450', '240', '470', '60', '670', '315', '480', '650', '1000',\n",
       "       '780', '920', '300 ₺', '425', '440', '670 Türk Lirası', '2000 TL',\n",
       "       '1275 TL', 'Toplamda 1000', '750 TL', '340', '425TL', '660 TL',\n",
       "       '425 tl', '780, 425', '380-425', '130', '1120TRY (aylık)',\n",
       "       'Nakit Destek Bursu (9 Ay süre ile 660 TL)', '650 TL', '670 tl',\n",
       "       '420', '375', '1275', 'Yıllık belirlenen kapsamlı burs kadar',\n",
       "       '350tl', 'Egitim aylari , her ay 250 TL', '514', '225',\n",
       "       '100% okul ve 50% yurt bursu', '420,geri ödemeli', '350 tl',\n",
       "       '175 TL', '650TL + 400 TL', '400, 425', '1075 toplam', '9*100',\n",
       "       '400TL', '1000.00 TL', '100', '220', 'Aylık 400 TL',\n",
       "       '420 Turk Lirasi', '150 tl', '425 Tl',\n",
       "       '2016-2017 yılı içinde aylık 400 Türk lirası', '400 tl / ay',\n",
       "       '424', '425 aylık', '435', 'Aylık 500 TL', '225 tl', '-',\n",
       "       '8 ay 1000 TL', '350-400', 'Toplam 640 TL', '610 TL', '400tl',\n",
       "       '3000 TL', '425tl', '120', '400 ₺', '1200 TL Milli Sporcu Bursu',\n",
       "       '430 TL', 'Almıyorum henuz', '250 TL/ay', '650 TL(Yemek Bursu)',\n",
       "       '440 TL', '650TL', 'Eğitim Bursu (%100)', '485 tl',\n",
       "       '3 ayda bir 600TL', '425 ₺', '600 + 400', '200TL/ay', '425 - 470',\n",
       "       '700', 'Aylık 650 TL', 'Ilk 1000 bursu', '2000 + 1275', '550',\n",
       "       '1080', '255', '2700', '320', '665', '290', '1250', '1300', '720',\n",
       "       '14500', '2200', '125', '0', '970', '2300', '525', '1600',\n",
       "       '500 ve üzeri', '300-500', 'Diğer', '300 t', '75', '423',\n",
       "       'Meslek Yüksekokulu okul 2.lik bursu- %75',\n",
       "       'ApplyBAU sistemi tarafından eğitim ücretimin %80',\n",
       "       'Çince Dil Bursu', 'Degisiyordu her sene', '200 ₺', '410',\n",
       "       '275 TL', '270', '300?', 'AYLIK 620 TL', '365 TL',\n",
       "       '300-Geri Ödemeli', '290 tl', '300 TL/Ay', '200 tl',\n",
       "       '300/aylık/sekiz ay', '170', '9 ay boyunca 475 TL', '140 TL',\n",
       "       '100 Tl', '580', '390', '124', 'Aylık 50 TL', '420 TL', '400.00',\n",
       "       'Darüşşafaka Lisesi: 375 KYK: 400', '415', '1200 TL',\n",
       "       '2500e / akademik yıl', '420 tl',\n",
       "       'Kurumdan, %50 başarı bursu almaktayım.', '385', '485', '25',\n",
       "       'yuzde 50 burs', '420 ₺', '300tl', '400 lira', '425 TL/ Aylık',\n",
       "       '5', '72', '140 tl', '300 Tl', '1000-900', 'Toplam 450', '75tl',\n",
       "       'Üçyüz lira', '550tl/ay', '300 ytl', '70', '175 tl',\n",
       "       'Yıllık 5000 TL', '300.00 TL', '340 tl',\n",
       "       'Nakit burs değil. Yurt ücretim ödeniyor.', '200-280',\n",
       "       'Aylık 300 tl', '600TL', '300TL/Aylık', '295', '360', '380',\n",
       "       '300 TL.', '100tl 10 Ay', '75 TL', '550 TL', '150TL',\n",
       "       'Yılda 9 Ay 400 TL', '150tl', '200TL', '250TL', '9 GÜN',\n",
       "       '1 ay basina 300?', '300 TLlik kredi alıyorum.', 'aylik 280 tl',\n",
       "       '900tl', '300 Türk Lirası', '120 tl', '325 aylik',\n",
       "       '7 AY BOYUNCA 450 TL', '400 TL9 Ay', 'Aylık 150 tl', '240 TL',\n",
       "       'Aylık 900 ?', '440,00TL', 'Yıllık 250tl', '9 ay boyunca 400 TL',\n",
       "       '130 tl', '100tl', '9 Ay olmak üzere ayda 400TL', '160 TL',\n",
       "       '600 TL/AY', '250/ay 1 yılda 9 ay', '40a0', '350 TL', '135 Tl',\n",
       "       '500 TL/aylık', '200. Geçen sene almıştım.', '200 TL/AY', '4 yıl',\n",
       "       '840 lira', '300 ?', '210', '370', '400TL 9ay', '220 tl',\n",
       "       '900 tl aylik', 'aylık 300', 'ayda 100 TL', '260 tl başarı bursu',\n",
       "       '375 TL',\n",
       "       'Bu program kapsamında aylık 200 lira burs alıyorum Ancak aldığım bursun tamamını iki ortak kurduğumuz girişimimizin giderlerine harcıyoruz, bu nedenle bursu kişisel olarak kullanmıyorum.',\n",
       "       '300TL 10 AY', '250 lira', '100 TLAy', '10 ay 200tl',\n",
       "       'AYLIK 330TL', 'Yurt bursum var', '500TL', '150Tl', 'Yurt Bursu',\n",
       "       '75 tl', '990', 'Aylık 200 TL', 'aylık 400 TL', '90 TL', '80',\n",
       "       '400 tl/ay', '185TL', '330tl', 'Aylık 150 TL', '365.00', 'Feb-50',\n",
       "       '140', 'İLK 100 BURSU', '137 tl', '200_250', '990 tl', '265 TL',\n",
       "       '100 TL sadece 9 ay süre ile ve önümüzdeki dönem devam etmeyecek',\n",
       "       '330TL', '100 tl kitap bursu', '530', '250+175 425', '210tl',\n",
       "       '115 TL', '100-150 TL', '160', '300 TL / Ay', '330 ?', '990 TL/ay',\n",
       "       '170 TL', 'İki ayda bir 650 lira civarında', '9 ay 375', '310 TL',\n",
       "       '220 TL', 'TOPLAM 200TL',\n",
       "       '325 tl fakat 2 ay içinde sonlanacaktır.Bu programa kabul edilirsem bursumu bırakabilirim.',\n",
       "       '120 TL', '200 Tl',\n",
       "       'Söz konusu burs 350 lira olarak Ekim 2014-Ekim 2015 tarihlerini kapsamaktadır.',\n",
       "       '775', '180 lira 1 yıllık', '150TL aylık', '100,00 tl',\n",
       "       '150 TL 8 ay', '250 l', '300 9 aylık', 'AYLIK 400 TL',\n",
       "       'Yurt ve Yemekhane Bursu', '180 tl', '330+100 tl', '80TL',\n",
       "       '330 ama yeterli değil.', 'Aylık 100 Türk Lirası',\n",
       "       '250 Türk Lirası', '250 - 200', '400tl 9ay', '50 tl ve 75 tl',\n",
       "       'Aylık 300tl', '110', '800 tl', '325,00 tl', '50 tl',\n",
       "       '900 TL - 950 TL', 'Yıllık 750 tl',\n",
       "       'Projeme Bahçeşehir üniversitesinin vermiş olduğu yüzde 35 lik bir burs bulunmaktadır bursum bir sonraki dönem aktif olacaktır',\n",
       "       '250 TL/1 ay', '90TL', '2 ayda bir 300 TL', '1.275×8. 2.125×6',\n",
       "       '990tl', '124TL', '210 TL', '330 Tl', '20010 aylık', 'aylık 330',\n",
       "       '125 tl', '350.00', '100 Türk Lirası', '124 TL', '250/2ay', '3675',\n",
       "       '135', '165', '1550', '115', '200tl',\n",
       "       'Yılda 2000 TL, 2017 eylülde bitiyor', '135 tl', '425-250',\n",
       "       '1200TL', '670 TL', '1275 TL (İlk 100 Bursu)',\n",
       "       '500 TL 10 ay olmak üzere', 'KYK 425 TEV 480',\n",
       "       '2016 Ekim ayında Türkiye', '400 geri ödemeli', '725', '425.00 TL',\n",
       "       '250 , 150', '350TL', 'ayda 470 tl', '350 120',\n",
       "       'Kyk 425ank vakfi 250', '425 + 500', '1.275 TL', '350/200',\n",
       "       '350-350', '426', 'Geri ödemeli kyk bursu',\n",
       "       '425 tl kredi geri ödemeli', '100 lira', '200.2',\n",
       "       \"650 Tl Koç Üniversitesinden, 400 TL KYK'dan\", 'Aylık 1275 TL',\n",
       "       'Aylık 425 Türk Lirası', 'Aylık 175 tl', '430 ₺', '480 TL',\n",
       "       '450TL', '425+150', '150 ₺', '425 Türk Lirası', '100 TRY',\n",
       "       '390 TL', 'Ayda 400', '300+', '425.175', '433', '250 TL, 200 TL',\n",
       "       '250 ₺', '450 TL', 'daha önceden bu kurumdan bir burs almadım',\n",
       "       '425,00 TL',\n",
       "       '250 Lira. Fakat burslar 2 aydır yatmıyor. Burssuz okuyorum demek istemedim çünkü burs alıyordum ama kesildi yalan atmak istemediğim için bunu bilginize sunma gereği hissettim',\n",
       "       'Kredi Yurtlar Kurumundan 420 TL', '1120', 'AYDA 400 LİRA',\n",
       "       '200.198', '245', '221', '255 lira 9 ay', '10 ay süreyle 200TL',\n",
       "       '425 lira', '255tl', '525 tl', 'ayda 425', '250+200=450', 'yok',\n",
       "       '97', 'kyk', '425 karşılıklı', '425Tl/Aylık', '540', '₺425',\n",
       "       '500tl', '.', 'Aylık 200', '400/Aylık', '400 civarı', '250tl',\n",
       "       'Spor ğençlik bakanlığı', 'Aylık 425', '410 TL',\n",
       "       'toplamda yaklaşık 900 lira', '4225', '215', '1500 TL',\n",
       "       '250 TL/ay (9 ay)', '1275tl', '230 Tl', 'burs almıyorum',\n",
       "       'her iki kurumunda 9 ay boyunca ödeme yapıyor ve toplamda iki kurum 1800 lira ödeme yapıyor.',\n",
       "       '400 TL / ay', '230 TL', '100 ₺', 'Kyk 425-Mümder 150 tl',\n",
       "       '375TL/9ay', '355', 'Aylık 100tl', '340 TL', '6 x 300 tl',\n",
       "       'senelik 1000 tl', '424 TL', 'Kyk', 'her sene belirlenen miktarı',\n",
       "       '95', 'Aylık 200 Türk Lirası', '1000 tl', 'aylık 150 tl',\n",
       "       'Aylık 425TL', '180tl', 'Ayda 100 tl',\n",
       "       '425, dokuz ay olmak üzere ayda 100 lira', '450 tl',\n",
       "       '375 TL/AY (9 Ay)', 'KYK 425 İtü mezunlar 250', '400, 400',\n",
       "       '70 TL', '400 ayda', '420 Tl', 'AYLIK 150 TL', '480 Türk lirası',\n",
       "       'Aylık 425 TL', 'AYLIK 425 TL', '425, 150, 250', '4200 TL yıllık',\n",
       "       '425.00', '160 TL + 480 TL', '2012', '425(-150)', 'Aylık 400',\n",
       "       'KYK 425 ve TOG 260 ( Fellow olmaya hak kazandığım takdirde burslarımdan çekileceğim)',\n",
       "       'Yurt bursu ve 115 tl', '1,275 ₺', '450 Tl', '425/200',\n",
       "       '400 ama 8 kardes oldugumuz icin yetmiyor', 'Yılda 6 kez 400 tl',\n",
       "       'TEV 480 tl ve kyk kredi 425 tl', '440 tl', '1275 + 350 TL',\n",
       "       '5000/yıl', 'Senede 1200 TL', '425 Türk lirası', '255 TL',\n",
       "       '425/Ay', 'Kyk bursu kadar', '1200 ilk 100 bursu', '150+100',\n",
       "       '1450', '790', '1410', '1850', '5000', '510', '2750', '505',\n",
       "       '2500', '230', '383', '630', '1000₺ ve üstü', '500₺ - 999₺',\n",
       "       '0 - 499₺'], dtype=object)"
      ]
     },
     "execution_count": 137,
     "metadata": {},
     "output_type": "execute_result"
    }
   ],
   "source": [
    "df_train['bk_burs_miktari'].unique()"
   ]
  },
  {
   "cell_type": "code",
   "execution_count": 138,
   "id": "8fdfb1a1-3cc3-4244-8d94-ce56cf4bd59f",
   "metadata": {},
   "outputs": [
    {
     "data": {
      "text/plain": [
       "44162"
      ]
     },
     "execution_count": 138,
     "metadata": {},
     "output_type": "execute_result"
    }
   ],
   "source": [
    "df_train['bk_burs_miktari'].isnull().sum()"
   ]
  },
  {
   "cell_type": "code",
   "execution_count": 139,
   "id": "20066fc2-7ef2-4a3d-a3b6-128a85575c9b",
   "metadata": {},
   "outputs": [],
   "source": [
    "df_train['bk_burs_miktari'] = df_train['bk_burs_miktari'].fillna('0')"
   ]
  },
  {
   "cell_type": "code",
   "execution_count": 140,
   "id": "a102d976-2ff2-44bb-a0b5-8f309fc5a634",
   "metadata": {},
   "outputs": [],
   "source": [
    "import re # burada re kütüphanesini dahil ediyoruz çünkü 'burs miktarı' yapısının içinden 'sayısal text'leri çekmemiz gerek\n",
    "# geri kalan her şey gereksiz çünkü. Çektikten sonra veriyi int veritipine dönüştürüp makine öğrenmesine uygun hale getiriyoruz.\n",
    "def extract_numbers(text):\n",
    "    if isinstance(text, str):\n",
    "        numbers = re.findall(r'\\d+', text)\n",
    "        return int(max(numbers, key=int)) if numbers else 0\n",
    "    return 0\n",
    "\n",
    "df_train['bk_burs_miktari'] = df_train['bk_burs_miktari'].apply(extract_numbers)"
   ]
  },
  {
   "cell_type": "markdown",
   "id": "f3cb3d7a-ae47-45f8-99ac-39901802e64e",
   "metadata": {},
   "source": [
    "### \"Anne Egitim Durumu\" bölümü"
   ]
  },
  {
   "cell_type": "code",
   "execution_count": 141,
   "id": "6ce8c3bd-c823-4027-9d76-563f90b851f6",
   "metadata": {},
   "outputs": [
    {
     "data": {
      "text/plain": [
       "array(['Üniversite', 'İlkokul Mezunu', 'Eğitim Yok', 'Lise',\n",
       "       'Ortaokul Mezunu', 'Yüksek Lisans / Doktora', 'Üniversite Mezunu',\n",
       "       'Lise Mezunu', 'Yüksek Lisans / Doktara', 'İLKOKUL MEZUNU', 'LİSE',\n",
       "       'EĞİTİM YOK', nan, 'ÜNİVERSİTE', 'ORTAOKUL MEZUNU', 'DOKTORA',\n",
       "       'YÜKSEK LİSANS', 'Ortaokul', 'İlkokul', 'Yüksek Lisans',\n",
       "       'Eğitimi yok', 'Doktora'], dtype=object)"
      ]
     },
     "execution_count": 141,
     "metadata": {},
     "output_type": "execute_result"
    }
   ],
   "source": [
    "df_train['a_egitim_durumu'].unique()"
   ]
  },
  {
   "cell_type": "code",
   "execution_count": 142,
   "id": "767fc26e-3edf-4ba9-82df-e4d4d6317429",
   "metadata": {},
   "outputs": [
    {
     "data": {
      "text/plain": [
       "406"
      ]
     },
     "execution_count": 142,
     "metadata": {},
     "output_type": "execute_result"
    }
   ],
   "source": [
    "df_train['a_egitim_durumu'].isnull().sum()"
   ]
  },
  {
   "cell_type": "code",
   "execution_count": 143,
   "id": "7a006437-0b5e-44e6-9d5d-d9834c190a3b",
   "metadata": {},
   "outputs": [],
   "source": [
    "df_train['a_egitim_durumu'] = df_train['a_egitim_durumu'].str.lower().replace('[,/-]', ' ', regex=True).str.strip()\n",
    "df_train['a_egitim_durumu'] = df_train['a_egitim_durumu'].fillna('eğitim yok')"
   ]
  },
  {
   "cell_type": "code",
   "execution_count": 144,
   "id": "8ebb0c73-d59c-4b2f-9120-b84070c0ed9a",
   "metadata": {},
   "outputs": [
    {
     "data": {
      "text/plain": [
       "array(['üniversite', 'i̇lkokul mezunu', 'eğitim yok', 'lise',\n",
       "       'ortaokul mezunu', 'yüksek lisans   doktora', 'üniversite mezunu',\n",
       "       'lise mezunu', 'yüksek lisans   doktara', 'li̇se', 'eği̇ti̇m yok',\n",
       "       'üni̇versi̇te', 'doktora', 'yüksek li̇sans', 'ortaokul',\n",
       "       'i̇lkokul', 'yüksek lisans', 'eğitimi yok'], dtype=object)"
      ]
     },
     "execution_count": 144,
     "metadata": {},
     "output_type": "execute_result"
    }
   ],
   "source": [
    "df_train['a_egitim_durumu'].unique()"
   ]
  },
  {
   "cell_type": "code",
   "execution_count": 145,
   "id": "bde38775-4aee-4001-aa78-4539f53d8824",
   "metadata": {},
   "outputs": [],
   "source": [
    "# unknown_values = df_train[~df_train['a_egitim_durumu'].isin(anne_egitim_mapping.keys())]['a_egitim_durumu'].unique()\n",
    "\n",
    "# print(\"Haritaya uymayan değerler:\", unknown_values) # bu yaptığım kısım map için hata aldığımızda nereyi eksik veya yanlış yazmışım onu görmek adına.\n",
    "\n",
    "anne_egitim_mapping = {'eğitim yok': 0,\n",
    "                      'eğitimi yok': 0,\n",
    "                      'eği̇ti̇m yok':0,\n",
    "                      'i̇lkokul': 1,\n",
    "                      'i̇lkokul mezunu':1,\n",
    "                      'ortaokul mezunu': 2,\n",
    "                      'ortaokul': 2,\n",
    "                      'lise mezunu': 3,\n",
    "                      'lise': 3,\n",
    "                      'li̇se': 3,\n",
    "                      'üniversite':4,\n",
    "                      'üniversite mezunu':4,\n",
    "                      'üni̇versi̇te': 4,\n",
    "                      'yüksek lisans   doktora':5,\n",
    "                      'yüksek lisans   doktara':5,\n",
    "                      'doktora':5,\n",
    "                      'yüksek li̇sans':5,\n",
    "                      'yüksek lisans':5}\n",
    "\n",
    "df_train['a_egitim_durumu'] = df_train['a_egitim_durumu'].map(anne_egitim_mapping).astype(int)"
   ]
  },
  {
   "cell_type": "markdown",
   "id": "8d3380b6-be58-4d9d-8ae9-f9db60056b18",
   "metadata": {},
   "source": [
    "### \"Anne Calisma Durumu\" bölümü"
   ]
  },
  {
   "cell_type": "code",
   "execution_count": 146,
   "id": "36b8e16a-a307-4f2e-843c-6546fa13e946",
   "metadata": {},
   "outputs": [
    {
     "data": {
      "text/plain": [
       "array(['Hayır', 'Evet', 'Emekli', nan], dtype=object)"
      ]
     },
     "execution_count": 146,
     "metadata": {},
     "output_type": "execute_result"
    }
   ],
   "source": [
    "df_train['a_calisma_durumu'].unique()"
   ]
  },
  {
   "cell_type": "code",
   "execution_count": 147,
   "id": "901ebde9-d28e-42be-aa81-56b7dbe1c388",
   "metadata": {},
   "outputs": [
    {
     "data": {
      "text/plain": [
       "11896"
      ]
     },
     "execution_count": 147,
     "metadata": {},
     "output_type": "execute_result"
    }
   ],
   "source": [
    "df_train['a_calisma_durumu'].isnull().sum()"
   ]
  },
  {
   "cell_type": "code",
   "execution_count": 148,
   "id": "da5fc6c2-7282-4306-8062-d136dddea762",
   "metadata": {},
   "outputs": [],
   "source": [
    "df_train['a_calisma_durumu'] = df_train['a_calisma_durumu'].str.lower()\n",
    "df_train['a_calisma_durumu'] = df_train['a_calisma_durumu'].fillna('hayır')"
   ]
  },
  {
   "cell_type": "code",
   "execution_count": 149,
   "id": "028336da-b5da-401b-bfac-36b346bfd5ac",
   "metadata": {},
   "outputs": [],
   "source": [
    "a_calisma_map = {'evet': 1, 'hayır': 0, 'emekli': 2}\n",
    "\n",
    "df_train['a_calisma_durumu'] = df_train['a_calisma_durumu'].map(a_calisma_map).astype(int)"
   ]
  },
  {
   "cell_type": "markdown",
   "id": "f562c358-0893-4200-941e-dd0b48ba3532",
   "metadata": {},
   "source": [
    "### \"Anne Sektor\" bölümü"
   ]
  },
  {
   "cell_type": "code",
   "execution_count": 150,
   "id": "fd25c5a5-b00f-4509-af46-8f326b6572e8",
   "metadata": {},
   "outputs": [
    {
     "data": {
      "text/plain": [
       "array(['0', 'Kamu', 'Özel Sektör', 'Diğer', nan, 'KAMU', 'ÖZEL SEKTÖR',\n",
       "       'DİĞER', '-'], dtype=object)"
      ]
     },
     "execution_count": 150,
     "metadata": {},
     "output_type": "execute_result"
    }
   ],
   "source": [
    "df_train['a_sektor'].unique()"
   ]
  },
  {
   "cell_type": "code",
   "execution_count": 151,
   "id": "506f5691-30c0-474b-ada6-d38ff97417b1",
   "metadata": {},
   "outputs": [
    {
     "data": {
      "text/plain": [
       "34537"
      ]
     },
     "execution_count": 151,
     "metadata": {},
     "output_type": "execute_result"
    }
   ],
   "source": [
    "df_train['a_sektor'].isnull().sum()"
   ]
  },
  {
   "cell_type": "code",
   "execution_count": 152,
   "id": "8739e3f6-ac1c-49bd-9640-a35cd58b727f",
   "metadata": {},
   "outputs": [],
   "source": [
    "df_train['a_sektor'] = df_train['a_sektor'].str.lower()\n",
    "df_train['a_sektor'] = df_train['a_sektor'].fillna('yok')"
   ]
  },
  {
   "cell_type": "code",
   "execution_count": 153,
   "id": "bdbba3c2-6c8a-4dae-8721-bbdecc2a7f22",
   "metadata": {},
   "outputs": [
    {
     "data": {
      "text/plain": [
       "array(['0', 'kamu', 'özel sektör', 'diğer', 'yok', 'di̇ğer', '-'],\n",
       "      dtype=object)"
      ]
     },
     "execution_count": 153,
     "metadata": {},
     "output_type": "execute_result"
    }
   ],
   "source": [
    "df_train['a_sektor'].unique()"
   ]
  },
  {
   "cell_type": "code",
   "execution_count": 154,
   "id": "d341fdc8-0f6c-40a4-a489-1d4721e24eec",
   "metadata": {},
   "outputs": [],
   "source": [
    "a_sektor_map = {'0': 0,\n",
    "               'yok': 0,\n",
    "               '-': 0,\n",
    "               'diğer': 1,\n",
    "               'di̇ğer': 1,\n",
    "               'kamu': 2,\n",
    "               'özel sektör': 3}\n",
    "\n",
    "df_train['a_sektor'] = df_train['a_sektor'].map(a_sektor_map).astype(int)"
   ]
  },
  {
   "cell_type": "markdown",
   "id": "79b2fce8-b06e-4254-b946-b73a9a8848df",
   "metadata": {},
   "source": [
    "### \"Baba Egitim Durumu\" bölümü"
   ]
  },
  {
   "cell_type": "code",
   "execution_count": 155,
   "id": "94a785a3-640b-41c7-bde3-3f41e158e00c",
   "metadata": {},
   "outputs": [
    {
     "data": {
      "text/plain": [
       "array(['Üniversite', 'Yüksek Lisans / Doktora', 'İlkokul Mezunu', nan,\n",
       "       'Ortaokul Mezunu', 'Lise', 'Eğitim Yok', '0', 'Üniversite Mezunu',\n",
       "       'Lise Mezunu', 'Yüksek Lisans / Doktara', 'İLKOKUL MEZUNU',\n",
       "       'ÜNİVERSİTE', 'EĞİTİM YOK', 'ORTAOKUL MEZUNU', 'LİSE',\n",
       "       'YÜKSEK LİSANS', 'DOKTORA', 'İlkokul', 'Ortaokul', 'Doktora',\n",
       "       'Yüksek Lisans', 'Eğitimi yok'], dtype=object)"
      ]
     },
     "execution_count": 155,
     "metadata": {},
     "output_type": "execute_result"
    }
   ],
   "source": [
    "df_train['b_egitim_durumu'].unique()"
   ]
  },
  {
   "cell_type": "code",
   "execution_count": 156,
   "id": "c05f16b4-5465-4084-90ba-7dd19211063d",
   "metadata": {},
   "outputs": [
    {
     "data": {
      "text/plain": [
       "1007"
      ]
     },
     "execution_count": 156,
     "metadata": {},
     "output_type": "execute_result"
    }
   ],
   "source": [
    "df_train['b_egitim_durumu'].isnull().sum()"
   ]
  },
  {
   "cell_type": "code",
   "execution_count": 157,
   "id": "fac29376-137d-49c0-a94f-ace58e0c01db",
   "metadata": {},
   "outputs": [],
   "source": [
    "df_train['b_egitim_durumu'] = df_train['b_egitim_durumu'].str.lower().replace('[,/-]', ' ', regex=True).str.strip()\n",
    "df_train['b_egitim_durumu'] = df_train['b_egitim_durumu'].fillna('eğitim yok')"
   ]
  },
  {
   "cell_type": "code",
   "execution_count": 158,
   "id": "26a92cb6-0a7e-4b25-b30b-b6636b38d31e",
   "metadata": {},
   "outputs": [
    {
     "data": {
      "text/plain": [
       "array(['üniversite', 'yüksek lisans   doktora', 'i̇lkokul mezunu',\n",
       "       'eğitim yok', 'ortaokul mezunu', 'lise', '0', 'üniversite mezunu',\n",
       "       'lise mezunu', 'yüksek lisans   doktara', 'üni̇versi̇te',\n",
       "       'eği̇ti̇m yok', 'li̇se', 'yüksek li̇sans', 'doktora', 'i̇lkokul',\n",
       "       'ortaokul', 'yüksek lisans', 'eğitimi yok'], dtype=object)"
      ]
     },
     "execution_count": 158,
     "metadata": {},
     "output_type": "execute_result"
    }
   ],
   "source": [
    "df_train['b_egitim_durumu'].unique()"
   ]
  },
  {
   "cell_type": "code",
   "execution_count": 159,
   "id": "fb5fbe23-0b4e-447c-bcf8-0af43f94f117",
   "metadata": {},
   "outputs": [],
   "source": [
    "# unknown_values = df_train[~df_train['a_egitim_durumu'].isin(anne_egitim_mapping.keys())]['a_egitim_durumu'].unique()\n",
    "\n",
    "# print(\"Haritaya uymayan değerler:\", unknown_values)\n",
    "\n",
    "b_egitim_map = {'eğitim yok': 0,\n",
    "                '0': 0,\n",
    "                      'eğitimi yok': 0,\n",
    "                      'eği̇ti̇m yok':0,\n",
    "                      'i̇lkokul': 1,\n",
    "                      'i̇lkokul mezunu':1,\n",
    "                      'ortaokul mezunu': 2,\n",
    "                      'ortaokul': 2,\n",
    "                      'lise mezunu': 3,\n",
    "                      'lise': 3,\n",
    "                      'li̇se': 3,\n",
    "                      'üniversite':4,\n",
    "                      'üniversite mezunu':4,\n",
    "                      'üni̇versi̇te': 4,\n",
    "                      'yüksek lisans   doktora':5,\n",
    "                      'yüksek lisans   doktara':5,\n",
    "                      'doktora':5,\n",
    "                      'yüksek li̇sans':5,\n",
    "                      'yüksek lisans':5}\n",
    "\n",
    "df_train['b_egitim_durumu'] = df_train['b_egitim_durumu'].map(b_egitim_map).astype(int)"
   ]
  },
  {
   "cell_type": "code",
   "execution_count": 160,
   "id": "a8fcb8d2-55b0-45d4-b18a-ea8b773f21e1",
   "metadata": {},
   "outputs": [
    {
     "data": {
      "text/plain": [
       "array([4, 5, 1, 0, 2, 3])"
      ]
     },
     "execution_count": 160,
     "metadata": {},
     "output_type": "execute_result"
    }
   ],
   "source": [
    "df_train['b_egitim_durumu'].unique()"
   ]
  },
  {
   "cell_type": "markdown",
   "id": "a4b3929d-a8da-4295-8f5a-cf595631ced9",
   "metadata": {},
   "source": [
    "### \"Baba Calisma Durumu\" bölümü"
   ]
  },
  {
   "cell_type": "code",
   "execution_count": 161,
   "id": "9131dc3f-b8cf-4b47-b607-d61bedbec74a",
   "metadata": {},
   "outputs": [
    {
     "data": {
      "text/plain": [
       "array(['Emekli', 'Evet', nan, 'Hayır'], dtype=object)"
      ]
     },
     "execution_count": 161,
     "metadata": {},
     "output_type": "execute_result"
    }
   ],
   "source": [
    "df_train['b_calisma_durumu'].unique()"
   ]
  },
  {
   "cell_type": "code",
   "execution_count": 162,
   "id": "2662c125-5642-49bf-b332-5e2baa9865fd",
   "metadata": {},
   "outputs": [
    {
     "data": {
      "text/plain": [
       "12618"
      ]
     },
     "execution_count": 162,
     "metadata": {},
     "output_type": "execute_result"
    }
   ],
   "source": [
    "df_train['b_calisma_durumu'].isnull().sum()"
   ]
  },
  {
   "cell_type": "code",
   "execution_count": 163,
   "id": "1c926c58-6207-4def-8540-b5e0886ae711",
   "metadata": {},
   "outputs": [],
   "source": [
    "df_train['b_calisma_durumu'] = df_train['b_calisma_durumu'].str.lower()\n",
    "df_train['b_calisma_durumu'] = df_train['b_calisma_durumu'].fillna('hayır')"
   ]
  },
  {
   "cell_type": "code",
   "execution_count": 164,
   "id": "0897ab21-fb0a-45d4-9a65-fd3eae842277",
   "metadata": {},
   "outputs": [],
   "source": [
    "b_calisma_map = {'evet': 1, 'hayır': 0, 'emekli': 2}\n",
    "\n",
    "df_train['b_calisma_durumu'] = df_train['b_calisma_durumu'].map(b_calisma_map).astype(int)"
   ]
  },
  {
   "cell_type": "markdown",
   "id": "d8688f06-a246-4200-8c6a-b60796d3f180",
   "metadata": {},
   "source": [
    "### \"Baba Sektor\" bölümü"
   ]
  },
  {
   "cell_type": "code",
   "execution_count": 165,
   "id": "80f50dc4-1ea9-47e3-a538-5ca96e24f13c",
   "metadata": {},
   "outputs": [
    {
     "data": {
      "text/plain": [
       "array(['0', 'Özel Sektör', 'Kamu', nan, 'Diğer', 'KAMU', 'DİĞER',\n",
       "       'ÖZEL SEKTÖR', '-'], dtype=object)"
      ]
     },
     "execution_count": 165,
     "metadata": {},
     "output_type": "execute_result"
    }
   ],
   "source": [
    "df_train['b_sektor'].unique()"
   ]
  },
  {
   "cell_type": "code",
   "execution_count": 166,
   "id": "0d4378c1-7b9f-4107-aade-bbaf7e456a16",
   "metadata": {},
   "outputs": [
    {
     "data": {
      "text/plain": [
       "20378"
      ]
     },
     "execution_count": 166,
     "metadata": {},
     "output_type": "execute_result"
    }
   ],
   "source": [
    "df_train['b_sektor'].isnull().sum()"
   ]
  },
  {
   "cell_type": "code",
   "execution_count": 167,
   "id": "d869de94-a1fb-495c-893b-8169850fbccf",
   "metadata": {},
   "outputs": [],
   "source": [
    "df_train['b_sektor'] = df_train['b_sektor'].str.lower()\n",
    "df_train['b_sektor'] = df_train['b_sektor'].fillna('yok')"
   ]
  },
  {
   "cell_type": "code",
   "execution_count": 168,
   "id": "cfa9b427-936a-4f2c-9f07-2fe057155330",
   "metadata": {},
   "outputs": [
    {
     "data": {
      "text/plain": [
       "array(['0', 'özel sektör', 'kamu', 'yok', 'diğer', 'di̇ğer', '-'],\n",
       "      dtype=object)"
      ]
     },
     "execution_count": 168,
     "metadata": {},
     "output_type": "execute_result"
    }
   ],
   "source": [
    "df_train['b_sektor'].unique()"
   ]
  },
  {
   "cell_type": "code",
   "execution_count": 169,
   "id": "eeaa08a5-3420-4877-98c5-0ec1348af52b",
   "metadata": {},
   "outputs": [],
   "source": [
    "b_sektor_map = {'0': 0,\n",
    "               'yok': 0,\n",
    "               '-': 0,\n",
    "               'diğer': 1,\n",
    "               'di̇ğer': 1,\n",
    "               'kamu': 2,\n",
    "               'özel sektör': 3}\n",
    "\n",
    "df_train['b_sektor'] = df_train['b_sektor'].map(b_sektor_map).astype(int)"
   ]
  },
  {
   "cell_type": "markdown",
   "id": "adc85110-2db2-4f6c-8c52-78c45dc9aad2",
   "metadata": {},
   "source": [
    "### \"Kardes Sayisi\" bölümü"
   ]
  },
  {
   "cell_type": "code",
   "execution_count": 170,
   "id": "3db947db-9a48-460b-8820-169cf5f5b160",
   "metadata": {},
   "outputs": [
    {
     "data": {
      "text/plain": [
       "array(['1', '6', '10', '3', nan, '4', '2', '5', '0', '7', '8', '11', '9',\n",
       "       '12', '13', 'Kardeş Sayısı 1 Ek Bilgi Aile Hk. Anne Vefat', '18',\n",
       "       '14', 4.0, 5.0, 1.0, 2.0, 6.0, 3.0, 9.0, 0.0, 10.0, 7.0, 8.0],\n",
       "      dtype=object)"
      ]
     },
     "execution_count": 170,
     "metadata": {},
     "output_type": "execute_result"
    }
   ],
   "source": [
    "df_train['k_sayisi'].unique()"
   ]
  },
  {
   "cell_type": "code",
   "execution_count": 171,
   "id": "0ea102fa-6ea0-42b2-95f0-eaa6cf2c36f1",
   "metadata": {},
   "outputs": [
    {
     "data": {
      "text/plain": [
       "1132"
      ]
     },
     "execution_count": 171,
     "metadata": {},
     "output_type": "execute_result"
    }
   ],
   "source": [
    "df_train['k_sayisi'].isnull().sum()"
   ]
  },
  {
   "cell_type": "code",
   "execution_count": 172,
   "id": "13a73800-0e3c-4007-ac95-0c2988a0208c",
   "metadata": {},
   "outputs": [],
   "source": [
    "df_train['k_sayisi'] = df_train['k_sayisi'].fillna('1')"
   ]
  },
  {
   "cell_type": "code",
   "execution_count": 173,
   "id": "db9bce1e-458d-46b4-bb40-7c2dba1b6e2a",
   "metadata": {},
   "outputs": [],
   "source": [
    "df_train['k_sayisi'] = df_train['k_sayisi'].replace({'Kardeş Sayısı 1 Ek Bilgi Aile Hk. Anne Vefat': '1'})"
   ]
  },
  {
   "cell_type": "code",
   "execution_count": 174,
   "id": "dde0ee3c-f5ac-46a4-bf0b-a7a8b7e9bb5e",
   "metadata": {},
   "outputs": [],
   "source": [
    "df_train['k_sayisi'] = df_train['k_sayisi'].astype(int)"
   ]
  },
  {
   "cell_type": "code",
   "execution_count": 175,
   "id": "c1bce4bc-f561-4972-a3fd-c8ca5731663a",
   "metadata": {},
   "outputs": [
    {
     "data": {
      "text/plain": [
       "k_sayisi\n",
       "1     23373\n",
       "2     17000\n",
       "3      8821\n",
       "4      5609\n",
       "0      5082\n",
       "5      4136\n",
       "6       341\n",
       "7       278\n",
       "8       173\n",
       "10      169\n",
       "9       122\n",
       "11       12\n",
       "12        5\n",
       "13        2\n",
       "18        1\n",
       "14        1\n",
       "Name: count, dtype: int64"
      ]
     },
     "execution_count": 175,
     "metadata": {},
     "output_type": "execute_result"
    }
   ],
   "source": [
    "df_train['k_sayisi'].value_counts()"
   ]
  },
  {
   "cell_type": "markdown",
   "id": "845d10be-606d-4833-9098-3b99400ae662",
   "metadata": {},
   "source": [
    "### \"Girisimcilik Kulupleri Tarzi Bir Kulube Uye misiniz?\" bölümü"
   ]
  },
  {
   "cell_type": "code",
   "execution_count": 176,
   "id": "dfa86cd5-9204-498f-b75d-8150853d37c8",
   "metadata": {},
   "outputs": [
    {
     "data": {
      "text/plain": [
       "array(['Evet', 'Hayır', nan], dtype=object)"
      ]
     },
     "execution_count": 176,
     "metadata": {},
     "output_type": "execute_result"
    }
   ],
   "source": [
    "df_train['gir_klube_uyemi'].unique()"
   ]
  },
  {
   "cell_type": "code",
   "execution_count": 177,
   "id": "0538c2cd-a1ac-4df5-875b-f14b85a5f6dc",
   "metadata": {},
   "outputs": [
    {
     "data": {
      "text/plain": [
       "1829"
      ]
     },
     "execution_count": 177,
     "metadata": {},
     "output_type": "execute_result"
    }
   ],
   "source": [
    "df_train['gir_klube_uyemi'].isnull().sum()"
   ]
  },
  {
   "cell_type": "code",
   "execution_count": 178,
   "id": "669a53e7-5043-4e82-bdeb-6a9b92278a0d",
   "metadata": {},
   "outputs": [],
   "source": [
    "df_train['gir_klube_uyemi'] = df_train['gir_klube_uyemi'].str.lower()\n",
    "df_train['gir_klube_uyemi'] = df_train['gir_klube_uyemi'].fillna('hayır')"
   ]
  },
  {
   "cell_type": "code",
   "execution_count": 179,
   "id": "795328b3-32cf-4d94-b9ac-9765b08c61ab",
   "metadata": {},
   "outputs": [],
   "source": [
    "gir_uyemi_map = {'evet': 1, 'hayır': 0,}\n",
    "\n",
    "df_train['gir_klube_uyemi'] = df_train['gir_klube_uyemi'].map(gir_uyemi_map).astype(int)"
   ]
  },
  {
   "cell_type": "markdown",
   "id": "20925d62-980f-4eac-afbc-83ea02b8686d",
   "metadata": {},
   "source": [
    "### \"Uye Oldugunuz Kulubun Ismi\" bölümü"
   ]
  },
  {
   "cell_type": "code",
   "execution_count": 180,
   "id": "9b26927f-b6d7-44cf-8b2f-13d3c68ccdec",
   "metadata": {},
   "outputs": [
    {
     "data": {
      "text/plain": [
       "array(['Bilkent IEEE Bilgisayar Toplulugu 2013-2014 Baskani', nan, 'Tema',\n",
       "       ..., 'Resim(karakalem),Müzik(Ney) Kulüpleri', 'Kocaeli',\n",
       "       'Genç Kızılay'], dtype=object)"
      ]
     },
     "execution_count": 180,
     "metadata": {},
     "output_type": "execute_result"
    }
   ],
   "source": [
    "df_train['kulup_ismi'].unique()"
   ]
  },
  {
   "cell_type": "code",
   "execution_count": 181,
   "id": "98c42d81-4627-4ec0-800a-fdf9d1c93553",
   "metadata": {},
   "outputs": [
    {
     "data": {
      "text/plain": [
       "48691"
      ]
     },
     "execution_count": 181,
     "metadata": {},
     "output_type": "execute_result"
    }
   ],
   "source": [
    "df_train['kulup_ismi'].isnull().sum()"
   ]
  },
  {
   "cell_type": "code",
   "execution_count": 182,
   "id": "3e705004-901b-4808-8668-ff022ca77caa",
   "metadata": {},
   "outputs": [],
   "source": [
    "df_train['kulup_ismi'] = df_train['kulup_ismi'].str.lower()\n",
    "df_train['kulup_ismi'] = df_train['kulup_ismi'].fillna('yok')"
   ]
  },
  {
   "cell_type": "code",
   "execution_count": 183,
   "id": "1bb1c8f2-48d0-4965-b0f3-234254e718de",
   "metadata": {},
   "outputs": [],
   "source": [
    "df_train['kulup_ismi'] = df_train['kulup_ismi'].str.translate(turkish_characters)"
   ]
  },
  {
   "cell_type": "code",
   "execution_count": 184,
   "id": "fc8f9581-e3b5-41c6-884e-6c409c74e7ee",
   "metadata": {},
   "outputs": [
    {
     "data": {
      "text/plain": [
       "kulup_ismi\n",
       "yok                                                                                 48693\n",
       "ieee                                                                                  230\n",
       "girisimcilik kulubu                                                                   115\n",
       "i̇sletme kulubu                                                                        71\n",
       "aiesec                                                                                 62\n",
       "                                                                                    ...  \n",
       "kontrol ve otomasyon klubu                                                              1\n",
       "genc-i̇mo, insaat klubu, tog                                                            1\n",
       "yildiz teknik universitesi i̇sletme klubu, yildiz teknik universitesi spor klubu        1\n",
       "bilim ve teknoloji toplulugu , cevre toplulugu , hip-hop dans toplulugu                 1\n",
       "genc kizilay                                                                            1\n",
       "Name: count, Length: 12093, dtype: int64"
      ]
     },
     "execution_count": 184,
     "metadata": {},
     "output_type": "execute_result"
    }
   ],
   "source": [
    "df_train['kulup_ismi'].value_counts()"
   ]
  },
  {
   "cell_type": "code",
   "execution_count": 185,
   "id": "876449bc-1165-47a4-91ec-3f0ed9995cba",
   "metadata": {},
   "outputs": [],
   "source": [
    "df_train['kulup_ismi'] = le.fit_transform(df_train['kulup_ismi'])"
   ]
  },
  {
   "cell_type": "markdown",
   "id": "3fa82f9e-88db-484a-af84-44a833fe9b13",
   "metadata": {},
   "source": [
    "### \"Profesyonel Bir Spor Daliyla Mesgul musunuz?\" bölümü"
   ]
  },
  {
   "cell_type": "code",
   "execution_count": 186,
   "id": "86919907-413a-4cea-9b83-b7f5bf2b1039",
   "metadata": {},
   "outputs": [
    {
     "data": {
      "text/plain": [
       "array(['Evet', 'Hayır', nan], dtype=object)"
      ]
     },
     "execution_count": 186,
     "metadata": {},
     "output_type": "execute_result"
    }
   ],
   "source": [
    "df_train['spor_dali_mesgulmu'].unique()"
   ]
  },
  {
   "cell_type": "code",
   "execution_count": 187,
   "id": "40c76781-4e67-4730-9306-c8b9b1603ba5",
   "metadata": {},
   "outputs": [
    {
     "data": {
      "text/plain": [
       "1115"
      ]
     },
     "execution_count": 187,
     "metadata": {},
     "output_type": "execute_result"
    }
   ],
   "source": [
    "df_train['spor_dali_mesgulmu'].isnull().sum()"
   ]
  },
  {
   "cell_type": "code",
   "execution_count": 188,
   "id": "68d700af-c1b7-439a-ac1f-e76a3db4604b",
   "metadata": {},
   "outputs": [],
   "source": [
    "df_train['spor_dali_mesgulmu'] = df_train['spor_dali_mesgulmu'].str.lower()\n",
    "df_train['spor_dali_mesgulmu'] = df_train['spor_dali_mesgulmu'].fillna('hayır')"
   ]
  },
  {
   "cell_type": "code",
   "execution_count": 189,
   "id": "57d551ca-1cd3-4f82-92e5-a4138b83e354",
   "metadata": {},
   "outputs": [],
   "source": [
    "spor_mesgulmu_map = {'evet': 1, 'hayır': 0,}\n",
    "\n",
    "df_train['spor_dali_mesgulmu'] = df_train['spor_dali_mesgulmu'].map(spor_mesgulmu_map).astype(int)"
   ]
  },
  {
   "cell_type": "markdown",
   "id": "1215b6c3-8006-43ba-b932-6aacb0e496ed",
   "metadata": {},
   "source": [
    "### \"Spor Dalindaki Rolunuz Nedir?\" bölümü"
   ]
  },
  {
   "cell_type": "code",
   "execution_count": 190,
   "id": "0a3ee299-d651-4f84-bd8c-85480f59d726",
   "metadata": {},
   "outputs": [
    {
     "data": {
      "text/plain": [
       "array(['Diğer', '0', nan, 'Kaptan', 'KAPTAN / LİDER', 'DİĞER',\n",
       "       'Lider/Kaptan', 'Bireysel', 'Takım Oyuncusu', '-'], dtype=object)"
      ]
     },
     "execution_count": 190,
     "metadata": {},
     "output_type": "execute_result"
    }
   ],
   "source": [
    "df_train['spor_rolu_ne'].unique()"
   ]
  },
  {
   "cell_type": "code",
   "execution_count": 191,
   "id": "2455ecca-1410-48c9-8a10-95e36c920b1e",
   "metadata": {},
   "outputs": [
    {
     "data": {
      "text/plain": [
       "32275"
      ]
     },
     "execution_count": 191,
     "metadata": {},
     "output_type": "execute_result"
    }
   ],
   "source": [
    "df_train['spor_rolu_ne'].isnull().sum()"
   ]
  },
  {
   "cell_type": "code",
   "execution_count": 192,
   "id": "0530d3cc-7508-4eba-afd7-7f207dfde099",
   "metadata": {},
   "outputs": [],
   "source": [
    "df_train['spor_rolu_ne'] = df_train['spor_rolu_ne'].str.lower().replace('[,/]', ' ', regex=True).str.strip()\n",
    "df_train['spor_rolu_ne'] = df_train['spor_rolu_ne'].fillna('-')"
   ]
  },
  {
   "cell_type": "code",
   "execution_count": 193,
   "id": "d0b03b60-f2eb-4a84-9730-c06ea6c4728e",
   "metadata": {},
   "outputs": [
    {
     "data": {
      "text/plain": [
       "array(['diğer', '0', '-', 'kaptan', 'kaptan   li̇der', 'di̇ğer',\n",
       "       'lider kaptan', 'bireysel', 'takım oyuncusu'], dtype=object)"
      ]
     },
     "execution_count": 193,
     "metadata": {},
     "output_type": "execute_result"
    }
   ],
   "source": [
    "df_train['spor_rolu_ne'].unique()"
   ]
  },
  {
   "cell_type": "code",
   "execution_count": 194,
   "id": "cd678e23-d53a-4027-84bc-0ec3936c2675",
   "metadata": {},
   "outputs": [],
   "source": [
    "spor_rolune_map = {\n",
    "    '0': 0,\n",
    "    '-': 0,\n",
    "    'diğer': 1,\n",
    "    'di̇ğer': 1,\n",
    "    'kaptan':2,\n",
    "    'kaptan   li̇der':2,\n",
    "    'lider kaptan':2,\n",
    "    'bireysel':3,\n",
    "    'takım oyuncusu':4\n",
    "}\n",
    "\n",
    "df_train['spor_rolu_ne'] = df_train['spor_rolu_ne'].map(spor_rolune_map).astype(int)"
   ]
  },
  {
   "cell_type": "markdown",
   "id": "bae4ee71-83fc-4c7c-be08-d54f26ceb43c",
   "metadata": {},
   "source": [
    "### \"Aktif olarak bir STK üyesi misiniz?\" bölümü"
   ]
  },
  {
   "cell_type": "code",
   "execution_count": 195,
   "id": "29c7eeaa-d504-43b9-bc43-476382dc9a42",
   "metadata": {},
   "outputs": [
    {
     "data": {
      "text/plain": [
       "array(['Hayır', nan, 'Evet'], dtype=object)"
      ]
     },
     "execution_count": 195,
     "metadata": {},
     "output_type": "execute_result"
    }
   ],
   "source": [
    "df_train['aktif_stk_uyesimi'].unique()"
   ]
  },
  {
   "cell_type": "code",
   "execution_count": 196,
   "id": "fe5c221b-b517-43f6-9dbe-efb633db56f0",
   "metadata": {},
   "outputs": [
    {
     "data": {
      "text/plain": [
       "12842"
      ]
     },
     "execution_count": 196,
     "metadata": {},
     "output_type": "execute_result"
    }
   ],
   "source": [
    "df_train['aktif_stk_uyesimi'].isnull().sum()"
   ]
  },
  {
   "cell_type": "code",
   "execution_count": 197,
   "id": "8a493578-c4db-4ed4-8fa3-3b1fd57034d9",
   "metadata": {},
   "outputs": [],
   "source": [
    "df_train['aktif_stk_uyesimi'] = df_train['aktif_stk_uyesimi'].str.lower()\n",
    "df_train['aktif_stk_uyesimi'] = df_train['aktif_stk_uyesimi'].fillna('hayır')"
   ]
  },
  {
   "cell_type": "code",
   "execution_count": 198,
   "id": "ce94b384-3d59-4008-981b-b104a2a8b493",
   "metadata": {},
   "outputs": [],
   "source": [
    "aktif_stk_map = {'evet': 1, 'hayır': 0,}\n",
    "\n",
    "df_train['aktif_stk_uyesimi'] = df_train['aktif_stk_uyesimi'].map(aktif_stk_map).astype(int)"
   ]
  },
  {
   "cell_type": "markdown",
   "id": "6b5a755c-0ef1-4739-a05e-2a482660db1f",
   "metadata": {},
   "source": [
    "### \"Hangi STK'nin Uyesisiniz?\" bölümü"
   ]
  },
  {
   "cell_type": "code",
   "execution_count": 199,
   "id": "422ed746-53eb-4904-bf12-15bc38ebde55",
   "metadata": {},
   "outputs": [
    {
     "data": {
      "text/plain": [
       "array([nan, 'Demokratikleşme çabaları', 'yüz yüze projesi', ...,\n",
       "       \"Düzenli bir şekilde Kızılay'a kan bağışı yapıyorum\",\n",
       "       'Gençlik merkezi ile beraber yapılan gönüllülük faaliyetinin bszilr',\n",
       "       \"Genç Kızılay Topluluğu'nda 3 yıldır gönüllüyüm. 1 yıl boyunca topluluğun yönetim kurulunda üye ilişkileri birimi sorumlusuydum. Şu an gönüllü olarak toplulukta aktifim.\"],\n",
       "      dtype=object)"
      ]
     },
     "execution_count": 199,
     "metadata": {},
     "output_type": "execute_result"
    }
   ],
   "source": [
    "df_train['hangi_stk'].unique()"
   ]
  },
  {
   "cell_type": "code",
   "execution_count": 200,
   "id": "6a15aa39-1274-4590-9aed-e892ec519a2f",
   "metadata": {},
   "outputs": [
    {
     "data": {
      "text/plain": [
       "49518"
      ]
     },
     "execution_count": 200,
     "metadata": {},
     "output_type": "execute_result"
    }
   ],
   "source": [
    "df_train['hangi_stk'].isnull().sum()"
   ]
  },
  {
   "cell_type": "code",
   "execution_count": 201,
   "id": "3108b824-361a-4968-b276-a0f3c538e182",
   "metadata": {
    "scrolled": true
   },
   "outputs": [
    {
     "data": {
      "text/plain": [
       "hangi_stk\n",
       "-                                                                                                                                                                           2956\n",
       "Kızılay                                                                                                                                                                      238\n",
       "Toplum Gönüllüleri Vakfı                                                                                                                                                     196\n",
       "TEMA                                                                                                                                                                         181\n",
       "LÖSEV                                                                                                                                                                        149\n",
       "                                                                                                                                                                            ... \n",
       "Dopingle Mücadele Komisyonu                                                                                                                                                    1\n",
       "İzmir gönüllüler                                                                                                                                                               1\n",
       "ODTÜ IEEE - Sosyal Sorumluluk Projesi Grubu üyesiyim. İşaret dili eğitimi aldım.                                                                                               1\n",
       "Genç barış inisiyatifi ve genç kızılay aktif üyesiyim                                                                                                                          1\n",
       "Genç Kızılay Topluluğu'nda 3 yıldır gönüllüyüm. 1 yıl boyunca topluluğun yönetim kurulunda üye ilişkileri birimi sorumlusuydum. Şu an gönüllü olarak toplulukta aktifim.       1\n",
       "Name: count, Length: 9490, dtype: int64"
      ]
     },
     "execution_count": 201,
     "metadata": {},
     "output_type": "execute_result"
    }
   ],
   "source": [
    "df_train['hangi_stk'].value_counts()"
   ]
  },
  {
   "cell_type": "code",
   "execution_count": 202,
   "id": "38d7f5f6-e2ed-4751-ab13-416a018d3c9d",
   "metadata": {},
   "outputs": [],
   "source": [
    "df_train['hangi_stk'] = df_train['hangi_stk'].str.translate(turkish_characters)"
   ]
  },
  {
   "cell_type": "code",
   "execution_count": 203,
   "id": "a12463cb-b943-4db7-9d24-48d50a2bbe06",
   "metadata": {},
   "outputs": [],
   "source": [
    "df_train['hangi_stk'] = df_train['hangi_stk'].str.lower().replace('[,/]', ' ', regex=True).str.strip()\n",
    "df_train['hangi_stk'] = df_train['hangi_stk'].fillna('-')"
   ]
  },
  {
   "cell_type": "code",
   "execution_count": 204,
   "id": "1ec05b54-d42b-4e1c-a072-8d168a241f20",
   "metadata": {},
   "outputs": [],
   "source": [
    "df_train['hangi_stk'] = le.fit_transform(df_train['hangi_stk'])"
   ]
  },
  {
   "cell_type": "markdown",
   "id": "1c10382b-8d33-48a3-90dd-b58dc03f0204",
   "metadata": {},
   "source": [
    "### \"Stk Projesine Katildiniz Mi?\" bölümü"
   ]
  },
  {
   "cell_type": "code",
   "execution_count": 205,
   "id": "4fbdc51d-bdb6-4d8a-bf1c-6edd8bb9e223",
   "metadata": {},
   "outputs": [
    {
     "data": {
      "text/plain": [
       "array(['Evet', 'Hayır', nan], dtype=object)"
      ]
     },
     "execution_count": 205,
     "metadata": {},
     "output_type": "execute_result"
    }
   ],
   "source": [
    "df_train['stk_proje_katildimi'].unique()"
   ]
  },
  {
   "cell_type": "code",
   "execution_count": 206,
   "id": "05930803-0078-4de6-991c-d0ccb7df1091",
   "metadata": {},
   "outputs": [
    {
     "data": {
      "text/plain": [
       "28308"
      ]
     },
     "execution_count": 206,
     "metadata": {},
     "output_type": "execute_result"
    }
   ],
   "source": [
    "df_train['stk_proje_katildimi'].isnull().sum()"
   ]
  },
  {
   "cell_type": "code",
   "execution_count": 207,
   "id": "cee88543-d85a-45f0-b4ef-c9e28d5ad2ea",
   "metadata": {},
   "outputs": [],
   "source": [
    "df_train['stk_proje_katildimi'] = df_train['stk_proje_katildimi'].str.lower()\n",
    "df_train['stk_proje_katildimi'] = df_train['stk_proje_katildimi'].fillna('hayır')"
   ]
  },
  {
   "cell_type": "code",
   "execution_count": 208,
   "id": "fcf52239-60f6-4cda-9d0d-b57dbc90a898",
   "metadata": {},
   "outputs": [],
   "source": [
    "stk_proje_map = {'evet': 1, 'hayır': 0,}\n",
    "\n",
    "df_train['stk_proje_katildimi'] = df_train['stk_proje_katildimi'].map(stk_proje_map).astype(int)"
   ]
  },
  {
   "cell_type": "markdown",
   "id": "818b8f6d-423c-4bf9-879d-e8f681b0b4f5",
   "metadata": {},
   "source": [
    "### \"Girisimcilikle Ilgili Deneyiminiz Var Mi?\" bölümü"
   ]
  },
  {
   "cell_type": "code",
   "execution_count": 209,
   "id": "b1092e52-febb-4444-92fe-cd3d1d8b000b",
   "metadata": {},
   "outputs": [
    {
     "data": {
      "text/plain": [
       "array(['Hayır', 'Evet', nan], dtype=object)"
      ]
     },
     "execution_count": 209,
     "metadata": {},
     "output_type": "execute_result"
    }
   ],
   "source": [
    "df_train['gir_deneyim_varmi'].unique()"
   ]
  },
  {
   "cell_type": "code",
   "execution_count": 210,
   "id": "d414c2c7-e700-4179-b9ce-8a9efb11a2f6",
   "metadata": {},
   "outputs": [
    {
     "data": {
      "text/plain": [
       "12840"
      ]
     },
     "execution_count": 210,
     "metadata": {},
     "output_type": "execute_result"
    }
   ],
   "source": [
    "df_train['gir_deneyim_varmi'].isnull().sum()"
   ]
  },
  {
   "cell_type": "code",
   "execution_count": 211,
   "id": "c129915e-3e22-48c6-ab79-6e1b947f0b2f",
   "metadata": {},
   "outputs": [],
   "source": [
    "df_train['gir_deneyim_varmi'] = df_train['gir_deneyim_varmi'].str.lower()\n",
    "df_train['gir_deneyim_varmi'] = df_train['gir_deneyim_varmi'].fillna('hayır')"
   ]
  },
  {
   "cell_type": "code",
   "execution_count": 212,
   "id": "d2cbd732-afd6-4156-a99a-e170f7a51f2f",
   "metadata": {},
   "outputs": [],
   "source": [
    "gir_deneyim_map = {'evet': 1, 'hayır': 0,}\n",
    "\n",
    "df_train['gir_deneyim_varmi'] = df_train['gir_deneyim_varmi'].map(gir_deneyim_map).astype(int)"
   ]
  },
  {
   "cell_type": "markdown",
   "id": "fcbd2382-37f7-4cd5-9bf9-9efa7872d56a",
   "metadata": {},
   "source": [
    "### \"Girisimcilikle Ilgili Deneyiminizi Aciklayabilir misiniz?\" bölümü"
   ]
  },
  {
   "cell_type": "code",
   "execution_count": 213,
   "id": "e20c4590-33be-4253-9c9c-189e571880f2",
   "metadata": {},
   "outputs": [
    {
     "data": {
      "text/plain": [
       "array([nan,\n",
       "       'Bilkent Cyberparkta bir şirkette Türkiye nin ilk ekonomik DNA görüntüleme cihazını yapmak için çalışmaya başladım.',\n",
       "       'Konvansiyonel medyanın dönüşümüne ve tüketimin infografik efektler üzerinden gerçekleştirileceği bir format üzerinde çalışıyorum.',\n",
       "       ...,\n",
       "       \"2019 yılından itibaren ''Hayali Olan Liseli'' Girişimcilik Ekibi'nde bulunmaktayım. Çeşitli eğitimler alarak birer mentör adayı olarak yetiştirildin, ekip arkadaşlarımla. Kurucumuz Cihan Buğdaycı'dır.\",\n",
       "       'Amazonda danışmanlık ve amazonda satış yapmak',\n",
       "       'Aile desteğiyle yemek sektöründe küçük bir işletme açtık. Ablamla birlikte işletmenin yönetimini sağladık fakat ekonomik sebeplerden dolayı işletmeyi kapatmak mecburiyetinde kaldık.'],\n",
       "      dtype=object)"
      ]
     },
     "execution_count": 213,
     "metadata": {},
     "output_type": "execute_result"
    }
   ],
   "source": [
    "df_train['gir_deneyim_acikla'].unique()"
   ]
  },
  {
   "cell_type": "code",
   "execution_count": 214,
   "id": "a12f4ac8-87c3-41a8-bef2-84eb5766003c",
   "metadata": {},
   "outputs": [
    {
     "data": {
      "text/plain": [
       "50526"
      ]
     },
     "execution_count": 214,
     "metadata": {},
     "output_type": "execute_result"
    }
   ],
   "source": [
    "df_train['gir_deneyim_acikla'].isnull().sum()"
   ]
  },
  {
   "cell_type": "code",
   "execution_count": 215,
   "id": "34b4e5ca-adbe-4171-af1a-e72643a49729",
   "metadata": {},
   "outputs": [],
   "source": [
    "df_train['gir_deneyim_acikla'] = df_train['gir_deneyim_acikla'].fillna('-')\n",
    "df_train['gir_deneyim_acikla'] = df_train['gir_deneyim_acikla'].apply(lambda x: 0 if x == '-' else 1) # açıklama varsa 1 yoksa 0 olarak girmek için.\n",
    "# yani buradaki verileri anlamlı bir şekilde ancak böyle kullanabiliriz. Birinin girişimcilik deneyimi varsa onun daha fazla şansı vardır\n",
    "# mantığında sayısal olarak '1' verdik."
   ]
  },
  {
   "cell_type": "markdown",
   "id": "2a05cee8-9fc8-41e9-ba12-07f529ceda19",
   "metadata": {},
   "source": [
    "### \"Ingilizce Biliyor musunuz?\" bölümü"
   ]
  },
  {
   "cell_type": "code",
   "execution_count": 216,
   "id": "5ec0cdad-81c8-4b5f-8151-4fc886118063",
   "metadata": {},
   "outputs": [
    {
     "data": {
      "text/plain": [
       "array([nan, 'Evet', 'Hayır'], dtype=object)"
      ]
     },
     "execution_count": 216,
     "metadata": {},
     "output_type": "execute_result"
    }
   ],
   "source": [
    "df_train['ing_varmi'].unique()"
   ]
  },
  {
   "cell_type": "code",
   "execution_count": 217,
   "id": "a9521614-52d0-4141-ac03-fe4fe9a8e049",
   "metadata": {},
   "outputs": [
    {
     "data": {
      "text/plain": [
       "6454"
      ]
     },
     "execution_count": 217,
     "metadata": {},
     "output_type": "execute_result"
    }
   ],
   "source": [
    "df_train['ing_varmi'].isnull().sum()"
   ]
  },
  {
   "cell_type": "code",
   "execution_count": 218,
   "id": "0ea83888-c6f1-4e3c-895d-01da218ff9d8",
   "metadata": {},
   "outputs": [],
   "source": [
    "df_train['ing_varmi'] = df_train['ing_varmi'].str.lower()\n",
    "df_train['ing_varmi'] = df_train['ing_varmi'].fillna('hayır')"
   ]
  },
  {
   "cell_type": "code",
   "execution_count": 219,
   "id": "14de8ab3-5378-48ea-8303-3b97b706f6f7",
   "metadata": {},
   "outputs": [],
   "source": [
    "ing_varmi_map = {'evet': 1, 'hayır': 0,}\n",
    "\n",
    "df_train['ing_varmi'] = df_train['ing_varmi'].map(ing_varmi_map).astype(int)"
   ]
  },
  {
   "cell_type": "markdown",
   "id": "f24b54dc-1233-46fd-99a1-c4b20cd14220",
   "metadata": {},
   "source": [
    "### \"Ingilizce Seviyeniz?\" bölümü;"
   ]
  },
  {
   "cell_type": "code",
   "execution_count": 220,
   "id": "59ba6e69-ec6e-490a-ac12-eeba9f2409e6",
   "metadata": {},
   "outputs": [
    {
     "data": {
      "text/plain": [
       "array([nan, 'İleri', 'Orta', '0', 'Başlangıç'], dtype=object)"
      ]
     },
     "execution_count": 220,
     "metadata": {},
     "output_type": "execute_result"
    }
   ],
   "source": [
    "df_train['ing_seviye'].unique()"
   ]
  },
  {
   "cell_type": "code",
   "execution_count": 221,
   "id": "095bf0e0-45d3-48ae-ac85-5995ef0c52f7",
   "metadata": {},
   "outputs": [
    {
     "data": {
      "text/plain": [
       "36533"
      ]
     },
     "execution_count": 221,
     "metadata": {},
     "output_type": "execute_result"
    }
   ],
   "source": [
    "df_train['ing_seviye'].isnull().sum()"
   ]
  },
  {
   "cell_type": "code",
   "execution_count": 222,
   "id": "7ad86b1a-8c27-4c29-99a9-e2e3665da4f6",
   "metadata": {},
   "outputs": [],
   "source": [
    "df_train['ing_seviye'] = df_train['ing_seviye'].str.lower()\n",
    "df_train['ing_seviye'] = df_train['ing_seviye'].fillna('0')"
   ]
  },
  {
   "cell_type": "code",
   "execution_count": 223,
   "id": "38e7c352-aaf2-4985-acd5-fb9a9b9a7571",
   "metadata": {},
   "outputs": [],
   "source": [
    "# unknown_values = df_train[~df_train['ing_seviye'].isin(ing_seviye_map.keys())]['ing_seviye'].unique()\n",
    "\n",
    "# print(\"Haritaya uymayan değerler:\", unknown_values)\n",
    "\n",
    "ing_seviye_map = {'0': 0, 'başlangıç': 1, 'orta': 2, 'i̇leri': 3}\n",
    "\n",
    "df_train['ing_seviye'] = df_train['ing_seviye'].map(ing_seviye_map).astype(int)"
   ]
  },
  {
   "cell_type": "markdown",
   "id": "7f9b1afe-3f63-4ade-a194-48114be754d8",
   "metadata": {},
   "source": [
    "### \"Daha Önceden Mezun Olunduysa, Mezun Olunan Üniversite \" bölümü"
   ]
  },
  {
   "cell_type": "code",
   "execution_count": 224,
   "id": "421f4046-5985-4ab7-9c3b-dcb2f48feec4",
   "metadata": {
    "scrolled": true
   },
   "outputs": [
    {
     "data": {
      "text/plain": [
       "array([nan, 'Sabancı Üniversitesi', 'Anadolu Üniversitesi',\n",
       "       'Mimar Sinan Güzel Sanatlar Üniversitesi', 'Adıyaman Üniversitesi',\n",
       "       'TOBB Ekonomi ve Teknoloji Üniversitesi', 'Yalova Üniversitesi',\n",
       "       'İSTANBUL ÜNİVERSİTESİ', 'ATATÜRK ÜNİVERSİTESİ',\n",
       "       'DOĞUŞ ÜNİVERSİTESİ', 'MARMARA ÜNİVERSİTESİ',\n",
       "       'SAKARYA ÜNİVERSİTESİ', 'ÇANAKKALE ONSEKİZ MART',\n",
       "       'KOCAELİ ÜNİVERSİTESİ', 'KARABÜK ÜNİVERSİTESİ',\n",
       "       'ANADOLU ÜNİVERSİTESİ', 'ÇUKUROVA ÜNİVERSİTESİ',\n",
       "       'İZMİR EKONOMİ ÜNİVERSİTESİ', 'TRAKYA ÜNİVERSİTESİ',\n",
       "       'İSTANBUL KÜLTÜR ÜNİVERSİTESİ', 'ÜSKÜDAR ÜNİVERSİTESİ',\n",
       "       'EGE ÜNİVERSİTESİ', 'OKAN ÜNİVERSİTESİ', 'BEYKOZ LOJİSTİK MESLEK',\n",
       "       'Düzce Üniversitesi', 'Marmara Üniversitesi',\n",
       "       'Bahçeşehir Üniversitesi', 'AVRASYA ÜNİVERSİTESİ',\n",
       "       'PİRİ REİS ÜNİVERSİTESİ', 'İSTANBUL MEDİPOL ÜNİVERSİTESİ',\n",
       "       'Çukurova Üniversitesi', 'Bozok Üniversitesi',\n",
       "       'Siirt Üniversitesi', 'Yıldız Teknik Üniversitesi',\n",
       "       'İstanbul Gelişim Üniversitesi', 'Yüzüncü Yıl Üniversitesi',\n",
       "       'Okan Üniversitesi', 'MİMAR SİNAN GÜZEL SANATLAR',\n",
       "       'İSTANBUL BİLGİ ÜNİVERSİTESİ', 'YALOVA ÜNİVERSİTESİ',\n",
       "       'ORDU ÜNİVERSİTESİ', 'İSTANBUL AYDIN ÜNİVERSİTESİ',\n",
       "       'BEYKENT ÜNİVERSİTESİ', 'İSTANBUL KEMERBURGAZ ÜNİVERSİTESİ',\n",
       "       'İSTANBUL GELİŞİM ÜNİVERSİTESİ', 'BAHÇEŞEHİR ÜNİVERSİTESİ',\n",
       "       'ULUDAĞ ÜNİVERSİTESİ', 'BAŞKENT ÜNİVERSİTESİ',\n",
       "       'MEHMET AKİF ERSOY ÜNİVERSİTESİ', 'ÇAĞ ÜNİVERSİTESİ',\n",
       "       'GEDİZ ÜNİVERSİTESİ', 'HACETTEPE ÜNİVERSİTESİ',\n",
       "       'İZMİR ÜNİVERSİTESİ', 'Afyon Kocatepe Üniversitesi',\n",
       "       'Kocaeli Üniversitesi', 'Dokuz Eylül Üniversitesi',\n",
       "       'Süleyman Demirel Üniversitesi', 'Balıkesir Üniversitesi',\n",
       "       'Hacettepe Üniversitesi', 'Gaziosmanpaşa Üniversitesi',\n",
       "       'Muğla Sıtkı Koçman Üniversitesi',\n",
       "       'Kahramanmaraş Sütçü İmam Üniversitesi', 'Giresun Üniversitesi',\n",
       "       'Beykent Üniversitesi', 'Mersin Üniversitesi',\n",
       "       'Erciyes Üniversitesi', 'Kastamonu Üniversitesi',\n",
       "       'Pamukkale Üniversitesi', 'İstanbul Arel Üniversitesi',\n",
       "       'Ege Üniversitesi', 'Ankara Üniversitesi',\n",
       "       'Çanakkale Onsekiz Mart Üniversitesi',\n",
       "       'Bülent Ecevit Üniversitesi', 'Trakya Üniversitesi',\n",
       "       'Adnan Menderes Üniversitesi', 'İstanbul Üniversitesi',\n",
       "       'Abant İzzet Baysal Üniversitesi', 'Gazi Üniversitesi',\n",
       "       'Orta Doğu Teknik Üniversitesi', 'İstanbul Kültür Üniversitesi',\n",
       "       'Bingöl Üniversitesi', 'Dumlupınar Üniversitesi',\n",
       "       'Bitlis Eren Üniversitesi', 'İstanbul Ticaret Üniversitesi',\n",
       "       'Üsküdar Üniversitesi', 'Akdeniz Üniversitesi',\n",
       "       'İstanbul Teknik Üniversitesi', 'Toros Üniversitesi',\n",
       "       'Namık Kemal Üniversitesi', 'Karadeniz Teknik Üniversitesi',\n",
       "       'Nevşehir Hacı Bektaş Veli Üniversitesi',\n",
       "       'Ondokuz Mayıs Üniversitesi', 'Uludağ Üniversitesi',\n",
       "       'Harran Üniversitesi', 'Atatürk Üniversitesi',\n",
       "       'Sakarya Üniversitesi', 'Necmettin Erbakan Üniversitesi',\n",
       "       'Ordu Üniversitesi', 'Gaziantep Üniversitesi',\n",
       "       'İstanbul Aydın Üniversitesi', 'Boğaziçi Üniversitesi',\n",
       "       'Bartın Üniversitesi', 'Kırıkkale Üniversitesi',\n",
       "       'Karabük Üniversitesi', 'Çağ Üniversitesi', 'Selçuk Üniversitesi',\n",
       "       'İSTANBUL TEKNİK ÜNİVERSİTESİ', 'BALIKESİR ÜNİVERSİTESİ',\n",
       "       'MERSİN ÜNİVERSİTESİ', 'SİİRT ÜNİVERSİTESİ', 'SELÇUK ÜNİVERSİTESİ',\n",
       "       'GEDİK ÜNİVERSİTESİ', 'ERZURUM TEKNİK ÜNİVERSİTESİ',\n",
       "       'KAHRAMANMARAŞ SÜTÇÜ İMAM', 'DÜZCE ÜNİVERSİTESİ',\n",
       "       'CELAL BAYAR ÜNİVERSİTESİ', 'KAFKAS ÜNİVERSİTESİ',\n",
       "       'DİCLE ÜNİVERSİTESİ', 'AFYON KOCATEPE ÜNİVERSİTESİ',\n",
       "       'ORTA DOĞU TEKNİK ÜNİVERSİTESİ', 'YILDIRIM BEYAZIT ÜNİVERSİTESİ',\n",
       "       'GAZİANTEP ÜNİVERSİTESİ', 'AKDENİZ ÜNİVERSİTESİ',\n",
       "       'ESKİŞEHİR OSMANGAZİ ÜNİVERSİTESİ', 'GAZİOSMANPAŞA ÜNİVERSİTESİ',\n",
       "       'SÜLEYMAN DEMİREL ÜNİVERSİTESİ', 'BİNGÖL ÜNİVERSİTESİ',\n",
       "       'AKSARAY ÜNİVERSİTESİ', 'YAŞAR ÜNİVERSİTESİ', 'UŞAK ÜNİVERSİTESİ',\n",
       "       'BÜLENT ECEVİT ÜNİVERSİTESİ', 'PLATO MESLEK YÜKSEKOKULU',\n",
       "       'İHSAN DOĞRAMACI BİLKENT', 'İSTANBUL ESENYURT ÜNİVERSİTESİ',\n",
       "       'HAKKARİ ÜNİVERSİTESİ', 'Diğer', 'İSTANBUL SABAHATTİN ZAİM',\n",
       "       'GİRESUN ÜNİVERSİTESİ', 'GAZİ ÜNİVERSİTESİ',\n",
       "       'ADNAN MENDERES ÜNİVERSİTESİ', 'AMASYA ÜNİVERSİTESİ',\n",
       "       'ONDOKUZ MAYIS ÜNİVERSİTESİ', 'TOROS ÜNİVERSİTESİ',\n",
       "       'DOKUZ EYLÜL ÜNİVERSİTESİ', 'ERZİNCAN ÜNİVERSİTESİ',\n",
       "       'MUĞLA SITKI KOÇMAN ÜNİVERSİTESİ', 'NİŞANTAŞI ÜNİVERSİTESİ',\n",
       "       'FIRAT ÜNİVERSİTESİ', 'RECEP TAYYİP ERDOĞAN ÜNİVERSİTESİ',\n",
       "       'AHİ EVRAN ÜNİVERSİTESİ', 'PAMUKKALE ÜNİVERSİTESİ',\n",
       "       'ABANT İZZET BAYSAL ÜNİVERSİTESİ', 'GÜMÜŞHANE ÜNİVERSİTESİ',\n",
       "       'NEVŞEHİR HACI BEKTAŞ VELİ', 'İSTANBUL AREL ÜNİVERSİTESİ',\n",
       "       'YILDIZ TEKNİK ÜNİVERSİTESİ', 'ANKARA ÜNİVERSİTESİ',\n",
       "       'ARDAHAN ÜNİVERSİTESİ', 'BİLECİK ŞEYH EDEBALİ ÜNİVERSİTESİ',\n",
       "       'AĞRI İBRAHİM ÇEÇEN ÜNİVERSİTESİ', 'HARRAN ÜNİVERSİTESİ',\n",
       "       'KARADENİZ TEKNİK ÜNİVERSİTESİ', 'KIRIKKALE ÜNİVERSİTESİ',\n",
       "       'NAMIK KEMAL ÜNİVERSİTESİ', 'SİNOP ÜNİVERSİTESİ',\n",
       "       'CUMHURİYET ÜNİVERSİTESİ', 'TOBB EKONOMİ VE TEKNOLOJİ',\n",
       "       'İNÖNÜ ÜNİVERSİTESİ', 'HASAN KALYONCU ÜNİVERSİTESİ'], dtype=object)"
      ]
     },
     "execution_count": 224,
     "metadata": {},
     "output_type": "execute_result"
    }
   ],
   "source": [
    "df_train['ikinci_uni_varmi'].unique() # burada aşırı boş veri olduğu ve kullanmayacağım için çok müdahale etmedim. sadece nan değerleri doldurdum"
   ]
  },
  {
   "cell_type": "code",
   "execution_count": 225,
   "id": "daa9f9c6-7e73-4c7c-8b4b-0709e8136c41",
   "metadata": {},
   "outputs": [
    {
     "data": {
      "text/plain": [
       "64706"
      ]
     },
     "execution_count": 225,
     "metadata": {},
     "output_type": "execute_result"
    }
   ],
   "source": [
    "df_train['ikinci_uni_varmi'].isnull().sum()"
   ]
  },
  {
   "cell_type": "code",
   "execution_count": 226,
   "id": "624dbf80-70d8-4ff9-8881-ec2e2f46aca9",
   "metadata": {},
   "outputs": [],
   "source": [
    "df_train['ikinci_uni_varmi'] = df_train['ikinci_uni_varmi'].str.lower()\n",
    "df_train['ikinci_uni_varmi'] = df_train['ikinci_uni_varmi'].fillna('yok')"
   ]
  },
  {
   "cell_type": "code",
   "execution_count": 227,
   "id": "02b1ff52-297c-40cc-9e7e-d5ae67d516d7",
   "metadata": {},
   "outputs": [],
   "source": [
    "df_train['ikinci_uni_varmi'] = le.fit_transform(df_train['ikinci_uni_varmi'])"
   ]
  },
  {
   "cell_type": "markdown",
   "id": "381c2802-7eef-41be-bcd5-3d8d23afb19e",
   "metadata": {},
   "source": [
    "## İşlemler"
   ]
  },
  {
   "cell_type": "code",
   "execution_count": 228,
   "id": "1f6b2141-e556-484e-b497-22aefc5f406b",
   "metadata": {
    "scrolled": true
   },
   "outputs": [
    {
     "name": "stdout",
     "output_type": "stream",
     "text": [
      "<class 'pandas.core.frame.DataFrame'>\n",
      "RangeIndex: 65125 entries, 0 to 65124\n",
      "Data columns (total 46 columns):\n",
      " #   Column               Non-Null Count  Dtype  \n",
      "---  ------               --------------  -----  \n",
      " 0   b_yili               65125 non-null  int64  \n",
      " 1   D_puani              65125 non-null  float64\n",
      " 2   cinsiyet             65125 non-null  int32  \n",
      " 3   d_yeri               65125 non-null  int32  \n",
      " 4   ikametgah            65125 non-null  int32  \n",
      " 5   uni_adi              65125 non-null  int32  \n",
      " 6   uni_turu             65125 non-null  int32  \n",
      " 7   burs_yuzdesi         65125 non-null  int32  \n",
      " 8   bursu_varmi          65125 non-null  int32  \n",
      " 9   bolum                65125 non-null  int32  \n",
      " 10  uni_kacinci_sinif    65125 non-null  int32  \n",
      " 11  uni_not_ort          65125 non-null  int32  \n",
      " 12  baska_uni_mezunmu    65125 non-null  int32  \n",
      " 13  lise_adi             65125 non-null  int32  \n",
      " 14  lise_diger           65125 non-null  int32  \n",
      " 15  lise_sehir           65125 non-null  int32  \n",
      " 16  lise_turu            65125 non-null  int32  \n",
      " 17  lise_bolumu          65125 non-null  int32  \n",
      " 18  lise_bolum_diger     65125 non-null  int32  \n",
      " 19  lise_mez_notu        65125 non-null  int32  \n",
      " 20  baska_burs_varmi     65125 non-null  int32  \n",
      " 21  burs_aldigi_kurum    65125 non-null  int32  \n",
      " 22  bk_burs_miktari      65125 non-null  int64  \n",
      " 23  a_egitim_durumu      65125 non-null  int32  \n",
      " 24  a_calisma_durumu     65125 non-null  int32  \n",
      " 25  a_sektor             65125 non-null  int32  \n",
      " 26  b_egitim_durumu      65125 non-null  int32  \n",
      " 27  b_calisma_durumu     65125 non-null  int32  \n",
      " 28  b_sektor             65125 non-null  int32  \n",
      " 29  k_sayisi             65125 non-null  int32  \n",
      " 30  gir_klube_uyemi      65125 non-null  int32  \n",
      " 31  kulup_ismi           65125 non-null  int32  \n",
      " 32  spor_dali_mesgulmu   65125 non-null  int32  \n",
      " 33  spor_rolu_ne         65125 non-null  int32  \n",
      " 34  aktif_stk_uyesimi    65125 non-null  int32  \n",
      " 35  hangi_stk            65125 non-null  int32  \n",
      " 36  stk_proje_katildimi  65125 non-null  int32  \n",
      " 37  gir_deneyim_varmi    65125 non-null  int32  \n",
      " 38  gir_deneyim_acikla   65125 non-null  int64  \n",
      " 39  ing_varmi            65125 non-null  int32  \n",
      " 40  ing_seviye           65125 non-null  int32  \n",
      " 41  ikinci_uni_varmi     65125 non-null  int32  \n",
      " 42  id                   65125 non-null  int64  \n",
      " 43  yil                  65125 non-null  int32  \n",
      " 44  yas                  65125 non-null  int32  \n",
      " 45  ay                   65125 non-null  int32  \n",
      "dtypes: float64(1), int32(41), int64(4)\n",
      "memory usage: 12.7 MB\n"
     ]
    }
   ],
   "source": [
    "df_train.info()"
   ]
  },
  {
   "cell_type": "code",
   "execution_count": 229,
   "id": "4be38510-ad0b-447c-b52e-37dd08b98da0",
   "metadata": {
    "scrolled": true
   },
   "outputs": [],
   "source": [
    "df_train.drop(columns=['d_yeri', 'ikametgah', 'lise_adi','cinsiyet',\n",
    "                      'burs_yuzdesi', 'lise_adi','lise_diger',\n",
    "                      'lise_bolumu', 'baska_uni_mezunmu', 'lise_bolum_diger', 'kulup_ismi', 'lise_sehir',\n",
    "                      'baska_burs_varmi', 'burs_aldigi_kurum', 'bk_burs_miktari', 'hangi_stk', 'ing_seviye', 'stk_proje_katildimi', 'ikinci_uni_varmi'], inplace=True)\n",
    "# bu verileri düzenlememize rağmen gerek test datasında eksik olmasından gerek anlamsız olduğundan verisetinden çıkarıyoruz."
   ]
  },
  {
   "cell_type": "code",
   "execution_count": 230,
   "id": "f680a59f-dc1b-4ca3-9be5-8a4a66dcad75",
   "metadata": {},
   "outputs": [],
   "source": [
    "from sklearn.preprocessing import LabelEncoder, MinMaxScaler, StandardScaler\n",
    "\n",
    "scaler = StandardScaler() # standart scaler ile birden fazla değişkenli sütunları standardize ediyoruz. makine öğrenmesine uygun olması için\n",
    "\n",
    "df_train[[\n",
    "       'uni_adi', 'uni_turu',\n",
    "       'bolum']] = scaler.fit_transform(df_train[[\n",
    "       'uni_adi', 'uni_turu',\n",
    "       'bolum']])"
   ]
  },
  {
   "cell_type": "code",
   "execution_count": 231,
   "id": "5c23f86d-8e95-4102-9a6a-e93426bdd43c",
   "metadata": {},
   "outputs": [
    {
     "data": {
      "text/html": [
       "<div>\n",
       "<style scoped>\n",
       "    .dataframe tbody tr th:only-of-type {\n",
       "        vertical-align: middle;\n",
       "    }\n",
       "\n",
       "    .dataframe tbody tr th {\n",
       "        vertical-align: top;\n",
       "    }\n",
       "\n",
       "    .dataframe thead th {\n",
       "        text-align: right;\n",
       "    }\n",
       "</style>\n",
       "<table border=\"1\" class=\"dataframe\">\n",
       "  <thead>\n",
       "    <tr style=\"text-align: right;\">\n",
       "      <th></th>\n",
       "      <th>b_yili</th>\n",
       "      <th>D_puani</th>\n",
       "      <th>uni_adi</th>\n",
       "      <th>uni_turu</th>\n",
       "      <th>bursu_varmi</th>\n",
       "      <th>bolum</th>\n",
       "      <th>uni_kacinci_sinif</th>\n",
       "      <th>uni_not_ort</th>\n",
       "      <th>lise_turu</th>\n",
       "      <th>lise_mez_notu</th>\n",
       "      <th>a_egitim_durumu</th>\n",
       "      <th>a_calisma_durumu</th>\n",
       "      <th>a_sektor</th>\n",
       "      <th>b_egitim_durumu</th>\n",
       "      <th>b_calisma_durumu</th>\n",
       "      <th>b_sektor</th>\n",
       "      <th>k_sayisi</th>\n",
       "      <th>gir_klube_uyemi</th>\n",
       "      <th>spor_dali_mesgulmu</th>\n",
       "      <th>spor_rolu_ne</th>\n",
       "      <th>aktif_stk_uyesimi</th>\n",
       "      <th>gir_deneyim_varmi</th>\n",
       "      <th>gir_deneyim_acikla</th>\n",
       "      <th>ing_varmi</th>\n",
       "      <th>id</th>\n",
       "      <th>yil</th>\n",
       "      <th>yas</th>\n",
       "      <th>ay</th>\n",
       "    </tr>\n",
       "  </thead>\n",
       "  <tbody>\n",
       "    <tr>\n",
       "      <th>0</th>\n",
       "      <td>2014</td>\n",
       "      <td>52.0</td>\n",
       "      <td>0.306247</td>\n",
       "      <td>2.147174</td>\n",
       "      <td>1</td>\n",
       "      <td>1.195041</td>\n",
       "      <td>3</td>\n",
       "      <td>3</td>\n",
       "      <td>0</td>\n",
       "      <td>1</td>\n",
       "      <td>4</td>\n",
       "      <td>0</td>\n",
       "      <td>0</td>\n",
       "      <td>4</td>\n",
       "      <td>2</td>\n",
       "      <td>0</td>\n",
       "      <td>1</td>\n",
       "      <td>1</td>\n",
       "      <td>1</td>\n",
       "      <td>1</td>\n",
       "      <td>0</td>\n",
       "      <td>0</td>\n",
       "      <td>0</td>\n",
       "      <td>0</td>\n",
       "      <td>0</td>\n",
       "      <td>1994</td>\n",
       "      <td>30</td>\n",
       "      <td>6</td>\n",
       "    </tr>\n",
       "    <tr>\n",
       "      <th>1</th>\n",
       "      <td>2014</td>\n",
       "      <td>30.0</td>\n",
       "      <td>0.306247</td>\n",
       "      <td>2.147174</td>\n",
       "      <td>0</td>\n",
       "      <td>-1.164822</td>\n",
       "      <td>3</td>\n",
       "      <td>2</td>\n",
       "      <td>0</td>\n",
       "      <td>1</td>\n",
       "      <td>4</td>\n",
       "      <td>1</td>\n",
       "      <td>2</td>\n",
       "      <td>5</td>\n",
       "      <td>2</td>\n",
       "      <td>0</td>\n",
       "      <td>1</td>\n",
       "      <td>0</td>\n",
       "      <td>0</td>\n",
       "      <td>0</td>\n",
       "      <td>0</td>\n",
       "      <td>1</td>\n",
       "      <td>1</td>\n",
       "      <td>0</td>\n",
       "      <td>1</td>\n",
       "      <td>1993</td>\n",
       "      <td>31</td>\n",
       "      <td>11</td>\n",
       "    </tr>\n",
       "    <tr>\n",
       "      <th>2</th>\n",
       "      <td>2014</td>\n",
       "      <td>18.0</td>\n",
       "      <td>0.306247</td>\n",
       "      <td>2.147174</td>\n",
       "      <td>0</td>\n",
       "      <td>-0.028235</td>\n",
       "      <td>1</td>\n",
       "      <td>0</td>\n",
       "      <td>0</td>\n",
       "      <td>1</td>\n",
       "      <td>1</td>\n",
       "      <td>0</td>\n",
       "      <td>0</td>\n",
       "      <td>1</td>\n",
       "      <td>1</td>\n",
       "      <td>3</td>\n",
       "      <td>6</td>\n",
       "      <td>1</td>\n",
       "      <td>0</td>\n",
       "      <td>0</td>\n",
       "      <td>0</td>\n",
       "      <td>0</td>\n",
       "      <td>0</td>\n",
       "      <td>0</td>\n",
       "      <td>2</td>\n",
       "      <td>2000</td>\n",
       "      <td>24</td>\n",
       "      <td>1</td>\n",
       "    </tr>\n",
       "    <tr>\n",
       "      <th>3</th>\n",
       "      <td>2014</td>\n",
       "      <td>40.0</td>\n",
       "      <td>0.306247</td>\n",
       "      <td>2.147174</td>\n",
       "      <td>1</td>\n",
       "      <td>-1.579002</td>\n",
       "      <td>3</td>\n",
       "      <td>2</td>\n",
       "      <td>0</td>\n",
       "      <td>1</td>\n",
       "      <td>1</td>\n",
       "      <td>0</td>\n",
       "      <td>0</td>\n",
       "      <td>4</td>\n",
       "      <td>2</td>\n",
       "      <td>0</td>\n",
       "      <td>10</td>\n",
       "      <td>1</td>\n",
       "      <td>0</td>\n",
       "      <td>0</td>\n",
       "      <td>0</td>\n",
       "      <td>0</td>\n",
       "      <td>0</td>\n",
       "      <td>0</td>\n",
       "      <td>3</td>\n",
       "      <td>1991</td>\n",
       "      <td>33</td>\n",
       "      <td>4</td>\n",
       "    </tr>\n",
       "    <tr>\n",
       "      <th>4</th>\n",
       "      <td>2014</td>\n",
       "      <td>24.0</td>\n",
       "      <td>0.306247</td>\n",
       "      <td>2.147174</td>\n",
       "      <td>1</td>\n",
       "      <td>0.270360</td>\n",
       "      <td>0</td>\n",
       "      <td>2</td>\n",
       "      <td>1</td>\n",
       "      <td>1</td>\n",
       "      <td>1</td>\n",
       "      <td>0</td>\n",
       "      <td>0</td>\n",
       "      <td>4</td>\n",
       "      <td>2</td>\n",
       "      <td>0</td>\n",
       "      <td>1</td>\n",
       "      <td>0</td>\n",
       "      <td>0</td>\n",
       "      <td>0</td>\n",
       "      <td>0</td>\n",
       "      <td>0</td>\n",
       "      <td>0</td>\n",
       "      <td>0</td>\n",
       "      <td>4</td>\n",
       "      <td>2000</td>\n",
       "      <td>24</td>\n",
       "      <td>1</td>\n",
       "    </tr>\n",
       "    <tr>\n",
       "      <th>...</th>\n",
       "      <td>...</td>\n",
       "      <td>...</td>\n",
       "      <td>...</td>\n",
       "      <td>...</td>\n",
       "      <td>...</td>\n",
       "      <td>...</td>\n",
       "      <td>...</td>\n",
       "      <td>...</td>\n",
       "      <td>...</td>\n",
       "      <td>...</td>\n",
       "      <td>...</td>\n",
       "      <td>...</td>\n",
       "      <td>...</td>\n",
       "      <td>...</td>\n",
       "      <td>...</td>\n",
       "      <td>...</td>\n",
       "      <td>...</td>\n",
       "      <td>...</td>\n",
       "      <td>...</td>\n",
       "      <td>...</td>\n",
       "      <td>...</td>\n",
       "      <td>...</td>\n",
       "      <td>...</td>\n",
       "      <td>...</td>\n",
       "      <td>...</td>\n",
       "      <td>...</td>\n",
       "      <td>...</td>\n",
       "      <td>...</td>\n",
       "    </tr>\n",
       "    <tr>\n",
       "      <th>65120</th>\n",
       "      <td>2022</td>\n",
       "      <td>0.0</td>\n",
       "      <td>0.796832</td>\n",
       "      <td>2.147174</td>\n",
       "      <td>1</td>\n",
       "      <td>1.195041</td>\n",
       "      <td>2</td>\n",
       "      <td>0</td>\n",
       "      <td>0</td>\n",
       "      <td>1</td>\n",
       "      <td>1</td>\n",
       "      <td>0</td>\n",
       "      <td>0</td>\n",
       "      <td>2</td>\n",
       "      <td>1</td>\n",
       "      <td>3</td>\n",
       "      <td>4</td>\n",
       "      <td>0</td>\n",
       "      <td>0</td>\n",
       "      <td>0</td>\n",
       "      <td>0</td>\n",
       "      <td>0</td>\n",
       "      <td>0</td>\n",
       "      <td>0</td>\n",
       "      <td>65120</td>\n",
       "      <td>2000</td>\n",
       "      <td>24</td>\n",
       "      <td>1</td>\n",
       "    </tr>\n",
       "    <tr>\n",
       "      <th>65121</th>\n",
       "      <td>2022</td>\n",
       "      <td>0.0</td>\n",
       "      <td>-1.165509</td>\n",
       "      <td>-0.465729</td>\n",
       "      <td>0</td>\n",
       "      <td>1.175777</td>\n",
       "      <td>1</td>\n",
       "      <td>0</td>\n",
       "      <td>0</td>\n",
       "      <td>2</td>\n",
       "      <td>3</td>\n",
       "      <td>0</td>\n",
       "      <td>0</td>\n",
       "      <td>3</td>\n",
       "      <td>1</td>\n",
       "      <td>3</td>\n",
       "      <td>4</td>\n",
       "      <td>0</td>\n",
       "      <td>0</td>\n",
       "      <td>0</td>\n",
       "      <td>0</td>\n",
       "      <td>0</td>\n",
       "      <td>0</td>\n",
       "      <td>0</td>\n",
       "      <td>65121</td>\n",
       "      <td>2000</td>\n",
       "      <td>24</td>\n",
       "      <td>1</td>\n",
       "    </tr>\n",
       "    <tr>\n",
       "      <th>65122</th>\n",
       "      <td>2022</td>\n",
       "      <td>0.0</td>\n",
       "      <td>-0.380573</td>\n",
       "      <td>-0.465729</td>\n",
       "      <td>0</td>\n",
       "      <td>-0.066763</td>\n",
       "      <td>4</td>\n",
       "      <td>0</td>\n",
       "      <td>0</td>\n",
       "      <td>2</td>\n",
       "      <td>3</td>\n",
       "      <td>0</td>\n",
       "      <td>0</td>\n",
       "      <td>3</td>\n",
       "      <td>0</td>\n",
       "      <td>0</td>\n",
       "      <td>3</td>\n",
       "      <td>0</td>\n",
       "      <td>0</td>\n",
       "      <td>0</td>\n",
       "      <td>0</td>\n",
       "      <td>0</td>\n",
       "      <td>0</td>\n",
       "      <td>0</td>\n",
       "      <td>65122</td>\n",
       "      <td>2000</td>\n",
       "      <td>24</td>\n",
       "      <td>1</td>\n",
       "    </tr>\n",
       "    <tr>\n",
       "      <th>65123</th>\n",
       "      <td>2022</td>\n",
       "      <td>0.0</td>\n",
       "      <td>-1.983151</td>\n",
       "      <td>-0.465729</td>\n",
       "      <td>0</td>\n",
       "      <td>0.154775</td>\n",
       "      <td>3</td>\n",
       "      <td>0</td>\n",
       "      <td>0</td>\n",
       "      <td>1</td>\n",
       "      <td>1</td>\n",
       "      <td>1</td>\n",
       "      <td>3</td>\n",
       "      <td>3</td>\n",
       "      <td>1</td>\n",
       "      <td>2</td>\n",
       "      <td>2</td>\n",
       "      <td>0</td>\n",
       "      <td>0</td>\n",
       "      <td>0</td>\n",
       "      <td>0</td>\n",
       "      <td>0</td>\n",
       "      <td>0</td>\n",
       "      <td>0</td>\n",
       "      <td>65123</td>\n",
       "      <td>2000</td>\n",
       "      <td>24</td>\n",
       "      <td>1</td>\n",
       "    </tr>\n",
       "    <tr>\n",
       "      <th>65124</th>\n",
       "      <td>2022</td>\n",
       "      <td>0.0</td>\n",
       "      <td>-2.669970</td>\n",
       "      <td>-0.465729</td>\n",
       "      <td>0</td>\n",
       "      <td>1.031296</td>\n",
       "      <td>4</td>\n",
       "      <td>2</td>\n",
       "      <td>0</td>\n",
       "      <td>2</td>\n",
       "      <td>1</td>\n",
       "      <td>0</td>\n",
       "      <td>0</td>\n",
       "      <td>1</td>\n",
       "      <td>1</td>\n",
       "      <td>1</td>\n",
       "      <td>2</td>\n",
       "      <td>0</td>\n",
       "      <td>1</td>\n",
       "      <td>4</td>\n",
       "      <td>1</td>\n",
       "      <td>1</td>\n",
       "      <td>1</td>\n",
       "      <td>1</td>\n",
       "      <td>65124</td>\n",
       "      <td>2000</td>\n",
       "      <td>24</td>\n",
       "      <td>1</td>\n",
       "    </tr>\n",
       "  </tbody>\n",
       "</table>\n",
       "<p>65125 rows × 28 columns</p>\n",
       "</div>"
      ],
      "text/plain": [
       "       b_yili  D_puani   uni_adi  uni_turu  bursu_varmi     bolum  uni_kacinci_sinif  uni_not_ort  lise_turu  lise_mez_notu  a_egitim_durumu  a_calisma_durumu  a_sektor  b_egitim_durumu  b_calisma_durumu  b_sektor  k_sayisi  gir_klube_uyemi  spor_dali_mesgulmu  spor_rolu_ne  aktif_stk_uyesimi  gir_deneyim_varmi  gir_deneyim_acikla  ing_varmi     id   yil  yas  ay\n",
       "0        2014     52.0  0.306247  2.147174            1  1.195041                  3            3          0              1                4                 0         0                4                 2         0         1                1                   1             1                  0                  0                   0          0      0  1994   30   6\n",
       "1        2014     30.0  0.306247  2.147174            0 -1.164822                  3            2          0              1                4                 1         2                5                 2         0         1                0                   0             0                  0                  1                   1          0      1  1993   31  11\n",
       "2        2014     18.0  0.306247  2.147174            0 -0.028235                  1            0          0              1                1                 0         0                1                 1         3         6                1                   0             0                  0                  0                   0          0      2  2000   24   1\n",
       "3        2014     40.0  0.306247  2.147174            1 -1.579002                  3            2          0              1                1                 0         0                4                 2         0        10                1                   0             0                  0                  0                   0          0      3  1991   33   4\n",
       "4        2014     24.0  0.306247  2.147174            1  0.270360                  0            2          1              1                1                 0         0                4                 2         0         1                0                   0             0                  0                  0                   0          0      4  2000   24   1\n",
       "...       ...      ...       ...       ...          ...       ...                ...          ...        ...            ...              ...               ...       ...              ...               ...       ...       ...              ...                 ...           ...                ...                ...                 ...        ...    ...   ...  ...  ..\n",
       "65120    2022      0.0  0.796832  2.147174            1  1.195041                  2            0          0              1                1                 0         0                2                 1         3         4                0                   0             0                  0                  0                   0          0  65120  2000   24   1\n",
       "65121    2022      0.0 -1.165509 -0.465729            0  1.175777                  1            0          0              2                3                 0         0                3                 1         3         4                0                   0             0                  0                  0                   0          0  65121  2000   24   1\n",
       "65122    2022      0.0 -0.380573 -0.465729            0 -0.066763                  4            0          0              2                3                 0         0                3                 0         0         3                0                   0             0                  0                  0                   0          0  65122  2000   24   1\n",
       "65123    2022      0.0 -1.983151 -0.465729            0  0.154775                  3            0          0              1                1                 1         3                3                 1         2         2                0                   0             0                  0                  0                   0          0  65123  2000   24   1\n",
       "65124    2022      0.0 -2.669970 -0.465729            0  1.031296                  4            2          0              2                1                 0         0                1                 1         1         2                0                   1             4                  1                  1                   1          1  65124  2000   24   1\n",
       "\n",
       "[65125 rows x 28 columns]"
      ]
     },
     "execution_count": 231,
     "metadata": {},
     "output_type": "execute_result"
    }
   ],
   "source": [
    "pd.set_option('display.max_columns', 500)\n",
    "pd.set_option('display.width', 1000)\n",
    "df_train"
   ]
  },
  {
   "cell_type": "code",
   "execution_count": 232,
   "id": "5fba277c-b999-4c48-899e-4e4d7fca43c9",
   "metadata": {
    "scrolled": true
   },
   "outputs": [],
   "source": [
    "# pip install lightgbm"
   ]
  },
  {
   "cell_type": "code",
   "execution_count": 233,
   "id": "b84e2d97-c1aa-4b51-b1a2-5a187973f880",
   "metadata": {},
   "outputs": [],
   "source": [
    "from sklearn.model_selection import train_test_split\n",
    "from sklearn.metrics import mean_squared_error\n",
    "from sklearn.linear_model import LinearRegression, Ridge, Lasso, ElasticNet, BayesianRidge, Lars, LassoLars\n",
    "from sklearn.ensemble import RandomForestRegressor, ExtraTreesRegressor, GradientBoostingRegressor, AdaBoostRegressor, HistGradientBoostingRegressor\n",
    "from sklearn.tree import DecisionTreeRegressor\n",
    "from sklearn.neighbors import KNeighborsRegressor\n",
    "from sklearn.linear_model import HuberRegressor, OrthogonalMatchingPursuit\n",
    "from sklearn.dummy import DummyRegressor\n",
    "from sklearn.experimental import enable_hist_gradient_boosting\n",
    "from catboost import CatBoostRegressor\n",
    "import lightgbm as lgb\n",
    "import xgboost as xgb\n",
    "# çoğu makine öğrenmesi algoritmasının kütüphanesini dahil ediyoruz ki toplu şekilde gözlem yapabilmek adına.\n",
    "# her bir modelin train datası için rmse değerini gözlemleyeceğiz.\n",
    "\n",
    "X = df_train.drop(columns=['D_puani', 'id']) # tüm kategorik verilerimizi topladığımız bağımsız değişkenlerimiz\n",
    "y = df_train['D_puani'] # üzerinden tahmin yürüteceğimiz bağımsız değişkenimiz"
   ]
  },
  {
   "cell_type": "code",
   "execution_count": 234,
   "id": "cbcb8e47-238b-4922-95ff-cf2f607e6943",
   "metadata": {},
   "outputs": [
    {
     "name": "stdout",
     "output_type": "stream",
     "text": [
      "Linear Regression: RMSE = 9.853420139002527\n",
      "Ridge Regression: RMSE = 9.84917727614351\n",
      "Lasso Regression: RMSE = 10.927521005689346\n",
      "Elastic Net: RMSE = 12.93849650171279\n",
      "Bayesian Ridge: RMSE = 9.849139374365237\n",
      "Least Angle Regression: RMSE = 9.849189970249318\n",
      "Lasso Least Angle Regression: RMSE = 10.927562210733127\n",
      "Gradient Boosting Regressor: RMSE = 7.5470132117583155\n",
      "Random Forest Regressor: RMSE = 7.429046223078988\n",
      "Extra Trees Regressor: RMSE = 7.801151337379162\n",
      "AdaBoost Regressor: RMSE = 10.783808545356882\n",
      "Decision Tree Regressor: RMSE = 10.170929747152837\n",
      "K Neighbors Regressor: RMSE = 10.573758994351696\n",
      "Huber Regressor: RMSE = 10.763366437227283\n",
      "Orthogonal Matching Pursuit: RMSE = 17.68841180700976\n",
      "Dummy Regressor: RMSE = 18.176315250753337\n",
      "Extreme Gradient Boosting: RMSE = 7.0594582506983645\n",
      "[LightGBM] [Info] Auto-choosing row-wise multi-threading, the overhead of testing was 0.003300 seconds.\n",
      "You can set `force_row_wise=true` to remove the overhead.\n",
      "And if memory is not enough, you can set `force_col_wise=true`.\n",
      "[LightGBM] [Info] Total Bins 423\n",
      "[LightGBM] [Info] Number of data points in the train set: 52100, number of used features: 26\n",
      "[LightGBM] [Info] Start training from score 32.094818\n",
      "Light Gradient Boosting Machine: RMSE = 7.054952408069435\n",
      "CatBoost Regressor: RMSE = 6.966763671747919\n",
      "Hist Gradient Boosting Regressor: RMSE = 7.054883828399902\n",
      "                               Model       RMSE\n",
      "18                CatBoost Regressor   6.966764\n",
      "19  Hist Gradient Boosting Regressor   7.054884\n",
      "17   Light Gradient Boosting Machine   7.054952\n",
      "16         Extreme Gradient Boosting   7.059458\n",
      "8            Random Forest Regressor   7.429046\n",
      "7        Gradient Boosting Regressor   7.547013\n",
      "9              Extra Trees Regressor   7.801151\n",
      "4                     Bayesian Ridge   9.849139\n",
      "1                   Ridge Regression   9.849177\n",
      "5             Least Angle Regression   9.849190\n",
      "0                  Linear Regression   9.853420\n",
      "11           Decision Tree Regressor  10.170930\n",
      "12             K Neighbors Regressor  10.573759\n",
      "13                   Huber Regressor  10.763366\n",
      "10                AdaBoost Regressor  10.783809\n",
      "2                   Lasso Regression  10.927521\n",
      "6       Lasso Least Angle Regression  10.927562\n",
      "3                        Elastic Net  12.938497\n",
      "14       Orthogonal Matching Pursuit  17.688412\n",
      "15                   Dummy Regressor  18.176315\n"
     ]
    }
   ],
   "source": [
    "X_train, X_test, y_train, y_test = train_test_split(X, y, test_size=0.2, random_state=42) # train-test işlemleri\n",
    "\n",
    "models = {\n",
    "    'Linear Regression': LinearRegression(),\n",
    "    'Ridge Regression': Ridge(),\n",
    "    'Lasso Regression': Lasso(),\n",
    "    'Elastic Net': ElasticNet(),\n",
    "    'Bayesian Ridge': BayesianRidge(),\n",
    "    'Least Angle Regression': Lars(),\n",
    "    'Lasso Least Angle Regression': LassoLars(),\n",
    "    'Gradient Boosting Regressor': GradientBoostingRegressor(),\n",
    "    'Random Forest Regressor': RandomForestRegressor(),\n",
    "    'Extra Trees Regressor': ExtraTreesRegressor(),\n",
    "    'AdaBoost Regressor': AdaBoostRegressor(),\n",
    "    'Decision Tree Regressor': DecisionTreeRegressor(),\n",
    "    'K Neighbors Regressor': KNeighborsRegressor(),\n",
    "    'Huber Regressor': HuberRegressor(),\n",
    "    'Orthogonal Matching Pursuit': OrthogonalMatchingPursuit(),\n",
    "    'Dummy Regressor': DummyRegressor(strategy='mean'),\n",
    "    'Extreme Gradient Boosting': xgb.XGBRegressor(),\n",
    "    'Light Gradient Boosting Machine': lgb.LGBMRegressor(),\n",
    "    'CatBoost Regressor': CatBoostRegressor(learning_rate=0.1, depth=6, iterations=500, verbose=0),\n",
    "    'Hist Gradient Boosting Regressor': HistGradientBoostingRegressor()\n",
    "}\n",
    "\n",
    "results = {}\n",
    "\n",
    "for name, model in models.items():\n",
    "    model.fit(X_train, y_train)\n",
    "    y_pred = model.predict(X_test)\n",
    "    rmse = np.sqrt(mean_squared_error(y_test, y_pred))\n",
    "    results[name] = rmse\n",
    "    print(f'{name}: RMSE = {rmse}')\n",
    "\n",
    "results_df = pd.DataFrame(list(results.items()), columns=['Model', 'RMSE'])\n",
    "print(results_df.sort_values(by='RMSE'))"
   ]
  },
  {
   "cell_type": "code",
   "execution_count": 235,
   "id": "39fc8f52-4309-447b-97a8-3b9197020aef",
   "metadata": {},
   "outputs": [],
   "source": [
    "# tüm algoritmaları gözlemlediğimizde en mantıklı olarak catboost gözüküyor. Dolayısıyla modeli catboost üzerine kuracağız."
   ]
  },
  {
   "cell_type": "code",
   "execution_count": 236,
   "id": "47511dc8-f44a-4eee-acd9-16e96a693cad",
   "metadata": {
    "scrolled": true
   },
   "outputs": [
    {
     "name": "stdout",
     "output_type": "stream",
     "text": [
      "Learning rate set to 0.076461\n",
      "0:\tlearn: 17.1239352\ttotal: 5.51ms\tremaining: 5.51s\n",
      "1:\tlearn: 16.1885656\ttotal: 10.3ms\tremaining: 5.12s\n",
      "2:\tlearn: 15.3655770\ttotal: 14.9ms\tremaining: 4.95s\n",
      "3:\tlearn: 14.6448170\ttotal: 19.2ms\tremaining: 4.78s\n",
      "4:\tlearn: 13.9486329\ttotal: 23.5ms\tremaining: 4.68s\n",
      "5:\tlearn: 13.3255488\ttotal: 27.8ms\tremaining: 4.61s\n",
      "6:\tlearn: 12.7645592\ttotal: 32.2ms\tremaining: 4.57s\n",
      "7:\tlearn: 12.2760625\ttotal: 36.5ms\tremaining: 4.53s\n",
      "8:\tlearn: 11.8263090\ttotal: 40.8ms\tremaining: 4.49s\n",
      "9:\tlearn: 11.4273753\ttotal: 45.4ms\tremaining: 4.49s\n",
      "10:\tlearn: 11.0832592\ttotal: 50ms\tremaining: 4.5s\n",
      "11:\tlearn: 10.7657285\ttotal: 54.8ms\tremaining: 4.51s\n",
      "12:\tlearn: 10.4809781\ttotal: 59.3ms\tremaining: 4.5s\n",
      "13:\tlearn: 10.2388156\ttotal: 63.6ms\tremaining: 4.48s\n",
      "14:\tlearn: 10.0064483\ttotal: 67.8ms\tremaining: 4.45s\n",
      "15:\tlearn: 9.8082173\ttotal: 71.8ms\tremaining: 4.42s\n",
      "16:\tlearn: 9.6303714\ttotal: 75.8ms\tremaining: 4.38s\n",
      "17:\tlearn: 9.4768792\ttotal: 79.7ms\tremaining: 4.35s\n",
      "18:\tlearn: 9.3232267\ttotal: 83.7ms\tremaining: 4.32s\n",
      "19:\tlearn: 9.1946992\ttotal: 87.7ms\tremaining: 4.3s\n",
      "20:\tlearn: 9.0643313\ttotal: 91.9ms\tremaining: 4.28s\n",
      "21:\tlearn: 8.9484287\ttotal: 96ms\tremaining: 4.27s\n",
      "22:\tlearn: 8.8366121\ttotal: 101ms\tremaining: 4.27s\n",
      "23:\tlearn: 8.7369449\ttotal: 105ms\tremaining: 4.26s\n",
      "24:\tlearn: 8.6493671\ttotal: 109ms\tremaining: 4.24s\n",
      "25:\tlearn: 8.5569516\ttotal: 113ms\tremaining: 4.22s\n",
      "26:\tlearn: 8.4823312\ttotal: 116ms\tremaining: 4.19s\n",
      "27:\tlearn: 8.3988902\ttotal: 121ms\tremaining: 4.18s\n",
      "28:\tlearn: 8.3348407\ttotal: 124ms\tremaining: 4.15s\n",
      "29:\tlearn: 8.2681070\ttotal: 128ms\tremaining: 4.13s\n",
      "30:\tlearn: 8.2106769\ttotal: 131ms\tremaining: 4.11s\n",
      "31:\tlearn: 8.1527960\ttotal: 135ms\tremaining: 4.09s\n",
      "32:\tlearn: 8.0999684\ttotal: 139ms\tremaining: 4.06s\n",
      "33:\tlearn: 8.0531681\ttotal: 142ms\tremaining: 4.04s\n",
      "34:\tlearn: 8.0160843\ttotal: 146ms\tremaining: 4.02s\n",
      "35:\tlearn: 7.9717247\ttotal: 150ms\tremaining: 4.01s\n",
      "36:\tlearn: 7.9172467\ttotal: 154ms\tremaining: 4.01s\n",
      "37:\tlearn: 7.8754805\ttotal: 158ms\tremaining: 4s\n",
      "38:\tlearn: 7.8386415\ttotal: 163ms\tremaining: 4s\n",
      "39:\tlearn: 7.8050160\ttotal: 167ms\tremaining: 4s\n",
      "40:\tlearn: 7.7717062\ttotal: 171ms\tremaining: 4s\n",
      "41:\tlearn: 7.7451428\ttotal: 176ms\tremaining: 4s\n",
      "42:\tlearn: 7.7083896\ttotal: 180ms\tremaining: 4.01s\n",
      "43:\tlearn: 7.6824765\ttotal: 185ms\tremaining: 4.02s\n",
      "44:\tlearn: 7.6584877\ttotal: 191ms\tremaining: 4.05s\n",
      "45:\tlearn: 7.6314734\ttotal: 195ms\tremaining: 4.04s\n",
      "46:\tlearn: 7.6102033\ttotal: 199ms\tremaining: 4.04s\n",
      "47:\tlearn: 7.5942468\ttotal: 203ms\tremaining: 4.03s\n",
      "48:\tlearn: 7.5736787\ttotal: 207ms\tremaining: 4.02s\n",
      "49:\tlearn: 7.5550214\ttotal: 212ms\tremaining: 4.02s\n",
      "50:\tlearn: 7.5290090\ttotal: 216ms\tremaining: 4.01s\n",
      "51:\tlearn: 7.5135947\ttotal: 220ms\tremaining: 4.01s\n",
      "52:\tlearn: 7.4982966\ttotal: 224ms\tremaining: 4s\n",
      "53:\tlearn: 7.4823704\ttotal: 228ms\tremaining: 3.99s\n",
      "54:\tlearn: 7.4678504\ttotal: 232ms\tremaining: 3.98s\n",
      "55:\tlearn: 7.4556351\ttotal: 236ms\tremaining: 3.97s\n",
      "56:\tlearn: 7.4430698\ttotal: 240ms\tremaining: 3.96s\n",
      "57:\tlearn: 7.4265793\ttotal: 244ms\tremaining: 3.96s\n",
      "58:\tlearn: 7.4121378\ttotal: 248ms\tremaining: 3.95s\n",
      "59:\tlearn: 7.3990702\ttotal: 252ms\tremaining: 3.95s\n",
      "60:\tlearn: 7.3908324\ttotal: 256ms\tremaining: 3.94s\n",
      "61:\tlearn: 7.3823690\ttotal: 260ms\tremaining: 3.93s\n",
      "62:\tlearn: 7.3671574\ttotal: 263ms\tremaining: 3.92s\n",
      "63:\tlearn: 7.3565249\ttotal: 267ms\tremaining: 3.9s\n",
      "64:\tlearn: 7.3475294\ttotal: 271ms\tremaining: 3.9s\n",
      "65:\tlearn: 7.3390402\ttotal: 275ms\tremaining: 3.88s\n",
      "66:\tlearn: 7.3288890\ttotal: 278ms\tremaining: 3.87s\n",
      "67:\tlearn: 7.3218096\ttotal: 282ms\tremaining: 3.86s\n",
      "68:\tlearn: 7.3136437\ttotal: 286ms\tremaining: 3.86s\n",
      "69:\tlearn: 7.3064786\ttotal: 289ms\tremaining: 3.85s\n",
      "70:\tlearn: 7.3020773\ttotal: 293ms\tremaining: 3.83s\n",
      "71:\tlearn: 7.2963069\ttotal: 296ms\tremaining: 3.82s\n",
      "72:\tlearn: 7.2918215\ttotal: 300ms\tremaining: 3.8s\n",
      "73:\tlearn: 7.2799305\ttotal: 304ms\tremaining: 3.8s\n",
      "74:\tlearn: 7.2746769\ttotal: 307ms\tremaining: 3.79s\n",
      "75:\tlearn: 7.2662182\ttotal: 311ms\tremaining: 3.78s\n",
      "76:\tlearn: 7.2612568\ttotal: 315ms\tremaining: 3.77s\n",
      "77:\tlearn: 7.2488531\ttotal: 318ms\tremaining: 3.76s\n",
      "78:\tlearn: 7.2411457\ttotal: 322ms\tremaining: 3.75s\n",
      "79:\tlearn: 7.2335756\ttotal: 325ms\tremaining: 3.74s\n",
      "80:\tlearn: 7.2281213\ttotal: 329ms\tremaining: 3.73s\n",
      "81:\tlearn: 7.2225310\ttotal: 333ms\tremaining: 3.72s\n",
      "82:\tlearn: 7.2191501\ttotal: 336ms\tremaining: 3.71s\n",
      "83:\tlearn: 7.2127302\ttotal: 340ms\tremaining: 3.71s\n",
      "84:\tlearn: 7.2075645\ttotal: 344ms\tremaining: 3.7s\n",
      "85:\tlearn: 7.2042929\ttotal: 348ms\tremaining: 3.69s\n",
      "86:\tlearn: 7.2003081\ttotal: 352ms\tremaining: 3.69s\n",
      "87:\tlearn: 7.1899612\ttotal: 356ms\tremaining: 3.69s\n",
      "88:\tlearn: 7.1868176\ttotal: 360ms\tremaining: 3.69s\n",
      "89:\tlearn: 7.1833389\ttotal: 364ms\tremaining: 3.68s\n",
      "90:\tlearn: 7.1784581\ttotal: 368ms\tremaining: 3.67s\n",
      "91:\tlearn: 7.1762432\ttotal: 372ms\tremaining: 3.67s\n",
      "92:\tlearn: 7.1731865\ttotal: 376ms\tremaining: 3.67s\n",
      "93:\tlearn: 7.1690696\ttotal: 397ms\tremaining: 3.83s\n",
      "94:\tlearn: 7.1666548\ttotal: 407ms\tremaining: 3.88s\n",
      "95:\tlearn: 7.1621863\ttotal: 414ms\tremaining: 3.9s\n",
      "96:\tlearn: 7.1590149\ttotal: 422ms\tremaining: 3.93s\n",
      "97:\tlearn: 7.1514796\ttotal: 429ms\tremaining: 3.95s\n",
      "98:\tlearn: 7.1485226\ttotal: 436ms\tremaining: 3.97s\n",
      "99:\tlearn: 7.1446074\ttotal: 450ms\tremaining: 4.05s\n",
      "100:\tlearn: 7.1379836\ttotal: 466ms\tremaining: 4.15s\n",
      "101:\tlearn: 7.1353448\ttotal: 472ms\tremaining: 4.16s\n",
      "102:\tlearn: 7.1303927\ttotal: 477ms\tremaining: 4.15s\n",
      "103:\tlearn: 7.1275872\ttotal: 480ms\tremaining: 4.14s\n",
      "104:\tlearn: 7.1246626\ttotal: 484ms\tremaining: 4.13s\n",
      "105:\tlearn: 7.1223188\ttotal: 488ms\tremaining: 4.11s\n",
      "106:\tlearn: 7.1198277\ttotal: 493ms\tremaining: 4.12s\n",
      "107:\tlearn: 7.1158097\ttotal: 500ms\tremaining: 4.13s\n",
      "108:\tlearn: 7.1132777\ttotal: 505ms\tremaining: 4.13s\n",
      "109:\tlearn: 7.1104229\ttotal: 509ms\tremaining: 4.12s\n",
      "110:\tlearn: 7.1070233\ttotal: 514ms\tremaining: 4.11s\n",
      "111:\tlearn: 7.1034601\ttotal: 518ms\tremaining: 4.11s\n",
      "112:\tlearn: 7.1011538\ttotal: 522ms\tremaining: 4.1s\n",
      "113:\tlearn: 7.0998899\ttotal: 526ms\tremaining: 4.09s\n",
      "114:\tlearn: 7.0977518\ttotal: 531ms\tremaining: 4.08s\n",
      "115:\tlearn: 7.0941205\ttotal: 535ms\tremaining: 4.08s\n",
      "116:\tlearn: 7.0927699\ttotal: 539ms\tremaining: 4.07s\n",
      "117:\tlearn: 7.0904543\ttotal: 543ms\tremaining: 4.06s\n",
      "118:\tlearn: 7.0890378\ttotal: 547ms\tremaining: 4.05s\n",
      "119:\tlearn: 7.0835065\ttotal: 551ms\tremaining: 4.04s\n",
      "120:\tlearn: 7.0820380\ttotal: 555ms\tremaining: 4.03s\n",
      "121:\tlearn: 7.0809875\ttotal: 559ms\tremaining: 4.02s\n",
      "122:\tlearn: 7.0770929\ttotal: 563ms\tremaining: 4.01s\n",
      "123:\tlearn: 7.0731181\ttotal: 567ms\tremaining: 4s\n",
      "124:\tlearn: 7.0694025\ttotal: 571ms\tremaining: 4s\n",
      "125:\tlearn: 7.0684971\ttotal: 575ms\tremaining: 3.99s\n",
      "126:\tlearn: 7.0653103\ttotal: 580ms\tremaining: 3.98s\n",
      "127:\tlearn: 7.0622010\ttotal: 584ms\tremaining: 3.98s\n",
      "128:\tlearn: 7.0590598\ttotal: 588ms\tremaining: 3.97s\n",
      "129:\tlearn: 7.0566060\ttotal: 593ms\tremaining: 3.96s\n",
      "130:\tlearn: 7.0545765\ttotal: 596ms\tremaining: 3.96s\n",
      "131:\tlearn: 7.0518053\ttotal: 601ms\tremaining: 3.95s\n",
      "132:\tlearn: 7.0504277\ttotal: 605ms\tremaining: 3.94s\n",
      "133:\tlearn: 7.0484461\ttotal: 609ms\tremaining: 3.94s\n",
      "134:\tlearn: 7.0472421\ttotal: 613ms\tremaining: 3.93s\n",
      "135:\tlearn: 7.0448803\ttotal: 618ms\tremaining: 3.92s\n",
      "136:\tlearn: 7.0434680\ttotal: 622ms\tremaining: 3.92s\n",
      "137:\tlearn: 7.0415493\ttotal: 626ms\tremaining: 3.91s\n",
      "138:\tlearn: 7.0396333\ttotal: 631ms\tremaining: 3.91s\n",
      "139:\tlearn: 7.0375522\ttotal: 634ms\tremaining: 3.9s\n",
      "140:\tlearn: 7.0357565\ttotal: 638ms\tremaining: 3.89s\n",
      "141:\tlearn: 7.0333568\ttotal: 642ms\tremaining: 3.88s\n",
      "142:\tlearn: 7.0306380\ttotal: 645ms\tremaining: 3.87s\n",
      "143:\tlearn: 7.0288257\ttotal: 649ms\tremaining: 3.86s\n",
      "144:\tlearn: 7.0262370\ttotal: 653ms\tremaining: 3.85s\n",
      "145:\tlearn: 7.0247877\ttotal: 656ms\tremaining: 3.84s\n",
      "146:\tlearn: 7.0231354\ttotal: 660ms\tremaining: 3.83s\n",
      "147:\tlearn: 7.0215251\ttotal: 663ms\tremaining: 3.82s\n",
      "148:\tlearn: 7.0186911\ttotal: 667ms\tremaining: 3.81s\n",
      "149:\tlearn: 7.0165599\ttotal: 671ms\tremaining: 3.8s\n",
      "150:\tlearn: 7.0132288\ttotal: 674ms\tremaining: 3.79s\n",
      "151:\tlearn: 7.0116094\ttotal: 678ms\tremaining: 3.78s\n",
      "152:\tlearn: 7.0091497\ttotal: 681ms\tremaining: 3.77s\n",
      "153:\tlearn: 7.0075916\ttotal: 685ms\tremaining: 3.76s\n",
      "154:\tlearn: 7.0050040\ttotal: 688ms\tremaining: 3.75s\n",
      "155:\tlearn: 7.0037961\ttotal: 692ms\tremaining: 3.74s\n",
      "156:\tlearn: 7.0024738\ttotal: 695ms\tremaining: 3.73s\n",
      "157:\tlearn: 7.0003377\ttotal: 699ms\tremaining: 3.72s\n",
      "158:\tlearn: 6.9975386\ttotal: 703ms\tremaining: 3.72s\n",
      "159:\tlearn: 6.9947986\ttotal: 706ms\tremaining: 3.71s\n",
      "160:\tlearn: 6.9924682\ttotal: 710ms\tremaining: 3.7s\n",
      "161:\tlearn: 6.9903094\ttotal: 713ms\tremaining: 3.69s\n",
      "162:\tlearn: 6.9882741\ttotal: 717ms\tremaining: 3.68s\n",
      "163:\tlearn: 6.9864913\ttotal: 721ms\tremaining: 3.67s\n",
      "164:\tlearn: 6.9847127\ttotal: 724ms\tremaining: 3.66s\n",
      "165:\tlearn: 6.9830012\ttotal: 728ms\tremaining: 3.66s\n",
      "166:\tlearn: 6.9815980\ttotal: 732ms\tremaining: 3.65s\n",
      "167:\tlearn: 6.9796657\ttotal: 736ms\tremaining: 3.64s\n",
      "168:\tlearn: 6.9780806\ttotal: 739ms\tremaining: 3.63s\n",
      "169:\tlearn: 6.9764762\ttotal: 743ms\tremaining: 3.63s\n",
      "170:\tlearn: 6.9754296\ttotal: 746ms\tremaining: 3.62s\n",
      "171:\tlearn: 6.9741577\ttotal: 750ms\tremaining: 3.61s\n",
      "172:\tlearn: 6.9722657\ttotal: 754ms\tremaining: 3.6s\n",
      "173:\tlearn: 6.9707929\ttotal: 758ms\tremaining: 3.6s\n",
      "174:\tlearn: 6.9696120\ttotal: 762ms\tremaining: 3.59s\n",
      "175:\tlearn: 6.9683268\ttotal: 766ms\tremaining: 3.59s\n",
      "176:\tlearn: 6.9667427\ttotal: 771ms\tremaining: 3.58s\n",
      "177:\tlearn: 6.9652232\ttotal: 775ms\tremaining: 3.58s\n",
      "178:\tlearn: 6.9640102\ttotal: 779ms\tremaining: 3.57s\n",
      "179:\tlearn: 6.9626452\ttotal: 783ms\tremaining: 3.56s\n",
      "180:\tlearn: 6.9602070\ttotal: 787ms\tremaining: 3.56s\n",
      "181:\tlearn: 6.9573428\ttotal: 792ms\tremaining: 3.56s\n",
      "182:\tlearn: 6.9565549\ttotal: 796ms\tremaining: 3.55s\n",
      "183:\tlearn: 6.9553369\ttotal: 800ms\tremaining: 3.55s\n",
      "184:\tlearn: 6.9528728\ttotal: 804ms\tremaining: 3.54s\n",
      "185:\tlearn: 6.9515316\ttotal: 808ms\tremaining: 3.54s\n",
      "186:\tlearn: 6.9500569\ttotal: 812ms\tremaining: 3.53s\n",
      "187:\tlearn: 6.9481570\ttotal: 817ms\tremaining: 3.53s\n",
      "188:\tlearn: 6.9465115\ttotal: 821ms\tremaining: 3.52s\n",
      "189:\tlearn: 6.9454398\ttotal: 825ms\tremaining: 3.52s\n",
      "190:\tlearn: 6.9441001\ttotal: 829ms\tremaining: 3.51s\n",
      "191:\tlearn: 6.9425924\ttotal: 834ms\tremaining: 3.51s\n",
      "192:\tlearn: 6.9412023\ttotal: 838ms\tremaining: 3.5s\n",
      "193:\tlearn: 6.9405407\ttotal: 841ms\tremaining: 3.49s\n",
      "194:\tlearn: 6.9395959\ttotal: 844ms\tremaining: 3.49s\n",
      "195:\tlearn: 6.9384499\ttotal: 848ms\tremaining: 3.48s\n",
      "196:\tlearn: 6.9370707\ttotal: 852ms\tremaining: 3.47s\n",
      "197:\tlearn: 6.9363056\ttotal: 855ms\tremaining: 3.46s\n",
      "198:\tlearn: 6.9352113\ttotal: 858ms\tremaining: 3.45s\n",
      "199:\tlearn: 6.9339653\ttotal: 862ms\tremaining: 3.45s\n",
      "200:\tlearn: 6.9319257\ttotal: 865ms\tremaining: 3.44s\n",
      "201:\tlearn: 6.9309388\ttotal: 869ms\tremaining: 3.43s\n",
      "202:\tlearn: 6.9300119\ttotal: 872ms\tremaining: 3.42s\n",
      "203:\tlearn: 6.9285263\ttotal: 876ms\tremaining: 3.42s\n",
      "204:\tlearn: 6.9277989\ttotal: 879ms\tremaining: 3.41s\n",
      "205:\tlearn: 6.9263769\ttotal: 883ms\tremaining: 3.4s\n",
      "206:\tlearn: 6.9250781\ttotal: 887ms\tremaining: 3.4s\n",
      "207:\tlearn: 6.9243483\ttotal: 892ms\tremaining: 3.4s\n",
      "208:\tlearn: 6.9230395\ttotal: 896ms\tremaining: 3.39s\n",
      "209:\tlearn: 6.9210210\ttotal: 900ms\tremaining: 3.39s\n",
      "210:\tlearn: 6.9202386\ttotal: 904ms\tremaining: 3.38s\n",
      "211:\tlearn: 6.9189269\ttotal: 908ms\tremaining: 3.38s\n",
      "212:\tlearn: 6.9177185\ttotal: 913ms\tremaining: 3.37s\n",
      "213:\tlearn: 6.9163917\ttotal: 917ms\tremaining: 3.37s\n",
      "214:\tlearn: 6.9153403\ttotal: 921ms\tremaining: 3.36s\n",
      "215:\tlearn: 6.9138548\ttotal: 925ms\tremaining: 3.36s\n",
      "216:\tlearn: 6.9123772\ttotal: 929ms\tremaining: 3.35s\n",
      "217:\tlearn: 6.9110270\ttotal: 934ms\tremaining: 3.35s\n",
      "218:\tlearn: 6.9103784\ttotal: 937ms\tremaining: 3.34s\n",
      "219:\tlearn: 6.9094109\ttotal: 942ms\tremaining: 3.34s\n",
      "220:\tlearn: 6.9084063\ttotal: 946ms\tremaining: 3.33s\n",
      "221:\tlearn: 6.9076071\ttotal: 950ms\tremaining: 3.33s\n",
      "222:\tlearn: 6.9062548\ttotal: 955ms\tremaining: 3.33s\n",
      "223:\tlearn: 6.9049383\ttotal: 960ms\tremaining: 3.32s\n",
      "224:\tlearn: 6.9039877\ttotal: 963ms\tremaining: 3.32s\n",
      "225:\tlearn: 6.9026765\ttotal: 968ms\tremaining: 3.31s\n",
      "226:\tlearn: 6.9015282\ttotal: 972ms\tremaining: 3.31s\n",
      "227:\tlearn: 6.9002500\ttotal: 977ms\tremaining: 3.31s\n",
      "228:\tlearn: 6.8985498\ttotal: 981ms\tremaining: 3.3s\n",
      "229:\tlearn: 6.8969583\ttotal: 986ms\tremaining: 3.3s\n",
      "230:\tlearn: 6.8962073\ttotal: 990ms\tremaining: 3.3s\n",
      "231:\tlearn: 6.8955624\ttotal: 994ms\tremaining: 3.29s\n",
      "232:\tlearn: 6.8945980\ttotal: 998ms\tremaining: 3.29s\n",
      "233:\tlearn: 6.8938890\ttotal: 1s\tremaining: 3.28s\n",
      "234:\tlearn: 6.8924913\ttotal: 1.01s\tremaining: 3.27s\n",
      "235:\tlearn: 6.8915195\ttotal: 1.01s\tremaining: 3.27s\n",
      "236:\tlearn: 6.8908826\ttotal: 1.01s\tremaining: 3.26s\n",
      "237:\tlearn: 6.8902158\ttotal: 1.02s\tremaining: 3.26s\n",
      "238:\tlearn: 6.8895158\ttotal: 1.02s\tremaining: 3.25s\n",
      "239:\tlearn: 6.8885046\ttotal: 1.02s\tremaining: 3.24s\n",
      "240:\tlearn: 6.8878937\ttotal: 1.03s\tremaining: 3.24s\n",
      "241:\tlearn: 6.8862585\ttotal: 1.03s\tremaining: 3.23s\n",
      "242:\tlearn: 6.8854825\ttotal: 1.03s\tremaining: 3.22s\n",
      "243:\tlearn: 6.8845094\ttotal: 1.04s\tremaining: 3.22s\n",
      "244:\tlearn: 6.8837448\ttotal: 1.04s\tremaining: 3.21s\n",
      "245:\tlearn: 6.8829106\ttotal: 1.05s\tremaining: 3.21s\n",
      "246:\tlearn: 6.8818260\ttotal: 1.05s\tremaining: 3.2s\n",
      "247:\tlearn: 6.8808614\ttotal: 1.05s\tremaining: 3.2s\n",
      "248:\tlearn: 6.8794628\ttotal: 1.06s\tremaining: 3.19s\n",
      "249:\tlearn: 6.8782905\ttotal: 1.06s\tremaining: 3.19s\n",
      "250:\tlearn: 6.8771411\ttotal: 1.06s\tremaining: 3.18s\n",
      "251:\tlearn: 6.8763371\ttotal: 1.07s\tremaining: 3.17s\n",
      "252:\tlearn: 6.8754436\ttotal: 1.07s\tremaining: 3.17s\n",
      "253:\tlearn: 6.8746745\ttotal: 1.08s\tremaining: 3.16s\n",
      "254:\tlearn: 6.8738882\ttotal: 1.08s\tremaining: 3.16s\n",
      "255:\tlearn: 6.8731493\ttotal: 1.08s\tremaining: 3.15s\n",
      "256:\tlearn: 6.8721839\ttotal: 1.09s\tremaining: 3.15s\n",
      "257:\tlearn: 6.8715094\ttotal: 1.09s\tremaining: 3.14s\n",
      "258:\tlearn: 6.8707605\ttotal: 1.09s\tremaining: 3.13s\n",
      "259:\tlearn: 6.8697368\ttotal: 1.1s\tremaining: 3.13s\n",
      "260:\tlearn: 6.8691980\ttotal: 1.1s\tremaining: 3.12s\n",
      "261:\tlearn: 6.8678733\ttotal: 1.11s\tremaining: 3.12s\n",
      "262:\tlearn: 6.8665895\ttotal: 1.11s\tremaining: 3.11s\n",
      "263:\tlearn: 6.8656999\ttotal: 1.11s\tremaining: 3.1s\n",
      "264:\tlearn: 6.8645223\ttotal: 1.12s\tremaining: 3.1s\n",
      "265:\tlearn: 6.8636334\ttotal: 1.12s\tremaining: 3.09s\n",
      "266:\tlearn: 6.8626936\ttotal: 1.12s\tremaining: 3.09s\n",
      "267:\tlearn: 6.8623126\ttotal: 1.13s\tremaining: 3.08s\n",
      "268:\tlearn: 6.8618486\ttotal: 1.13s\tremaining: 3.08s\n",
      "269:\tlearn: 6.8607652\ttotal: 1.14s\tremaining: 3.07s\n",
      "270:\tlearn: 6.8602147\ttotal: 1.14s\tremaining: 3.06s\n",
      "271:\tlearn: 6.8595218\ttotal: 1.14s\tremaining: 3.06s\n",
      "272:\tlearn: 6.8589483\ttotal: 1.15s\tremaining: 3.05s\n",
      "273:\tlearn: 6.8580427\ttotal: 1.15s\tremaining: 3.05s\n",
      "274:\tlearn: 6.8574064\ttotal: 1.15s\tremaining: 3.04s\n",
      "275:\tlearn: 6.8564671\ttotal: 1.16s\tremaining: 3.04s\n",
      "276:\tlearn: 6.8560116\ttotal: 1.16s\tremaining: 3.03s\n",
      "277:\tlearn: 6.8552868\ttotal: 1.16s\tremaining: 3.02s\n",
      "278:\tlearn: 6.8546130\ttotal: 1.17s\tremaining: 3.02s\n",
      "279:\tlearn: 6.8535312\ttotal: 1.17s\tremaining: 3.02s\n",
      "280:\tlearn: 6.8530170\ttotal: 1.18s\tremaining: 3.01s\n",
      "281:\tlearn: 6.8524179\ttotal: 1.18s\tremaining: 3s\n",
      "282:\tlearn: 6.8515720\ttotal: 1.18s\tremaining: 3s\n",
      "283:\tlearn: 6.8505644\ttotal: 1.19s\tremaining: 3s\n",
      "284:\tlearn: 6.8499489\ttotal: 1.19s\tremaining: 2.99s\n",
      "285:\tlearn: 6.8493851\ttotal: 1.2s\tremaining: 2.99s\n",
      "286:\tlearn: 6.8488907\ttotal: 1.2s\tremaining: 2.98s\n",
      "287:\tlearn: 6.8480516\ttotal: 1.2s\tremaining: 2.98s\n",
      "288:\tlearn: 6.8475485\ttotal: 1.21s\tremaining: 2.97s\n",
      "289:\tlearn: 6.8467948\ttotal: 1.21s\tremaining: 2.97s\n",
      "290:\tlearn: 6.8462239\ttotal: 1.22s\tremaining: 2.96s\n",
      "291:\tlearn: 6.8451263\ttotal: 1.22s\tremaining: 2.96s\n",
      "292:\tlearn: 6.8443317\ttotal: 1.22s\tremaining: 2.95s\n",
      "293:\tlearn: 6.8436446\ttotal: 1.23s\tremaining: 2.94s\n",
      "294:\tlearn: 6.8427974\ttotal: 1.23s\tremaining: 2.94s\n",
      "295:\tlearn: 6.8421696\ttotal: 1.23s\tremaining: 2.93s\n",
      "296:\tlearn: 6.8411074\ttotal: 1.24s\tremaining: 2.93s\n",
      "297:\tlearn: 6.8404050\ttotal: 1.24s\tremaining: 2.92s\n",
      "298:\tlearn: 6.8395061\ttotal: 1.24s\tremaining: 2.92s\n",
      "299:\tlearn: 6.8389358\ttotal: 1.25s\tremaining: 2.91s\n",
      "300:\tlearn: 6.8379333\ttotal: 1.25s\tremaining: 2.9s\n",
      "301:\tlearn: 6.8367213\ttotal: 1.25s\tremaining: 2.9s\n",
      "302:\tlearn: 6.8357134\ttotal: 1.26s\tremaining: 2.89s\n",
      "303:\tlearn: 6.8350022\ttotal: 1.26s\tremaining: 2.89s\n",
      "304:\tlearn: 6.8338731\ttotal: 1.26s\tremaining: 2.88s\n",
      "305:\tlearn: 6.8331162\ttotal: 1.27s\tremaining: 2.88s\n",
      "306:\tlearn: 6.8324740\ttotal: 1.27s\tremaining: 2.87s\n",
      "307:\tlearn: 6.8314237\ttotal: 1.27s\tremaining: 2.87s\n",
      "308:\tlearn: 6.8310020\ttotal: 1.28s\tremaining: 2.86s\n",
      "309:\tlearn: 6.8302602\ttotal: 1.28s\tremaining: 2.85s\n",
      "310:\tlearn: 6.8292753\ttotal: 1.28s\tremaining: 2.85s\n",
      "311:\tlearn: 6.8282719\ttotal: 1.29s\tremaining: 2.84s\n",
      "312:\tlearn: 6.8274713\ttotal: 1.29s\tremaining: 2.84s\n",
      "313:\tlearn: 6.8266868\ttotal: 1.29s\tremaining: 2.83s\n",
      "314:\tlearn: 6.8255749\ttotal: 1.3s\tremaining: 2.83s\n",
      "315:\tlearn: 6.8250498\ttotal: 1.3s\tremaining: 2.82s\n",
      "316:\tlearn: 6.8242772\ttotal: 1.31s\tremaining: 2.82s\n",
      "317:\tlearn: 6.8236604\ttotal: 1.31s\tremaining: 2.81s\n",
      "318:\tlearn: 6.8229421\ttotal: 1.31s\tremaining: 2.81s\n",
      "319:\tlearn: 6.8220232\ttotal: 1.32s\tremaining: 2.8s\n",
      "320:\tlearn: 6.8213695\ttotal: 1.32s\tremaining: 2.79s\n",
      "321:\tlearn: 6.8209211\ttotal: 1.32s\tremaining: 2.79s\n",
      "322:\tlearn: 6.8204093\ttotal: 1.33s\tremaining: 2.78s\n",
      "323:\tlearn: 6.8193510\ttotal: 1.33s\tremaining: 2.78s\n",
      "324:\tlearn: 6.8188025\ttotal: 1.33s\tremaining: 2.77s\n",
      "325:\tlearn: 6.8180437\ttotal: 1.34s\tremaining: 2.77s\n",
      "326:\tlearn: 6.8169480\ttotal: 1.34s\tremaining: 2.76s\n",
      "327:\tlearn: 6.8165620\ttotal: 1.35s\tremaining: 2.76s\n",
      "328:\tlearn: 6.8156047\ttotal: 1.35s\tremaining: 2.75s\n",
      "329:\tlearn: 6.8148260\ttotal: 1.35s\tremaining: 2.75s\n",
      "330:\tlearn: 6.8142575\ttotal: 1.36s\tremaining: 2.74s\n",
      "331:\tlearn: 6.8136257\ttotal: 1.36s\tremaining: 2.74s\n",
      "332:\tlearn: 6.8131334\ttotal: 1.36s\tremaining: 2.73s\n",
      "333:\tlearn: 6.8123524\ttotal: 1.37s\tremaining: 2.73s\n",
      "334:\tlearn: 6.8117864\ttotal: 1.37s\tremaining: 2.72s\n",
      "335:\tlearn: 6.8111678\ttotal: 1.38s\tremaining: 2.72s\n",
      "336:\tlearn: 6.8103841\ttotal: 1.38s\tremaining: 2.71s\n",
      "337:\tlearn: 6.8095434\ttotal: 1.38s\tremaining: 2.71s\n",
      "338:\tlearn: 6.8090474\ttotal: 1.39s\tremaining: 2.71s\n",
      "339:\tlearn: 6.8085080\ttotal: 1.39s\tremaining: 2.7s\n",
      "340:\tlearn: 6.8078730\ttotal: 1.4s\tremaining: 2.7s\n",
      "341:\tlearn: 6.8073915\ttotal: 1.4s\tremaining: 2.69s\n",
      "342:\tlearn: 6.8065962\ttotal: 1.4s\tremaining: 2.69s\n",
      "343:\tlearn: 6.8058473\ttotal: 1.41s\tremaining: 2.69s\n",
      "344:\tlearn: 6.8053329\ttotal: 1.41s\tremaining: 2.68s\n",
      "345:\tlearn: 6.8047892\ttotal: 1.42s\tremaining: 2.68s\n",
      "346:\tlearn: 6.8043633\ttotal: 1.42s\tremaining: 2.67s\n",
      "347:\tlearn: 6.8037724\ttotal: 1.42s\tremaining: 2.67s\n",
      "348:\tlearn: 6.8031674\ttotal: 1.43s\tremaining: 2.66s\n",
      "349:\tlearn: 6.8026510\ttotal: 1.43s\tremaining: 2.65s\n",
      "350:\tlearn: 6.8021048\ttotal: 1.43s\tremaining: 2.65s\n",
      "351:\tlearn: 6.8015231\ttotal: 1.44s\tremaining: 2.64s\n",
      "352:\tlearn: 6.8010559\ttotal: 1.44s\tremaining: 2.64s\n",
      "353:\tlearn: 6.8003477\ttotal: 1.44s\tremaining: 2.63s\n",
      "354:\tlearn: 6.7999145\ttotal: 1.45s\tremaining: 2.63s\n",
      "355:\tlearn: 6.7991434\ttotal: 1.45s\tremaining: 2.62s\n",
      "356:\tlearn: 6.7985046\ttotal: 1.45s\tremaining: 2.62s\n",
      "357:\tlearn: 6.7977107\ttotal: 1.46s\tremaining: 2.61s\n",
      "358:\tlearn: 6.7974214\ttotal: 1.46s\tremaining: 2.61s\n",
      "359:\tlearn: 6.7967390\ttotal: 1.46s\tremaining: 2.6s\n",
      "360:\tlearn: 6.7961956\ttotal: 1.47s\tremaining: 2.6s\n",
      "361:\tlearn: 6.7955798\ttotal: 1.47s\tremaining: 2.59s\n",
      "362:\tlearn: 6.7944712\ttotal: 1.47s\tremaining: 2.58s\n",
      "363:\tlearn: 6.7937748\ttotal: 1.48s\tremaining: 2.58s\n",
      "364:\tlearn: 6.7934417\ttotal: 1.48s\tremaining: 2.58s\n",
      "365:\tlearn: 6.7928606\ttotal: 1.48s\tremaining: 2.57s\n",
      "366:\tlearn: 6.7923705\ttotal: 1.49s\tremaining: 2.56s\n",
      "367:\tlearn: 6.7917117\ttotal: 1.49s\tremaining: 2.56s\n",
      "368:\tlearn: 6.7911146\ttotal: 1.49s\tremaining: 2.56s\n",
      "369:\tlearn: 6.7902816\ttotal: 1.5s\tremaining: 2.55s\n",
      "370:\tlearn: 6.7897017\ttotal: 1.5s\tremaining: 2.55s\n",
      "371:\tlearn: 6.7888603\ttotal: 1.51s\tremaining: 2.54s\n",
      "372:\tlearn: 6.7882537\ttotal: 1.51s\tremaining: 2.54s\n",
      "373:\tlearn: 6.7878376\ttotal: 1.51s\tremaining: 2.53s\n",
      "374:\tlearn: 6.7871472\ttotal: 1.52s\tremaining: 2.53s\n",
      "375:\tlearn: 6.7863997\ttotal: 1.52s\tremaining: 2.52s\n",
      "376:\tlearn: 6.7858418\ttotal: 1.52s\tremaining: 2.52s\n",
      "377:\tlearn: 6.7851307\ttotal: 1.53s\tremaining: 2.51s\n",
      "378:\tlearn: 6.7847931\ttotal: 1.53s\tremaining: 2.51s\n",
      "379:\tlearn: 6.7846379\ttotal: 1.53s\tremaining: 2.5s\n",
      "380:\tlearn: 6.7840440\ttotal: 1.54s\tremaining: 2.5s\n",
      "381:\tlearn: 6.7835917\ttotal: 1.54s\tremaining: 2.5s\n",
      "382:\tlearn: 6.7832434\ttotal: 1.55s\tremaining: 2.49s\n",
      "383:\tlearn: 6.7827963\ttotal: 1.55s\tremaining: 2.49s\n",
      "384:\tlearn: 6.7822932\ttotal: 1.55s\tremaining: 2.48s\n",
      "385:\tlearn: 6.7815289\ttotal: 1.56s\tremaining: 2.48s\n",
      "386:\tlearn: 6.7807780\ttotal: 1.56s\tremaining: 2.48s\n",
      "387:\tlearn: 6.7797032\ttotal: 1.57s\tremaining: 2.47s\n",
      "388:\tlearn: 6.7791606\ttotal: 1.57s\tremaining: 2.47s\n",
      "389:\tlearn: 6.7786625\ttotal: 1.58s\tremaining: 2.47s\n",
      "390:\tlearn: 6.7780086\ttotal: 1.58s\tremaining: 2.46s\n",
      "391:\tlearn: 6.7773806\ttotal: 1.59s\tremaining: 2.46s\n",
      "392:\tlearn: 6.7770278\ttotal: 1.59s\tremaining: 2.46s\n",
      "393:\tlearn: 6.7762411\ttotal: 1.6s\tremaining: 2.46s\n",
      "394:\tlearn: 6.7756489\ttotal: 1.61s\tremaining: 2.46s\n",
      "395:\tlearn: 6.7749667\ttotal: 1.61s\tremaining: 2.46s\n",
      "396:\tlearn: 6.7742496\ttotal: 1.62s\tremaining: 2.46s\n",
      "397:\tlearn: 6.7737562\ttotal: 1.62s\tremaining: 2.45s\n",
      "398:\tlearn: 6.7733303\ttotal: 1.63s\tremaining: 2.45s\n",
      "399:\tlearn: 6.7726755\ttotal: 1.63s\tremaining: 2.44s\n",
      "400:\tlearn: 6.7720270\ttotal: 1.63s\tremaining: 2.44s\n",
      "401:\tlearn: 6.7715195\ttotal: 1.64s\tremaining: 2.44s\n",
      "402:\tlearn: 6.7707684\ttotal: 1.64s\tremaining: 2.43s\n",
      "403:\tlearn: 6.7700379\ttotal: 1.65s\tremaining: 2.43s\n",
      "404:\tlearn: 6.7690558\ttotal: 1.65s\tremaining: 2.42s\n",
      "405:\tlearn: 6.7684035\ttotal: 1.65s\tremaining: 2.42s\n",
      "406:\tlearn: 6.7680883\ttotal: 1.66s\tremaining: 2.41s\n",
      "407:\tlearn: 6.7676009\ttotal: 1.66s\tremaining: 2.41s\n",
      "408:\tlearn: 6.7670982\ttotal: 1.66s\tremaining: 2.4s\n",
      "409:\tlearn: 6.7666826\ttotal: 1.67s\tremaining: 2.4s\n",
      "410:\tlearn: 6.7659994\ttotal: 1.67s\tremaining: 2.39s\n",
      "411:\tlearn: 6.7653343\ttotal: 1.67s\tremaining: 2.39s\n",
      "412:\tlearn: 6.7644708\ttotal: 1.68s\tremaining: 2.38s\n",
      "413:\tlearn: 6.7635878\ttotal: 1.68s\tremaining: 2.38s\n",
      "414:\tlearn: 6.7627713\ttotal: 1.69s\tremaining: 2.38s\n",
      "415:\tlearn: 6.7621526\ttotal: 1.69s\tremaining: 2.37s\n",
      "416:\tlearn: 6.7617882\ttotal: 1.69s\tremaining: 2.37s\n",
      "417:\tlearn: 6.7612767\ttotal: 1.7s\tremaining: 2.36s\n",
      "418:\tlearn: 6.7607683\ttotal: 1.7s\tremaining: 2.35s\n",
      "419:\tlearn: 6.7603577\ttotal: 1.7s\tremaining: 2.35s\n",
      "420:\tlearn: 6.7597078\ttotal: 1.71s\tremaining: 2.35s\n",
      "421:\tlearn: 6.7592893\ttotal: 1.71s\tremaining: 2.34s\n",
      "422:\tlearn: 6.7588081\ttotal: 1.71s\tremaining: 2.34s\n",
      "423:\tlearn: 6.7583700\ttotal: 1.72s\tremaining: 2.33s\n",
      "424:\tlearn: 6.7578867\ttotal: 1.72s\tremaining: 2.33s\n",
      "425:\tlearn: 6.7573744\ttotal: 1.73s\tremaining: 2.32s\n",
      "426:\tlearn: 6.7566917\ttotal: 1.73s\tremaining: 2.32s\n",
      "427:\tlearn: 6.7562538\ttotal: 1.73s\tremaining: 2.31s\n",
      "428:\tlearn: 6.7558184\ttotal: 1.74s\tremaining: 2.31s\n",
      "429:\tlearn: 6.7553402\ttotal: 1.74s\tremaining: 2.31s\n",
      "430:\tlearn: 6.7549696\ttotal: 1.74s\tremaining: 2.3s\n",
      "431:\tlearn: 6.7543865\ttotal: 1.75s\tremaining: 2.3s\n",
      "432:\tlearn: 6.7537535\ttotal: 1.75s\tremaining: 2.29s\n",
      "433:\tlearn: 6.7528688\ttotal: 1.75s\tremaining: 2.29s\n",
      "434:\tlearn: 6.7524357\ttotal: 1.76s\tremaining: 2.28s\n",
      "435:\tlearn: 6.7520948\ttotal: 1.76s\tremaining: 2.28s\n",
      "436:\tlearn: 6.7515066\ttotal: 1.76s\tremaining: 2.27s\n",
      "437:\tlearn: 6.7508700\ttotal: 1.77s\tremaining: 2.27s\n",
      "438:\tlearn: 6.7500443\ttotal: 1.77s\tremaining: 2.27s\n",
      "439:\tlearn: 6.7496197\ttotal: 1.78s\tremaining: 2.26s\n",
      "440:\tlearn: 6.7491532\ttotal: 1.78s\tremaining: 2.26s\n",
      "441:\tlearn: 6.7484851\ttotal: 1.78s\tremaining: 2.25s\n",
      "442:\tlearn: 6.7481686\ttotal: 1.79s\tremaining: 2.25s\n",
      "443:\tlearn: 6.7477538\ttotal: 1.79s\tremaining: 2.24s\n",
      "444:\tlearn: 6.7471627\ttotal: 1.8s\tremaining: 2.24s\n",
      "445:\tlearn: 6.7467662\ttotal: 1.8s\tremaining: 2.24s\n",
      "446:\tlearn: 6.7461146\ttotal: 1.8s\tremaining: 2.23s\n",
      "447:\tlearn: 6.7455287\ttotal: 1.81s\tremaining: 2.23s\n",
      "448:\tlearn: 6.7448826\ttotal: 1.81s\tremaining: 2.22s\n",
      "449:\tlearn: 6.7446209\ttotal: 1.81s\tremaining: 2.22s\n",
      "450:\tlearn: 6.7439287\ttotal: 1.82s\tremaining: 2.21s\n",
      "451:\tlearn: 6.7437128\ttotal: 1.82s\tremaining: 2.21s\n",
      "452:\tlearn: 6.7432419\ttotal: 1.82s\tremaining: 2.2s\n",
      "453:\tlearn: 6.7427923\ttotal: 1.83s\tremaining: 2.2s\n",
      "454:\tlearn: 6.7422991\ttotal: 1.83s\tremaining: 2.19s\n",
      "455:\tlearn: 6.7417319\ttotal: 1.83s\tremaining: 2.19s\n",
      "456:\tlearn: 6.7412261\ttotal: 1.84s\tremaining: 2.19s\n",
      "457:\tlearn: 6.7403465\ttotal: 1.84s\tremaining: 2.18s\n",
      "458:\tlearn: 6.7398279\ttotal: 1.84s\tremaining: 2.17s\n",
      "459:\tlearn: 6.7390460\ttotal: 1.85s\tremaining: 2.17s\n",
      "460:\tlearn: 6.7384441\ttotal: 1.85s\tremaining: 2.17s\n",
      "461:\tlearn: 6.7380656\ttotal: 1.86s\tremaining: 2.16s\n",
      "462:\tlearn: 6.7376392\ttotal: 1.86s\tremaining: 2.16s\n",
      "463:\tlearn: 6.7373141\ttotal: 1.86s\tremaining: 2.15s\n",
      "464:\tlearn: 6.7368894\ttotal: 1.87s\tremaining: 2.15s\n",
      "465:\tlearn: 6.7363024\ttotal: 1.87s\tremaining: 2.14s\n",
      "466:\tlearn: 6.7358927\ttotal: 1.87s\tremaining: 2.14s\n",
      "467:\tlearn: 6.7352814\ttotal: 1.88s\tremaining: 2.13s\n",
      "468:\tlearn: 6.7348627\ttotal: 1.88s\tremaining: 2.13s\n",
      "469:\tlearn: 6.7341938\ttotal: 1.88s\tremaining: 2.12s\n",
      "470:\tlearn: 6.7339588\ttotal: 1.89s\tremaining: 2.12s\n",
      "471:\tlearn: 6.7335795\ttotal: 1.89s\tremaining: 2.12s\n",
      "472:\tlearn: 6.7331270\ttotal: 1.89s\tremaining: 2.11s\n",
      "473:\tlearn: 6.7327083\ttotal: 1.9s\tremaining: 2.1s\n",
      "474:\tlearn: 6.7323410\ttotal: 1.9s\tremaining: 2.1s\n",
      "475:\tlearn: 6.7316316\ttotal: 1.91s\tremaining: 2.1s\n",
      "476:\tlearn: 6.7312174\ttotal: 1.91s\tremaining: 2.09s\n",
      "477:\tlearn: 6.7308835\ttotal: 1.91s\tremaining: 2.09s\n",
      "478:\tlearn: 6.7305303\ttotal: 1.92s\tremaining: 2.08s\n",
      "479:\tlearn: 6.7301347\ttotal: 1.92s\tremaining: 2.08s\n",
      "480:\tlearn: 6.7292819\ttotal: 1.92s\tremaining: 2.08s\n",
      "481:\tlearn: 6.7288411\ttotal: 1.93s\tremaining: 2.07s\n",
      "482:\tlearn: 6.7281989\ttotal: 1.93s\tremaining: 2.07s\n",
      "483:\tlearn: 6.7276328\ttotal: 1.94s\tremaining: 2.06s\n",
      "484:\tlearn: 6.7269844\ttotal: 1.94s\tremaining: 2.06s\n",
      "485:\tlearn: 6.7265976\ttotal: 1.94s\tremaining: 2.05s\n",
      "486:\tlearn: 6.7264191\ttotal: 1.95s\tremaining: 2.05s\n",
      "487:\tlearn: 6.7260905\ttotal: 1.95s\tremaining: 2.04s\n",
      "488:\tlearn: 6.7255274\ttotal: 1.95s\tremaining: 2.04s\n",
      "489:\tlearn: 6.7250194\ttotal: 1.96s\tremaining: 2.04s\n",
      "490:\tlearn: 6.7247334\ttotal: 1.96s\tremaining: 2.03s\n",
      "491:\tlearn: 6.7241426\ttotal: 1.96s\tremaining: 2.03s\n",
      "492:\tlearn: 6.7233384\ttotal: 1.97s\tremaining: 2.02s\n",
      "493:\tlearn: 6.7228376\ttotal: 1.97s\tremaining: 2.02s\n",
      "494:\tlearn: 6.7223720\ttotal: 1.98s\tremaining: 2.02s\n",
      "495:\tlearn: 6.7219440\ttotal: 1.98s\tremaining: 2.01s\n",
      "496:\tlearn: 6.7213830\ttotal: 1.98s\tremaining: 2.01s\n",
      "497:\tlearn: 6.7209368\ttotal: 1.99s\tremaining: 2s\n",
      "498:\tlearn: 6.7203523\ttotal: 1.99s\tremaining: 2s\n",
      "499:\tlearn: 6.7197467\ttotal: 2s\tremaining: 2s\n",
      "500:\tlearn: 6.7192853\ttotal: 2s\tremaining: 1.99s\n",
      "501:\tlearn: 6.7192200\ttotal: 2s\tremaining: 1.99s\n",
      "502:\tlearn: 6.7189042\ttotal: 2.01s\tremaining: 1.99s\n",
      "503:\tlearn: 6.7182206\ttotal: 2.01s\tremaining: 1.98s\n",
      "504:\tlearn: 6.7179214\ttotal: 2.02s\tremaining: 1.98s\n",
      "505:\tlearn: 6.7173976\ttotal: 2.02s\tremaining: 1.97s\n",
      "506:\tlearn: 6.7170085\ttotal: 2.02s\tremaining: 1.97s\n",
      "507:\tlearn: 6.7165312\ttotal: 2.03s\tremaining: 1.97s\n",
      "508:\tlearn: 6.7162264\ttotal: 2.03s\tremaining: 1.96s\n",
      "509:\tlearn: 6.7159214\ttotal: 2.04s\tremaining: 1.96s\n",
      "510:\tlearn: 6.7150841\ttotal: 2.04s\tremaining: 1.95s\n",
      "511:\tlearn: 6.7143552\ttotal: 2.04s\tremaining: 1.95s\n",
      "512:\tlearn: 6.7138503\ttotal: 2.05s\tremaining: 1.94s\n",
      "513:\tlearn: 6.7133794\ttotal: 2.05s\tremaining: 1.94s\n",
      "514:\tlearn: 6.7129448\ttotal: 2.06s\tremaining: 1.94s\n",
      "515:\tlearn: 6.7121998\ttotal: 2.06s\tremaining: 1.93s\n",
      "516:\tlearn: 6.7115835\ttotal: 2.06s\tremaining: 1.93s\n",
      "517:\tlearn: 6.7110543\ttotal: 2.07s\tremaining: 1.92s\n",
      "518:\tlearn: 6.7105415\ttotal: 2.07s\tremaining: 1.92s\n",
      "519:\tlearn: 6.7099296\ttotal: 2.08s\tremaining: 1.92s\n",
      "520:\tlearn: 6.7096139\ttotal: 2.08s\tremaining: 1.91s\n",
      "521:\tlearn: 6.7093685\ttotal: 2.08s\tremaining: 1.91s\n",
      "522:\tlearn: 6.7090315\ttotal: 2.09s\tremaining: 1.9s\n",
      "523:\tlearn: 6.7085258\ttotal: 2.09s\tremaining: 1.9s\n",
      "524:\tlearn: 6.7081536\ttotal: 2.1s\tremaining: 1.9s\n",
      "525:\tlearn: 6.7076838\ttotal: 2.1s\tremaining: 1.89s\n",
      "526:\tlearn: 6.7071756\ttotal: 2.1s\tremaining: 1.89s\n",
      "527:\tlearn: 6.7067532\ttotal: 2.11s\tremaining: 1.88s\n",
      "528:\tlearn: 6.7060556\ttotal: 2.11s\tremaining: 1.88s\n",
      "529:\tlearn: 6.7057350\ttotal: 2.11s\tremaining: 1.88s\n",
      "530:\tlearn: 6.7052847\ttotal: 2.12s\tremaining: 1.87s\n",
      "531:\tlearn: 6.7046553\ttotal: 2.12s\tremaining: 1.87s\n",
      "532:\tlearn: 6.7041943\ttotal: 2.13s\tremaining: 1.86s\n",
      "533:\tlearn: 6.7037091\ttotal: 2.13s\tremaining: 1.86s\n",
      "534:\tlearn: 6.7031130\ttotal: 2.13s\tremaining: 1.85s\n",
      "535:\tlearn: 6.7024380\ttotal: 2.14s\tremaining: 1.85s\n",
      "536:\tlearn: 6.7021495\ttotal: 2.14s\tremaining: 1.85s\n",
      "537:\tlearn: 6.7015971\ttotal: 2.15s\tremaining: 1.84s\n",
      "538:\tlearn: 6.7012225\ttotal: 2.15s\tremaining: 1.84s\n",
      "539:\tlearn: 6.7007334\ttotal: 2.15s\tremaining: 1.83s\n",
      "540:\tlearn: 6.7003775\ttotal: 2.16s\tremaining: 1.83s\n",
      "541:\tlearn: 6.6998498\ttotal: 2.16s\tremaining: 1.83s\n",
      "542:\tlearn: 6.6995303\ttotal: 2.17s\tremaining: 1.82s\n",
      "543:\tlearn: 6.6989337\ttotal: 2.17s\tremaining: 1.82s\n",
      "544:\tlearn: 6.6982294\ttotal: 2.17s\tremaining: 1.81s\n",
      "545:\tlearn: 6.6978621\ttotal: 2.18s\tremaining: 1.81s\n",
      "546:\tlearn: 6.6973611\ttotal: 2.18s\tremaining: 1.81s\n",
      "547:\tlearn: 6.6967322\ttotal: 2.19s\tremaining: 1.8s\n",
      "548:\tlearn: 6.6963417\ttotal: 2.19s\tremaining: 1.8s\n",
      "549:\tlearn: 6.6960532\ttotal: 2.2s\tremaining: 1.8s\n",
      "550:\tlearn: 6.6956417\ttotal: 2.2s\tremaining: 1.79s\n",
      "551:\tlearn: 6.6950455\ttotal: 2.21s\tremaining: 1.79s\n",
      "552:\tlearn: 6.6946190\ttotal: 2.21s\tremaining: 1.79s\n",
      "553:\tlearn: 6.6943129\ttotal: 2.21s\tremaining: 1.78s\n",
      "554:\tlearn: 6.6940027\ttotal: 2.22s\tremaining: 1.78s\n",
      "555:\tlearn: 6.6936090\ttotal: 2.22s\tremaining: 1.77s\n",
      "556:\tlearn: 6.6931686\ttotal: 2.23s\tremaining: 1.77s\n",
      "557:\tlearn: 6.6925562\ttotal: 2.23s\tremaining: 1.76s\n",
      "558:\tlearn: 6.6921953\ttotal: 2.23s\tremaining: 1.76s\n",
      "559:\tlearn: 6.6916906\ttotal: 2.24s\tremaining: 1.76s\n",
      "560:\tlearn: 6.6912645\ttotal: 2.24s\tremaining: 1.75s\n",
      "561:\tlearn: 6.6909728\ttotal: 2.24s\tremaining: 1.75s\n",
      "562:\tlearn: 6.6905021\ttotal: 2.25s\tremaining: 1.75s\n",
      "563:\tlearn: 6.6897958\ttotal: 2.25s\tremaining: 1.74s\n",
      "564:\tlearn: 6.6892881\ttotal: 2.26s\tremaining: 1.74s\n",
      "565:\tlearn: 6.6888280\ttotal: 2.26s\tremaining: 1.73s\n",
      "566:\tlearn: 6.6885119\ttotal: 2.26s\tremaining: 1.73s\n",
      "567:\tlearn: 6.6880776\ttotal: 2.27s\tremaining: 1.73s\n",
      "568:\tlearn: 6.6876639\ttotal: 2.27s\tremaining: 1.72s\n",
      "569:\tlearn: 6.6873815\ttotal: 2.28s\tremaining: 1.72s\n",
      "570:\tlearn: 6.6869838\ttotal: 2.28s\tremaining: 1.71s\n",
      "571:\tlearn: 6.6865445\ttotal: 2.28s\tremaining: 1.71s\n",
      "572:\tlearn: 6.6859310\ttotal: 2.29s\tremaining: 1.7s\n",
      "573:\tlearn: 6.6855705\ttotal: 2.29s\tremaining: 1.7s\n",
      "574:\tlearn: 6.6854044\ttotal: 2.29s\tremaining: 1.7s\n",
      "575:\tlearn: 6.6851734\ttotal: 2.3s\tremaining: 1.69s\n",
      "576:\tlearn: 6.6843691\ttotal: 2.3s\tremaining: 1.69s\n",
      "577:\tlearn: 6.6840533\ttotal: 2.31s\tremaining: 1.68s\n",
      "578:\tlearn: 6.6835460\ttotal: 2.31s\tremaining: 1.68s\n",
      "579:\tlearn: 6.6831880\ttotal: 2.31s\tremaining: 1.68s\n",
      "580:\tlearn: 6.6825246\ttotal: 2.32s\tremaining: 1.67s\n",
      "581:\tlearn: 6.6821235\ttotal: 2.32s\tremaining: 1.67s\n",
      "582:\tlearn: 6.6816466\ttotal: 2.32s\tremaining: 1.66s\n",
      "583:\tlearn: 6.6811126\ttotal: 2.33s\tremaining: 1.66s\n",
      "584:\tlearn: 6.6807269\ttotal: 2.33s\tremaining: 1.65s\n",
      "585:\tlearn: 6.6801208\ttotal: 2.34s\tremaining: 1.65s\n",
      "586:\tlearn: 6.6795839\ttotal: 2.34s\tremaining: 1.65s\n",
      "587:\tlearn: 6.6793252\ttotal: 2.34s\tremaining: 1.64s\n",
      "588:\tlearn: 6.6788857\ttotal: 2.35s\tremaining: 1.64s\n",
      "589:\tlearn: 6.6784984\ttotal: 2.35s\tremaining: 1.63s\n",
      "590:\tlearn: 6.6781828\ttotal: 2.35s\tremaining: 1.63s\n",
      "591:\tlearn: 6.6780190\ttotal: 2.36s\tremaining: 1.63s\n",
      "592:\tlearn: 6.6774509\ttotal: 2.36s\tremaining: 1.62s\n",
      "593:\tlearn: 6.6768027\ttotal: 2.37s\tremaining: 1.62s\n",
      "594:\tlearn: 6.6761627\ttotal: 2.37s\tremaining: 1.61s\n",
      "595:\tlearn: 6.6756743\ttotal: 2.37s\tremaining: 1.61s\n",
      "596:\tlearn: 6.6751630\ttotal: 2.38s\tremaining: 1.6s\n",
      "597:\tlearn: 6.6746867\ttotal: 2.38s\tremaining: 1.6s\n",
      "598:\tlearn: 6.6744277\ttotal: 2.39s\tremaining: 1.6s\n",
      "599:\tlearn: 6.6737345\ttotal: 2.39s\tremaining: 1.59s\n",
      "600:\tlearn: 6.6731508\ttotal: 2.4s\tremaining: 1.59s\n",
      "601:\tlearn: 6.6727982\ttotal: 2.4s\tremaining: 1.59s\n",
      "602:\tlearn: 6.6723885\ttotal: 2.41s\tremaining: 1.58s\n",
      "603:\tlearn: 6.6722053\ttotal: 2.41s\tremaining: 1.58s\n",
      "604:\tlearn: 6.6719300\ttotal: 2.42s\tremaining: 1.58s\n",
      "605:\tlearn: 6.6715307\ttotal: 2.42s\tremaining: 1.57s\n",
      "606:\tlearn: 6.6711723\ttotal: 2.42s\tremaining: 1.57s\n",
      "607:\tlearn: 6.6706801\ttotal: 2.43s\tremaining: 1.56s\n",
      "608:\tlearn: 6.6702464\ttotal: 2.43s\tremaining: 1.56s\n",
      "609:\tlearn: 6.6695842\ttotal: 2.44s\tremaining: 1.56s\n",
      "610:\tlearn: 6.6693054\ttotal: 2.44s\tremaining: 1.55s\n",
      "611:\tlearn: 6.6687686\ttotal: 2.44s\tremaining: 1.55s\n",
      "612:\tlearn: 6.6680254\ttotal: 2.45s\tremaining: 1.54s\n",
      "613:\tlearn: 6.6674635\ttotal: 2.45s\tremaining: 1.54s\n",
      "614:\tlearn: 6.6665822\ttotal: 2.46s\tremaining: 1.54s\n",
      "615:\tlearn: 6.6660396\ttotal: 2.46s\tremaining: 1.53s\n",
      "616:\tlearn: 6.6655413\ttotal: 2.46s\tremaining: 1.53s\n",
      "617:\tlearn: 6.6652270\ttotal: 2.47s\tremaining: 1.52s\n",
      "618:\tlearn: 6.6644812\ttotal: 2.47s\tremaining: 1.52s\n",
      "619:\tlearn: 6.6641034\ttotal: 2.48s\tremaining: 1.52s\n",
      "620:\tlearn: 6.6636702\ttotal: 2.48s\tremaining: 1.51s\n",
      "621:\tlearn: 6.6626850\ttotal: 2.48s\tremaining: 1.51s\n",
      "622:\tlearn: 6.6622372\ttotal: 2.49s\tremaining: 1.5s\n",
      "623:\tlearn: 6.6615799\ttotal: 2.49s\tremaining: 1.5s\n",
      "624:\tlearn: 6.6611671\ttotal: 2.5s\tremaining: 1.5s\n",
      "625:\tlearn: 6.6606577\ttotal: 2.5s\tremaining: 1.49s\n",
      "626:\tlearn: 6.6602895\ttotal: 2.5s\tremaining: 1.49s\n",
      "627:\tlearn: 6.6600035\ttotal: 2.51s\tremaining: 1.49s\n",
      "628:\tlearn: 6.6592830\ttotal: 2.51s\tremaining: 1.48s\n",
      "629:\tlearn: 6.6589238\ttotal: 2.52s\tremaining: 1.48s\n",
      "630:\tlearn: 6.6584196\ttotal: 2.52s\tremaining: 1.47s\n",
      "631:\tlearn: 6.6580009\ttotal: 2.52s\tremaining: 1.47s\n",
      "632:\tlearn: 6.6573267\ttotal: 2.53s\tremaining: 1.47s\n",
      "633:\tlearn: 6.6567540\ttotal: 2.53s\tremaining: 1.46s\n",
      "634:\tlearn: 6.6563337\ttotal: 2.53s\tremaining: 1.46s\n",
      "635:\tlearn: 6.6559079\ttotal: 2.54s\tremaining: 1.45s\n",
      "636:\tlearn: 6.6553990\ttotal: 2.54s\tremaining: 1.45s\n",
      "637:\tlearn: 6.6549070\ttotal: 2.55s\tremaining: 1.45s\n",
      "638:\tlearn: 6.6541434\ttotal: 2.55s\tremaining: 1.44s\n",
      "639:\tlearn: 6.6534020\ttotal: 2.56s\tremaining: 1.44s\n",
      "640:\tlearn: 6.6527886\ttotal: 2.56s\tremaining: 1.43s\n",
      "641:\tlearn: 6.6522644\ttotal: 2.56s\tremaining: 1.43s\n",
      "642:\tlearn: 6.6519967\ttotal: 2.57s\tremaining: 1.43s\n",
      "643:\tlearn: 6.6513683\ttotal: 2.57s\tremaining: 1.42s\n",
      "644:\tlearn: 6.6505965\ttotal: 2.58s\tremaining: 1.42s\n",
      "645:\tlearn: 6.6503129\ttotal: 2.58s\tremaining: 1.41s\n",
      "646:\tlearn: 6.6498102\ttotal: 2.58s\tremaining: 1.41s\n",
      "647:\tlearn: 6.6494507\ttotal: 2.59s\tremaining: 1.41s\n",
      "648:\tlearn: 6.6489985\ttotal: 2.59s\tremaining: 1.4s\n",
      "649:\tlearn: 6.6486280\ttotal: 2.6s\tremaining: 1.4s\n",
      "650:\tlearn: 6.6482158\ttotal: 2.6s\tremaining: 1.39s\n",
      "651:\tlearn: 6.6475788\ttotal: 2.6s\tremaining: 1.39s\n",
      "652:\tlearn: 6.6472752\ttotal: 2.61s\tremaining: 1.39s\n",
      "653:\tlearn: 6.6466535\ttotal: 2.61s\tremaining: 1.38s\n",
      "654:\tlearn: 6.6461965\ttotal: 2.62s\tremaining: 1.38s\n",
      "655:\tlearn: 6.6456933\ttotal: 2.62s\tremaining: 1.37s\n",
      "656:\tlearn: 6.6453980\ttotal: 2.62s\tremaining: 1.37s\n",
      "657:\tlearn: 6.6449548\ttotal: 2.63s\tremaining: 1.37s\n",
      "658:\tlearn: 6.6444769\ttotal: 2.63s\tremaining: 1.36s\n",
      "659:\tlearn: 6.6439503\ttotal: 2.64s\tremaining: 1.36s\n",
      "660:\tlearn: 6.6432799\ttotal: 2.64s\tremaining: 1.35s\n",
      "661:\tlearn: 6.6427973\ttotal: 2.64s\tremaining: 1.35s\n",
      "662:\tlearn: 6.6425178\ttotal: 2.65s\tremaining: 1.34s\n",
      "663:\tlearn: 6.6421729\ttotal: 2.65s\tremaining: 1.34s\n",
      "664:\tlearn: 6.6416312\ttotal: 2.65s\tremaining: 1.34s\n",
      "665:\tlearn: 6.6410722\ttotal: 2.66s\tremaining: 1.33s\n",
      "666:\tlearn: 6.6406111\ttotal: 2.66s\tremaining: 1.33s\n",
      "667:\tlearn: 6.6403254\ttotal: 2.67s\tremaining: 1.32s\n",
      "668:\tlearn: 6.6398986\ttotal: 2.67s\tremaining: 1.32s\n",
      "669:\tlearn: 6.6395113\ttotal: 2.67s\tremaining: 1.32s\n",
      "670:\tlearn: 6.6389899\ttotal: 2.68s\tremaining: 1.31s\n",
      "671:\tlearn: 6.6385978\ttotal: 2.68s\tremaining: 1.31s\n",
      "672:\tlearn: 6.6382428\ttotal: 2.68s\tremaining: 1.3s\n",
      "673:\tlearn: 6.6380189\ttotal: 2.69s\tremaining: 1.3s\n",
      "674:\tlearn: 6.6377399\ttotal: 2.69s\tremaining: 1.29s\n",
      "675:\tlearn: 6.6374655\ttotal: 2.69s\tremaining: 1.29s\n",
      "676:\tlearn: 6.6369658\ttotal: 2.7s\tremaining: 1.29s\n",
      "677:\tlearn: 6.6365770\ttotal: 2.7s\tremaining: 1.28s\n",
      "678:\tlearn: 6.6361395\ttotal: 2.71s\tremaining: 1.28s\n",
      "679:\tlearn: 6.6358201\ttotal: 2.71s\tremaining: 1.27s\n",
      "680:\tlearn: 6.6355235\ttotal: 2.71s\tremaining: 1.27s\n",
      "681:\tlearn: 6.6349798\ttotal: 2.72s\tremaining: 1.27s\n",
      "682:\tlearn: 6.6346207\ttotal: 2.72s\tremaining: 1.26s\n",
      "683:\tlearn: 6.6342798\ttotal: 2.72s\tremaining: 1.26s\n",
      "684:\tlearn: 6.6339400\ttotal: 2.73s\tremaining: 1.25s\n",
      "685:\tlearn: 6.6334817\ttotal: 2.73s\tremaining: 1.25s\n",
      "686:\tlearn: 6.6331344\ttotal: 2.73s\tremaining: 1.25s\n",
      "687:\tlearn: 6.6326521\ttotal: 2.74s\tremaining: 1.24s\n",
      "688:\tlearn: 6.6322507\ttotal: 2.74s\tremaining: 1.24s\n",
      "689:\tlearn: 6.6317401\ttotal: 2.74s\tremaining: 1.23s\n",
      "690:\tlearn: 6.6314597\ttotal: 2.75s\tremaining: 1.23s\n",
      "691:\tlearn: 6.6311477\ttotal: 2.75s\tremaining: 1.22s\n",
      "692:\tlearn: 6.6306745\ttotal: 2.75s\tremaining: 1.22s\n",
      "693:\tlearn: 6.6299263\ttotal: 2.76s\tremaining: 1.22s\n",
      "694:\tlearn: 6.6294975\ttotal: 2.76s\tremaining: 1.21s\n",
      "695:\tlearn: 6.6291632\ttotal: 2.77s\tremaining: 1.21s\n",
      "696:\tlearn: 6.6287993\ttotal: 2.77s\tremaining: 1.2s\n",
      "697:\tlearn: 6.6283574\ttotal: 2.77s\tremaining: 1.2s\n",
      "698:\tlearn: 6.6277575\ttotal: 2.78s\tremaining: 1.2s\n",
      "699:\tlearn: 6.6275526\ttotal: 2.78s\tremaining: 1.19s\n",
      "700:\tlearn: 6.6272814\ttotal: 2.79s\tremaining: 1.19s\n",
      "701:\tlearn: 6.6267790\ttotal: 2.79s\tremaining: 1.18s\n",
      "702:\tlearn: 6.6263723\ttotal: 2.79s\tremaining: 1.18s\n",
      "703:\tlearn: 6.6260862\ttotal: 2.8s\tremaining: 1.18s\n",
      "704:\tlearn: 6.6256894\ttotal: 2.8s\tremaining: 1.17s\n",
      "705:\tlearn: 6.6256774\ttotal: 2.8s\tremaining: 1.17s\n",
      "706:\tlearn: 6.6252523\ttotal: 2.81s\tremaining: 1.16s\n",
      "707:\tlearn: 6.6248534\ttotal: 2.81s\tremaining: 1.16s\n",
      "708:\tlearn: 6.6241955\ttotal: 2.81s\tremaining: 1.16s\n",
      "709:\tlearn: 6.6235550\ttotal: 2.82s\tremaining: 1.15s\n",
      "710:\tlearn: 6.6229405\ttotal: 2.82s\tremaining: 1.15s\n",
      "711:\tlearn: 6.6226306\ttotal: 2.83s\tremaining: 1.14s\n",
      "712:\tlearn: 6.6221075\ttotal: 2.83s\tremaining: 1.14s\n",
      "713:\tlearn: 6.6217424\ttotal: 2.83s\tremaining: 1.14s\n",
      "714:\tlearn: 6.6213142\ttotal: 2.84s\tremaining: 1.13s\n",
      "715:\tlearn: 6.6210244\ttotal: 2.84s\tremaining: 1.13s\n",
      "716:\tlearn: 6.6208211\ttotal: 2.84s\tremaining: 1.12s\n",
      "717:\tlearn: 6.6206307\ttotal: 2.85s\tremaining: 1.12s\n",
      "718:\tlearn: 6.6199898\ttotal: 2.85s\tremaining: 1.11s\n",
      "719:\tlearn: 6.6197398\ttotal: 2.85s\tremaining: 1.11s\n",
      "720:\tlearn: 6.6196272\ttotal: 2.86s\tremaining: 1.11s\n",
      "721:\tlearn: 6.6193487\ttotal: 2.86s\tremaining: 1.1s\n",
      "722:\tlearn: 6.6188200\ttotal: 2.87s\tremaining: 1.1s\n",
      "723:\tlearn: 6.6184837\ttotal: 2.87s\tremaining: 1.09s\n",
      "724:\tlearn: 6.6180305\ttotal: 2.87s\tremaining: 1.09s\n",
      "725:\tlearn: 6.6176063\ttotal: 2.88s\tremaining: 1.09s\n",
      "726:\tlearn: 6.6171482\ttotal: 2.88s\tremaining: 1.08s\n",
      "727:\tlearn: 6.6169109\ttotal: 2.88s\tremaining: 1.08s\n",
      "728:\tlearn: 6.6166397\ttotal: 2.89s\tremaining: 1.07s\n",
      "729:\tlearn: 6.6161901\ttotal: 2.89s\tremaining: 1.07s\n",
      "730:\tlearn: 6.6157592\ttotal: 2.9s\tremaining: 1.07s\n",
      "731:\tlearn: 6.6152549\ttotal: 2.9s\tremaining: 1.06s\n",
      "732:\tlearn: 6.6151406\ttotal: 2.9s\tremaining: 1.06s\n",
      "733:\tlearn: 6.6148098\ttotal: 2.91s\tremaining: 1.05s\n",
      "734:\tlearn: 6.6142945\ttotal: 2.91s\tremaining: 1.05s\n",
      "735:\tlearn: 6.6140942\ttotal: 2.92s\tremaining: 1.04s\n",
      "736:\tlearn: 6.6137494\ttotal: 2.92s\tremaining: 1.04s\n",
      "737:\tlearn: 6.6136686\ttotal: 2.92s\tremaining: 1.04s\n",
      "738:\tlearn: 6.6132733\ttotal: 2.93s\tremaining: 1.03s\n",
      "739:\tlearn: 6.6125987\ttotal: 2.93s\tremaining: 1.03s\n",
      "740:\tlearn: 6.6121234\ttotal: 2.93s\tremaining: 1.02s\n",
      "741:\tlearn: 6.6117724\ttotal: 2.94s\tremaining: 1.02s\n",
      "742:\tlearn: 6.6114831\ttotal: 2.94s\tremaining: 1.02s\n",
      "743:\tlearn: 6.6111870\ttotal: 2.94s\tremaining: 1.01s\n",
      "744:\tlearn: 6.6109060\ttotal: 2.95s\tremaining: 1.01s\n",
      "745:\tlearn: 6.6104732\ttotal: 2.95s\tremaining: 1s\n",
      "746:\tlearn: 6.6101391\ttotal: 2.96s\tremaining: 1s\n",
      "747:\tlearn: 6.6098334\ttotal: 2.96s\tremaining: 998ms\n",
      "748:\tlearn: 6.6094929\ttotal: 2.96s\tremaining: 994ms\n",
      "749:\tlearn: 6.6091786\ttotal: 2.97s\tremaining: 990ms\n",
      "750:\tlearn: 6.6087950\ttotal: 2.97s\tremaining: 986ms\n",
      "751:\tlearn: 6.6084913\ttotal: 2.98s\tremaining: 982ms\n",
      "752:\tlearn: 6.6082125\ttotal: 2.98s\tremaining: 978ms\n",
      "753:\tlearn: 6.6078904\ttotal: 2.98s\tremaining: 974ms\n",
      "754:\tlearn: 6.6075691\ttotal: 2.99s\tremaining: 970ms\n",
      "755:\tlearn: 6.6074136\ttotal: 2.99s\tremaining: 966ms\n",
      "756:\tlearn: 6.6071479\ttotal: 3s\tremaining: 962ms\n",
      "757:\tlearn: 6.6068295\ttotal: 3s\tremaining: 959ms\n",
      "758:\tlearn: 6.6065012\ttotal: 3.01s\tremaining: 955ms\n",
      "759:\tlearn: 6.6061481\ttotal: 3.01s\tremaining: 951ms\n",
      "760:\tlearn: 6.6054656\ttotal: 3.02s\tremaining: 947ms\n",
      "761:\tlearn: 6.6051830\ttotal: 3.02s\tremaining: 943ms\n",
      "762:\tlearn: 6.6047564\ttotal: 3.02s\tremaining: 940ms\n",
      "763:\tlearn: 6.6041213\ttotal: 3.03s\tremaining: 936ms\n",
      "764:\tlearn: 6.6036971\ttotal: 3.03s\tremaining: 932ms\n",
      "765:\tlearn: 6.6033995\ttotal: 3.04s\tremaining: 928ms\n",
      "766:\tlearn: 6.6029968\ttotal: 3.04s\tremaining: 924ms\n",
      "767:\tlearn: 6.6029094\ttotal: 3.04s\tremaining: 920ms\n",
      "768:\tlearn: 6.6026895\ttotal: 3.05s\tremaining: 916ms\n",
      "769:\tlearn: 6.6024352\ttotal: 3.05s\tremaining: 912ms\n",
      "770:\tlearn: 6.6020794\ttotal: 3.06s\tremaining: 908ms\n",
      "771:\tlearn: 6.6016388\ttotal: 3.06s\tremaining: 904ms\n",
      "772:\tlearn: 6.6012614\ttotal: 3.06s\tremaining: 900ms\n",
      "773:\tlearn: 6.6007756\ttotal: 3.07s\tremaining: 896ms\n",
      "774:\tlearn: 6.6002747\ttotal: 3.07s\tremaining: 892ms\n",
      "775:\tlearn: 6.6000057\ttotal: 3.08s\tremaining: 888ms\n",
      "776:\tlearn: 6.5995516\ttotal: 3.08s\tremaining: 884ms\n",
      "777:\tlearn: 6.5993145\ttotal: 3.08s\tremaining: 880ms\n",
      "778:\tlearn: 6.5988032\ttotal: 3.09s\tremaining: 876ms\n",
      "779:\tlearn: 6.5986513\ttotal: 3.09s\tremaining: 872ms\n",
      "780:\tlearn: 6.5984473\ttotal: 3.1s\tremaining: 868ms\n",
      "781:\tlearn: 6.5980414\ttotal: 3.1s\tremaining: 865ms\n",
      "782:\tlearn: 6.5974217\ttotal: 3.1s\tremaining: 860ms\n",
      "783:\tlearn: 6.5971822\ttotal: 3.11s\tremaining: 856ms\n",
      "784:\tlearn: 6.5966982\ttotal: 3.11s\tremaining: 853ms\n",
      "785:\tlearn: 6.5961528\ttotal: 3.12s\tremaining: 849ms\n",
      "786:\tlearn: 6.5959033\ttotal: 3.12s\tremaining: 845ms\n",
      "787:\tlearn: 6.5956839\ttotal: 3.12s\tremaining: 841ms\n",
      "788:\tlearn: 6.5952632\ttotal: 3.13s\tremaining: 837ms\n",
      "789:\tlearn: 6.5949278\ttotal: 3.13s\tremaining: 833ms\n",
      "790:\tlearn: 6.5944242\ttotal: 3.13s\tremaining: 829ms\n",
      "791:\tlearn: 6.5940565\ttotal: 3.14s\tremaining: 825ms\n",
      "792:\tlearn: 6.5940464\ttotal: 3.14s\tremaining: 820ms\n",
      "793:\tlearn: 6.5937225\ttotal: 3.15s\tremaining: 817ms\n",
      "794:\tlearn: 6.5933460\ttotal: 3.15s\tremaining: 812ms\n",
      "795:\tlearn: 6.5931799\ttotal: 3.15s\tremaining: 809ms\n",
      "796:\tlearn: 6.5928097\ttotal: 3.16s\tremaining: 804ms\n",
      "797:\tlearn: 6.5923276\ttotal: 3.16s\tremaining: 801ms\n",
      "798:\tlearn: 6.5916374\ttotal: 3.17s\tremaining: 797ms\n",
      "799:\tlearn: 6.5913737\ttotal: 3.17s\tremaining: 793ms\n",
      "800:\tlearn: 6.5910431\ttotal: 3.17s\tremaining: 789ms\n",
      "801:\tlearn: 6.5907438\ttotal: 3.18s\tremaining: 785ms\n",
      "802:\tlearn: 6.5904957\ttotal: 3.18s\tremaining: 781ms\n",
      "803:\tlearn: 6.5901473\ttotal: 3.19s\tremaining: 777ms\n",
      "804:\tlearn: 6.5900195\ttotal: 3.19s\tremaining: 773ms\n",
      "805:\tlearn: 6.5897886\ttotal: 3.19s\tremaining: 769ms\n",
      "806:\tlearn: 6.5894359\ttotal: 3.2s\tremaining: 765ms\n",
      "807:\tlearn: 6.5890614\ttotal: 3.2s\tremaining: 761ms\n",
      "808:\tlearn: 6.5886457\ttotal: 3.21s\tremaining: 757ms\n",
      "809:\tlearn: 6.5880895\ttotal: 3.21s\tremaining: 753ms\n",
      "810:\tlearn: 6.5877322\ttotal: 3.22s\tremaining: 750ms\n",
      "811:\tlearn: 6.5872512\ttotal: 3.22s\tremaining: 746ms\n",
      "812:\tlearn: 6.5867205\ttotal: 3.26s\tremaining: 749ms\n",
      "813:\tlearn: 6.5862946\ttotal: 3.28s\tremaining: 749ms\n",
      "814:\tlearn: 6.5862867\ttotal: 3.3s\tremaining: 749ms\n",
      "815:\tlearn: 6.5859059\ttotal: 3.3s\tremaining: 745ms\n",
      "816:\tlearn: 6.5854504\ttotal: 3.31s\tremaining: 741ms\n",
      "817:\tlearn: 6.5852878\ttotal: 3.31s\tremaining: 737ms\n",
      "818:\tlearn: 6.5848135\ttotal: 3.32s\tremaining: 733ms\n",
      "819:\tlearn: 6.5844734\ttotal: 3.32s\tremaining: 729ms\n",
      "820:\tlearn: 6.5838012\ttotal: 3.33s\tremaining: 725ms\n",
      "821:\tlearn: 6.5834581\ttotal: 3.33s\tremaining: 721ms\n",
      "822:\tlearn: 6.5831828\ttotal: 3.34s\tremaining: 718ms\n",
      "823:\tlearn: 6.5825736\ttotal: 3.34s\tremaining: 714ms\n",
      "824:\tlearn: 6.5821972\ttotal: 3.34s\tremaining: 710ms\n",
      "825:\tlearn: 6.5818611\ttotal: 3.35s\tremaining: 706ms\n",
      "826:\tlearn: 6.5812253\ttotal: 3.35s\tremaining: 702ms\n",
      "827:\tlearn: 6.5809578\ttotal: 3.36s\tremaining: 698ms\n",
      "828:\tlearn: 6.5803775\ttotal: 3.36s\tremaining: 694ms\n",
      "829:\tlearn: 6.5798833\ttotal: 3.37s\tremaining: 690ms\n",
      "830:\tlearn: 6.5796258\ttotal: 3.38s\tremaining: 686ms\n",
      "831:\tlearn: 6.5793624\ttotal: 3.38s\tremaining: 682ms\n",
      "832:\tlearn: 6.5791615\ttotal: 3.38s\tremaining: 678ms\n",
      "833:\tlearn: 6.5787371\ttotal: 3.39s\tremaining: 674ms\n",
      "834:\tlearn: 6.5784155\ttotal: 3.39s\tremaining: 670ms\n",
      "835:\tlearn: 6.5782371\ttotal: 3.4s\tremaining: 666ms\n",
      "836:\tlearn: 6.5778823\ttotal: 3.4s\tremaining: 662ms\n",
      "837:\tlearn: 6.5776414\ttotal: 3.4s\tremaining: 658ms\n",
      "838:\tlearn: 6.5773129\ttotal: 3.41s\tremaining: 654ms\n",
      "839:\tlearn: 6.5768476\ttotal: 3.41s\tremaining: 650ms\n",
      "840:\tlearn: 6.5766890\ttotal: 3.42s\tremaining: 646ms\n",
      "841:\tlearn: 6.5763561\ttotal: 3.42s\tremaining: 642ms\n",
      "842:\tlearn: 6.5760105\ttotal: 3.43s\tremaining: 638ms\n",
      "843:\tlearn: 6.5757648\ttotal: 3.43s\tremaining: 634ms\n",
      "844:\tlearn: 6.5754463\ttotal: 3.43s\tremaining: 630ms\n",
      "845:\tlearn: 6.5750441\ttotal: 3.44s\tremaining: 626ms\n",
      "846:\tlearn: 6.5748858\ttotal: 3.44s\tremaining: 622ms\n",
      "847:\tlearn: 6.5743950\ttotal: 3.44s\tremaining: 618ms\n",
      "848:\tlearn: 6.5739803\ttotal: 3.45s\tremaining: 613ms\n",
      "849:\tlearn: 6.5735538\ttotal: 3.45s\tremaining: 610ms\n",
      "850:\tlearn: 6.5730088\ttotal: 3.46s\tremaining: 605ms\n",
      "851:\tlearn: 6.5723934\ttotal: 3.46s\tremaining: 601ms\n",
      "852:\tlearn: 6.5718708\ttotal: 3.46s\tremaining: 597ms\n",
      "853:\tlearn: 6.5715350\ttotal: 3.47s\tremaining: 593ms\n",
      "854:\tlearn: 6.5709962\ttotal: 3.47s\tremaining: 589ms\n",
      "855:\tlearn: 6.5706004\ttotal: 3.48s\tremaining: 585ms\n",
      "856:\tlearn: 6.5700866\ttotal: 3.48s\tremaining: 581ms\n",
      "857:\tlearn: 6.5700148\ttotal: 3.49s\tremaining: 577ms\n",
      "858:\tlearn: 6.5695265\ttotal: 3.49s\tremaining: 573ms\n",
      "859:\tlearn: 6.5692256\ttotal: 3.49s\tremaining: 569ms\n",
      "860:\tlearn: 6.5688332\ttotal: 3.5s\tremaining: 565ms\n",
      "861:\tlearn: 6.5685958\ttotal: 3.5s\tremaining: 561ms\n",
      "862:\tlearn: 6.5681033\ttotal: 3.51s\tremaining: 557ms\n",
      "863:\tlearn: 6.5676864\ttotal: 3.51s\tremaining: 553ms\n",
      "864:\tlearn: 6.5673322\ttotal: 3.51s\tremaining: 548ms\n",
      "865:\tlearn: 6.5669392\ttotal: 3.52s\tremaining: 544ms\n",
      "866:\tlearn: 6.5665522\ttotal: 3.52s\tremaining: 540ms\n",
      "867:\tlearn: 6.5663356\ttotal: 3.53s\tremaining: 536ms\n",
      "868:\tlearn: 6.5659238\ttotal: 3.53s\tremaining: 532ms\n",
      "869:\tlearn: 6.5656180\ttotal: 3.53s\tremaining: 528ms\n",
      "870:\tlearn: 6.5653791\ttotal: 3.54s\tremaining: 524ms\n",
      "871:\tlearn: 6.5653701\ttotal: 3.54s\tremaining: 520ms\n",
      "872:\tlearn: 6.5649970\ttotal: 3.54s\tremaining: 516ms\n",
      "873:\tlearn: 6.5648013\ttotal: 3.55s\tremaining: 512ms\n",
      "874:\tlearn: 6.5643942\ttotal: 3.55s\tremaining: 507ms\n",
      "875:\tlearn: 6.5641440\ttotal: 3.56s\tremaining: 503ms\n",
      "876:\tlearn: 6.5638088\ttotal: 3.56s\tremaining: 499ms\n",
      "877:\tlearn: 6.5635125\ttotal: 3.56s\tremaining: 495ms\n",
      "878:\tlearn: 6.5630159\ttotal: 3.57s\tremaining: 491ms\n",
      "879:\tlearn: 6.5628391\ttotal: 3.57s\tremaining: 487ms\n",
      "880:\tlearn: 6.5624022\ttotal: 3.57s\tremaining: 483ms\n",
      "881:\tlearn: 6.5621240\ttotal: 3.58s\tremaining: 479ms\n",
      "882:\tlearn: 6.5618439\ttotal: 3.58s\tremaining: 475ms\n",
      "883:\tlearn: 6.5616307\ttotal: 3.59s\tremaining: 471ms\n",
      "884:\tlearn: 6.5614596\ttotal: 3.59s\tremaining: 467ms\n",
      "885:\tlearn: 6.5613905\ttotal: 3.59s\tremaining: 462ms\n",
      "886:\tlearn: 6.5610416\ttotal: 3.6s\tremaining: 458ms\n",
      "887:\tlearn: 6.5606405\ttotal: 3.6s\tremaining: 454ms\n",
      "888:\tlearn: 6.5604988\ttotal: 3.61s\tremaining: 450ms\n",
      "889:\tlearn: 6.5600015\ttotal: 3.61s\tremaining: 446ms\n",
      "890:\tlearn: 6.5596007\ttotal: 3.62s\tremaining: 442ms\n",
      "891:\tlearn: 6.5593443\ttotal: 3.62s\tremaining: 438ms\n",
      "892:\tlearn: 6.5590811\ttotal: 3.63s\tremaining: 434ms\n",
      "893:\tlearn: 6.5588305\ttotal: 3.63s\tremaining: 430ms\n",
      "894:\tlearn: 6.5585475\ttotal: 3.63s\tremaining: 426ms\n",
      "895:\tlearn: 6.5582900\ttotal: 3.64s\tremaining: 422ms\n",
      "896:\tlearn: 6.5580014\ttotal: 3.64s\tremaining: 418ms\n",
      "897:\tlearn: 6.5577105\ttotal: 3.65s\tremaining: 414ms\n",
      "898:\tlearn: 6.5574276\ttotal: 3.65s\tremaining: 410ms\n",
      "899:\tlearn: 6.5570682\ttotal: 3.65s\tremaining: 406ms\n",
      "900:\tlearn: 6.5567511\ttotal: 3.66s\tremaining: 402ms\n",
      "901:\tlearn: 6.5564269\ttotal: 3.66s\tremaining: 398ms\n",
      "902:\tlearn: 6.5561958\ttotal: 3.67s\tremaining: 394ms\n",
      "903:\tlearn: 6.5554646\ttotal: 3.67s\tremaining: 390ms\n",
      "904:\tlearn: 6.5551963\ttotal: 3.67s\tremaining: 386ms\n",
      "905:\tlearn: 6.5547908\ttotal: 3.68s\tremaining: 382ms\n",
      "906:\tlearn: 6.5544882\ttotal: 3.68s\tremaining: 377ms\n",
      "907:\tlearn: 6.5539754\ttotal: 3.69s\tremaining: 373ms\n",
      "908:\tlearn: 6.5536130\ttotal: 3.69s\tremaining: 369ms\n",
      "909:\tlearn: 6.5531779\ttotal: 3.69s\tremaining: 365ms\n",
      "910:\tlearn: 6.5527337\ttotal: 3.7s\tremaining: 361ms\n",
      "911:\tlearn: 6.5525769\ttotal: 3.7s\tremaining: 357ms\n",
      "912:\tlearn: 6.5523860\ttotal: 3.7s\tremaining: 353ms\n",
      "913:\tlearn: 6.5521763\ttotal: 3.71s\tremaining: 349ms\n",
      "914:\tlearn: 6.5518452\ttotal: 3.71s\tremaining: 345ms\n",
      "915:\tlearn: 6.5514384\ttotal: 3.72s\tremaining: 341ms\n",
      "916:\tlearn: 6.5509677\ttotal: 3.72s\tremaining: 337ms\n",
      "917:\tlearn: 6.5505623\ttotal: 3.72s\tremaining: 333ms\n",
      "918:\tlearn: 6.5502403\ttotal: 3.73s\tremaining: 329ms\n",
      "919:\tlearn: 6.5497963\ttotal: 3.73s\tremaining: 324ms\n",
      "920:\tlearn: 6.5494700\ttotal: 3.73s\tremaining: 320ms\n",
      "921:\tlearn: 6.5494344\ttotal: 3.74s\tremaining: 316ms\n",
      "922:\tlearn: 6.5491261\ttotal: 3.74s\tremaining: 312ms\n",
      "923:\tlearn: 6.5489010\ttotal: 3.74s\tremaining: 308ms\n",
      "924:\tlearn: 6.5483370\ttotal: 3.75s\tremaining: 304ms\n",
      "925:\tlearn: 6.5481341\ttotal: 3.75s\tremaining: 300ms\n",
      "926:\tlearn: 6.5476481\ttotal: 3.75s\tremaining: 296ms\n",
      "927:\tlearn: 6.5471536\ttotal: 3.76s\tremaining: 292ms\n",
      "928:\tlearn: 6.5468684\ttotal: 3.76s\tremaining: 288ms\n",
      "929:\tlearn: 6.5466703\ttotal: 3.77s\tremaining: 284ms\n",
      "930:\tlearn: 6.5464913\ttotal: 3.77s\tremaining: 279ms\n",
      "931:\tlearn: 6.5461932\ttotal: 3.77s\tremaining: 275ms\n",
      "932:\tlearn: 6.5459462\ttotal: 3.78s\tremaining: 271ms\n",
      "933:\tlearn: 6.5454629\ttotal: 3.78s\tremaining: 267ms\n",
      "934:\tlearn: 6.5450333\ttotal: 3.78s\tremaining: 263ms\n",
      "935:\tlearn: 6.5446032\ttotal: 3.79s\tremaining: 259ms\n",
      "936:\tlearn: 6.5440161\ttotal: 3.79s\tremaining: 255ms\n",
      "937:\tlearn: 6.5437110\ttotal: 3.8s\tremaining: 251ms\n",
      "938:\tlearn: 6.5433048\ttotal: 3.8s\tremaining: 247ms\n",
      "939:\tlearn: 6.5428702\ttotal: 3.8s\tremaining: 243ms\n",
      "940:\tlearn: 6.5424806\ttotal: 3.81s\tremaining: 239ms\n",
      "941:\tlearn: 6.5421112\ttotal: 3.81s\tremaining: 235ms\n",
      "942:\tlearn: 6.5417544\ttotal: 3.82s\tremaining: 231ms\n",
      "943:\tlearn: 6.5413551\ttotal: 3.82s\tremaining: 227ms\n",
      "944:\tlearn: 6.5409234\ttotal: 3.83s\tremaining: 223ms\n",
      "945:\tlearn: 6.5406764\ttotal: 3.83s\tremaining: 219ms\n",
      "946:\tlearn: 6.5405620\ttotal: 3.83s\tremaining: 215ms\n",
      "947:\tlearn: 6.5402464\ttotal: 3.84s\tremaining: 211ms\n",
      "948:\tlearn: 6.5397951\ttotal: 3.84s\tremaining: 206ms\n",
      "949:\tlearn: 6.5394533\ttotal: 3.85s\tremaining: 202ms\n",
      "950:\tlearn: 6.5392834\ttotal: 3.85s\tremaining: 198ms\n",
      "951:\tlearn: 6.5390108\ttotal: 3.85s\tremaining: 194ms\n",
      "952:\tlearn: 6.5386991\ttotal: 3.86s\tremaining: 190ms\n",
      "953:\tlearn: 6.5383052\ttotal: 3.86s\tremaining: 186ms\n",
      "954:\tlearn: 6.5378849\ttotal: 3.86s\tremaining: 182ms\n",
      "955:\tlearn: 6.5375815\ttotal: 3.87s\tremaining: 178ms\n",
      "956:\tlearn: 6.5373219\ttotal: 3.87s\tremaining: 174ms\n",
      "957:\tlearn: 6.5370495\ttotal: 3.87s\tremaining: 170ms\n",
      "958:\tlearn: 6.5367958\ttotal: 3.88s\tremaining: 166ms\n",
      "959:\tlearn: 6.5361811\ttotal: 3.88s\tremaining: 162ms\n",
      "960:\tlearn: 6.5352977\ttotal: 3.88s\tremaining: 158ms\n",
      "961:\tlearn: 6.5348801\ttotal: 3.89s\tremaining: 154ms\n",
      "962:\tlearn: 6.5343210\ttotal: 3.89s\tremaining: 150ms\n",
      "963:\tlearn: 6.5340234\ttotal: 3.9s\tremaining: 145ms\n",
      "964:\tlearn: 6.5339544\ttotal: 3.9s\tremaining: 141ms\n",
      "965:\tlearn: 6.5336682\ttotal: 3.9s\tremaining: 137ms\n",
      "966:\tlearn: 6.5333854\ttotal: 3.91s\tremaining: 133ms\n",
      "967:\tlearn: 6.5332595\ttotal: 3.91s\tremaining: 129ms\n",
      "968:\tlearn: 6.5327308\ttotal: 3.91s\tremaining: 125ms\n",
      "969:\tlearn: 6.5320647\ttotal: 3.92s\tremaining: 121ms\n",
      "970:\tlearn: 6.5317898\ttotal: 3.92s\tremaining: 117ms\n",
      "971:\tlearn: 6.5312896\ttotal: 3.93s\tremaining: 113ms\n",
      "972:\tlearn: 6.5308992\ttotal: 3.93s\tremaining: 109ms\n",
      "973:\tlearn: 6.5308090\ttotal: 3.93s\tremaining: 105ms\n",
      "974:\tlearn: 6.5305371\ttotal: 3.94s\tremaining: 101ms\n",
      "975:\tlearn: 6.5303194\ttotal: 3.94s\tremaining: 96.9ms\n",
      "976:\tlearn: 6.5300020\ttotal: 3.94s\tremaining: 92.9ms\n",
      "977:\tlearn: 6.5298173\ttotal: 3.95s\tremaining: 88.8ms\n",
      "978:\tlearn: 6.5295478\ttotal: 3.95s\tremaining: 84.8ms\n",
      "979:\tlearn: 6.5289491\ttotal: 3.96s\tremaining: 80.7ms\n",
      "980:\tlearn: 6.5289058\ttotal: 3.96s\tremaining: 76.7ms\n",
      "981:\tlearn: 6.5286065\ttotal: 3.96s\tremaining: 72.7ms\n",
      "982:\tlearn: 6.5279988\ttotal: 3.97s\tremaining: 68.6ms\n",
      "983:\tlearn: 6.5276852\ttotal: 3.97s\tremaining: 64.6ms\n",
      "984:\tlearn: 6.5273596\ttotal: 3.98s\tremaining: 60.5ms\n",
      "985:\tlearn: 6.5268818\ttotal: 3.98s\tremaining: 56.5ms\n",
      "986:\tlearn: 6.5265780\ttotal: 3.98s\tremaining: 52.5ms\n",
      "987:\tlearn: 6.5263845\ttotal: 3.99s\tremaining: 48.4ms\n",
      "988:\tlearn: 6.5260796\ttotal: 3.99s\tremaining: 44.4ms\n",
      "989:\tlearn: 6.5258646\ttotal: 4s\tremaining: 40.4ms\n",
      "990:\tlearn: 6.5254117\ttotal: 4s\tremaining: 36.3ms\n",
      "991:\tlearn: 6.5250994\ttotal: 4s\tremaining: 32.3ms\n",
      "992:\tlearn: 6.5247985\ttotal: 4.01s\tremaining: 28.3ms\n",
      "993:\tlearn: 6.5244269\ttotal: 4.01s\tremaining: 24.2ms\n",
      "994:\tlearn: 6.5241773\ttotal: 4.02s\tremaining: 20.2ms\n",
      "995:\tlearn: 6.5239275\ttotal: 4.02s\tremaining: 16.2ms\n",
      "996:\tlearn: 6.5237861\ttotal: 4.03s\tremaining: 12.1ms\n",
      "997:\tlearn: 6.5235454\ttotal: 4.03s\tremaining: 8.08ms\n",
      "998:\tlearn: 6.5233899\ttotal: 4.04s\tremaining: 4.04ms\n",
      "999:\tlearn: 6.5231921\ttotal: 4.04s\tremaining: 0us\n"
     ]
    }
   ],
   "source": [
    "catb = CatBoostRegressor() # ayrıca gözlem için temel model\n",
    "\n",
    "catb_model = catb.fit(X_train, y_train) #eğitim"
   ]
  },
  {
   "cell_type": "code",
   "execution_count": 237,
   "id": "3e5cf3f4-92c1-43c9-a969-50d0ba5cf379",
   "metadata": {},
   "outputs": [
    {
     "name": "stdout",
     "output_type": "stream",
     "text": [
      "6.956428365565277\n"
     ]
    }
   ],
   "source": [
    "from sklearn.metrics import mean_squared_error, r2_score\n",
    "y_pred = catb_model.predict(X_test)\n",
    "karsilastirma = np.sqrt(mean_squared_error(y_test, y_pred))\n",
    "print(karsilastirma) # tekrar gözlem"
   ]
  },
  {
   "cell_type": "code",
   "execution_count": 238,
   "id": "6b7c62b9-30a3-48de-87ab-5361fb9f0343",
   "metadata": {
    "scrolled": true
   },
   "outputs": [
    {
     "name": "stdout",
     "output_type": "stream",
     "text": [
      "Learning rate set to 0.076461\n",
      "0:\tlearn: 17.1239352\ttotal: 4.54ms\tremaining: 4.54s\n",
      "1:\tlearn: 16.1885656\ttotal: 8.64ms\tremaining: 4.31s\n",
      "2:\tlearn: 15.3655770\ttotal: 12.9ms\tremaining: 4.3s\n",
      "3:\tlearn: 14.6448170\ttotal: 17.9ms\tremaining: 4.45s\n",
      "4:\tlearn: 13.9486329\ttotal: 22.6ms\tremaining: 4.5s\n",
      "5:\tlearn: 13.3255488\ttotal: 26.7ms\tremaining: 4.42s\n",
      "6:\tlearn: 12.7645592\ttotal: 30.7ms\tremaining: 4.36s\n",
      "7:\tlearn: 12.2760625\ttotal: 35.1ms\tremaining: 4.36s\n",
      "8:\tlearn: 11.8263090\ttotal: 39.4ms\tremaining: 4.34s\n",
      "9:\tlearn: 11.4273753\ttotal: 43.7ms\tremaining: 4.32s\n",
      "10:\tlearn: 11.0832592\ttotal: 48ms\tremaining: 4.32s\n",
      "11:\tlearn: 10.7657285\ttotal: 52.4ms\tremaining: 4.31s\n",
      "12:\tlearn: 10.4809781\ttotal: 56.5ms\tremaining: 4.29s\n",
      "13:\tlearn: 10.2388156\ttotal: 60.6ms\tremaining: 4.27s\n",
      "14:\tlearn: 10.0064483\ttotal: 65.1ms\tremaining: 4.28s\n",
      "15:\tlearn: 9.8082173\ttotal: 69.4ms\tremaining: 4.27s\n",
      "16:\tlearn: 9.6303714\ttotal: 73.4ms\tremaining: 4.24s\n",
      "17:\tlearn: 9.4768792\ttotal: 77.4ms\tremaining: 4.22s\n",
      "18:\tlearn: 9.3232267\ttotal: 82.1ms\tremaining: 4.24s\n",
      "19:\tlearn: 9.1946992\ttotal: 87.2ms\tremaining: 4.27s\n",
      "20:\tlearn: 9.0643313\ttotal: 91.2ms\tremaining: 4.25s\n",
      "21:\tlearn: 8.9484287\ttotal: 95.2ms\tremaining: 4.23s\n",
      "22:\tlearn: 8.8366121\ttotal: 99.4ms\tremaining: 4.22s\n",
      "23:\tlearn: 8.7369449\ttotal: 103ms\tremaining: 4.2s\n",
      "24:\tlearn: 8.6493671\ttotal: 107ms\tremaining: 4.18s\n",
      "25:\tlearn: 8.5569516\ttotal: 112ms\tremaining: 4.21s\n",
      "26:\tlearn: 8.4823312\ttotal: 117ms\tremaining: 4.21s\n",
      "27:\tlearn: 8.3988902\ttotal: 121ms\tremaining: 4.2s\n",
      "28:\tlearn: 8.3348407\ttotal: 125ms\tremaining: 4.19s\n",
      "29:\tlearn: 8.2681070\ttotal: 130ms\tremaining: 4.2s\n",
      "30:\tlearn: 8.2106769\ttotal: 134ms\tremaining: 4.19s\n",
      "31:\tlearn: 8.1527960\ttotal: 138ms\tremaining: 4.19s\n",
      "32:\tlearn: 8.0999684\ttotal: 143ms\tremaining: 4.19s\n",
      "33:\tlearn: 8.0531681\ttotal: 147ms\tremaining: 4.18s\n",
      "34:\tlearn: 8.0160843\ttotal: 152ms\tremaining: 4.18s\n",
      "35:\tlearn: 7.9717247\ttotal: 155ms\tremaining: 4.16s\n",
      "36:\tlearn: 7.9172467\ttotal: 161ms\tremaining: 4.18s\n",
      "37:\tlearn: 7.8754805\ttotal: 165ms\tremaining: 4.17s\n",
      "38:\tlearn: 7.8386415\ttotal: 169ms\tremaining: 4.17s\n",
      "39:\tlearn: 7.8050160\ttotal: 173ms\tremaining: 4.16s\n",
      "40:\tlearn: 7.7717062\ttotal: 178ms\tremaining: 4.16s\n",
      "41:\tlearn: 7.7451428\ttotal: 182ms\tremaining: 4.15s\n",
      "42:\tlearn: 7.7083896\ttotal: 186ms\tremaining: 4.13s\n",
      "43:\tlearn: 7.6824765\ttotal: 190ms\tremaining: 4.12s\n",
      "44:\tlearn: 7.6584877\ttotal: 194ms\tremaining: 4.12s\n",
      "45:\tlearn: 7.6314734\ttotal: 199ms\tremaining: 4.13s\n",
      "46:\tlearn: 7.6102033\ttotal: 203ms\tremaining: 4.12s\n",
      "47:\tlearn: 7.5942468\ttotal: 208ms\tremaining: 4.13s\n",
      "48:\tlearn: 7.5736787\ttotal: 212ms\tremaining: 4.12s\n",
      "49:\tlearn: 7.5550214\ttotal: 217ms\tremaining: 4.12s\n",
      "50:\tlearn: 7.5290090\ttotal: 221ms\tremaining: 4.11s\n",
      "51:\tlearn: 7.5135947\ttotal: 225ms\tremaining: 4.11s\n",
      "52:\tlearn: 7.4982966\ttotal: 230ms\tremaining: 4.1s\n",
      "53:\tlearn: 7.4823704\ttotal: 234ms\tremaining: 4.1s\n",
      "54:\tlearn: 7.4678504\ttotal: 238ms\tremaining: 4.09s\n",
      "55:\tlearn: 7.4556351\ttotal: 242ms\tremaining: 4.09s\n",
      "56:\tlearn: 7.4430698\ttotal: 246ms\tremaining: 4.08s\n",
      "57:\tlearn: 7.4265793\ttotal: 250ms\tremaining: 4.06s\n",
      "58:\tlearn: 7.4121378\ttotal: 254ms\tremaining: 4.06s\n",
      "59:\tlearn: 7.3990702\ttotal: 259ms\tremaining: 4.05s\n",
      "60:\tlearn: 7.3908324\ttotal: 262ms\tremaining: 4.04s\n",
      "61:\tlearn: 7.3823690\ttotal: 267ms\tremaining: 4.03s\n",
      "62:\tlearn: 7.3671574\ttotal: 270ms\tremaining: 4.02s\n",
      "63:\tlearn: 7.3565249\ttotal: 274ms\tremaining: 4.01s\n",
      "64:\tlearn: 7.3475294\ttotal: 278ms\tremaining: 3.99s\n",
      "65:\tlearn: 7.3390402\ttotal: 281ms\tremaining: 3.98s\n",
      "66:\tlearn: 7.3288890\ttotal: 285ms\tremaining: 3.96s\n",
      "67:\tlearn: 7.3218096\ttotal: 289ms\tremaining: 3.95s\n",
      "68:\tlearn: 7.3136437\ttotal: 292ms\tremaining: 3.94s\n",
      "69:\tlearn: 7.3064786\ttotal: 296ms\tremaining: 3.93s\n",
      "70:\tlearn: 7.3020773\ttotal: 299ms\tremaining: 3.92s\n",
      "71:\tlearn: 7.2963069\ttotal: 304ms\tremaining: 3.92s\n",
      "72:\tlearn: 7.2918215\ttotal: 309ms\tremaining: 3.92s\n",
      "73:\tlearn: 7.2799305\ttotal: 313ms\tremaining: 3.91s\n",
      "74:\tlearn: 7.2746769\ttotal: 317ms\tremaining: 3.92s\n",
      "75:\tlearn: 7.2662182\ttotal: 322ms\tremaining: 3.92s\n",
      "76:\tlearn: 7.2612568\ttotal: 326ms\tremaining: 3.91s\n",
      "77:\tlearn: 7.2488531\ttotal: 331ms\tremaining: 3.91s\n",
      "78:\tlearn: 7.2411457\ttotal: 334ms\tremaining: 3.9s\n",
      "79:\tlearn: 7.2335756\ttotal: 338ms\tremaining: 3.89s\n",
      "80:\tlearn: 7.2281213\ttotal: 342ms\tremaining: 3.88s\n",
      "81:\tlearn: 7.2225310\ttotal: 345ms\tremaining: 3.87s\n",
      "82:\tlearn: 7.2191501\ttotal: 349ms\tremaining: 3.86s\n",
      "83:\tlearn: 7.2127302\ttotal: 353ms\tremaining: 3.85s\n",
      "84:\tlearn: 7.2075645\ttotal: 358ms\tremaining: 3.85s\n",
      "85:\tlearn: 7.2042929\ttotal: 362ms\tremaining: 3.85s\n",
      "86:\tlearn: 7.2003081\ttotal: 366ms\tremaining: 3.85s\n",
      "87:\tlearn: 7.1899612\ttotal: 371ms\tremaining: 3.85s\n",
      "88:\tlearn: 7.1868176\ttotal: 376ms\tremaining: 3.85s\n",
      "89:\tlearn: 7.1833389\ttotal: 380ms\tremaining: 3.84s\n",
      "90:\tlearn: 7.1784581\ttotal: 384ms\tremaining: 3.84s\n",
      "91:\tlearn: 7.1762432\ttotal: 389ms\tremaining: 3.84s\n",
      "92:\tlearn: 7.1731865\ttotal: 393ms\tremaining: 3.83s\n",
      "93:\tlearn: 7.1690696\ttotal: 397ms\tremaining: 3.82s\n",
      "94:\tlearn: 7.1666548\ttotal: 401ms\tremaining: 3.82s\n",
      "95:\tlearn: 7.1621863\ttotal: 405ms\tremaining: 3.81s\n",
      "96:\tlearn: 7.1590149\ttotal: 409ms\tremaining: 3.81s\n",
      "97:\tlearn: 7.1514796\ttotal: 414ms\tremaining: 3.81s\n",
      "98:\tlearn: 7.1485226\ttotal: 418ms\tremaining: 3.81s\n",
      "99:\tlearn: 7.1446074\ttotal: 422ms\tremaining: 3.8s\n",
      "100:\tlearn: 7.1379836\ttotal: 426ms\tremaining: 3.79s\n",
      "101:\tlearn: 7.1353448\ttotal: 430ms\tremaining: 3.79s\n",
      "102:\tlearn: 7.1303927\ttotal: 435ms\tremaining: 3.79s\n",
      "103:\tlearn: 7.1275872\ttotal: 439ms\tremaining: 3.78s\n",
      "104:\tlearn: 7.1246626\ttotal: 443ms\tremaining: 3.78s\n",
      "105:\tlearn: 7.1223188\ttotal: 447ms\tremaining: 3.77s\n",
      "106:\tlearn: 7.1198277\ttotal: 452ms\tremaining: 3.77s\n",
      "107:\tlearn: 7.1158097\ttotal: 455ms\tremaining: 3.76s\n",
      "108:\tlearn: 7.1132777\ttotal: 459ms\tremaining: 3.75s\n",
      "109:\tlearn: 7.1104229\ttotal: 463ms\tremaining: 3.74s\n",
      "110:\tlearn: 7.1070233\ttotal: 466ms\tremaining: 3.74s\n",
      "111:\tlearn: 7.1034601\ttotal: 470ms\tremaining: 3.73s\n",
      "112:\tlearn: 7.1011538\ttotal: 474ms\tremaining: 3.72s\n",
      "113:\tlearn: 7.0998899\ttotal: 477ms\tremaining: 3.71s\n",
      "114:\tlearn: 7.0977518\ttotal: 481ms\tremaining: 3.7s\n",
      "115:\tlearn: 7.0941205\ttotal: 485ms\tremaining: 3.69s\n",
      "116:\tlearn: 7.0927699\ttotal: 490ms\tremaining: 3.69s\n",
      "117:\tlearn: 7.0904543\ttotal: 494ms\tremaining: 3.69s\n",
      "118:\tlearn: 7.0890378\ttotal: 498ms\tremaining: 3.69s\n",
      "119:\tlearn: 7.0835065\ttotal: 502ms\tremaining: 3.68s\n",
      "120:\tlearn: 7.0820380\ttotal: 506ms\tremaining: 3.68s\n",
      "121:\tlearn: 7.0809875\ttotal: 511ms\tremaining: 3.68s\n",
      "122:\tlearn: 7.0770929\ttotal: 515ms\tremaining: 3.67s\n",
      "123:\tlearn: 7.0731181\ttotal: 519ms\tremaining: 3.67s\n",
      "124:\tlearn: 7.0694025\ttotal: 524ms\tremaining: 3.67s\n",
      "125:\tlearn: 7.0684971\ttotal: 528ms\tremaining: 3.66s\n",
      "126:\tlearn: 7.0653103\ttotal: 532ms\tremaining: 3.66s\n",
      "127:\tlearn: 7.0622010\ttotal: 537ms\tremaining: 3.65s\n",
      "128:\tlearn: 7.0590598\ttotal: 541ms\tremaining: 3.65s\n",
      "129:\tlearn: 7.0566060\ttotal: 545ms\tremaining: 3.65s\n",
      "130:\tlearn: 7.0545765\ttotal: 549ms\tremaining: 3.64s\n",
      "131:\tlearn: 7.0518053\ttotal: 553ms\tremaining: 3.64s\n",
      "132:\tlearn: 7.0504277\ttotal: 557ms\tremaining: 3.63s\n",
      "133:\tlearn: 7.0484461\ttotal: 563ms\tremaining: 3.64s\n",
      "134:\tlearn: 7.0472421\ttotal: 567ms\tremaining: 3.63s\n",
      "135:\tlearn: 7.0448803\ttotal: 571ms\tremaining: 3.63s\n",
      "136:\tlearn: 7.0434680\ttotal: 575ms\tremaining: 3.63s\n",
      "137:\tlearn: 7.0415493\ttotal: 580ms\tremaining: 3.62s\n",
      "138:\tlearn: 7.0396333\ttotal: 585ms\tremaining: 3.62s\n",
      "139:\tlearn: 7.0375522\ttotal: 589ms\tremaining: 3.62s\n",
      "140:\tlearn: 7.0357565\ttotal: 594ms\tremaining: 3.62s\n",
      "141:\tlearn: 7.0333568\ttotal: 598ms\tremaining: 3.61s\n",
      "142:\tlearn: 7.0306380\ttotal: 602ms\tremaining: 3.61s\n",
      "143:\tlearn: 7.0288257\ttotal: 607ms\tremaining: 3.61s\n",
      "144:\tlearn: 7.0262370\ttotal: 612ms\tremaining: 3.61s\n",
      "145:\tlearn: 7.0247877\ttotal: 616ms\tremaining: 3.6s\n",
      "146:\tlearn: 7.0231354\ttotal: 621ms\tremaining: 3.61s\n",
      "147:\tlearn: 7.0215251\ttotal: 626ms\tremaining: 3.6s\n",
      "148:\tlearn: 7.0186911\ttotal: 630ms\tremaining: 3.6s\n",
      "149:\tlearn: 7.0165599\ttotal: 634ms\tremaining: 3.59s\n",
      "150:\tlearn: 7.0132288\ttotal: 639ms\tremaining: 3.59s\n",
      "151:\tlearn: 7.0116094\ttotal: 643ms\tremaining: 3.59s\n",
      "152:\tlearn: 7.0091497\ttotal: 648ms\tremaining: 3.59s\n",
      "153:\tlearn: 7.0075916\ttotal: 653ms\tremaining: 3.58s\n",
      "154:\tlearn: 7.0050040\ttotal: 658ms\tremaining: 3.58s\n",
      "155:\tlearn: 7.0037961\ttotal: 662ms\tremaining: 3.58s\n",
      "156:\tlearn: 7.0024738\ttotal: 666ms\tremaining: 3.58s\n",
      "157:\tlearn: 7.0003377\ttotal: 671ms\tremaining: 3.58s\n",
      "158:\tlearn: 6.9975386\ttotal: 676ms\tremaining: 3.58s\n",
      "159:\tlearn: 6.9947986\ttotal: 681ms\tremaining: 3.58s\n",
      "160:\tlearn: 6.9924682\ttotal: 686ms\tremaining: 3.58s\n",
      "161:\tlearn: 6.9903094\ttotal: 691ms\tremaining: 3.58s\n",
      "162:\tlearn: 6.9882741\ttotal: 696ms\tremaining: 3.57s\n",
      "163:\tlearn: 6.9864913\ttotal: 701ms\tremaining: 3.57s\n",
      "164:\tlearn: 6.9847127\ttotal: 706ms\tremaining: 3.57s\n",
      "165:\tlearn: 6.9830012\ttotal: 710ms\tremaining: 3.57s\n",
      "166:\tlearn: 6.9815980\ttotal: 715ms\tremaining: 3.56s\n",
      "167:\tlearn: 6.9796657\ttotal: 720ms\tremaining: 3.56s\n",
      "168:\tlearn: 6.9780806\ttotal: 724ms\tremaining: 3.56s\n",
      "169:\tlearn: 6.9764762\ttotal: 729ms\tremaining: 3.56s\n",
      "170:\tlearn: 6.9754296\ttotal: 733ms\tremaining: 3.55s\n",
      "171:\tlearn: 6.9741577\ttotal: 738ms\tremaining: 3.55s\n",
      "172:\tlearn: 6.9722657\ttotal: 743ms\tremaining: 3.55s\n",
      "173:\tlearn: 6.9707929\ttotal: 747ms\tremaining: 3.55s\n",
      "174:\tlearn: 6.9696120\ttotal: 752ms\tremaining: 3.55s\n",
      "175:\tlearn: 6.9683268\ttotal: 757ms\tremaining: 3.54s\n",
      "176:\tlearn: 6.9667427\ttotal: 761ms\tremaining: 3.54s\n",
      "177:\tlearn: 6.9652232\ttotal: 766ms\tremaining: 3.54s\n",
      "178:\tlearn: 6.9640102\ttotal: 770ms\tremaining: 3.53s\n",
      "179:\tlearn: 6.9626452\ttotal: 774ms\tremaining: 3.53s\n",
      "180:\tlearn: 6.9602070\ttotal: 779ms\tremaining: 3.52s\n",
      "181:\tlearn: 6.9573428\ttotal: 783ms\tremaining: 3.52s\n",
      "182:\tlearn: 6.9565549\ttotal: 788ms\tremaining: 3.52s\n",
      "183:\tlearn: 6.9553369\ttotal: 793ms\tremaining: 3.51s\n",
      "184:\tlearn: 6.9528728\ttotal: 797ms\tremaining: 3.51s\n",
      "185:\tlearn: 6.9515316\ttotal: 801ms\tremaining: 3.51s\n",
      "186:\tlearn: 6.9500569\ttotal: 806ms\tremaining: 3.5s\n",
      "187:\tlearn: 6.9481570\ttotal: 810ms\tremaining: 3.5s\n",
      "188:\tlearn: 6.9465115\ttotal: 814ms\tremaining: 3.49s\n",
      "189:\tlearn: 6.9454398\ttotal: 819ms\tremaining: 3.49s\n",
      "190:\tlearn: 6.9441001\ttotal: 823ms\tremaining: 3.49s\n",
      "191:\tlearn: 6.9425924\ttotal: 828ms\tremaining: 3.48s\n",
      "192:\tlearn: 6.9412023\ttotal: 833ms\tremaining: 3.48s\n",
      "193:\tlearn: 6.9405407\ttotal: 838ms\tremaining: 3.48s\n",
      "194:\tlearn: 6.9395959\ttotal: 842ms\tremaining: 3.48s\n",
      "195:\tlearn: 6.9384499\ttotal: 847ms\tremaining: 3.47s\n",
      "196:\tlearn: 6.9370707\ttotal: 852ms\tremaining: 3.47s\n",
      "197:\tlearn: 6.9363056\ttotal: 856ms\tremaining: 3.47s\n",
      "198:\tlearn: 6.9352113\ttotal: 861ms\tremaining: 3.46s\n",
      "199:\tlearn: 6.9339653\ttotal: 865ms\tremaining: 3.46s\n",
      "200:\tlearn: 6.9319257\ttotal: 870ms\tremaining: 3.46s\n",
      "201:\tlearn: 6.9309388\ttotal: 874ms\tremaining: 3.45s\n",
      "202:\tlearn: 6.9300119\ttotal: 878ms\tremaining: 3.45s\n",
      "203:\tlearn: 6.9285263\ttotal: 883ms\tremaining: 3.44s\n",
      "204:\tlearn: 6.9277989\ttotal: 886ms\tremaining: 3.44s\n",
      "205:\tlearn: 6.9263769\ttotal: 891ms\tremaining: 3.43s\n",
      "206:\tlearn: 6.9250781\ttotal: 896ms\tremaining: 3.43s\n",
      "207:\tlearn: 6.9243483\ttotal: 900ms\tremaining: 3.43s\n",
      "208:\tlearn: 6.9230395\ttotal: 904ms\tremaining: 3.42s\n",
      "209:\tlearn: 6.9210210\ttotal: 909ms\tremaining: 3.42s\n",
      "210:\tlearn: 6.9202386\ttotal: 913ms\tremaining: 3.41s\n",
      "211:\tlearn: 6.9189269\ttotal: 918ms\tremaining: 3.41s\n",
      "212:\tlearn: 6.9177185\ttotal: 922ms\tremaining: 3.41s\n",
      "213:\tlearn: 6.9163917\ttotal: 928ms\tremaining: 3.41s\n",
      "214:\tlearn: 6.9153403\ttotal: 932ms\tremaining: 3.4s\n",
      "215:\tlearn: 6.9138548\ttotal: 938ms\tremaining: 3.4s\n",
      "216:\tlearn: 6.9123772\ttotal: 943ms\tremaining: 3.4s\n",
      "217:\tlearn: 6.9110270\ttotal: 948ms\tremaining: 3.4s\n",
      "218:\tlearn: 6.9103784\ttotal: 953ms\tremaining: 3.4s\n",
      "219:\tlearn: 6.9094109\ttotal: 958ms\tremaining: 3.4s\n",
      "220:\tlearn: 6.9084063\ttotal: 964ms\tremaining: 3.4s\n",
      "221:\tlearn: 6.9076071\ttotal: 969ms\tremaining: 3.39s\n",
      "222:\tlearn: 6.9062548\ttotal: 974ms\tremaining: 3.39s\n",
      "223:\tlearn: 6.9049383\ttotal: 979ms\tremaining: 3.39s\n",
      "224:\tlearn: 6.9039877\ttotal: 984ms\tremaining: 3.39s\n",
      "225:\tlearn: 6.9026765\ttotal: 989ms\tremaining: 3.39s\n",
      "226:\tlearn: 6.9015282\ttotal: 994ms\tremaining: 3.38s\n",
      "227:\tlearn: 6.9002500\ttotal: 999ms\tremaining: 3.38s\n",
      "228:\tlearn: 6.8985498\ttotal: 1s\tremaining: 3.38s\n",
      "229:\tlearn: 6.8969583\ttotal: 1.01s\tremaining: 3.38s\n",
      "230:\tlearn: 6.8962073\ttotal: 1.01s\tremaining: 3.37s\n",
      "231:\tlearn: 6.8955624\ttotal: 1.02s\tremaining: 3.37s\n",
      "232:\tlearn: 6.8945980\ttotal: 1.02s\tremaining: 3.36s\n",
      "233:\tlearn: 6.8938890\ttotal: 1.02s\tremaining: 3.35s\n",
      "234:\tlearn: 6.8924913\ttotal: 1.03s\tremaining: 3.35s\n",
      "235:\tlearn: 6.8915195\ttotal: 1.03s\tremaining: 3.34s\n",
      "236:\tlearn: 6.8908826\ttotal: 1.04s\tremaining: 3.34s\n",
      "237:\tlearn: 6.8902158\ttotal: 1.04s\tremaining: 3.34s\n",
      "238:\tlearn: 6.8895158\ttotal: 1.05s\tremaining: 3.33s\n",
      "239:\tlearn: 6.8885046\ttotal: 1.05s\tremaining: 3.33s\n",
      "240:\tlearn: 6.8878937\ttotal: 1.05s\tremaining: 3.32s\n",
      "241:\tlearn: 6.8862585\ttotal: 1.06s\tremaining: 3.32s\n",
      "242:\tlearn: 6.8854825\ttotal: 1.06s\tremaining: 3.31s\n",
      "243:\tlearn: 6.8845094\ttotal: 1.07s\tremaining: 3.31s\n",
      "244:\tlearn: 6.8837448\ttotal: 1.07s\tremaining: 3.31s\n",
      "245:\tlearn: 6.8829106\ttotal: 1.08s\tremaining: 3.3s\n",
      "246:\tlearn: 6.8818260\ttotal: 1.08s\tremaining: 3.3s\n",
      "247:\tlearn: 6.8808614\ttotal: 1.09s\tremaining: 3.29s\n",
      "248:\tlearn: 6.8794628\ttotal: 1.09s\tremaining: 3.29s\n",
      "249:\tlearn: 6.8782905\ttotal: 1.09s\tremaining: 3.28s\n",
      "250:\tlearn: 6.8771411\ttotal: 1.1s\tremaining: 3.28s\n",
      "251:\tlearn: 6.8763371\ttotal: 1.1s\tremaining: 3.27s\n",
      "252:\tlearn: 6.8754436\ttotal: 1.11s\tremaining: 3.27s\n",
      "253:\tlearn: 6.8746745\ttotal: 1.11s\tremaining: 3.26s\n",
      "254:\tlearn: 6.8738882\ttotal: 1.11s\tremaining: 3.26s\n",
      "255:\tlearn: 6.8731493\ttotal: 1.12s\tremaining: 3.25s\n",
      "256:\tlearn: 6.8721839\ttotal: 1.12s\tremaining: 3.25s\n",
      "257:\tlearn: 6.8715094\ttotal: 1.13s\tremaining: 3.25s\n",
      "258:\tlearn: 6.8707605\ttotal: 1.13s\tremaining: 3.24s\n",
      "259:\tlearn: 6.8697368\ttotal: 1.14s\tremaining: 3.23s\n",
      "260:\tlearn: 6.8691980\ttotal: 1.14s\tremaining: 3.23s\n",
      "261:\tlearn: 6.8678733\ttotal: 1.15s\tremaining: 3.23s\n",
      "262:\tlearn: 6.8665895\ttotal: 1.15s\tremaining: 3.22s\n",
      "263:\tlearn: 6.8656999\ttotal: 1.15s\tremaining: 3.22s\n",
      "264:\tlearn: 6.8645223\ttotal: 1.16s\tremaining: 3.21s\n",
      "265:\tlearn: 6.8636334\ttotal: 1.16s\tremaining: 3.21s\n",
      "266:\tlearn: 6.8626936\ttotal: 1.17s\tremaining: 3.2s\n",
      "267:\tlearn: 6.8623126\ttotal: 1.17s\tremaining: 3.2s\n",
      "268:\tlearn: 6.8618486\ttotal: 1.17s\tremaining: 3.19s\n",
      "269:\tlearn: 6.8607652\ttotal: 1.18s\tremaining: 3.19s\n",
      "270:\tlearn: 6.8602147\ttotal: 1.18s\tremaining: 3.18s\n",
      "271:\tlearn: 6.8595218\ttotal: 1.19s\tremaining: 3.18s\n",
      "272:\tlearn: 6.8589483\ttotal: 1.19s\tremaining: 3.17s\n",
      "273:\tlearn: 6.8580427\ttotal: 1.2s\tremaining: 3.17s\n",
      "274:\tlearn: 6.8574064\ttotal: 1.2s\tremaining: 3.16s\n",
      "275:\tlearn: 6.8564671\ttotal: 1.2s\tremaining: 3.16s\n",
      "276:\tlearn: 6.8560116\ttotal: 1.21s\tremaining: 3.15s\n",
      "277:\tlearn: 6.8552868\ttotal: 1.21s\tremaining: 3.14s\n",
      "278:\tlearn: 6.8546130\ttotal: 1.21s\tremaining: 3.14s\n",
      "279:\tlearn: 6.8535312\ttotal: 1.22s\tremaining: 3.13s\n",
      "280:\tlearn: 6.8530170\ttotal: 1.22s\tremaining: 3.13s\n",
      "281:\tlearn: 6.8524179\ttotal: 1.23s\tremaining: 3.12s\n",
      "282:\tlearn: 6.8515720\ttotal: 1.23s\tremaining: 3.11s\n",
      "283:\tlearn: 6.8505644\ttotal: 1.23s\tremaining: 3.11s\n",
      "284:\tlearn: 6.8499489\ttotal: 1.24s\tremaining: 3.1s\n",
      "285:\tlearn: 6.8493851\ttotal: 1.24s\tremaining: 3.1s\n",
      "286:\tlearn: 6.8488907\ttotal: 1.24s\tremaining: 3.09s\n",
      "287:\tlearn: 6.8480516\ttotal: 1.25s\tremaining: 3.08s\n",
      "288:\tlearn: 6.8475485\ttotal: 1.25s\tremaining: 3.08s\n",
      "289:\tlearn: 6.8467948\ttotal: 1.26s\tremaining: 3.08s\n",
      "290:\tlearn: 6.8462239\ttotal: 1.26s\tremaining: 3.07s\n",
      "291:\tlearn: 6.8451263\ttotal: 1.26s\tremaining: 3.06s\n",
      "292:\tlearn: 6.8443317\ttotal: 1.27s\tremaining: 3.06s\n",
      "293:\tlearn: 6.8436446\ttotal: 1.27s\tremaining: 3.06s\n",
      "294:\tlearn: 6.8427974\ttotal: 1.28s\tremaining: 3.05s\n",
      "295:\tlearn: 6.8421696\ttotal: 1.28s\tremaining: 3.05s\n",
      "296:\tlearn: 6.8411074\ttotal: 1.28s\tremaining: 3.04s\n",
      "297:\tlearn: 6.8404050\ttotal: 1.29s\tremaining: 3.04s\n",
      "298:\tlearn: 6.8395061\ttotal: 1.29s\tremaining: 3.03s\n",
      "299:\tlearn: 6.8389358\ttotal: 1.3s\tremaining: 3.02s\n",
      "300:\tlearn: 6.8379333\ttotal: 1.3s\tremaining: 3.02s\n",
      "301:\tlearn: 6.8367213\ttotal: 1.3s\tremaining: 3.01s\n",
      "302:\tlearn: 6.8357134\ttotal: 1.31s\tremaining: 3.01s\n",
      "303:\tlearn: 6.8350022\ttotal: 1.31s\tremaining: 3s\n",
      "304:\tlearn: 6.8338731\ttotal: 1.31s\tremaining: 3s\n",
      "305:\tlearn: 6.8331162\ttotal: 1.32s\tremaining: 2.99s\n",
      "306:\tlearn: 6.8324740\ttotal: 1.32s\tremaining: 2.98s\n",
      "307:\tlearn: 6.8314237\ttotal: 1.33s\tremaining: 2.98s\n",
      "308:\tlearn: 6.8310020\ttotal: 1.33s\tremaining: 2.97s\n",
      "309:\tlearn: 6.8302602\ttotal: 1.33s\tremaining: 2.97s\n",
      "310:\tlearn: 6.8292753\ttotal: 1.34s\tremaining: 2.97s\n",
      "311:\tlearn: 6.8282719\ttotal: 1.34s\tremaining: 2.96s\n",
      "312:\tlearn: 6.8274713\ttotal: 1.35s\tremaining: 2.96s\n",
      "313:\tlearn: 6.8266868\ttotal: 1.35s\tremaining: 2.96s\n",
      "314:\tlearn: 6.8255749\ttotal: 1.36s\tremaining: 2.95s\n",
      "315:\tlearn: 6.8250498\ttotal: 1.36s\tremaining: 2.95s\n",
      "316:\tlearn: 6.8242772\ttotal: 1.37s\tremaining: 2.94s\n",
      "317:\tlearn: 6.8236604\ttotal: 1.37s\tremaining: 2.94s\n",
      "318:\tlearn: 6.8229421\ttotal: 1.37s\tremaining: 2.94s\n",
      "319:\tlearn: 6.8220232\ttotal: 1.38s\tremaining: 2.93s\n",
      "320:\tlearn: 6.8213695\ttotal: 1.38s\tremaining: 2.93s\n",
      "321:\tlearn: 6.8209211\ttotal: 1.39s\tremaining: 2.92s\n",
      "322:\tlearn: 6.8204093\ttotal: 1.39s\tremaining: 2.92s\n",
      "323:\tlearn: 6.8193510\ttotal: 1.4s\tremaining: 2.92s\n",
      "324:\tlearn: 6.8188025\ttotal: 1.4s\tremaining: 2.91s\n",
      "325:\tlearn: 6.8180437\ttotal: 1.41s\tremaining: 2.91s\n",
      "326:\tlearn: 6.8169480\ttotal: 1.41s\tremaining: 2.9s\n",
      "327:\tlearn: 6.8165620\ttotal: 1.41s\tremaining: 2.9s\n",
      "328:\tlearn: 6.8156047\ttotal: 1.42s\tremaining: 2.89s\n",
      "329:\tlearn: 6.8148260\ttotal: 1.42s\tremaining: 2.89s\n",
      "330:\tlearn: 6.8142575\ttotal: 1.43s\tremaining: 2.88s\n",
      "331:\tlearn: 6.8136257\ttotal: 1.43s\tremaining: 2.88s\n",
      "332:\tlearn: 6.8131334\ttotal: 1.44s\tremaining: 2.88s\n",
      "333:\tlearn: 6.8123524\ttotal: 1.44s\tremaining: 2.87s\n",
      "334:\tlearn: 6.8117864\ttotal: 1.44s\tremaining: 2.87s\n",
      "335:\tlearn: 6.8111678\ttotal: 1.45s\tremaining: 2.86s\n",
      "336:\tlearn: 6.8103841\ttotal: 1.45s\tremaining: 2.86s\n",
      "337:\tlearn: 6.8095434\ttotal: 1.46s\tremaining: 2.85s\n",
      "338:\tlearn: 6.8090474\ttotal: 1.46s\tremaining: 2.85s\n",
      "339:\tlearn: 6.8085080\ttotal: 1.46s\tremaining: 2.84s\n",
      "340:\tlearn: 6.8078730\ttotal: 1.47s\tremaining: 2.84s\n",
      "341:\tlearn: 6.8073915\ttotal: 1.47s\tremaining: 2.83s\n",
      "342:\tlearn: 6.8065962\ttotal: 1.48s\tremaining: 2.83s\n",
      "343:\tlearn: 6.8058473\ttotal: 1.48s\tremaining: 2.83s\n",
      "344:\tlearn: 6.8053329\ttotal: 1.49s\tremaining: 2.82s\n",
      "345:\tlearn: 6.8047892\ttotal: 1.49s\tremaining: 2.82s\n",
      "346:\tlearn: 6.8043633\ttotal: 1.49s\tremaining: 2.81s\n",
      "347:\tlearn: 6.8037724\ttotal: 1.5s\tremaining: 2.81s\n",
      "348:\tlearn: 6.8031674\ttotal: 1.5s\tremaining: 2.8s\n",
      "349:\tlearn: 6.8026510\ttotal: 1.51s\tremaining: 2.8s\n",
      "350:\tlearn: 6.8021048\ttotal: 1.51s\tremaining: 2.79s\n",
      "351:\tlearn: 6.8015231\ttotal: 1.51s\tremaining: 2.79s\n",
      "352:\tlearn: 6.8010559\ttotal: 1.52s\tremaining: 2.78s\n",
      "353:\tlearn: 6.8003477\ttotal: 1.52s\tremaining: 2.78s\n",
      "354:\tlearn: 6.7999145\ttotal: 1.52s\tremaining: 2.77s\n",
      "355:\tlearn: 6.7991434\ttotal: 1.53s\tremaining: 2.77s\n",
      "356:\tlearn: 6.7985046\ttotal: 1.53s\tremaining: 2.76s\n",
      "357:\tlearn: 6.7977107\ttotal: 1.54s\tremaining: 2.76s\n",
      "358:\tlearn: 6.7974214\ttotal: 1.54s\tremaining: 2.76s\n",
      "359:\tlearn: 6.7967390\ttotal: 1.55s\tremaining: 2.75s\n",
      "360:\tlearn: 6.7961956\ttotal: 1.55s\tremaining: 2.75s\n",
      "361:\tlearn: 6.7955798\ttotal: 1.56s\tremaining: 2.75s\n",
      "362:\tlearn: 6.7944712\ttotal: 1.56s\tremaining: 2.74s\n",
      "363:\tlearn: 6.7937748\ttotal: 1.57s\tremaining: 2.74s\n",
      "364:\tlearn: 6.7934417\ttotal: 1.58s\tremaining: 2.76s\n",
      "365:\tlearn: 6.7928606\ttotal: 1.6s\tremaining: 2.78s\n",
      "366:\tlearn: 6.7923705\ttotal: 1.61s\tremaining: 2.78s\n",
      "367:\tlearn: 6.7917117\ttotal: 1.62s\tremaining: 2.79s\n",
      "368:\tlearn: 6.7911146\ttotal: 1.63s\tremaining: 2.79s\n",
      "369:\tlearn: 6.7902816\ttotal: 1.64s\tremaining: 2.79s\n",
      "370:\tlearn: 6.7897017\ttotal: 1.64s\tremaining: 2.79s\n",
      "371:\tlearn: 6.7888603\ttotal: 1.65s\tremaining: 2.78s\n",
      "372:\tlearn: 6.7882537\ttotal: 1.65s\tremaining: 2.78s\n",
      "373:\tlearn: 6.7878376\ttotal: 1.67s\tremaining: 2.79s\n",
      "374:\tlearn: 6.7871472\ttotal: 1.67s\tremaining: 2.79s\n",
      "375:\tlearn: 6.7863997\ttotal: 1.68s\tremaining: 2.79s\n",
      "376:\tlearn: 6.7858418\ttotal: 1.68s\tremaining: 2.78s\n",
      "377:\tlearn: 6.7851307\ttotal: 1.69s\tremaining: 2.78s\n",
      "378:\tlearn: 6.7847931\ttotal: 1.69s\tremaining: 2.77s\n",
      "379:\tlearn: 6.7846379\ttotal: 1.7s\tremaining: 2.77s\n",
      "380:\tlearn: 6.7840440\ttotal: 1.7s\tremaining: 2.76s\n",
      "381:\tlearn: 6.7835917\ttotal: 1.7s\tremaining: 2.76s\n",
      "382:\tlearn: 6.7832434\ttotal: 1.71s\tremaining: 2.75s\n",
      "383:\tlearn: 6.7827963\ttotal: 1.71s\tremaining: 2.75s\n",
      "384:\tlearn: 6.7822932\ttotal: 1.72s\tremaining: 2.74s\n",
      "385:\tlearn: 6.7815289\ttotal: 1.72s\tremaining: 2.74s\n",
      "386:\tlearn: 6.7807780\ttotal: 1.72s\tremaining: 2.73s\n",
      "387:\tlearn: 6.7797032\ttotal: 1.73s\tremaining: 2.73s\n",
      "388:\tlearn: 6.7791606\ttotal: 1.73s\tremaining: 2.72s\n",
      "389:\tlearn: 6.7786625\ttotal: 1.74s\tremaining: 2.72s\n",
      "390:\tlearn: 6.7780086\ttotal: 1.74s\tremaining: 2.71s\n",
      "391:\tlearn: 6.7773806\ttotal: 1.75s\tremaining: 2.71s\n",
      "392:\tlearn: 6.7770278\ttotal: 1.76s\tremaining: 2.71s\n",
      "393:\tlearn: 6.7762411\ttotal: 1.76s\tremaining: 2.71s\n",
      "394:\tlearn: 6.7756489\ttotal: 1.77s\tremaining: 2.71s\n",
      "395:\tlearn: 6.7749667\ttotal: 1.77s\tremaining: 2.7s\n",
      "396:\tlearn: 6.7742496\ttotal: 1.78s\tremaining: 2.7s\n",
      "397:\tlearn: 6.7737562\ttotal: 1.78s\tremaining: 2.69s\n",
      "398:\tlearn: 6.7733303\ttotal: 1.79s\tremaining: 2.69s\n",
      "399:\tlearn: 6.7726755\ttotal: 1.79s\tremaining: 2.69s\n",
      "400:\tlearn: 6.7720270\ttotal: 1.8s\tremaining: 2.68s\n",
      "401:\tlearn: 6.7715195\ttotal: 1.8s\tremaining: 2.68s\n",
      "402:\tlearn: 6.7707684\ttotal: 1.8s\tremaining: 2.67s\n",
      "403:\tlearn: 6.7700379\ttotal: 1.81s\tremaining: 2.67s\n",
      "404:\tlearn: 6.7690558\ttotal: 1.81s\tremaining: 2.67s\n",
      "405:\tlearn: 6.7684035\ttotal: 1.82s\tremaining: 2.66s\n",
      "406:\tlearn: 6.7680883\ttotal: 1.82s\tremaining: 2.66s\n",
      "407:\tlearn: 6.7676009\ttotal: 1.83s\tremaining: 2.65s\n",
      "408:\tlearn: 6.7670982\ttotal: 1.83s\tremaining: 2.65s\n",
      "409:\tlearn: 6.7666826\ttotal: 1.84s\tremaining: 2.64s\n",
      "410:\tlearn: 6.7659994\ttotal: 1.84s\tremaining: 2.64s\n",
      "411:\tlearn: 6.7653343\ttotal: 1.85s\tremaining: 2.64s\n",
      "412:\tlearn: 6.7644708\ttotal: 1.85s\tremaining: 2.63s\n",
      "413:\tlearn: 6.7635878\ttotal: 1.86s\tremaining: 2.63s\n",
      "414:\tlearn: 6.7627713\ttotal: 1.86s\tremaining: 2.62s\n",
      "415:\tlearn: 6.7621526\ttotal: 1.87s\tremaining: 2.62s\n",
      "416:\tlearn: 6.7617882\ttotal: 1.87s\tremaining: 2.62s\n",
      "417:\tlearn: 6.7612767\ttotal: 1.87s\tremaining: 2.61s\n",
      "418:\tlearn: 6.7607683\ttotal: 1.88s\tremaining: 2.6s\n",
      "419:\tlearn: 6.7603577\ttotal: 1.88s\tremaining: 2.6s\n",
      "420:\tlearn: 6.7597078\ttotal: 1.89s\tremaining: 2.6s\n",
      "421:\tlearn: 6.7592893\ttotal: 1.89s\tremaining: 2.59s\n",
      "422:\tlearn: 6.7588081\ttotal: 1.9s\tremaining: 2.58s\n",
      "423:\tlearn: 6.7583700\ttotal: 1.9s\tremaining: 2.58s\n",
      "424:\tlearn: 6.7578867\ttotal: 1.9s\tremaining: 2.58s\n",
      "425:\tlearn: 6.7573744\ttotal: 1.91s\tremaining: 2.57s\n",
      "426:\tlearn: 6.7566917\ttotal: 1.91s\tremaining: 2.57s\n",
      "427:\tlearn: 6.7562538\ttotal: 1.92s\tremaining: 2.56s\n",
      "428:\tlearn: 6.7558184\ttotal: 1.92s\tremaining: 2.56s\n",
      "429:\tlearn: 6.7553402\ttotal: 1.93s\tremaining: 2.55s\n",
      "430:\tlearn: 6.7549696\ttotal: 1.93s\tremaining: 2.55s\n",
      "431:\tlearn: 6.7543865\ttotal: 1.93s\tremaining: 2.54s\n",
      "432:\tlearn: 6.7537535\ttotal: 1.94s\tremaining: 2.54s\n",
      "433:\tlearn: 6.7528688\ttotal: 1.94s\tremaining: 2.53s\n",
      "434:\tlearn: 6.7524357\ttotal: 1.95s\tremaining: 2.53s\n",
      "435:\tlearn: 6.7520948\ttotal: 1.95s\tremaining: 2.52s\n",
      "436:\tlearn: 6.7515066\ttotal: 1.96s\tremaining: 2.52s\n",
      "437:\tlearn: 6.7508700\ttotal: 1.96s\tremaining: 2.52s\n",
      "438:\tlearn: 6.7500443\ttotal: 1.97s\tremaining: 2.51s\n",
      "439:\tlearn: 6.7496197\ttotal: 1.97s\tremaining: 2.51s\n",
      "440:\tlearn: 6.7491532\ttotal: 1.98s\tremaining: 2.5s\n",
      "441:\tlearn: 6.7484851\ttotal: 1.98s\tremaining: 2.5s\n",
      "442:\tlearn: 6.7481686\ttotal: 1.99s\tremaining: 2.5s\n",
      "443:\tlearn: 6.7477538\ttotal: 1.99s\tremaining: 2.49s\n",
      "444:\tlearn: 6.7471627\ttotal: 1.99s\tremaining: 2.49s\n",
      "445:\tlearn: 6.7467662\ttotal: 2s\tremaining: 2.48s\n",
      "446:\tlearn: 6.7461146\ttotal: 2s\tremaining: 2.48s\n",
      "447:\tlearn: 6.7455287\ttotal: 2.01s\tremaining: 2.47s\n",
      "448:\tlearn: 6.7448826\ttotal: 2.01s\tremaining: 2.47s\n",
      "449:\tlearn: 6.7446209\ttotal: 2.01s\tremaining: 2.46s\n",
      "450:\tlearn: 6.7439287\ttotal: 2.02s\tremaining: 2.46s\n",
      "451:\tlearn: 6.7437128\ttotal: 2.02s\tremaining: 2.45s\n",
      "452:\tlearn: 6.7432419\ttotal: 2.03s\tremaining: 2.45s\n",
      "453:\tlearn: 6.7427923\ttotal: 2.03s\tremaining: 2.44s\n",
      "454:\tlearn: 6.7422991\ttotal: 2.03s\tremaining: 2.44s\n",
      "455:\tlearn: 6.7417319\ttotal: 2.04s\tremaining: 2.43s\n",
      "456:\tlearn: 6.7412261\ttotal: 2.04s\tremaining: 2.43s\n",
      "457:\tlearn: 6.7403465\ttotal: 2.05s\tremaining: 2.42s\n",
      "458:\tlearn: 6.7398279\ttotal: 2.05s\tremaining: 2.42s\n",
      "459:\tlearn: 6.7390460\ttotal: 2.06s\tremaining: 2.41s\n",
      "460:\tlearn: 6.7384441\ttotal: 2.06s\tremaining: 2.41s\n",
      "461:\tlearn: 6.7380656\ttotal: 2.06s\tremaining: 2.4s\n",
      "462:\tlearn: 6.7376392\ttotal: 2.07s\tremaining: 2.4s\n",
      "463:\tlearn: 6.7373141\ttotal: 2.07s\tremaining: 2.4s\n",
      "464:\tlearn: 6.7368894\ttotal: 2.08s\tremaining: 2.39s\n",
      "465:\tlearn: 6.7363024\ttotal: 2.08s\tremaining: 2.39s\n",
      "466:\tlearn: 6.7358927\ttotal: 2.09s\tremaining: 2.38s\n",
      "467:\tlearn: 6.7352814\ttotal: 2.09s\tremaining: 2.38s\n",
      "468:\tlearn: 6.7348627\ttotal: 2.1s\tremaining: 2.37s\n",
      "469:\tlearn: 6.7341938\ttotal: 2.1s\tremaining: 2.37s\n",
      "470:\tlearn: 6.7339588\ttotal: 2.11s\tremaining: 2.37s\n",
      "471:\tlearn: 6.7335795\ttotal: 2.11s\tremaining: 2.36s\n",
      "472:\tlearn: 6.7331270\ttotal: 2.12s\tremaining: 2.36s\n",
      "473:\tlearn: 6.7327083\ttotal: 2.12s\tremaining: 2.35s\n",
      "474:\tlearn: 6.7323410\ttotal: 2.12s\tremaining: 2.35s\n",
      "475:\tlearn: 6.7316316\ttotal: 2.13s\tremaining: 2.34s\n",
      "476:\tlearn: 6.7312174\ttotal: 2.13s\tremaining: 2.34s\n",
      "477:\tlearn: 6.7308835\ttotal: 2.14s\tremaining: 2.33s\n",
      "478:\tlearn: 6.7305303\ttotal: 2.14s\tremaining: 2.33s\n",
      "479:\tlearn: 6.7301347\ttotal: 2.15s\tremaining: 2.33s\n",
      "480:\tlearn: 6.7292819\ttotal: 2.15s\tremaining: 2.32s\n",
      "481:\tlearn: 6.7288411\ttotal: 2.16s\tremaining: 2.32s\n",
      "482:\tlearn: 6.7281989\ttotal: 2.16s\tremaining: 2.31s\n",
      "483:\tlearn: 6.7276328\ttotal: 2.17s\tremaining: 2.31s\n",
      "484:\tlearn: 6.7269844\ttotal: 2.17s\tremaining: 2.3s\n",
      "485:\tlearn: 6.7265976\ttotal: 2.17s\tremaining: 2.3s\n",
      "486:\tlearn: 6.7264191\ttotal: 2.18s\tremaining: 2.3s\n",
      "487:\tlearn: 6.7260905\ttotal: 2.18s\tremaining: 2.29s\n",
      "488:\tlearn: 6.7255274\ttotal: 2.19s\tremaining: 2.29s\n",
      "489:\tlearn: 6.7250194\ttotal: 2.19s\tremaining: 2.28s\n",
      "490:\tlearn: 6.7247334\ttotal: 2.2s\tremaining: 2.28s\n",
      "491:\tlearn: 6.7241426\ttotal: 2.2s\tremaining: 2.27s\n",
      "492:\tlearn: 6.7233384\ttotal: 2.21s\tremaining: 2.27s\n",
      "493:\tlearn: 6.7228376\ttotal: 2.21s\tremaining: 2.27s\n",
      "494:\tlearn: 6.7223720\ttotal: 2.22s\tremaining: 2.26s\n",
      "495:\tlearn: 6.7219440\ttotal: 2.22s\tremaining: 2.26s\n",
      "496:\tlearn: 6.7213830\ttotal: 2.23s\tremaining: 2.25s\n",
      "497:\tlearn: 6.7209368\ttotal: 2.23s\tremaining: 2.25s\n",
      "498:\tlearn: 6.7203523\ttotal: 2.24s\tremaining: 2.25s\n",
      "499:\tlearn: 6.7197467\ttotal: 2.24s\tremaining: 2.24s\n",
      "500:\tlearn: 6.7192853\ttotal: 2.25s\tremaining: 2.24s\n",
      "501:\tlearn: 6.7192200\ttotal: 2.25s\tremaining: 2.23s\n",
      "502:\tlearn: 6.7189042\ttotal: 2.25s\tremaining: 2.23s\n",
      "503:\tlearn: 6.7182206\ttotal: 2.26s\tremaining: 2.22s\n",
      "504:\tlearn: 6.7179214\ttotal: 2.26s\tremaining: 2.22s\n",
      "505:\tlearn: 6.7173976\ttotal: 2.27s\tremaining: 2.21s\n",
      "506:\tlearn: 6.7170085\ttotal: 2.27s\tremaining: 2.21s\n",
      "507:\tlearn: 6.7165312\ttotal: 2.27s\tremaining: 2.2s\n",
      "508:\tlearn: 6.7162264\ttotal: 2.28s\tremaining: 2.2s\n",
      "509:\tlearn: 6.7159214\ttotal: 2.28s\tremaining: 2.19s\n",
      "510:\tlearn: 6.7150841\ttotal: 2.29s\tremaining: 2.19s\n",
      "511:\tlearn: 6.7143552\ttotal: 2.29s\tremaining: 2.18s\n",
      "512:\tlearn: 6.7138503\ttotal: 2.29s\tremaining: 2.18s\n",
      "513:\tlearn: 6.7133794\ttotal: 2.3s\tremaining: 2.17s\n",
      "514:\tlearn: 6.7129448\ttotal: 2.3s\tremaining: 2.17s\n",
      "515:\tlearn: 6.7121998\ttotal: 2.31s\tremaining: 2.16s\n",
      "516:\tlearn: 6.7115835\ttotal: 2.31s\tremaining: 2.16s\n",
      "517:\tlearn: 6.7110543\ttotal: 2.31s\tremaining: 2.15s\n",
      "518:\tlearn: 6.7105415\ttotal: 2.32s\tremaining: 2.15s\n",
      "519:\tlearn: 6.7099296\ttotal: 2.32s\tremaining: 2.14s\n",
      "520:\tlearn: 6.7096139\ttotal: 2.33s\tremaining: 2.14s\n",
      "521:\tlearn: 6.7093685\ttotal: 2.33s\tremaining: 2.13s\n",
      "522:\tlearn: 6.7090315\ttotal: 2.33s\tremaining: 2.13s\n",
      "523:\tlearn: 6.7085258\ttotal: 2.34s\tremaining: 2.13s\n",
      "524:\tlearn: 6.7081536\ttotal: 2.34s\tremaining: 2.12s\n",
      "525:\tlearn: 6.7076838\ttotal: 2.35s\tremaining: 2.12s\n",
      "526:\tlearn: 6.7071756\ttotal: 2.35s\tremaining: 2.11s\n",
      "527:\tlearn: 6.7067532\ttotal: 2.36s\tremaining: 2.11s\n",
      "528:\tlearn: 6.7060556\ttotal: 2.36s\tremaining: 2.1s\n",
      "529:\tlearn: 6.7057350\ttotal: 2.37s\tremaining: 2.1s\n",
      "530:\tlearn: 6.7052847\ttotal: 2.37s\tremaining: 2.1s\n",
      "531:\tlearn: 6.7046553\ttotal: 2.38s\tremaining: 2.09s\n",
      "532:\tlearn: 6.7041943\ttotal: 2.38s\tremaining: 2.09s\n",
      "533:\tlearn: 6.7037091\ttotal: 2.39s\tremaining: 2.08s\n",
      "534:\tlearn: 6.7031130\ttotal: 2.39s\tremaining: 2.08s\n",
      "535:\tlearn: 6.7024380\ttotal: 2.4s\tremaining: 2.08s\n",
      "536:\tlearn: 6.7021495\ttotal: 2.4s\tremaining: 2.07s\n",
      "537:\tlearn: 6.7015971\ttotal: 2.41s\tremaining: 2.07s\n",
      "538:\tlearn: 6.7012225\ttotal: 2.41s\tremaining: 2.06s\n",
      "539:\tlearn: 6.7007334\ttotal: 2.41s\tremaining: 2.06s\n",
      "540:\tlearn: 6.7003775\ttotal: 2.42s\tremaining: 2.05s\n",
      "541:\tlearn: 6.6998498\ttotal: 2.42s\tremaining: 2.05s\n",
      "542:\tlearn: 6.6995303\ttotal: 2.42s\tremaining: 2.04s\n",
      "543:\tlearn: 6.6989337\ttotal: 2.43s\tremaining: 2.04s\n",
      "544:\tlearn: 6.6982294\ttotal: 2.43s\tremaining: 2.03s\n",
      "545:\tlearn: 6.6978621\ttotal: 2.44s\tremaining: 2.03s\n",
      "546:\tlearn: 6.6973611\ttotal: 2.44s\tremaining: 2.02s\n",
      "547:\tlearn: 6.6967322\ttotal: 2.45s\tremaining: 2.02s\n",
      "548:\tlearn: 6.6963417\ttotal: 2.45s\tremaining: 2.01s\n",
      "549:\tlearn: 6.6960532\ttotal: 2.46s\tremaining: 2.01s\n",
      "550:\tlearn: 6.6956417\ttotal: 2.46s\tremaining: 2s\n",
      "551:\tlearn: 6.6950455\ttotal: 2.46s\tremaining: 2s\n",
      "552:\tlearn: 6.6946190\ttotal: 2.47s\tremaining: 2s\n",
      "553:\tlearn: 6.6943129\ttotal: 2.47s\tremaining: 1.99s\n",
      "554:\tlearn: 6.6940027\ttotal: 2.48s\tremaining: 1.99s\n",
      "555:\tlearn: 6.6936090\ttotal: 2.48s\tremaining: 1.98s\n",
      "556:\tlearn: 6.6931686\ttotal: 2.49s\tremaining: 1.98s\n",
      "557:\tlearn: 6.6925562\ttotal: 2.49s\tremaining: 1.97s\n",
      "558:\tlearn: 6.6921953\ttotal: 2.49s\tremaining: 1.97s\n",
      "559:\tlearn: 6.6916906\ttotal: 2.5s\tremaining: 1.96s\n",
      "560:\tlearn: 6.6912645\ttotal: 2.5s\tremaining: 1.96s\n",
      "561:\tlearn: 6.6909728\ttotal: 2.5s\tremaining: 1.95s\n",
      "562:\tlearn: 6.6905021\ttotal: 2.51s\tremaining: 1.95s\n",
      "563:\tlearn: 6.6897958\ttotal: 2.51s\tremaining: 1.94s\n",
      "564:\tlearn: 6.6892881\ttotal: 2.52s\tremaining: 1.94s\n",
      "565:\tlearn: 6.6888280\ttotal: 2.52s\tremaining: 1.93s\n",
      "566:\tlearn: 6.6885119\ttotal: 2.52s\tremaining: 1.93s\n",
      "567:\tlearn: 6.6880776\ttotal: 2.53s\tremaining: 1.92s\n",
      "568:\tlearn: 6.6876639\ttotal: 2.53s\tremaining: 1.92s\n",
      "569:\tlearn: 6.6873815\ttotal: 2.53s\tremaining: 1.91s\n",
      "570:\tlearn: 6.6869838\ttotal: 2.54s\tremaining: 1.91s\n",
      "571:\tlearn: 6.6865445\ttotal: 2.54s\tremaining: 1.9s\n",
      "572:\tlearn: 6.6859310\ttotal: 2.55s\tremaining: 1.9s\n",
      "573:\tlearn: 6.6855705\ttotal: 2.55s\tremaining: 1.89s\n",
      "574:\tlearn: 6.6854044\ttotal: 2.55s\tremaining: 1.89s\n",
      "575:\tlearn: 6.6851734\ttotal: 2.56s\tremaining: 1.88s\n",
      "576:\tlearn: 6.6843691\ttotal: 2.56s\tremaining: 1.88s\n",
      "577:\tlearn: 6.6840533\ttotal: 2.57s\tremaining: 1.87s\n",
      "578:\tlearn: 6.6835460\ttotal: 2.57s\tremaining: 1.87s\n",
      "579:\tlearn: 6.6831880\ttotal: 2.58s\tremaining: 1.86s\n",
      "580:\tlearn: 6.6825246\ttotal: 2.58s\tremaining: 1.86s\n",
      "581:\tlearn: 6.6821235\ttotal: 2.58s\tremaining: 1.86s\n",
      "582:\tlearn: 6.6816466\ttotal: 2.59s\tremaining: 1.85s\n",
      "583:\tlearn: 6.6811126\ttotal: 2.59s\tremaining: 1.85s\n",
      "584:\tlearn: 6.6807269\ttotal: 2.6s\tremaining: 1.84s\n",
      "585:\tlearn: 6.6801208\ttotal: 2.6s\tremaining: 1.84s\n",
      "586:\tlearn: 6.6795839\ttotal: 2.6s\tremaining: 1.83s\n",
      "587:\tlearn: 6.6793252\ttotal: 2.61s\tremaining: 1.83s\n",
      "588:\tlearn: 6.6788857\ttotal: 2.61s\tremaining: 1.82s\n",
      "589:\tlearn: 6.6784984\ttotal: 2.62s\tremaining: 1.82s\n",
      "590:\tlearn: 6.6781828\ttotal: 2.62s\tremaining: 1.81s\n",
      "591:\tlearn: 6.6780190\ttotal: 2.63s\tremaining: 1.81s\n",
      "592:\tlearn: 6.6774509\ttotal: 2.63s\tremaining: 1.8s\n",
      "593:\tlearn: 6.6768027\ttotal: 2.63s\tremaining: 1.8s\n",
      "594:\tlearn: 6.6761627\ttotal: 2.64s\tremaining: 1.8s\n",
      "595:\tlearn: 6.6756743\ttotal: 2.64s\tremaining: 1.79s\n",
      "596:\tlearn: 6.6751630\ttotal: 2.65s\tremaining: 1.79s\n",
      "597:\tlearn: 6.6746867\ttotal: 2.65s\tremaining: 1.78s\n",
      "598:\tlearn: 6.6744277\ttotal: 2.65s\tremaining: 1.78s\n",
      "599:\tlearn: 6.6737345\ttotal: 2.66s\tremaining: 1.77s\n",
      "600:\tlearn: 6.6731508\ttotal: 2.66s\tremaining: 1.77s\n",
      "601:\tlearn: 6.6727982\ttotal: 2.67s\tremaining: 1.76s\n",
      "602:\tlearn: 6.6723885\ttotal: 2.67s\tremaining: 1.76s\n",
      "603:\tlearn: 6.6722053\ttotal: 2.67s\tremaining: 1.75s\n",
      "604:\tlearn: 6.6719300\ttotal: 2.68s\tremaining: 1.75s\n",
      "605:\tlearn: 6.6715307\ttotal: 2.68s\tremaining: 1.74s\n",
      "606:\tlearn: 6.6711723\ttotal: 2.69s\tremaining: 1.74s\n",
      "607:\tlearn: 6.6706801\ttotal: 2.69s\tremaining: 1.73s\n",
      "608:\tlearn: 6.6702464\ttotal: 2.69s\tremaining: 1.73s\n",
      "609:\tlearn: 6.6695842\ttotal: 2.7s\tremaining: 1.72s\n",
      "610:\tlearn: 6.6693054\ttotal: 2.7s\tremaining: 1.72s\n",
      "611:\tlearn: 6.6687686\ttotal: 2.7s\tremaining: 1.71s\n",
      "612:\tlearn: 6.6680254\ttotal: 2.71s\tremaining: 1.71s\n",
      "613:\tlearn: 6.6674635\ttotal: 2.71s\tremaining: 1.71s\n",
      "614:\tlearn: 6.6665822\ttotal: 2.72s\tremaining: 1.7s\n",
      "615:\tlearn: 6.6660396\ttotal: 2.72s\tremaining: 1.7s\n",
      "616:\tlearn: 6.6655413\ttotal: 2.72s\tremaining: 1.69s\n",
      "617:\tlearn: 6.6652270\ttotal: 2.73s\tremaining: 1.69s\n",
      "618:\tlearn: 6.6644812\ttotal: 2.73s\tremaining: 1.68s\n",
      "619:\tlearn: 6.6641034\ttotal: 2.73s\tremaining: 1.68s\n",
      "620:\tlearn: 6.6636702\ttotal: 2.74s\tremaining: 1.67s\n",
      "621:\tlearn: 6.6626850\ttotal: 2.74s\tremaining: 1.67s\n",
      "622:\tlearn: 6.6622372\ttotal: 2.75s\tremaining: 1.66s\n",
      "623:\tlearn: 6.6615799\ttotal: 2.75s\tremaining: 1.66s\n",
      "624:\tlearn: 6.6611671\ttotal: 2.75s\tremaining: 1.65s\n",
      "625:\tlearn: 6.6606577\ttotal: 2.76s\tremaining: 1.65s\n",
      "626:\tlearn: 6.6602895\ttotal: 2.76s\tremaining: 1.64s\n",
      "627:\tlearn: 6.6600035\ttotal: 2.77s\tremaining: 1.64s\n",
      "628:\tlearn: 6.6592830\ttotal: 2.77s\tremaining: 1.64s\n",
      "629:\tlearn: 6.6589238\ttotal: 2.78s\tremaining: 1.63s\n",
      "630:\tlearn: 6.6584196\ttotal: 2.78s\tremaining: 1.63s\n",
      "631:\tlearn: 6.6580009\ttotal: 2.79s\tremaining: 1.62s\n",
      "632:\tlearn: 6.6573267\ttotal: 2.79s\tremaining: 1.62s\n",
      "633:\tlearn: 6.6567540\ttotal: 2.79s\tremaining: 1.61s\n",
      "634:\tlearn: 6.6563337\ttotal: 2.8s\tremaining: 1.61s\n",
      "635:\tlearn: 6.6559079\ttotal: 2.8s\tremaining: 1.6s\n",
      "636:\tlearn: 6.6553990\ttotal: 2.81s\tremaining: 1.6s\n",
      "637:\tlearn: 6.6549070\ttotal: 2.81s\tremaining: 1.59s\n",
      "638:\tlearn: 6.6541434\ttotal: 2.81s\tremaining: 1.59s\n",
      "639:\tlearn: 6.6534020\ttotal: 2.82s\tremaining: 1.58s\n",
      "640:\tlearn: 6.6527886\ttotal: 2.82s\tremaining: 1.58s\n",
      "641:\tlearn: 6.6522644\ttotal: 2.82s\tremaining: 1.57s\n",
      "642:\tlearn: 6.6519967\ttotal: 2.83s\tremaining: 1.57s\n",
      "643:\tlearn: 6.6513683\ttotal: 2.83s\tremaining: 1.56s\n",
      "644:\tlearn: 6.6505965\ttotal: 2.83s\tremaining: 1.56s\n",
      "645:\tlearn: 6.6503129\ttotal: 2.84s\tremaining: 1.55s\n",
      "646:\tlearn: 6.6498102\ttotal: 2.84s\tremaining: 1.55s\n",
      "647:\tlearn: 6.6494507\ttotal: 2.85s\tremaining: 1.55s\n",
      "648:\tlearn: 6.6489985\ttotal: 2.85s\tremaining: 1.54s\n",
      "649:\tlearn: 6.6486280\ttotal: 2.85s\tremaining: 1.54s\n",
      "650:\tlearn: 6.6482158\ttotal: 2.86s\tremaining: 1.53s\n",
      "651:\tlearn: 6.6475788\ttotal: 2.86s\tremaining: 1.53s\n",
      "652:\tlearn: 6.6472752\ttotal: 2.87s\tremaining: 1.52s\n",
      "653:\tlearn: 6.6466535\ttotal: 2.87s\tremaining: 1.52s\n",
      "654:\tlearn: 6.6461965\ttotal: 2.88s\tremaining: 1.51s\n",
      "655:\tlearn: 6.6456933\ttotal: 2.88s\tremaining: 1.51s\n",
      "656:\tlearn: 6.6453980\ttotal: 2.88s\tremaining: 1.5s\n",
      "657:\tlearn: 6.6449548\ttotal: 2.89s\tremaining: 1.5s\n",
      "658:\tlearn: 6.6444769\ttotal: 2.89s\tremaining: 1.5s\n",
      "659:\tlearn: 6.6439503\ttotal: 2.9s\tremaining: 1.49s\n",
      "660:\tlearn: 6.6432799\ttotal: 2.9s\tremaining: 1.49s\n",
      "661:\tlearn: 6.6427973\ttotal: 2.9s\tremaining: 1.48s\n",
      "662:\tlearn: 6.6425178\ttotal: 2.91s\tremaining: 1.48s\n",
      "663:\tlearn: 6.6421729\ttotal: 2.91s\tremaining: 1.47s\n",
      "664:\tlearn: 6.6416312\ttotal: 2.91s\tremaining: 1.47s\n",
      "665:\tlearn: 6.6410722\ttotal: 2.92s\tremaining: 1.46s\n",
      "666:\tlearn: 6.6406111\ttotal: 2.92s\tremaining: 1.46s\n",
      "667:\tlearn: 6.6403254\ttotal: 2.92s\tremaining: 1.45s\n",
      "668:\tlearn: 6.6398986\ttotal: 2.93s\tremaining: 1.45s\n",
      "669:\tlearn: 6.6395113\ttotal: 2.93s\tremaining: 1.44s\n",
      "670:\tlearn: 6.6389899\ttotal: 2.94s\tremaining: 1.44s\n",
      "671:\tlearn: 6.6385978\ttotal: 2.94s\tremaining: 1.44s\n",
      "672:\tlearn: 6.6382428\ttotal: 2.94s\tremaining: 1.43s\n",
      "673:\tlearn: 6.6380189\ttotal: 2.95s\tremaining: 1.43s\n",
      "674:\tlearn: 6.6377399\ttotal: 2.95s\tremaining: 1.42s\n",
      "675:\tlearn: 6.6374655\ttotal: 2.96s\tremaining: 1.42s\n",
      "676:\tlearn: 6.6369658\ttotal: 2.96s\tremaining: 1.41s\n",
      "677:\tlearn: 6.6365770\ttotal: 2.97s\tremaining: 1.41s\n",
      "678:\tlearn: 6.6361395\ttotal: 2.97s\tremaining: 1.4s\n",
      "679:\tlearn: 6.6358201\ttotal: 2.98s\tremaining: 1.4s\n",
      "680:\tlearn: 6.6355235\ttotal: 2.98s\tremaining: 1.4s\n",
      "681:\tlearn: 6.6349798\ttotal: 2.98s\tremaining: 1.39s\n",
      "682:\tlearn: 6.6346207\ttotal: 2.99s\tremaining: 1.39s\n",
      "683:\tlearn: 6.6342798\ttotal: 2.99s\tremaining: 1.38s\n",
      "684:\tlearn: 6.6339400\ttotal: 3s\tremaining: 1.38s\n",
      "685:\tlearn: 6.6334817\ttotal: 3s\tremaining: 1.37s\n",
      "686:\tlearn: 6.6331344\ttotal: 3s\tremaining: 1.37s\n",
      "687:\tlearn: 6.6326521\ttotal: 3.01s\tremaining: 1.36s\n",
      "688:\tlearn: 6.6322507\ttotal: 3.01s\tremaining: 1.36s\n",
      "689:\tlearn: 6.6317401\ttotal: 3.01s\tremaining: 1.35s\n",
      "690:\tlearn: 6.6314597\ttotal: 3.02s\tremaining: 1.35s\n",
      "691:\tlearn: 6.6311477\ttotal: 3.02s\tremaining: 1.34s\n",
      "692:\tlearn: 6.6306745\ttotal: 3.03s\tremaining: 1.34s\n",
      "693:\tlearn: 6.6299263\ttotal: 3.03s\tremaining: 1.33s\n",
      "694:\tlearn: 6.6294975\ttotal: 3.03s\tremaining: 1.33s\n",
      "695:\tlearn: 6.6291632\ttotal: 3.04s\tremaining: 1.33s\n",
      "696:\tlearn: 6.6287993\ttotal: 3.04s\tremaining: 1.32s\n",
      "697:\tlearn: 6.6283574\ttotal: 3.04s\tremaining: 1.32s\n",
      "698:\tlearn: 6.6277575\ttotal: 3.05s\tremaining: 1.31s\n",
      "699:\tlearn: 6.6275526\ttotal: 3.05s\tremaining: 1.31s\n",
      "700:\tlearn: 6.6272814\ttotal: 3.06s\tremaining: 1.3s\n",
      "701:\tlearn: 6.6267790\ttotal: 3.06s\tremaining: 1.3s\n",
      "702:\tlearn: 6.6263723\ttotal: 3.07s\tremaining: 1.29s\n",
      "703:\tlearn: 6.6260862\ttotal: 3.07s\tremaining: 1.29s\n",
      "704:\tlearn: 6.6256894\ttotal: 3.08s\tremaining: 1.29s\n",
      "705:\tlearn: 6.6256774\ttotal: 3.08s\tremaining: 1.28s\n",
      "706:\tlearn: 6.6252523\ttotal: 3.08s\tremaining: 1.28s\n",
      "707:\tlearn: 6.6248534\ttotal: 3.09s\tremaining: 1.27s\n",
      "708:\tlearn: 6.6241955\ttotal: 3.09s\tremaining: 1.27s\n",
      "709:\tlearn: 6.6235550\ttotal: 3.1s\tremaining: 1.26s\n",
      "710:\tlearn: 6.6229405\ttotal: 3.1s\tremaining: 1.26s\n",
      "711:\tlearn: 6.6226306\ttotal: 3.1s\tremaining: 1.26s\n",
      "712:\tlearn: 6.6221075\ttotal: 3.11s\tremaining: 1.25s\n",
      "713:\tlearn: 6.6217424\ttotal: 3.11s\tremaining: 1.25s\n",
      "714:\tlearn: 6.6213142\ttotal: 3.12s\tremaining: 1.24s\n",
      "715:\tlearn: 6.6210244\ttotal: 3.12s\tremaining: 1.24s\n",
      "716:\tlearn: 6.6208211\ttotal: 3.12s\tremaining: 1.23s\n",
      "717:\tlearn: 6.6206307\ttotal: 3.13s\tremaining: 1.23s\n",
      "718:\tlearn: 6.6199898\ttotal: 3.13s\tremaining: 1.22s\n",
      "719:\tlearn: 6.6197398\ttotal: 3.14s\tremaining: 1.22s\n",
      "720:\tlearn: 6.6196272\ttotal: 3.14s\tremaining: 1.22s\n",
      "721:\tlearn: 6.6193487\ttotal: 3.14s\tremaining: 1.21s\n",
      "722:\tlearn: 6.6188200\ttotal: 3.15s\tremaining: 1.21s\n",
      "723:\tlearn: 6.6184837\ttotal: 3.15s\tremaining: 1.2s\n",
      "724:\tlearn: 6.6180305\ttotal: 3.16s\tremaining: 1.2s\n",
      "725:\tlearn: 6.6176063\ttotal: 3.16s\tremaining: 1.19s\n",
      "726:\tlearn: 6.6171482\ttotal: 3.17s\tremaining: 1.19s\n",
      "727:\tlearn: 6.6169109\ttotal: 3.17s\tremaining: 1.19s\n",
      "728:\tlearn: 6.6166397\ttotal: 3.18s\tremaining: 1.18s\n",
      "729:\tlearn: 6.6161901\ttotal: 3.18s\tremaining: 1.18s\n",
      "730:\tlearn: 6.6157592\ttotal: 3.19s\tremaining: 1.17s\n",
      "731:\tlearn: 6.6152549\ttotal: 3.19s\tremaining: 1.17s\n",
      "732:\tlearn: 6.6151406\ttotal: 3.19s\tremaining: 1.16s\n",
      "733:\tlearn: 6.6148098\ttotal: 3.2s\tremaining: 1.16s\n",
      "734:\tlearn: 6.6142945\ttotal: 3.2s\tremaining: 1.15s\n",
      "735:\tlearn: 6.6140942\ttotal: 3.21s\tremaining: 1.15s\n",
      "736:\tlearn: 6.6137494\ttotal: 3.21s\tremaining: 1.15s\n",
      "737:\tlearn: 6.6136686\ttotal: 3.21s\tremaining: 1.14s\n",
      "738:\tlearn: 6.6132733\ttotal: 3.22s\tremaining: 1.14s\n",
      "739:\tlearn: 6.6125987\ttotal: 3.22s\tremaining: 1.13s\n",
      "740:\tlearn: 6.6121234\ttotal: 3.23s\tremaining: 1.13s\n",
      "741:\tlearn: 6.6117724\ttotal: 3.23s\tremaining: 1.12s\n",
      "742:\tlearn: 6.6114831\ttotal: 3.24s\tremaining: 1.12s\n",
      "743:\tlearn: 6.6111870\ttotal: 3.24s\tremaining: 1.11s\n",
      "744:\tlearn: 6.6109060\ttotal: 3.25s\tremaining: 1.11s\n",
      "745:\tlearn: 6.6104732\ttotal: 3.25s\tremaining: 1.11s\n",
      "746:\tlearn: 6.6101391\ttotal: 3.25s\tremaining: 1.1s\n",
      "747:\tlearn: 6.6098334\ttotal: 3.26s\tremaining: 1.1s\n",
      "748:\tlearn: 6.6094929\ttotal: 3.26s\tremaining: 1.09s\n",
      "749:\tlearn: 6.6091786\ttotal: 3.27s\tremaining: 1.09s\n",
      "750:\tlearn: 6.6087950\ttotal: 3.27s\tremaining: 1.08s\n",
      "751:\tlearn: 6.6084913\ttotal: 3.28s\tremaining: 1.08s\n",
      "752:\tlearn: 6.6082125\ttotal: 3.28s\tremaining: 1.08s\n",
      "753:\tlearn: 6.6078904\ttotal: 3.29s\tremaining: 1.07s\n",
      "754:\tlearn: 6.6075691\ttotal: 3.29s\tremaining: 1.07s\n",
      "755:\tlearn: 6.6074136\ttotal: 3.3s\tremaining: 1.06s\n",
      "756:\tlearn: 6.6071479\ttotal: 3.3s\tremaining: 1.06s\n",
      "757:\tlearn: 6.6068295\ttotal: 3.31s\tremaining: 1.05s\n",
      "758:\tlearn: 6.6065012\ttotal: 3.31s\tremaining: 1.05s\n",
      "759:\tlearn: 6.6061481\ttotal: 3.31s\tremaining: 1.05s\n",
      "760:\tlearn: 6.6054656\ttotal: 3.32s\tremaining: 1.04s\n",
      "761:\tlearn: 6.6051830\ttotal: 3.32s\tremaining: 1.04s\n",
      "762:\tlearn: 6.6047564\ttotal: 3.33s\tremaining: 1.03s\n",
      "763:\tlearn: 6.6041213\ttotal: 3.33s\tremaining: 1.03s\n",
      "764:\tlearn: 6.6036971\ttotal: 3.34s\tremaining: 1.02s\n",
      "765:\tlearn: 6.6033995\ttotal: 3.34s\tremaining: 1.02s\n",
      "766:\tlearn: 6.6029968\ttotal: 3.35s\tremaining: 1.02s\n",
      "767:\tlearn: 6.6029094\ttotal: 3.35s\tremaining: 1.01s\n",
      "768:\tlearn: 6.6026895\ttotal: 3.36s\tremaining: 1.01s\n",
      "769:\tlearn: 6.6024352\ttotal: 3.36s\tremaining: 1s\n",
      "770:\tlearn: 6.6020794\ttotal: 3.37s\tremaining: 1s\n",
      "771:\tlearn: 6.6016388\ttotal: 3.37s\tremaining: 997ms\n",
      "772:\tlearn: 6.6012614\ttotal: 3.38s\tremaining: 992ms\n",
      "773:\tlearn: 6.6007756\ttotal: 3.38s\tremaining: 988ms\n",
      "774:\tlearn: 6.6002747\ttotal: 3.39s\tremaining: 984ms\n",
      "775:\tlearn: 6.6000057\ttotal: 3.39s\tremaining: 980ms\n",
      "776:\tlearn: 6.5995516\ttotal: 3.4s\tremaining: 975ms\n",
      "777:\tlearn: 6.5993145\ttotal: 3.4s\tremaining: 971ms\n",
      "778:\tlearn: 6.5988032\ttotal: 3.41s\tremaining: 966ms\n",
      "779:\tlearn: 6.5986513\ttotal: 3.41s\tremaining: 962ms\n",
      "780:\tlearn: 6.5984473\ttotal: 3.41s\tremaining: 958ms\n",
      "781:\tlearn: 6.5980414\ttotal: 3.42s\tremaining: 953ms\n",
      "782:\tlearn: 6.5974217\ttotal: 3.42s\tremaining: 949ms\n",
      "783:\tlearn: 6.5971822\ttotal: 3.43s\tremaining: 944ms\n",
      "784:\tlearn: 6.5966982\ttotal: 3.43s\tremaining: 940ms\n",
      "785:\tlearn: 6.5961528\ttotal: 3.44s\tremaining: 936ms\n",
      "786:\tlearn: 6.5959033\ttotal: 3.44s\tremaining: 931ms\n",
      "787:\tlearn: 6.5956839\ttotal: 3.44s\tremaining: 927ms\n",
      "788:\tlearn: 6.5952632\ttotal: 3.45s\tremaining: 922ms\n",
      "789:\tlearn: 6.5949278\ttotal: 3.45s\tremaining: 918ms\n",
      "790:\tlearn: 6.5944242\ttotal: 3.46s\tremaining: 913ms\n",
      "791:\tlearn: 6.5940565\ttotal: 3.46s\tremaining: 909ms\n",
      "792:\tlearn: 6.5940464\ttotal: 3.46s\tremaining: 904ms\n",
      "793:\tlearn: 6.5937225\ttotal: 3.47s\tremaining: 900ms\n",
      "794:\tlearn: 6.5933460\ttotal: 3.47s\tremaining: 896ms\n",
      "795:\tlearn: 6.5931799\ttotal: 3.48s\tremaining: 892ms\n",
      "796:\tlearn: 6.5928097\ttotal: 3.48s\tremaining: 887ms\n",
      "797:\tlearn: 6.5923276\ttotal: 3.49s\tremaining: 883ms\n",
      "798:\tlearn: 6.5916374\ttotal: 3.49s\tremaining: 879ms\n",
      "799:\tlearn: 6.5913737\ttotal: 3.5s\tremaining: 875ms\n",
      "800:\tlearn: 6.5910431\ttotal: 3.5s\tremaining: 870ms\n",
      "801:\tlearn: 6.5907438\ttotal: 3.51s\tremaining: 866ms\n",
      "802:\tlearn: 6.5904957\ttotal: 3.51s\tremaining: 861ms\n",
      "803:\tlearn: 6.5901473\ttotal: 3.51s\tremaining: 857ms\n",
      "804:\tlearn: 6.5900195\ttotal: 3.52s\tremaining: 852ms\n",
      "805:\tlearn: 6.5897886\ttotal: 3.52s\tremaining: 848ms\n",
      "806:\tlearn: 6.5894359\ttotal: 3.53s\tremaining: 844ms\n",
      "807:\tlearn: 6.5890614\ttotal: 3.53s\tremaining: 839ms\n",
      "808:\tlearn: 6.5886457\ttotal: 3.54s\tremaining: 835ms\n",
      "809:\tlearn: 6.5880895\ttotal: 3.54s\tremaining: 831ms\n",
      "810:\tlearn: 6.5877322\ttotal: 3.55s\tremaining: 826ms\n",
      "811:\tlearn: 6.5872512\ttotal: 3.55s\tremaining: 822ms\n",
      "812:\tlearn: 6.5867205\ttotal: 3.56s\tremaining: 818ms\n",
      "813:\tlearn: 6.5862946\ttotal: 3.56s\tremaining: 814ms\n",
      "814:\tlearn: 6.5862867\ttotal: 3.56s\tremaining: 809ms\n",
      "815:\tlearn: 6.5859059\ttotal: 3.57s\tremaining: 805ms\n",
      "816:\tlearn: 6.5854504\ttotal: 3.58s\tremaining: 801ms\n",
      "817:\tlearn: 6.5852878\ttotal: 3.58s\tremaining: 797ms\n",
      "818:\tlearn: 6.5848135\ttotal: 3.58s\tremaining: 792ms\n",
      "819:\tlearn: 6.5844734\ttotal: 3.59s\tremaining: 788ms\n",
      "820:\tlearn: 6.5838012\ttotal: 3.59s\tremaining: 783ms\n",
      "821:\tlearn: 6.5834581\ttotal: 3.6s\tremaining: 779ms\n",
      "822:\tlearn: 6.5831828\ttotal: 3.6s\tremaining: 775ms\n",
      "823:\tlearn: 6.5825736\ttotal: 3.61s\tremaining: 770ms\n",
      "824:\tlearn: 6.5821972\ttotal: 3.61s\tremaining: 766ms\n",
      "825:\tlearn: 6.5818611\ttotal: 3.62s\tremaining: 762ms\n",
      "826:\tlearn: 6.5812253\ttotal: 3.62s\tremaining: 757ms\n",
      "827:\tlearn: 6.5809578\ttotal: 3.62s\tremaining: 753ms\n",
      "828:\tlearn: 6.5803775\ttotal: 3.63s\tremaining: 748ms\n",
      "829:\tlearn: 6.5798833\ttotal: 3.63s\tremaining: 744ms\n",
      "830:\tlearn: 6.5796258\ttotal: 3.64s\tremaining: 739ms\n",
      "831:\tlearn: 6.5793624\ttotal: 3.64s\tremaining: 735ms\n",
      "832:\tlearn: 6.5791615\ttotal: 3.65s\tremaining: 731ms\n",
      "833:\tlearn: 6.5787371\ttotal: 3.65s\tremaining: 726ms\n",
      "834:\tlearn: 6.5784155\ttotal: 3.65s\tremaining: 722ms\n",
      "835:\tlearn: 6.5782371\ttotal: 3.66s\tremaining: 718ms\n",
      "836:\tlearn: 6.5778823\ttotal: 3.66s\tremaining: 714ms\n",
      "837:\tlearn: 6.5776414\ttotal: 3.67s\tremaining: 709ms\n",
      "838:\tlearn: 6.5773129\ttotal: 3.67s\tremaining: 705ms\n",
      "839:\tlearn: 6.5768476\ttotal: 3.68s\tremaining: 701ms\n",
      "840:\tlearn: 6.5766890\ttotal: 3.68s\tremaining: 697ms\n",
      "841:\tlearn: 6.5763561\ttotal: 3.69s\tremaining: 692ms\n",
      "842:\tlearn: 6.5760105\ttotal: 3.69s\tremaining: 688ms\n",
      "843:\tlearn: 6.5757648\ttotal: 3.7s\tremaining: 683ms\n",
      "844:\tlearn: 6.5754463\ttotal: 3.7s\tremaining: 679ms\n",
      "845:\tlearn: 6.5750441\ttotal: 3.71s\tremaining: 675ms\n",
      "846:\tlearn: 6.5748858\ttotal: 3.71s\tremaining: 670ms\n",
      "847:\tlearn: 6.5743950\ttotal: 3.71s\tremaining: 666ms\n",
      "848:\tlearn: 6.5739803\ttotal: 3.72s\tremaining: 661ms\n",
      "849:\tlearn: 6.5735538\ttotal: 3.72s\tremaining: 657ms\n",
      "850:\tlearn: 6.5730088\ttotal: 3.73s\tremaining: 653ms\n",
      "851:\tlearn: 6.5723934\ttotal: 3.73s\tremaining: 648ms\n",
      "852:\tlearn: 6.5718708\ttotal: 3.73s\tremaining: 644ms\n",
      "853:\tlearn: 6.5715350\ttotal: 3.74s\tremaining: 639ms\n",
      "854:\tlearn: 6.5709962\ttotal: 3.74s\tremaining: 635ms\n",
      "855:\tlearn: 6.5706004\ttotal: 3.75s\tremaining: 631ms\n",
      "856:\tlearn: 6.5700866\ttotal: 3.75s\tremaining: 626ms\n",
      "857:\tlearn: 6.5700148\ttotal: 3.76s\tremaining: 622ms\n",
      "858:\tlearn: 6.5695265\ttotal: 3.76s\tremaining: 617ms\n",
      "859:\tlearn: 6.5692256\ttotal: 3.77s\tremaining: 613ms\n",
      "860:\tlearn: 6.5688332\ttotal: 3.77s\tremaining: 609ms\n",
      "861:\tlearn: 6.5685958\ttotal: 3.77s\tremaining: 604ms\n",
      "862:\tlearn: 6.5681033\ttotal: 3.78s\tremaining: 600ms\n",
      "863:\tlearn: 6.5676864\ttotal: 3.79s\tremaining: 596ms\n",
      "864:\tlearn: 6.5673322\ttotal: 3.79s\tremaining: 592ms\n",
      "865:\tlearn: 6.5669392\ttotal: 3.79s\tremaining: 587ms\n",
      "866:\tlearn: 6.5665522\ttotal: 3.8s\tremaining: 583ms\n",
      "867:\tlearn: 6.5663356\ttotal: 3.8s\tremaining: 578ms\n",
      "868:\tlearn: 6.5659238\ttotal: 3.81s\tremaining: 574ms\n",
      "869:\tlearn: 6.5656180\ttotal: 3.81s\tremaining: 569ms\n",
      "870:\tlearn: 6.5653791\ttotal: 3.81s\tremaining: 565ms\n",
      "871:\tlearn: 6.5653701\ttotal: 3.82s\tremaining: 561ms\n",
      "872:\tlearn: 6.5649970\ttotal: 3.82s\tremaining: 556ms\n",
      "873:\tlearn: 6.5648013\ttotal: 3.83s\tremaining: 552ms\n",
      "874:\tlearn: 6.5643942\ttotal: 3.83s\tremaining: 547ms\n",
      "875:\tlearn: 6.5641440\ttotal: 3.83s\tremaining: 543ms\n",
      "876:\tlearn: 6.5638088\ttotal: 3.84s\tremaining: 538ms\n",
      "877:\tlearn: 6.5635125\ttotal: 3.84s\tremaining: 534ms\n",
      "878:\tlearn: 6.5630159\ttotal: 3.85s\tremaining: 529ms\n",
      "879:\tlearn: 6.5628391\ttotal: 3.85s\tremaining: 525ms\n",
      "880:\tlearn: 6.5624022\ttotal: 3.85s\tremaining: 521ms\n",
      "881:\tlearn: 6.5621240\ttotal: 3.86s\tremaining: 516ms\n",
      "882:\tlearn: 6.5618439\ttotal: 3.86s\tremaining: 512ms\n",
      "883:\tlearn: 6.5616307\ttotal: 3.87s\tremaining: 507ms\n",
      "884:\tlearn: 6.5614596\ttotal: 3.87s\tremaining: 503ms\n",
      "885:\tlearn: 6.5613905\ttotal: 3.88s\tremaining: 499ms\n",
      "886:\tlearn: 6.5610416\ttotal: 3.88s\tremaining: 495ms\n",
      "887:\tlearn: 6.5606405\ttotal: 3.89s\tremaining: 490ms\n",
      "888:\tlearn: 6.5604988\ttotal: 3.89s\tremaining: 486ms\n",
      "889:\tlearn: 6.5600015\ttotal: 3.9s\tremaining: 482ms\n",
      "890:\tlearn: 6.5596007\ttotal: 3.9s\tremaining: 477ms\n",
      "891:\tlearn: 6.5593443\ttotal: 3.9s\tremaining: 473ms\n",
      "892:\tlearn: 6.5590811\ttotal: 3.91s\tremaining: 469ms\n",
      "893:\tlearn: 6.5588305\ttotal: 3.91s\tremaining: 464ms\n",
      "894:\tlearn: 6.5585475\ttotal: 3.92s\tremaining: 460ms\n",
      "895:\tlearn: 6.5582900\ttotal: 3.92s\tremaining: 455ms\n",
      "896:\tlearn: 6.5580014\ttotal: 3.93s\tremaining: 451ms\n",
      "897:\tlearn: 6.5577105\ttotal: 3.93s\tremaining: 446ms\n",
      "898:\tlearn: 6.5574276\ttotal: 3.94s\tremaining: 442ms\n",
      "899:\tlearn: 6.5570682\ttotal: 3.94s\tremaining: 438ms\n",
      "900:\tlearn: 6.5567511\ttotal: 3.94s\tremaining: 433ms\n",
      "901:\tlearn: 6.5564269\ttotal: 3.95s\tremaining: 429ms\n",
      "902:\tlearn: 6.5561958\ttotal: 3.95s\tremaining: 425ms\n",
      "903:\tlearn: 6.5554646\ttotal: 3.96s\tremaining: 420ms\n",
      "904:\tlearn: 6.5551963\ttotal: 3.96s\tremaining: 416ms\n",
      "905:\tlearn: 6.5547908\ttotal: 3.97s\tremaining: 412ms\n",
      "906:\tlearn: 6.5544882\ttotal: 3.97s\tremaining: 407ms\n",
      "907:\tlearn: 6.5539754\ttotal: 3.98s\tremaining: 403ms\n",
      "908:\tlearn: 6.5536130\ttotal: 3.98s\tremaining: 399ms\n",
      "909:\tlearn: 6.5531779\ttotal: 3.99s\tremaining: 394ms\n",
      "910:\tlearn: 6.5527337\ttotal: 3.99s\tremaining: 390ms\n",
      "911:\tlearn: 6.5525769\ttotal: 4s\tremaining: 386ms\n",
      "912:\tlearn: 6.5523860\ttotal: 4s\tremaining: 381ms\n",
      "913:\tlearn: 6.5521763\ttotal: 4s\tremaining: 377ms\n",
      "914:\tlearn: 6.5518452\ttotal: 4.01s\tremaining: 372ms\n",
      "915:\tlearn: 6.5514384\ttotal: 4.01s\tremaining: 368ms\n",
      "916:\tlearn: 6.5509677\ttotal: 4.02s\tremaining: 364ms\n",
      "917:\tlearn: 6.5505623\ttotal: 4.02s\tremaining: 359ms\n",
      "918:\tlearn: 6.5502403\ttotal: 4.03s\tremaining: 355ms\n",
      "919:\tlearn: 6.5497963\ttotal: 4.03s\tremaining: 350ms\n",
      "920:\tlearn: 6.5494700\ttotal: 4.03s\tremaining: 346ms\n",
      "921:\tlearn: 6.5494344\ttotal: 4.04s\tremaining: 342ms\n",
      "922:\tlearn: 6.5491261\ttotal: 4.04s\tremaining: 337ms\n",
      "923:\tlearn: 6.5489010\ttotal: 4.05s\tremaining: 333ms\n",
      "924:\tlearn: 6.5483370\ttotal: 4.05s\tremaining: 329ms\n",
      "925:\tlearn: 6.5481341\ttotal: 4.06s\tremaining: 324ms\n",
      "926:\tlearn: 6.5476481\ttotal: 4.06s\tremaining: 320ms\n",
      "927:\tlearn: 6.5471536\ttotal: 4.07s\tremaining: 315ms\n",
      "928:\tlearn: 6.5468684\ttotal: 4.07s\tremaining: 311ms\n",
      "929:\tlearn: 6.5466703\ttotal: 4.08s\tremaining: 307ms\n",
      "930:\tlearn: 6.5464913\ttotal: 4.08s\tremaining: 302ms\n",
      "931:\tlearn: 6.5461932\ttotal: 4.08s\tremaining: 298ms\n",
      "932:\tlearn: 6.5459462\ttotal: 4.09s\tremaining: 294ms\n",
      "933:\tlearn: 6.5454629\ttotal: 4.09s\tremaining: 289ms\n",
      "934:\tlearn: 6.5450333\ttotal: 4.1s\tremaining: 285ms\n",
      "935:\tlearn: 6.5446032\ttotal: 4.1s\tremaining: 281ms\n",
      "936:\tlearn: 6.5440161\ttotal: 4.11s\tremaining: 276ms\n",
      "937:\tlearn: 6.5437110\ttotal: 4.11s\tremaining: 272ms\n",
      "938:\tlearn: 6.5433048\ttotal: 4.12s\tremaining: 267ms\n",
      "939:\tlearn: 6.5428702\ttotal: 4.12s\tremaining: 263ms\n",
      "940:\tlearn: 6.5424806\ttotal: 4.12s\tremaining: 259ms\n",
      "941:\tlearn: 6.5421112\ttotal: 4.13s\tremaining: 254ms\n",
      "942:\tlearn: 6.5417544\ttotal: 4.13s\tremaining: 250ms\n",
      "943:\tlearn: 6.5413551\ttotal: 4.14s\tremaining: 246ms\n",
      "944:\tlearn: 6.5409234\ttotal: 4.14s\tremaining: 241ms\n",
      "945:\tlearn: 6.5406764\ttotal: 4.15s\tremaining: 237ms\n",
      "946:\tlearn: 6.5405620\ttotal: 4.15s\tremaining: 232ms\n",
      "947:\tlearn: 6.5402464\ttotal: 4.16s\tremaining: 228ms\n",
      "948:\tlearn: 6.5397951\ttotal: 4.16s\tremaining: 224ms\n",
      "949:\tlearn: 6.5394533\ttotal: 4.17s\tremaining: 219ms\n",
      "950:\tlearn: 6.5392834\ttotal: 4.17s\tremaining: 215ms\n",
      "951:\tlearn: 6.5390108\ttotal: 4.18s\tremaining: 211ms\n",
      "952:\tlearn: 6.5386991\ttotal: 4.18s\tremaining: 206ms\n",
      "953:\tlearn: 6.5383052\ttotal: 4.18s\tremaining: 202ms\n",
      "954:\tlearn: 6.5378849\ttotal: 4.19s\tremaining: 197ms\n",
      "955:\tlearn: 6.5375815\ttotal: 4.19s\tremaining: 193ms\n",
      "956:\tlearn: 6.5373219\ttotal: 4.2s\tremaining: 189ms\n",
      "957:\tlearn: 6.5370495\ttotal: 4.2s\tremaining: 184ms\n",
      "958:\tlearn: 6.5367958\ttotal: 4.2s\tremaining: 180ms\n",
      "959:\tlearn: 6.5361811\ttotal: 4.21s\tremaining: 175ms\n",
      "960:\tlearn: 6.5352977\ttotal: 4.21s\tremaining: 171ms\n",
      "961:\tlearn: 6.5348801\ttotal: 4.22s\tremaining: 167ms\n",
      "962:\tlearn: 6.5343210\ttotal: 4.22s\tremaining: 162ms\n",
      "963:\tlearn: 6.5340234\ttotal: 4.22s\tremaining: 158ms\n",
      "964:\tlearn: 6.5339544\ttotal: 4.23s\tremaining: 153ms\n",
      "965:\tlearn: 6.5336682\ttotal: 4.23s\tremaining: 149ms\n",
      "966:\tlearn: 6.5333854\ttotal: 4.24s\tremaining: 145ms\n",
      "967:\tlearn: 6.5332595\ttotal: 4.24s\tremaining: 140ms\n",
      "968:\tlearn: 6.5327308\ttotal: 4.24s\tremaining: 136ms\n",
      "969:\tlearn: 6.5320647\ttotal: 4.25s\tremaining: 131ms\n",
      "970:\tlearn: 6.5317898\ttotal: 4.25s\tremaining: 127ms\n",
      "971:\tlearn: 6.5312896\ttotal: 4.26s\tremaining: 123ms\n",
      "972:\tlearn: 6.5308992\ttotal: 4.26s\tremaining: 118ms\n",
      "973:\tlearn: 6.5308090\ttotal: 4.27s\tremaining: 114ms\n",
      "974:\tlearn: 6.5305371\ttotal: 4.27s\tremaining: 110ms\n",
      "975:\tlearn: 6.5303194\ttotal: 4.28s\tremaining: 105ms\n",
      "976:\tlearn: 6.5300020\ttotal: 4.28s\tremaining: 101ms\n",
      "977:\tlearn: 6.5298173\ttotal: 4.28s\tremaining: 96.4ms\n",
      "978:\tlearn: 6.5295478\ttotal: 4.29s\tremaining: 92ms\n",
      "979:\tlearn: 6.5289491\ttotal: 4.29s\tremaining: 87.6ms\n",
      "980:\tlearn: 6.5289058\ttotal: 4.3s\tremaining: 83.3ms\n",
      "981:\tlearn: 6.5286065\ttotal: 4.3s\tremaining: 78.9ms\n",
      "982:\tlearn: 6.5279988\ttotal: 4.31s\tremaining: 74.5ms\n",
      "983:\tlearn: 6.5276852\ttotal: 4.31s\tremaining: 70.1ms\n",
      "984:\tlearn: 6.5273596\ttotal: 4.32s\tremaining: 65.7ms\n",
      "985:\tlearn: 6.5268818\ttotal: 4.32s\tremaining: 61.4ms\n",
      "986:\tlearn: 6.5265780\ttotal: 4.33s\tremaining: 57ms\n",
      "987:\tlearn: 6.5263845\ttotal: 4.33s\tremaining: 52.6ms\n",
      "988:\tlearn: 6.5260796\ttotal: 4.33s\tremaining: 48.2ms\n",
      "989:\tlearn: 6.5258646\ttotal: 4.34s\tremaining: 43.8ms\n",
      "990:\tlearn: 6.5254117\ttotal: 4.34s\tremaining: 39.5ms\n",
      "991:\tlearn: 6.5250994\ttotal: 4.35s\tremaining: 35.1ms\n",
      "992:\tlearn: 6.5247985\ttotal: 4.35s\tremaining: 30.7ms\n",
      "993:\tlearn: 6.5244269\ttotal: 4.36s\tremaining: 26.3ms\n",
      "994:\tlearn: 6.5241773\ttotal: 4.36s\tremaining: 21.9ms\n",
      "995:\tlearn: 6.5239275\ttotal: 4.37s\tremaining: 17.5ms\n",
      "996:\tlearn: 6.5237861\ttotal: 4.37s\tremaining: 13.2ms\n",
      "997:\tlearn: 6.5235454\ttotal: 4.38s\tremaining: 8.77ms\n",
      "998:\tlearn: 6.5233899\ttotal: 4.38s\tremaining: 4.39ms\n",
      "999:\tlearn: 6.5231921\ttotal: 4.39s\tremaining: 0us\n"
     ]
    }
   ],
   "source": [
    "cat_b = CatBoostRegressor(learning_rate=0.1, depth=6, iterations=500, objective='RMSE', verbose=0) # best parameters catboost için \n",
    "\n",
    "catb_model2 = catb.fit(X_train, y_train)"
   ]
  },
  {
   "cell_type": "markdown",
   "id": "5f9404c3-0c35-48c8-b606-b37c7ea722c2",
   "metadata": {},
   "source": [
    "## Test İşlemleri"
   ]
  },
  {
   "cell_type": "code",
   "execution_count": 239,
   "id": "7896bbb3-eea1-432f-b60d-b6cd6ff24978",
   "metadata": {},
   "outputs": [],
   "source": [
    "df_test.rename(columns={\"Basvuru Yili\": \"b_yili\",\n",
    "                        \"Cinsiyet\": \"cinsiyet\",\n",
    "                        \"Dogum Tarihi\": \"d_tarihi\",\n",
    "                        \"Dogum Yeri\": \"d_yeri\",\n",
    "                        \"Ikametgah Sehri\": \"ikametgah\",\n",
    "                        \"Universite Adi\": \"uni_adi\",\n",
    "                        \"Universite Turu\": \"uni_turu\",\n",
    "                        \"Burslu ise Burs Yuzdesi\": \"burs_yuzdesi\",\n",
    "                        \"Burs Aliyor mu?\": \"bursu_varmi\",\n",
    "                        \"Bölüm\": \"bolum\",\n",
    "                        \"Universite Kacinci Sinif\": \"uni_kacinci_sinif\",\n",
    "                        \"Universite Not Ortalamasi\": \"uni_not_ort\",\n",
    "                        \"Daha Once Baska Bir Universiteden Mezun Olmus\": \"baska_uni_mezunmu\",\n",
    "                        \"Lise Adi\": \"lise_adi\",\n",
    "                        \"Lise Adi Diger\": \"lise_diger\",\n",
    "                        \"Lise Sehir\": \"lise_sehir\",\n",
    "                        \"Lise Turu\": \"lise_turu\",\n",
    "                        \"Lise Bolumu\": \"lise_bolumu\",\n",
    "                        \"Lise Bolum Diger\": \"lise_bolum_diger\",\n",
    "                        \"Lise Mezuniyet Notu\": \"lise_mez_notu\",\n",
    "                        \"Baska Bir Kurumdan Burs Aliyor mu?\": \"baska_burs_varmi\",\n",
    "                        \"Burs Aldigi Baska Kurum\": \"burs_aldigi_kurum\",\n",
    "                        \"Baska Kurumdan Aldigi Burs Miktari\": \"bk_burs_miktari\",\n",
    "                        \"Anne Egitim Durumu\": \"a_egitim_durumu\",\n",
    "                        \"Anne Calisma Durumu\": \"a_calisma_durumu\",\n",
    "                        \"Anne Sektor\": \"a_sektor\",\n",
    "                        \"Baba Egitim Durumu\":\"b_egitim_durumu\",\n",
    "                        \"Baba Calisma Durumu\": \"b_calisma_durumu\",\n",
    "                        \"Baba Sektor\":\"b_sektor\",\n",
    "                        \"Kardes Sayisi\":\"k_sayisi\",\n",
    "                        \"Girisimcilik Kulupleri Tarzi Bir Kulube Uye misiniz?\":\"gir_klube_uyemi\",\n",
    "                        \"Uye Oldugunuz Kulubun Ismi\":\"kulup_ismi\",\n",
    "                        \"Profesyonel Bir Spor Daliyla Mesgul musunuz?\":\"spor_dali_mesgulmu\",\n",
    "                        \"Spor Dalindaki Rolunuz Nedir?\":\"spor_rolu_ne\",\n",
    "                        \"Aktif olarak bir STK üyesi misiniz?\":\"aktif_stk_uyesimi\",\n",
    "                        \"Hangi STK'nin Uyesisiniz?\":\"hangi_stk\",\n",
    "                        \"Stk Projesine Katildiniz Mi?\":\"stk_proje_katildimi\",\n",
    "                        \"Girisimcilikle Ilgili Deneyiminiz Var Mi?\":\"gir_deneyim_varmi\",\n",
    "                        \"Girisimcilikle Ilgili Deneyiminizi Aciklayabilir misiniz?\":\"gir_deneyim_acikla\",\n",
    "                        \"Ingilizce Biliyor musunuz?\":\"ing_varmi\",\n",
    "                        \"Ingilizce Seviyeniz?\":\"ing_seviye\",\n",
    "                        \"Daha Önceden Mezun Olunduysa, Mezun Olunan Üniversite\":\"ikinci_uni_varmi\"}, inplace = True)"
   ]
  },
  {
   "cell_type": "code",
   "execution_count": 240,
   "id": "1c3876e4-a91d-4b6e-accb-65cdaa21fbbc",
   "metadata": {
    "scrolled": true
   },
   "outputs": [
    {
     "name": "stdout",
     "output_type": "stream",
     "text": [
      "<class 'pandas.core.frame.DataFrame'>\n",
      "RangeIndex: 11049 entries, 0 to 11048\n",
      "Data columns (total 43 columns):\n",
      " #   Column               Non-Null Count  Dtype  \n",
      "---  ------               --------------  -----  \n",
      " 0   b_yili               11049 non-null  int64  \n",
      " 1   cinsiyet             11049 non-null  object \n",
      " 2   d_tarihi             11049 non-null  object \n",
      " 3   d_yeri               11049 non-null  object \n",
      " 4   ikametgah            11049 non-null  object \n",
      " 5   uni_adi              11049 non-null  object \n",
      " 6   uni_turu             11049 non-null  object \n",
      " 7   burs_yuzdesi         0 non-null      float64\n",
      " 8   bursu_varmi          11049 non-null  object \n",
      " 9   bolum                11049 non-null  object \n",
      " 10  uni_kacinci_sinif    11049 non-null  object \n",
      " 11  uni_not_ort          11049 non-null  object \n",
      " 12  baska_uni_mezunmu    0 non-null      float64\n",
      " 13  lise_adi             11049 non-null  object \n",
      " 14  lise_diger           0 non-null      float64\n",
      " 15  lise_sehir           11049 non-null  object \n",
      " 16  lise_turu            11049 non-null  object \n",
      " 17  lise_bolumu          11049 non-null  object \n",
      " 18  lise_bolum_diger     0 non-null      float64\n",
      " 19  lise_mez_notu        11049 non-null  object \n",
      " 20  baska_burs_varmi     11049 non-null  object \n",
      " 21  burs_aldigi_kurum    11049 non-null  object \n",
      " 22  bk_burs_miktari      11049 non-null  object \n",
      " 23  a_egitim_durumu      11049 non-null  object \n",
      " 24  a_calisma_durumu     11049 non-null  object \n",
      " 25  a_sektor             11049 non-null  object \n",
      " 26  b_egitim_durumu      11049 non-null  object \n",
      " 27  b_calisma_durumu     11049 non-null  object \n",
      " 28  b_sektor             11049 non-null  object \n",
      " 29  k_sayisi             11049 non-null  float64\n",
      " 30  gir_klube_uyemi      11049 non-null  object \n",
      " 31  kulup_ismi           0 non-null      float64\n",
      " 32  spor_dali_mesgulmu   11049 non-null  object \n",
      " 33  spor_rolu_ne         11049 non-null  object \n",
      " 34  aktif_stk_uyesimi    11049 non-null  object \n",
      " 35  hangi_stk            11049 non-null  object \n",
      " 36  stk_proje_katildimi  0 non-null      float64\n",
      " 37  gir_deneyim_varmi    11049 non-null  object \n",
      " 38  gir_deneyim_acikla   11049 non-null  object \n",
      " 39  ing_varmi            11049 non-null  object \n",
      " 40  ing_seviye           0 non-null      float64\n",
      " 41  ikinci_uni_varmi     0 non-null      float64\n",
      " 42  id                   11049 non-null  int64  \n",
      "dtypes: float64(9), int64(2), object(32)\n",
      "memory usage: 3.6+ MB\n"
     ]
    }
   ],
   "source": [
    "df_test.info()"
   ]
  },
  {
   "cell_type": "markdown",
   "id": "ca29dd70-9620-4c0b-81c4-95d48ea08873",
   "metadata": {},
   "source": [
    "### cinsiyet"
   ]
  },
  {
   "cell_type": "code",
   "execution_count": 241,
   "id": "eb45a0d2-d0b4-4b80-aa45-a3318e8ba3be",
   "metadata": {},
   "outputs": [
    {
     "data": {
      "text/plain": [
       "array(['Kadın', 'Erkek', 'Belirtmek istemiyorum'], dtype=object)"
      ]
     },
     "execution_count": 241,
     "metadata": {},
     "output_type": "execute_result"
    }
   ],
   "source": [
    "df_test['cinsiyet'].unique()"
   ]
  },
  {
   "cell_type": "code",
   "execution_count": 242,
   "id": "7138409c-c294-4f10-a112-0089b4673321",
   "metadata": {},
   "outputs": [
    {
     "data": {
      "text/plain": [
       "0"
      ]
     },
     "execution_count": 242,
     "metadata": {},
     "output_type": "execute_result"
    }
   ],
   "source": [
    "df_test['cinsiyet'].isnull().sum()"
   ]
  },
  {
   "cell_type": "code",
   "execution_count": 243,
   "id": "ecd4e569-f943-456a-a6d0-7aa6341803ef",
   "metadata": {},
   "outputs": [],
   "source": [
    "df_test['cinsiyet'] = df_test['cinsiyet'].str.lower()"
   ]
  },
  {
   "cell_type": "code",
   "execution_count": 244,
   "id": "4c9614bf-4070-425c-b81a-c26cf22df8b5",
   "metadata": {},
   "outputs": [],
   "source": [
    "c_s = {'belirtmek istemiyorum': 0,\n",
    "       'erkek': 1,\n",
    "       'kadın': 2}\n",
    "\n",
    "df_test['cinsiyet'] = df_test['cinsiyet'].map(c_s).astype(int)"
   ]
  },
  {
   "cell_type": "markdown",
   "id": "7d6a2e26-f614-46fd-9c25-cab47c93c540",
   "metadata": {},
   "source": [
    "### doğum tarihi"
   ]
  },
  {
   "cell_type": "code",
   "execution_count": 245,
   "id": "6eb369a9-445e-4448-aa11-d71b2f71b149",
   "metadata": {},
   "outputs": [
    {
     "data": {
      "text/plain": [
       "array(['21.06.2002 00:00', '11.05.2004 00:00', '24.04.2002 00:00', ...,\n",
       "       '24.11.2004 00:00', '23.04.2004 00:00', '1.10.2005 00:00'],\n",
       "      dtype=object)"
      ]
     },
     "execution_count": 245,
     "metadata": {},
     "output_type": "execute_result"
    }
   ],
   "source": [
    "df_test['d_tarihi'].unique()"
   ]
  },
  {
   "cell_type": "code",
   "execution_count": 246,
   "id": "6b89295d-7fa0-4a7a-9582-b89a5500c74d",
   "metadata": {},
   "outputs": [],
   "source": [
    "df_test['d_tarihi'] = pd.to_datetime(df_test['d_tarihi'], errors='coerce', dayfirst=True)\n",
    "df_test['d_tarihi'] = df_test['d_tarihi'].fillna(pd.Timestamp('2000-01-01'))\n",
    "df_test['yil'] = df_test['d_tarihi'].dt.year\n",
    "\n",
    "today = datetime.today()\n",
    "df_test['yas'] = today.year - df_test['yil']\n",
    "df_test['ay'] = df_test['d_tarihi'].dt.month\n",
    "df_test['yil']= df_test['yil'].astype(int)\n",
    "\n",
    "df_test=df_test.drop('d_tarihi',axis=1)"
   ]
  },
  {
   "cell_type": "markdown",
   "id": "b86a51eb-5a10-43d7-8c7a-a640ef95a7da",
   "metadata": {},
   "source": [
    "### d_yeri "
   ]
  },
  {
   "cell_type": "code",
   "execution_count": 247,
   "id": "ae1b56f2-ffa6-4136-8c83-b5b327e23402",
   "metadata": {
    "scrolled": true
   },
   "outputs": [
    {
     "data": {
      "text/plain": [
       "array(['Amasya', 'Konya', 'İstanbul', 'Mardin', 'Samsun', 'Isparta',\n",
       "       'Hatay', 'Ordu', 'Adıyaman', 'Bursa', 'Tekirdağ', 'Mersin',\n",
       "       'Kahramanmaraş', 'Ankara', 'Gaziantep', 'Kütahya', 'Hakkari',\n",
       "       'Eskişehir', 'Yurt dışı', 'Ağrı', 'Osmaniye', 'Sakarya', 'Tokat',\n",
       "       'Antalya', 'Erzurum', 'Batman', 'Bilecik', 'Kayseri', 'Adana',\n",
       "       'Malatya', 'Sivas', 'Denizli', 'Şanlıurfa', 'Diyarbakır',\n",
       "       'Zonguldak', 'Kocaeli', 'İzmir', 'Bingöl', 'Van', 'Bitlis',\n",
       "       'Siirt', 'Aksaray', 'Balıkesir', 'Şırnak', 'Uşak', 'Tunceli',\n",
       "       'Muğla', 'Aydın', 'Muş', 'Karaman', 'Çorum', 'Kırşehir',\n",
       "       'Kırıkkale', 'Çanakkale', 'Elazığ', 'Giresun', 'Kars', 'Edirne',\n",
       "       'Çankırı', 'Kastamonu', 'KKTC', 'Afyonkarahisar', 'Manisa',\n",
       "       'Yozgat', 'Trabzon', 'Burdur', 'Niğde', 'Ardahan', 'Bolu',\n",
       "       'Erzincan', 'Artvin', 'Kırklareli', 'Karabük', 'Iğdır', 'Nevşehir',\n",
       "       'Rize', 'Kilis', 'Düzce', 'Sinop', 'Bayburt', 'Gümüşhane',\n",
       "       'Bartın', 'Yalova'], dtype=object)"
      ]
     },
     "execution_count": 247,
     "metadata": {},
     "output_type": "execute_result"
    }
   ],
   "source": [
    "df_test['d_yeri'].unique()"
   ]
  },
  {
   "cell_type": "code",
   "execution_count": 248,
   "id": "e63328d2-a0d1-4d11-a868-28cd28b6aa36",
   "metadata": {},
   "outputs": [],
   "source": [
    "df_test[\"d_yeri\"] = df_test[\"d_yeri\"].apply(temizle_sehir)"
   ]
  },
  {
   "cell_type": "code",
   "execution_count": 249,
   "id": "6340120d-1564-4704-b5a8-46398ba0b443",
   "metadata": {},
   "outputs": [
    {
     "data": {
      "text/plain": [
       "d_yeri\n",
       "İstanbul      1814\n",
       "Ankara         603\n",
       "Diyarbakır     408\n",
       "Hatay          384\n",
       "Şanlıurfa      357\n",
       "              ... \n",
       "Bilecik         15\n",
       "Bartın          14\n",
       "Yalova          14\n",
       "Tunceli          9\n",
       "Bayburt          9\n",
       "Name: count, Length: 81, dtype: int64"
      ]
     },
     "execution_count": 249,
     "metadata": {},
     "output_type": "execute_result"
    }
   ],
   "source": [
    "df_test['d_yeri'].value_counts()"
   ]
  },
  {
   "cell_type": "code",
   "execution_count": 250,
   "id": "a8dbe506-82e7-42ac-9750-e59de95322b3",
   "metadata": {},
   "outputs": [],
   "source": [
    "df_test['d_yeri'] = le.fit_transform(df_test['d_yeri'])"
   ]
  },
  {
   "cell_type": "markdown",
   "id": "7f01700c-c6d4-4514-a987-07d5b4116278",
   "metadata": {},
   "source": [
    "### ikametgah"
   ]
  },
  {
   "cell_type": "code",
   "execution_count": 251,
   "id": "b364eafe-b2d8-4e28-ae64-d4f0b62c50ba",
   "metadata": {},
   "outputs": [
    {
     "data": {
      "text/plain": [
       "array(['Amasya', 'Konya', 'İstanbul', 'Mardin', 'İzmir', 'Kırşehir',\n",
       "       'Adıyaman', 'Bursa', 'Antalya', 'Ankara', 'Tekirdağ', 'Gaziantep',\n",
       "       'Kütahya', 'Hakkari', 'Hatay', 'Tokat', 'Manisa', 'Osmaniye',\n",
       "       'Giresun', 'Muğla', 'Erzurum', 'Kahramanmaraş', 'Batman',\n",
       "       'Kayseri', 'Çanakkale', 'Adana', 'Malatya', 'Sivas', 'Şanlıurfa',\n",
       "       'Diyarbakır', 'Tunceli', 'Rize', 'Mersin', 'Bingöl', 'Siirt',\n",
       "       'Aksaray', 'Şırnak', 'Elazığ', 'Van', 'Aydın', 'Ağrı', 'Muş',\n",
       "       'Çorum', 'Burdur', 'Kocaeli', 'Balıkesir', 'Samsun', 'Uşak',\n",
       "       'Edirne', 'Ordu', 'Eskişehir', 'Kastamonu', 'Karabük', 'Kars',\n",
       "       'Bitlis', 'Sakarya', 'Yurt dışı', 'Afyonkarahisar', 'Zonguldak',\n",
       "       'Isparta', 'Trabzon', 'Niğde', 'Yalova', 'Artvin', 'Karaman',\n",
       "       'Denizli', 'Bayburt', 'Erzincan', 'Bilecik', 'Çankırı', 'Kilis',\n",
       "       'Ardahan', 'Nevşehir', 'Yozgat', 'KKTC', 'Bolu', 'Düzce', 'Iğdır',\n",
       "       'Kırıkkale', 'Bartın', 'Gümüşhane', 'Sinop', 'Kırklareli'],\n",
       "      dtype=object)"
      ]
     },
     "execution_count": 251,
     "metadata": {},
     "output_type": "execute_result"
    }
   ],
   "source": [
    "df_test['ikametgah'].unique()"
   ]
  },
  {
   "cell_type": "code",
   "execution_count": 252,
   "id": "1a27fc27-e011-4148-9dc3-c299c4bfd6b7",
   "metadata": {},
   "outputs": [],
   "source": [
    "df_test[\"ikametgah\"] = df_test[\"ikametgah\"].apply(temizle_sehir)"
   ]
  },
  {
   "cell_type": "code",
   "execution_count": 253,
   "id": "7ea0b89a-b467-4810-a8c7-24cfd87d8109",
   "metadata": {},
   "outputs": [],
   "source": [
    "df_test['ikametgah'] = le.fit_transform(df_test['ikametgah'])"
   ]
  },
  {
   "cell_type": "markdown",
   "id": "28b8f986-bfd4-4b4c-9e24-28e1b7fca08c",
   "metadata": {},
   "source": [
    "### uni_adi"
   ]
  },
  {
   "cell_type": "code",
   "execution_count": 254,
   "id": "77adf950-b2b3-451b-b716-e4150ce57aab",
   "metadata": {
    "scrolled": true
   },
   "outputs": [
    {
     "data": {
      "text/plain": [
       "array(['Munzur Üniversitesi', 'Hacettepe Üniversitesi',\n",
       "       'Kapadokya Üniversitesi', 'Mardin Artuklu Üniversitesi',\n",
       "       'Boğaziçi Üniversitesi', 'İzmir Yüksek Teknoloji Enstitüsü',\n",
       "       'Kırşehir Ahi Evran Üniversitesi', 'Yıldız Teknik Üniversitesi',\n",
       "       'Necmettin Erbakan Üniversitesi', 'Bursa Uludağ Üniversitesi',\n",
       "       'MEF Üniversitesi', 'Eskişehir Teknik Üniversitesi',\n",
       "       'İstanbul Üniversitesi-Cerrahpaşa', 'Gazi Üniversitesi',\n",
       "       'Tekirdağ Namık Kemal Üniversitesi', 'Gaziantep Üniversitesi',\n",
       "       'Koç Üniversitesi', 'Ankara Hacı Bayram Veli Üniversitesi',\n",
       "       'Çukurova Üniversitesi', 'Kütahya Dumlupınar Üniversitesi',\n",
       "       'Ankara Bilim Üniversitesi', 'Dicle Üniversitesi',\n",
       "       'Dokuz Eylül Üniversitesi', 'Siirt Üniversitesi',\n",
       "       'Kilis 7 Aralık Üniversitesi',\n",
       "       'Çanakkale Onsekiz Mart Üniversitesi',\n",
       "       'Sivas Cumhuriyet Üniversitesi',\n",
       "       'Tokat Gaziosmanpaşa Üniversitesi', 'Nişantaşı Üniversitesi',\n",
       "       'Özyeğin Üniversitesi', 'Malatya Turgut Özal Üniversitesi',\n",
       "       'Muğla Sıtkı Koçman Üniversitesi', 'Akdeniz Üniversitesi',\n",
       "       'İnönü Üniversitesi', 'İstanbul Üniversitesi',\n",
       "       'Orta Doğu Teknik Üniversitesi', 'Giresun Üniversitesi',\n",
       "       'İstanbul Medeniyet Üniversitesi', 'Sabancı Üniversitesi',\n",
       "       'Fırat Üniversitesi', 'Batman Üniversitesi',\n",
       "       'İstanbul Aydın Üniversitesi', 'Abdullah Gül Üniversitesi',\n",
       "       'İstanbul Teknik Üniversitesi', 'Biruni Üniversitesi',\n",
       "       'Atatürk Üniversitesi', 'Samsun Üniversitesi',\n",
       "       'Anadolu Üniversitesi', 'İstanbul Atlas Üniversitesi',\n",
       "       'Mersin Üniversitesi', 'Doğuş Üniversitesi',\n",
       "       'Beykent Üniversitesi', 'İstanbul Medipol Üniversitesi',\n",
       "       'Erciyes Üniversitesi', 'Ondokuz Mayıs Üniversitesi',\n",
       "       'Artvin Çoruh Üniversitesi', 'Adıyaman Üniversitesi',\n",
       "       'Gebze Teknik Üniversitesi', 'İskenderun Teknik Üniversitesi',\n",
       "       'İstinye Üniversitesi', 'Kafkas Üniversitesi',\n",
       "       'Bandırma Onyedi Eylül Üniversitesi', 'Kastamonu Üniversitesi',\n",
       "       'Harran Üniversitesi', 'Balıkesir Üniversitesi',\n",
       "       'Ankara Yıldırım Beyazıt Üniversitesi', 'Diğer',\n",
       "       'Bayburt Üniversitesi', 'Bahçeşehir Üniversitesi',\n",
       "       'Selçuk Üniversitesi', 'Marmara Üniversitesi',\n",
       "       'Kahramanmaraş Sütçü İmam Üniversitesi',\n",
       "       'Sağlık Bilimleri Üniversitesi', 'İstanbul Arel Üniversitesi',\n",
       "       'Recep Tayyip Erdoğan Üniversitesi', 'Gümüşhane Üniversitesi',\n",
       "       'Kadir Has Üniversitesi', 'Erzincan Binali Yıldırım Üniversitesi',\n",
       "       'Maltepe Üniversitesi', 'TOBB Ekonomi ve Teknoloji Üniversitesi',\n",
       "       'İzmir Kâtip Çelebi Üniversitesi', 'Ordu Üniversitesi',\n",
       "       'Düzce Üniversitesi', 'Ankara Üniversitesi',\n",
       "       'Burdur Mehmet Akif Ersoy Üniversitesi',\n",
       "       'Konya Teknik Üniversitesi', 'Manisa Celal Bayar Üniversitesi',\n",
       "       'Sakarya Üniversitesi', 'İstanbul Okan Üniversitesi',\n",
       "       'Aydın Adnan Menderes Üniversitesi',\n",
       "       'İhsan Doğramacı Bilkent Üniversitesi',\n",
       "       'İstanbul Gelişim Üniversitesi', 'Yeditepe Üniversitesi',\n",
       "       'Bingöl Üniversitesi', 'Amasya Üniversitesi',\n",
       "       'Kocaeli Sağlık ve Teknoloji Üniversitesi', 'Çankaya Üniversitesi',\n",
       "       'Karabük Üniversitesi', 'Karadeniz Teknik Üniversitesi',\n",
       "       'Uşak Üniversitesi', 'Nevşehir Hacı Bektaş Veli Üniversitesi',\n",
       "       'Lokman Hekim Üniversitesi', 'Pamukkale Üniversitesi',\n",
       "       'Trakya Üniversitesi', 'İzmir Demokrasi Üniversitesi',\n",
       "       'Afyonkarahisar Sağlık Bilimleri Üniversitesi',\n",
       "       'Trabzon Üniversitesi', 'Aksaray Üniversitesi',\n",
       "       'Ufuk Üniversitesi', 'İzmir Ekonomi Üniversitesi',\n",
       "       'Alanya Alaaddin Keykubat Üniversitesi',\n",
       "       'Hatay Mustafa Kemal Üniversitesi', 'Galatasaray Üniversitesi',\n",
       "       'Adana Alparslan Türkeş Bilim ve Teknoloji Üniversitesi',\n",
       "       'Gaziantep İslam Bilim ve Teknoloji Üniversitesi',\n",
       "       'Bursa Teknik Üniversitesi', 'İstanbul Gedik Üniversitesi',\n",
       "       'Süleyman Demirel Üniversitesi', 'Kocaeli Üniversitesi',\n",
       "       'İstanbul Kültür Üniversitesi', 'İzmir Bakırçay Üniversitesi',\n",
       "       'Ege Üniversitesi', 'Osmaniye Korkut Ata Üniversitesi',\n",
       "       'Van Yüzüncü Yıl Üniversitesi',\n",
       "       'Mimar Sinan Güzel Sanatlar Üniversitesi',\n",
       "       'Bolu Abant İzzet Baysal Üniversitesi',\n",
       "       'Hasan Kalyoncu Üniversitesi', 'Afyon Kocatepe Üniversitesi',\n",
       "       'İstanbul Bilgi Üniversitesi', 'TED Üniversitesi',\n",
       "       'İstanbul Kent Üniversitesi', 'Niğde Ömer Halisdemir Üniversitesi',\n",
       "       'Isparta Uygulamalı Bilimler Üniversitesi',\n",
       "       'Zonguldak Bülent Ecevit Üniversitesi',\n",
       "       'Antalya Bilim Üniversitesi', 'Muş Alparslan Üniversitesi',\n",
       "       'Eskişehir Osmangazi Üniversitesi', 'Yalova Üniversitesi',\n",
       "       'Haliç Üniversitesi', 'Karamanoğlu Mehmetbey Üniversitesi',\n",
       "       'Sakarya Uygulamalı Bilimler Üniversitesi',\n",
       "       'Bitlis Eren Üniversitesi', 'İstanbul 29 Mayıs Üniversitesi',\n",
       "       'Bilecik Şeyh Edebali Üniversitesi',\n",
       "       'Türk Hava Kurumu Üniversitesi', 'Hitit Üniversitesi',\n",
       "       'Kırklareli Üniversitesi', 'Yeni Yüzyıl Üniversitesi',\n",
       "       'Altınbaş Üniversitesi', 'Hakkari Üniversitesi',\n",
       "       'Türk-Alman Üniversitesi', 'Ağrı İbrahim Çeçen Üniversitesi',\n",
       "       'Piri Reis Üniversitesi', 'Konya Gıda ve Tarım Üniversitesi',\n",
       "       'Kütahya Sağlık Bilimleri Üniversitesi',\n",
       "       \"KKTC'de üniversite okuyorum.\", 'Üsküdar Üniversitesi',\n",
       "       'Bezmialem Vakıf Üniversitesi', 'Sinop Üniversitesi',\n",
       "       'Şırnak Üniversitesi', 'Ankara Sosyal Bilimler Üniversitesi',\n",
       "       'Iğdır Üniversitesi', 'Çağ Üniversitesi',\n",
       "       'İstanbul Esenyurt Üniversitesi', 'Acıbadem Üniversitesi',\n",
       "       'Yaşar Üniversitesi', 'Başkent Üniversitesi',\n",
       "       'Ardahan Üniversitesi', 'Beykoz Üniversitesi',\n",
       "       'Tarsus Üniversitesi', 'Çankırı Karatekin Üniversitesi',\n",
       "       'İstanbul Rumeli Üniversitesi', 'İstanbul Galata Üniversitesi',\n",
       "       'İstanbul Ticaret Üniversitesi', 'Yozgat Bozok Üniversitesi',\n",
       "       'Yurtdışında üniversite okuyorum.',\n",
       "       'İstanbul Sabahattin Zaim Üniversitesi', 'Atılım Üniversitesi',\n",
       "       'Erzurum Teknik Üniversitesi', 'KTO Karatay Üniversitesi',\n",
       "       'Fenerbahçe Üniversitesi', 'Işık Üniversitesi',\n",
       "       'Demiroğlu Bilim Üniversitesi', 'Kırıkkale Üniversitesi',\n",
       "       'Avrasya Üniversitesi', 'Ankara Medipol Üniversitesi',\n",
       "       'Kayseri Üniversitesi', 'Fatih Sultan Mehmet Üniversitesi',\n",
       "       'Bartın Üniversitesi', 'İstanbul Sağlık ve Teknoloji Üniversitesi',\n",
       "       'İbn Haldun Üniversitesi', 'Sanko Üniversitesi',\n",
       "       'Ostim Teknik Üniversitesi', 'Milli Savunma Üniversitesi (Askerî)',\n",
       "       'Nuh Naci Yazgan Üniversitesi', 'İstanbul Topkapı Üniversitesi',\n",
       "       'Sivas Bilim ve Teknoloji Üniversitesi',\n",
       "       'İzmir Tınaztepe Üniversitesi', 'Toros Üniversitesi',\n",
       "       'İzmir Kavram Meslek Yüksekokulu',\n",
       "       'Kahramanmaraş İstiklal Üniversitesi',\n",
       "       'Yüksek İhtisas Üniversitesi',\n",
       "       'Ankara Müzik ve Güzel Sanatlar Üniversitesi'], dtype=object)"
      ]
     },
     "execution_count": 254,
     "metadata": {},
     "output_type": "execute_result"
    }
   ],
   "source": [
    "df_test['uni_adi'].unique()"
   ]
  },
  {
   "cell_type": "code",
   "execution_count": 255,
   "id": "2649c728-0b80-4a99-aba0-4f6c22289db4",
   "metadata": {},
   "outputs": [
    {
     "data": {
      "text/plain": [
       "uni_adi\n",
       "İstanbul Teknik Üniversitesi                   322\n",
       "Yıldız Teknik Üniversitesi                     316\n",
       "Marmara Üniversitesi                           305\n",
       "Boğaziçi Üniversitesi                          277\n",
       "İstanbul Üniversitesi                          259\n",
       "                                              ... \n",
       "İzmir Tınaztepe Üniversitesi                     2\n",
       "İzmir Kavram Meslek Yüksekokulu                  2\n",
       "Yüksek İhtisas Üniversitesi                      2\n",
       "Milli Savunma Üniversitesi (Askerî)              1\n",
       "Ankara Müzik ve Güzel Sanatlar Üniversitesi      1\n",
       "Name: count, Length: 203, dtype: int64"
      ]
     },
     "execution_count": 255,
     "metadata": {},
     "output_type": "execute_result"
    }
   ],
   "source": [
    "df_test['uni_adi'].value_counts()"
   ]
  },
  {
   "cell_type": "code",
   "execution_count": 256,
   "id": "c520565c-edf1-4db1-b3e0-d56b93aba4d8",
   "metadata": {},
   "outputs": [],
   "source": [
    "df_test[\"uni_adi\"] = df_test[\"uni_adi\"].apply(temizle_uni)"
   ]
  },
  {
   "cell_type": "code",
   "execution_count": 257,
   "id": "f381b562-2d78-418a-a209-b70aee764360",
   "metadata": {},
   "outputs": [
    {
     "data": {
      "text/plain": [
       "uni_adi\n",
       "İstanbul Üniversitesi                          383\n",
       "İstanbul Teknik Üniversitesi                   322\n",
       "Yıldız Teknik Üniversitesi                     316\n",
       "Marmara Üniversitesi                           305\n",
       "Boğaziçi Üniversitesi                          277\n",
       "                                              ... \n",
       "Demiroğlu Bilim Üniversitesi                     2\n",
       "İzmir Tınaztepe Üniversitesi                     2\n",
       "İzmir Kavram Meslek Yüksekokulu                  2\n",
       "Yüksek İhtisas Üniversitesi                      2\n",
       "Ankara Müzik ve Güzel Sanatlar Üniversitesi      1\n",
       "Name: count, Length: 193, dtype: int64"
      ]
     },
     "execution_count": 257,
     "metadata": {},
     "output_type": "execute_result"
    }
   ],
   "source": [
    "df_test['uni_adi'].value_counts()"
   ]
  },
  {
   "cell_type": "code",
   "execution_count": 258,
   "id": "ca9025ad-ed6b-410b-b2e3-0f2c9e9c3684",
   "metadata": {},
   "outputs": [],
   "source": [
    "# df_test['uni_adi'] = df_test['uni_adi'].str.lower().str.translate(turkish_characters)"
   ]
  },
  {
   "cell_type": "code",
   "execution_count": 259,
   "id": "f8689839-bad4-4818-8236-95872194135e",
   "metadata": {},
   "outputs": [],
   "source": [
    "# df_test['uni_adi'] = df_test['uni_adi'].str.replace('[,/-]', ' ', regex=True).str.strip()"
   ]
  },
  {
   "cell_type": "code",
   "execution_count": 260,
   "id": "84cd29c7-0baf-4740-91fe-656b62ef1228",
   "metadata": {},
   "outputs": [],
   "source": [
    "df_test['uni_adi'] = le.fit_transform(df_test['uni_adi'])"
   ]
  },
  {
   "cell_type": "markdown",
   "id": "37d7788d-69a7-43fd-8f98-4041dbf81c2d",
   "metadata": {},
   "source": [
    "### uni_turu"
   ]
  },
  {
   "cell_type": "code",
   "execution_count": 261,
   "id": "b3e02c03-f4d9-4d82-bedb-4fa96f948d64",
   "metadata": {},
   "outputs": [
    {
     "data": {
      "text/plain": [
       "array(['Devlet', 'Özel'], dtype=object)"
      ]
     },
     "execution_count": 261,
     "metadata": {},
     "output_type": "execute_result"
    }
   ],
   "source": [
    "df_test['uni_turu'].unique()"
   ]
  },
  {
   "cell_type": "code",
   "execution_count": 262,
   "id": "09bb241f-1a46-43a0-a68e-3be416be49e5",
   "metadata": {},
   "outputs": [],
   "source": [
    "df_test['uni_turu'] = df_test['uni_turu'].str.lower()"
   ]
  },
  {
   "cell_type": "code",
   "execution_count": 263,
   "id": "278238ff-c20f-4302-8032-e4cce43a12c2",
   "metadata": {},
   "outputs": [],
   "source": [
    "tur_map = {'devlet': 0, \"özel\": 1}\n",
    "\n",
    "df_test['uni_turu'] = df_test['uni_turu'].map(tur_map).astype(int)"
   ]
  },
  {
   "cell_type": "markdown",
   "id": "ae5afa12-0a02-442d-a701-ba041695da1c",
   "metadata": {},
   "source": [
    "### burs_yuzdesi"
   ]
  },
  {
   "cell_type": "code",
   "execution_count": 264,
   "id": "6be65e73-5d11-46a3-ad50-13bf3ca28d47",
   "metadata": {},
   "outputs": [
    {
     "data": {
      "text/plain": [
       "array([nan])"
      ]
     },
     "execution_count": 264,
     "metadata": {},
     "output_type": "execute_result"
    }
   ],
   "source": [
    "df_test['burs_yuzdesi'].unique()"
   ]
  },
  {
   "cell_type": "code",
   "execution_count": 265,
   "id": "1e2b77a9-2154-40ba-97f3-3d75e1650496",
   "metadata": {},
   "outputs": [],
   "source": [
    "df_test['burs_yuzdesi'] = df_test['burs_yuzdesi'].fillna(0)"
   ]
  },
  {
   "cell_type": "code",
   "execution_count": 266,
   "id": "b0fba3df-4243-4a72-858a-e898bac74023",
   "metadata": {},
   "outputs": [],
   "source": [
    "df_test['burs_yuzdesi'] = df_test['burs_yuzdesi'].astype(int)"
   ]
  },
  {
   "cell_type": "markdown",
   "id": "687de0e9-7b6a-4fee-82c6-75896b338220",
   "metadata": {},
   "source": [
    "### bursu_varmi"
   ]
  },
  {
   "cell_type": "code",
   "execution_count": 267,
   "id": "2c5933cf-4005-4408-89f4-910b1e8b82b7",
   "metadata": {},
   "outputs": [
    {
     "data": {
      "text/plain": [
       "array(['Hayır', 'Evet'], dtype=object)"
      ]
     },
     "execution_count": 267,
     "metadata": {},
     "output_type": "execute_result"
    }
   ],
   "source": [
    "df_test['bursu_varmi'].unique()"
   ]
  },
  {
   "cell_type": "code",
   "execution_count": 268,
   "id": "8329b110-3fdc-4a3f-a9b6-3ad42b6f8716",
   "metadata": {},
   "outputs": [],
   "source": [
    "df_test['bursu_varmi'] = df_test['bursu_varmi'].str.lower()"
   ]
  },
  {
   "cell_type": "code",
   "execution_count": 269,
   "id": "10eda946-7ffb-4743-9ff9-9aecc2dd9562",
   "metadata": {},
   "outputs": [],
   "source": [
    "burs_var_mapp = {'evet': 1, 'hayır': 0}\n",
    "df_test['bursu_varmi'] = df_test['bursu_varmi'].map(burs_var_mapp).astype(int)"
   ]
  },
  {
   "cell_type": "markdown",
   "id": "78433a7a-13d1-4712-b596-7cf294a59eb8",
   "metadata": {},
   "source": [
    "### bolum"
   ]
  },
  {
   "cell_type": "code",
   "execution_count": 270,
   "id": "d9439e94-d7bb-4812-81f8-e2637f817742",
   "metadata": {
    "scrolled": true
   },
   "outputs": [
    {
     "data": {
      "text/plain": [
       "array(['Sosyal Hizmet', 'Uluslararası İlişkiler', 'Diğer',\n",
       "       'İslami İlimler', 'İşletme', 'Bilgisayar Mühendisliği',\n",
       "       'Hemşirelik', 'Çocuk Gelişimi', 'İlahiyat', 'Almanca Öğretmenliği',\n",
       "       'İlköğretim Matematik Öğretmenliği',\n",
       "       'Metalurji ve Malzeme Mühendisliği', 'Endüstri Mühendisliği',\n",
       "       'Bitki Koruma', 'Hukuk', 'Matematik', 'İktisat',\n",
       "       'Elektrik-Elektronik Mühendisliği', 'Tıp', 'Psikoloji',\n",
       "       'Hemşirelik ve Sağlık Hizmetleri', 'Özel Eğitim Öğretmenliği',\n",
       "       'Biyomühendislik', 'Beden Eğitimi ve Spor Öğretmenliği',\n",
       "       'Rehberlik ve Psikolojik Danışmanlık', 'Okul Öncesi Öğretmenliği',\n",
       "       'Hidrojeoloji Mühendisliği', 'Bilişim Sistemleri Mühendisliği',\n",
       "       'Moleküler Biyoloji ve Genetik',\n",
       "       'Bilgisayar Bilimi ve Mühendisliği', 'Yazılım Mühendisliği',\n",
       "       'İnşaat Mühendisliği', 'Sosyoloji', 'Diş Hekimliği',\n",
       "       'Beslenme ve Diyetetik', 'Uçak Mühendisliği', 'Eczacılık',\n",
       "       'İngiliz Dili ve Edebiyatı',\n",
       "       'Elektronik ve Haberleşme Mühendisliği', 'Türk Dili ve Edebiyatı',\n",
       "       'Uluslararası Ticaret ve İşletmecilik',\n",
       "       'Halkla İlişkiler ve Reklamcılık', 'Biyomedikal Mühendisliği',\n",
       "       'Şehir ve Bölge Planlama', 'Müzik Öğretmenliği', 'Sağlık Yönetimi',\n",
       "       'Türk Dili ve Edebiyatı Öğretmenliği', 'Yönetim Bilimleri',\n",
       "       'Makine Mühendisliği', 'Endüstriyel Tasarım',\n",
       "       'Fen Bilgisi Öğretmenliği', 'Sosyal Bilgiler Öğretmenliği',\n",
       "       'Acil Yardım ve Afet Yönetimi', 'Siyaset Bilimi ve Kamu Yönetimi',\n",
       "       'Ebelik', 'Muhasebe', 'Bilişim Sistemleri ve Teknolojileri',\n",
       "       'Spor Yöneticiliği', 'Matematik Mühendisliği', 'Gıda Mühendisliği',\n",
       "       'Yönetim Bilişim Sistemleri', 'Uluslararası Ticaret',\n",
       "       'Antrenörlük Eğitimi', 'Bilgisayar ve Yazılım Mühendisliği',\n",
       "       'Fizyoterapi ve Rehabilitasyon',\n",
       "       'Siyaset Bilimi ve Uluslararası İlişkiler', 'Havacılık Yönetimi',\n",
       "       'Fizik Mühendisliği', 'Dijital Oyun Tasarımı',\n",
       "       'Jeofizik Mühendisliği', 'Mekatronik Mühendisliği',\n",
       "       'Kontrol ve Otomasyon Mühendisliği',\n",
       "       'Yaban Hayatı Ekolojisi ve Yönetimi', 'Çevre Mühendisliği',\n",
       "       'Odyoloji', 'İşletme Mühendisliği', 'İngilizce Öğretmenliği',\n",
       "       'Kimya', 'Endüstriyel Tasarım Mühendisliği', 'Pazarlama', 'Fizik',\n",
       "       'Turizm İşletmeciliği', 'Kimya Öğretmenliği',\n",
       "       'Restorasyon ve Konservasyon', 'Ekonomi', 'Kimya Mühendisliği',\n",
       "       'Enerji Sistemleri Mühendisliği', 'Biyoloji',\n",
       "       'Gastronomi ve Mutfak Sanatları', 'Tarih', 'Siyaset Bilimi',\n",
       "       'Uzay Mühendisliği',\n",
       "       'Bilgisayar ve Öğretim Teknolojileri Öğretmenliği', 'Sanat Tarihi',\n",
       "       'Görsel Sanatlar Öğretmenliği', 'Enerji Mühendisliği',\n",
       "       'Lojistik Yönetimi', 'Görsel İletişim Tasarımı',\n",
       "       'Petrol ve Doğalgaz Mühendisliği', 'Radyo,Televizyon ve Sinema',\n",
       "       'İletişim Sanatları', 'İletişim ve Tasarım',\n",
       "       'Elektrik Mühendisliği', 'Müzikoloji',\n",
       "       'Çalışma Ekonomisi ve Endüstri İlişkileri', 'Mimarlık',\n",
       "       'Antrenörlük', 'Elektronik Mühendisliği', 'Veteriner',\n",
       "       'Spor Bilimleri', 'İstatistik', 'Muhasebe ve Finans Yönetimi',\n",
       "       'Peyzaj Mimarlığı', 'Medya ve Görsel Sanatlar',\n",
       "       'Genetik ve Biyomühendislik', 'Maliye',\n",
       "       'Adli Bilişim Mühendisliği', 'Toprak Bilimi ve Bitki Besleme',\n",
       "       'Gemi İnşaatı ve Gemi Makineleri Mühendisliği',\n",
       "       'Uçak Gövde ve Motor Bakımı', 'Uluslararası Ticaret ve Finansman',\n",
       "       'Matematik Öğretmenliği', 'Türkçe Öğretmenliği',\n",
       "       'Rekreasyon Yönetimi', 'İmalat Mühendisliği', 'Orman Mühendisliği',\n",
       "       'Halkla İlişkiler ve Tanıtım',\n",
       "       'Tarım Makineleri ve Teknolojileri Mühendisliği', 'Coğrafya',\n",
       "       'İşletme-Ekonomi', 'Adli Bilimler',\n",
       "       'Mütercim-Tercümanlık (İngilizce)', 'İletişim Tasarımı', 'Felsefe',\n",
       "       'İç Mimarlık', 'Arap Dili ve Edebiyatı',\n",
       "       'Malzeme Bilimi ve Mühendisliği',\n",
       "       'Seyahat İşletmeciliği ve Turizm Rehberliği',\n",
       "       'Geomatik Mühendisliği', 'Çizgi Film ve Animasyon',\n",
       "       'Gümrük İşletme', 'Bahçe Bitkileri', 'Sinema ve Televizyon',\n",
       "       'Uluslararası İşletmecilik ve Ticaret', 'Grafik Tasarım',\n",
       "       'Gerontoloji', 'Fransız Dili ve Edebiyatı', 'Grafik Tasarımı',\n",
       "       'Reklamcılık', 'İşletme Enformatiği', 'Bankacılık ve Finans',\n",
       "       'Gıda Teknolojisi', 'Sınıf Öğretmenliği', 'Ekonomi ve Finans',\n",
       "       'İç Mimarlık ve Çevre Tasarımı', 'Bankacılık ve Sigortacılık',\n",
       "       'Havacılık ve Uzay Mühendisliği', 'Uçak Bakım ve Onarım',\n",
       "       'Dil ve Konuşma Terapisi', 'İnsan Kaynakları Yönetimi',\n",
       "       'Matematik ve Bilgisayar Bilimleri', 'Yazılım Geliştirme',\n",
       "       'Radyo ve Televizyon', 'Biyokimya', 'Kamu Yönetimi',\n",
       "       'Aktüerya Bilimleri', 'Lojistik', 'Müzik',\n",
       "       'Mütercim-Tercümanlık (Arapça)', 'Gazetecilik', 'Bilim Tarihi',\n",
       "       'Turizm Rehberliği', 'Nanoteknoloji Mühendisliği',\n",
       "       'Arapça Mütercim ve Tercümanlık', 'Tarım Ekonomisi',\n",
       "       'Ağaç İşleri Endüstri Mühendisliği',\n",
       "       'Fransızca Mütercim veTercümanlık',\n",
       "       'Uluslararası Ticaret ve Lojistik', 'Fransızca Öğretmenliği',\n",
       "       'Moleküler Biyoteknoloji', 'Bilgisayar Bilimleri',\n",
       "       'İşletme Yönetimi', 'Denizcilik İşletmeleri Yönetimi',\n",
       "       'İş Sağlığı ve Güvenliği', 'Harita Mühendisliği',\n",
       "       'Uçak Gövde-Motor Bakım', 'Kültür ve İletişim Bilimleri',\n",
       "       'Yerel Yönetimler', 'Bilgi Güvenliği Teknolojisi',\n",
       "       'Tarla Bitkileri', 'Gastronomi', 'Maden Mühendisliği',\n",
       "       'Basım Teknolojileri', 'Alman Dili ve Edebiyatı',\n",
       "       'Bilgisayar Teknolojisi ve Bilişim Sistemleri',\n",
       "       'Yeni Medya ve İletişim', 'Resim-İş Öğretmenliği',\n",
       "       'Yapay Zeka Mühendisliği', 'Muhasebe Bilgi Sistemleri', 'Grafik',\n",
       "       'İngilizce Mütercim ve Tercümanlık', 'Nükleer Enerji Mühendisliği',\n",
       "       'Rekreasyon', 'Farsça Mütercim ve Tercümanlık',\n",
       "       'Mütercim ve Tercümanlık', 'Ortez-Protez', 'Girişimcilik',\n",
       "       'Ekonometri', 'Perfüzyon', 'Rus Dili ve Edebiyatı',\n",
       "       'Amerikan Kültürü ve Edebiyatı', 'Finans ve Bankacılık',\n",
       "       'Halkla İlişkiler', 'Görsel Sanatlar', 'Yeni Medya',\n",
       "       'Tapu Kadastro', 'Jeoloji Mühendisliği', 'Tekstil',\n",
       "       'Uzay Bilimleri ve Teknolojileri',\n",
       "       'Sigortacılık ve Sosyal Güvenlik', 'Cevher Hazırlama Mühendisliği',\n",
       "       'Deniz Ulaştırma İşletme Mühendisliği', 'Tekstil ve Moda Tasarımı',\n",
       "       'Müzik Teknolojileri', 'Fizik Öğretmenliği',\n",
       "       'Moleküler Biyoloji, Genetik ve Biyomühendislik', 'Biyoteknoloji',\n",
       "       'İstatistik ve Bilgisayar Bilimleri',\n",
       "       'Gemi ve Deniz Teknolojisi Mühendisliği',\n",
       "       'Havacılık Elektrik ve Elektroniği', 'Resim',\n",
       "       'Hayvansal Üretim ve Teknolojileri', 'Tekstil Mühendisliği',\n",
       "       'Endüstri Ürünleri Tasarımı', 'Optik ve Akustik Mühendisliği',\n",
       "       'Arapça Öğretmenliği', 'Heykel',\n",
       "       'Çağdaş Türk Lehçeleri ve Edebiyatları', 'Arkeoloji',\n",
       "       'Endüstri ve Sistem Mühendisliği', 'Biyoloji Öğretmenliği',\n",
       "       'Uluslararası Çalışmalar', 'Yeni Medya ve Gazetecilik',\n",
       "       'Otomotiv Mühendisliği', 'Sanat Yönetimi', 'Ses Eğitimi',\n",
       "       'Zootekni', 'Tarımsal Genetik Mühendisliği',\n",
       "       'Bilgi ve Belge Yönetimi', 'Meteoroloji Mühendisliği',\n",
       "       'İletişim Bilimleri', 'Elektronik Ticaret ve Teknoloji Yönetimi',\n",
       "       'Sermaye Piyasası', 'Mütercim Tercümanlık (Almanca/İngilizce)',\n",
       "       'Uluslararası İşletme Yönetimi', 'Almanca Mütercim ve Tercümanlık',\n",
       "       'Görsel İletişim', 'Film Tasarım ve Yazarlık', 'Müzik Bilimleri',\n",
       "       'Biyosistem Mühendisliği', 'İslam İktisadı ve Finans',\n",
       "       'Malzeme Bilimi ve Teknolojileri', 'Su Ürünleri Mühendisliği',\n",
       "       'Astronomi ve Uzay Bilimleri', 'Rusça Mütercim ve Tercümanlık',\n",
       "       'Gayrimenkul Geliştirme ve Yönetimi', 'Tıp Mühendisliği', 'Piyano',\n",
       "       'Uluslararası Finans ve Bankacılık',\n",
       "       'Kurgu-Ses ve Görüntü Yönetimi',\n",
       "       'Görsel Sanatlar ve Görsel İletişim Tasarımı', 'Medya ve İletişim',\n",
       "       'Çalgı Eğitimi', 'Televizyon Haberciliği ve Programcılığı',\n",
       "       'Basın ve Yayın', 'Moda ve Tekstil Tasarımı', 'Antropoloji',\n",
       "       'İletişim', 'Süt Teknolojisi', 'Tarih Öğretmenliği',\n",
       "       'Malzeme Bilimi ve Nanoteknoloji Mühendisliği', 'Sahne Tasarımı',\n",
       "       'Turizm İşletmeciliği ve Otelcilik',\n",
       "       'Eski Yunan Dili ve Edebiyatı', 'Fotonik',\n",
       "       'Elektronik Ticaret ve Yönetimi', 'İşletme Bilgi Yönetimi',\n",
       "       'Film Tasarımı ve Yazarlığı', 'İletişim Tasarımı ve Yönetimi',\n",
       "       'Raylı Sistemler Mühendisliği', 'Japonca Öğretmenliği',\n",
       "       'Uluslararası Ticaret ve Finans', 'Türk Müziği Temel Bilimler',\n",
       "       'Güvenlik Yönetimi (Askeri Yükseköğretim Kurumları)',\n",
       "       'Uzay ve Uydu Mühendisliği', 'Biyoteknoloji ve Moleküler Biyoloji',\n",
       "       'Su Bilimleri ve Mühendisliği', 'Yapay Zeka ve Veri Mühendisliği',\n",
       "       'Balıkçılık Teknolojisi Mühendisliği',\n",
       "       'Kimya-Biyoloji Mühendisliği', 'Türk Halkbilimi',\n",
       "       'Uluslararası Girişimcilik', 'Uçak ve Uzay Mühendisliği',\n",
       "       'Ulaştırma ve Lojistik', 'Uluslararası Finans', 'Dilbilim',\n",
       "       'Engellilerde Egzersiz ve Spor Bilimleri', 'Çeviribilimi',\n",
       "       'Fotoğraf', 'Orman Endüstrisi Mühendisliği', 'Ergoterapi',\n",
       "       'Temel Bilimler', 'Geleneksel Türk Sanatları',\n",
       "       'Uluslararası Ticaret ve Lojistik Yönetimi',\n",
       "       'İletişim ve Tasarımı', 'Mütercim-Tercümanlık', 'Takı Tasarımı',\n",
       "       'Müzik (Piyano, Yaylı Çalgılar, Nefesli Çalgılar ve Vurma Çalgılar, Şan, Teori-Kompozisyon)',\n",
       "       'Seramik', 'Ortez ve Protez', 'Oyunculuk',\n",
       "       'Aktüerya ve Risk Yönetimi', 'Karşılaştırmalı Edebiyat',\n",
       "       'Mekatronik Sistemler Mühendisliği', 'Çeviribilim',\n",
       "       'Egzersiz ve Spor Bilimleri', 'Moda Tasarımı',\n",
       "       'Sanat ve Kültür Yönetimi', 'İngiliz Dilbilimi', 'Bankacılık',\n",
       "       'Türk Müziği', 'Kore Dili ve Edebiyatı',\n",
       "       'Gemi Makineleri İşletme Mühendisliği',\n",
       "       'Azerbaycan Türkçesi ve Edebiyatı',\n",
       "       'Mütercim Tercümanlık (İngilizce, Fransızca, Türkçe)',\n",
       "       'Reklam Tasarımı ve İletişimi',\n",
       "       'Protohistorya ve Önasya Arkeolojisi', 'Biyoenformatik ve Genetik',\n",
       "       'Coğrafya Öğretmenliği', 'Organik Tarım İşletmeciliği',\n",
       "       'Uluslararası Lojistik ve Taşımacılık', 'Grafik Sanatları',\n",
       "       'Aile ve Tüketici Bilimleri', 'Çin Dili ve Edebiyatı',\n",
       "       'Turizm ve Otel İşletmeciliği', 'Pilotaj', 'Muhasebe ve Denetim',\n",
       "       'Japon Dili ve Edebiyatı', 'İspanyol Dili ve Edebiyatı'],\n",
       "      dtype=object)"
      ]
     },
     "execution_count": 270,
     "metadata": {},
     "output_type": "execute_result"
    }
   ],
   "source": [
    "df_test['bolum'].unique()"
   ]
  },
  {
   "cell_type": "code",
   "execution_count": 271,
   "id": "70e3d265-d5e6-4021-9d1e-5cb63a8750a3",
   "metadata": {},
   "outputs": [
    {
     "data": {
      "text/plain": [
       "bolum\n",
       "Bilgisayar Mühendisliği               817\n",
       "Endüstri Mühendisliği                 635\n",
       "Tıp                                   456\n",
       "İşletme                               425\n",
       "Hukuk                                 383\n",
       "                                     ... \n",
       "Japonca Öğretmenliği                    1\n",
       "İstatistik ve Bilgisayar Bilimleri      1\n",
       "Film Tasarımı ve Yazarlığı              1\n",
       "İşletme Bilgi Yönetimi                  1\n",
       "İspanyol Dili ve Edebiyatı              1\n",
       "Name: count, Length: 349, dtype: int64"
      ]
     },
     "execution_count": 271,
     "metadata": {},
     "output_type": "execute_result"
    }
   ],
   "source": [
    "df_test['bolum'].value_counts()"
   ]
  },
  {
   "cell_type": "code",
   "execution_count": 272,
   "id": "e8f812e7-0711-4e27-a85e-d3d4c29067e3",
   "metadata": {},
   "outputs": [],
   "source": [
    "df_test[\"bolum\"] = df_test[\"bolum\"].apply(temizle_bolum)"
   ]
  },
  {
   "cell_type": "code",
   "execution_count": 273,
   "id": "438ce0d1-5f04-49ac-9b95-fe52e11d47de",
   "metadata": {},
   "outputs": [
    {
     "data": {
      "text/plain": [
       "bolum\n",
       "Bilgisayar Mühendisliği           817\n",
       "Endüstri Mühendisliği             635\n",
       "İşletme                           533\n",
       "Tıp                               460\n",
       "Elektrik                          404\n",
       "                                 ... \n",
       "Elektronik Ticaret ve Yönetimi      1\n",
       "Bilgi Yönetimi                      1\n",
       "Film Tasarımı ve Yazarlığı          1\n",
       "Japonca Öğretmenliği                1\n",
       "İspanyol Dili ve Edebiyatı          1\n",
       "Name: count, Length: 209, dtype: int64"
      ]
     },
     "execution_count": 273,
     "metadata": {},
     "output_type": "execute_result"
    }
   ],
   "source": [
    "df_test['bolum'].value_counts()"
   ]
  },
  {
   "cell_type": "code",
   "execution_count": 274,
   "id": "2477e2f2-a790-48dd-af78-191da25cd14d",
   "metadata": {},
   "outputs": [],
   "source": [
    "df_test['bolum'] = le.fit_transform(df_test['bolum'])"
   ]
  },
  {
   "cell_type": "markdown",
   "id": "b12c9604-43a9-45c3-8f2c-7a74ebd4000b",
   "metadata": {},
   "source": [
    "### uni_kacinci_sinif"
   ]
  },
  {
   "cell_type": "code",
   "execution_count": 275,
   "id": "f6ca149c-5ad2-4047-b91b-a2c5d2633486",
   "metadata": {},
   "outputs": [
    {
     "data": {
      "text/plain": [
       "array(['1', '3', '2', '4', 'Hazırlık', '5', '6'], dtype=object)"
      ]
     },
     "execution_count": 275,
     "metadata": {},
     "output_type": "execute_result"
    }
   ],
   "source": [
    "df_test['uni_kacinci_sinif'].unique()"
   ]
  },
  {
   "cell_type": "code",
   "execution_count": 276,
   "id": "0a2dc677-056c-4a90-a90a-ea0ffc8a779f",
   "metadata": {},
   "outputs": [],
   "source": [
    "uni_sin_map2 = {'1': 1, '2': 2, '3': 3,'4': 4, '5': 5,'6':6,\"Hazırlık\":0}\n",
    "\n",
    "df_test['uni_kacinci_sinif'] = df_test['uni_kacinci_sinif'].map(uni_sin_map2).astype(int)"
   ]
  },
  {
   "cell_type": "markdown",
   "id": "4f21c99e-5849-45af-9ba1-fb724470b6fe",
   "metadata": {},
   "source": [
    "### uni_not_ort"
   ]
  },
  {
   "cell_type": "code",
   "execution_count": 277,
   "id": "4c62361b-c5a0-4321-a2f8-f5b67a5283aa",
   "metadata": {},
   "outputs": [
    {
     "data": {
      "text/plain": [
       "array(['2.50 - 2.99', 'Hazırlığım', '3.00 - 3.49', '1.80 - 2.49',\n",
       "       '3.50 - 4.00', '0 - 1.79'], dtype=object)"
      ]
     },
     "execution_count": 277,
     "metadata": {},
     "output_type": "execute_result"
    }
   ],
   "source": [
    "df_test['uni_not_ort'].unique()"
   ]
  },
  {
   "cell_type": "code",
   "execution_count": 278,
   "id": "696ef083-7417-4061-858d-424e38f310f6",
   "metadata": {},
   "outputs": [],
   "source": [
    "uni_not_mapping2 = {\n",
    "    'Hazırlığım': 0,\n",
    "    '0 - 1.79': 0,\n",
    "    '1.80 - 2.49':1,\n",
    "    \"2.50 - 2.99\":2,\n",
    "    '3.00 - 3.49':3,\n",
    "    '3.50 - 4.00':4,\n",
    "}\n",
    "\n",
    "df_test['uni_not_ort'] = df_test['uni_not_ort'].map(uni_not_mapping2).astype(int)"
   ]
  },
  {
   "cell_type": "markdown",
   "id": "03cb1ca1-2ca5-4c74-a7ea-f0b60aad31c1",
   "metadata": {},
   "source": [
    "### \"baska_uni_mezunmu\""
   ]
  },
  {
   "cell_type": "code",
   "execution_count": 279,
   "id": "121407a9-a1e2-4708-9146-207406230ad6",
   "metadata": {},
   "outputs": [
    {
     "data": {
      "text/plain": [
       "array([nan])"
      ]
     },
     "execution_count": 279,
     "metadata": {},
     "output_type": "execute_result"
    }
   ],
   "source": [
    "df_test['baska_uni_mezunmu'].unique()"
   ]
  },
  {
   "cell_type": "code",
   "execution_count": 280,
   "id": "939b3d6e-7d2b-4364-8ef0-f53091294a01",
   "metadata": {},
   "outputs": [],
   "source": [
    "df_test['baska_uni_mezunmu'] = df_test['baska_uni_mezunmu'].fillna('hayır')"
   ]
  },
  {
   "cell_type": "code",
   "execution_count": 281,
   "id": "d873ceb0-8d7a-4e89-bb10-6784b8b39c1a",
   "metadata": {},
   "outputs": [],
   "source": [
    "baska_uni2 = {'hayır': 0}\n",
    "\n",
    "df_test['baska_uni_mezunmu'] = df_test['baska_uni_mezunmu'].map(baska_uni2).astype(int)"
   ]
  },
  {
   "cell_type": "markdown",
   "id": "f3b5517b-be4d-40a2-85d1-cdec9309b419",
   "metadata": {},
   "source": [
    "### lise_adi"
   ]
  },
  {
   "cell_type": "code",
   "execution_count": 282,
   "id": "fb732d3e-6fb7-4a68-aebb-c5b044895aa4",
   "metadata": {},
   "outputs": [
    {
     "data": {
      "text/plain": [
       "array(['Amasya Suluova Şehit Muharrem Saygun Anadolu Lisesi',\n",
       "       'Açık Öğretim Lisesi', 'Özel Aşama anadolu lisesi', ...,\n",
       "       'mehmet rüştü uzel mesleki teknik anadolu lisesi',\n",
       "       'Prof. Dr. Ömer Dinçer Kız Anadolu İmam Hatip Lisesi',\n",
       "       'Nokta tek koleji'], dtype=object)"
      ]
     },
     "execution_count": 282,
     "metadata": {},
     "output_type": "execute_result"
    }
   ],
   "source": [
    "df_test['lise_adi'].unique()"
   ]
  },
  {
   "cell_type": "code",
   "execution_count": 283,
   "id": "9a811cc2-4357-4534-969c-b2a7010668f7",
   "metadata": {},
   "outputs": [],
   "source": [
    "df_test['lise_adi'] = le.fit_transform(df_test['lise_adi'])"
   ]
  },
  {
   "cell_type": "markdown",
   "id": "13084eda-5e34-4db1-9627-27127e3cdf76",
   "metadata": {},
   "source": [
    "### lise_diger"
   ]
  },
  {
   "cell_type": "code",
   "execution_count": 284,
   "id": "05ba3a69-3114-4b48-83ea-bf61df3cb9b2",
   "metadata": {},
   "outputs": [],
   "source": [
    "df_test['lise_diger'] = df_test['lise_diger'].fillna('-')"
   ]
  },
  {
   "cell_type": "code",
   "execution_count": 285,
   "id": "03888287-6a89-495b-b577-508f35e5a534",
   "metadata": {},
   "outputs": [],
   "source": [
    "df_test['lise_diger'] = le.fit_transform(df_test['lise_diger'])"
   ]
  },
  {
   "cell_type": "code",
   "execution_count": 286,
   "id": "781cd0ac-fb6c-436f-ad25-76b580b71225",
   "metadata": {},
   "outputs": [
    {
     "data": {
      "text/plain": [
       "array([0])"
      ]
     },
     "execution_count": 286,
     "metadata": {},
     "output_type": "execute_result"
    }
   ],
   "source": [
    "df_test['lise_diger'].unique()"
   ]
  },
  {
   "cell_type": "markdown",
   "id": "6678e2e7-99ec-44c6-8fb4-4fb9b15aaaaf",
   "metadata": {},
   "source": [
    "### lise_sehir"
   ]
  },
  {
   "cell_type": "code",
   "execution_count": 287,
   "id": "3d9ebfc3-773a-4b90-9364-5027defc9dd4",
   "metadata": {},
   "outputs": [
    {
     "data": {
      "text/plain": [
       "array(['Amasya', 'Konya', 'İstanbul', 'Mardin', 'Samsun', 'Isparta',\n",
       "       'Hatay', 'Ordu', 'Adıyaman', 'Bursa', 'Edirne', 'Antalya',\n",
       "       'Kahramanmaraş', 'Ankara', 'Gaziantep', 'Kütahya', 'Hakkari',\n",
       "       'Eskişehir', 'Diyarbakır', 'Manisa', 'Osmaniye', 'Sakarya',\n",
       "       'Tokat', 'Erzurum', 'Batman', 'Kayseri', 'Mersin', 'Malatya',\n",
       "       'Sivas', 'Denizli', 'Şanlıurfa', 'Zonguldak', 'Adana', 'Yalova',\n",
       "       'KKTC', 'Rize', 'Bingöl', 'Van', 'Siirt', 'Aksaray', 'Şırnak',\n",
       "       'İzmir', 'Elazığ', 'Muğla', 'Aydın', 'Ağrı', 'Muş', 'Tekirdağ',\n",
       "       'Karaman', 'Kırşehir', 'Tunceli', 'Kocaeli', 'Balıkesir', 'Çorum',\n",
       "       'Giresun', 'Niğde', 'Afyonkarahisar', 'Kırklareli', 'Bitlis',\n",
       "       'Yurt dışı', 'Kars', 'Bolu', 'Trabzon', 'Burdur', 'Kilis', 'Iğdır',\n",
       "       'Nevşehir', 'Düzce', 'Artvin', 'Karabük', 'Kastamonu', 'Gümüşhane',\n",
       "       'Bilecik', 'Kırıkkale', 'Çankırı', 'Yozgat', 'Çanakkale', 'Uşak',\n",
       "       'Ardahan', 'Sinop', 'Bayburt', 'Bartın', 'Erzincan'], dtype=object)"
      ]
     },
     "execution_count": 287,
     "metadata": {},
     "output_type": "execute_result"
    }
   ],
   "source": [
    "df_test['lise_sehir'].unique()"
   ]
  },
  {
   "cell_type": "code",
   "execution_count": 288,
   "id": "ad024634-6909-4237-9f18-27cdeea6ad5e",
   "metadata": {},
   "outputs": [],
   "source": [
    "df_test[\"lise_sehir\"] = df_test[\"lise_sehir\"].apply(temizle_sehir)"
   ]
  },
  {
   "cell_type": "code",
   "execution_count": 289,
   "id": "10820de8-0bf9-4dab-891c-35e4f610203a",
   "metadata": {},
   "outputs": [],
   "source": [
    "df_test['lise_sehir'] = le.fit_transform(df_test['lise_sehir'])"
   ]
  },
  {
   "cell_type": "markdown",
   "id": "1fd64f2c-b951-450e-8472-7a406cb43610",
   "metadata": {},
   "source": [
    "### lise_turu"
   ]
  },
  {
   "cell_type": "code",
   "execution_count": 290,
   "id": "fb2a5d75-ec0f-4557-bc50-1fbdbcfb5524",
   "metadata": {},
   "outputs": [
    {
     "data": {
      "text/plain": [
       "array(['Devlet', 'Özel'], dtype=object)"
      ]
     },
     "execution_count": 290,
     "metadata": {},
     "output_type": "execute_result"
    }
   ],
   "source": [
    "df_test['lise_turu'].unique()"
   ]
  },
  {
   "cell_type": "code",
   "execution_count": 291,
   "id": "6eead965-0642-4e4a-b497-55a5976d824b",
   "metadata": {},
   "outputs": [],
   "source": [
    "lise_tur_map = {'Devlet': 0, \"Özel\": 1}\n",
    "\n",
    "df_test['lise_turu'] = df_test['lise_turu'].map(lise_tur_map).astype(int)"
   ]
  },
  {
   "cell_type": "markdown",
   "id": "68a753ce-f4e7-4029-a48a-fad9f11e4221",
   "metadata": {},
   "source": [
    "### lise_bolumu"
   ]
  },
  {
   "cell_type": "code",
   "execution_count": 292,
   "id": "a1b3a81e-1bd4-42d8-aa4b-f901b729035e",
   "metadata": {},
   "outputs": [
    {
     "data": {
      "text/plain": [
       "array(['Eşit Ağırlık', 'Sözel', 'Sayısal', 'Dil'], dtype=object)"
      ]
     },
     "execution_count": 292,
     "metadata": {},
     "output_type": "execute_result"
    }
   ],
   "source": [
    "df_test['lise_bolumu'].unique()"
   ]
  },
  {
   "cell_type": "code",
   "execution_count": 293,
   "id": "b5665edb-45f4-43c5-a04c-73ccaa10863d",
   "metadata": {},
   "outputs": [],
   "source": [
    "lise_bol_map = {'Eşit Ağırlık':0, 'Sözel':1, 'Sayısal':2, 'Dil':3}\n",
    "\n",
    "df_test['lise_bolumu'] = df_test['lise_bolumu'].map(lise_bol_map).astype(int)"
   ]
  },
  {
   "cell_type": "markdown",
   "id": "0f6ff819-c5be-4cfc-b91d-bd07715fdab2",
   "metadata": {},
   "source": [
    "### lise_bolum_diger"
   ]
  },
  {
   "cell_type": "code",
   "execution_count": 294,
   "id": "c0020518-d83d-4248-a183-66143262c05b",
   "metadata": {},
   "outputs": [],
   "source": [
    "df_test['lise_bolum_diger'] = df_test['lise_bolum_diger'].fillna('-')"
   ]
  },
  {
   "cell_type": "code",
   "execution_count": 295,
   "id": "8b4c0032-eb2f-4639-b1e3-a3d741e181af",
   "metadata": {},
   "outputs": [],
   "source": [
    "df_test['lise_bolum_diger'] = le.fit_transform(df_test['lise_bolum_diger'])"
   ]
  },
  {
   "cell_type": "markdown",
   "id": "dcb3525b-856d-4eb6-8dce-4aac89e97281",
   "metadata": {},
   "source": [
    "### lise_mez_notu"
   ]
  },
  {
   "cell_type": "code",
   "execution_count": 296,
   "id": "13fa2161-8b6b-42ab-ba67-357d77291793",
   "metadata": {},
   "outputs": [
    {
     "data": {
      "text/plain": [
       "array(['50 - 74', '75 - 100', '25 - 49'], dtype=object)"
      ]
     },
     "execution_count": 296,
     "metadata": {},
     "output_type": "execute_result"
    }
   ],
   "source": [
    "df_test['lise_mez_notu'].unique()"
   ]
  },
  {
   "cell_type": "code",
   "execution_count": 297,
   "id": "54d9e9c1-47da-449c-aeda-e39f3fd55d83",
   "metadata": {},
   "outputs": [],
   "source": [
    "lise_meze_map = {'50 - 74':1, '75 - 100':2, '25 - 49':0}\n",
    "\n",
    "df_test['lise_mez_notu'] = df_test['lise_mez_notu'].map(lise_meze_map).astype(int)"
   ]
  },
  {
   "cell_type": "markdown",
   "id": "6de3a283-4318-4b92-865f-37595cbf7738",
   "metadata": {},
   "source": [
    "### baska_burs_varmi"
   ]
  },
  {
   "cell_type": "code",
   "execution_count": 298,
   "id": "a041cbca-2fea-4844-9a4b-13e6070c2d64",
   "metadata": {},
   "outputs": [
    {
     "data": {
      "text/plain": [
       "array(['Hayır', 'Evet'], dtype=object)"
      ]
     },
     "execution_count": 298,
     "metadata": {},
     "output_type": "execute_result"
    }
   ],
   "source": [
    "df_test['baska_burs_varmi'].unique()"
   ]
  },
  {
   "cell_type": "code",
   "execution_count": 299,
   "id": "22366851-f11e-414b-9ba7-2faf4166722e",
   "metadata": {},
   "outputs": [],
   "source": [
    "burs_bas_varm = {'Hayır':0, 'Evet':1}\n",
    "\n",
    "df_test['baska_burs_varmi'] = df_test['baska_burs_varmi'].map(burs_bas_varm).astype(int)"
   ]
  },
  {
   "cell_type": "markdown",
   "id": "4e9ff7c1-db14-4c7b-b87b-7cc6c98f9e76",
   "metadata": {},
   "source": [
    "### burs_aldigi_kurum"
   ]
  },
  {
   "cell_type": "code",
   "execution_count": 300,
   "id": "ba7ac676-c42d-4daf-91af-e212b0efebeb",
   "metadata": {
    "scrolled": true
   },
   "outputs": [
    {
     "data": {
      "text/plain": [
       "array(['-', 'KYK', 'Toplum Gönüllüleri Vakfı', ...,\n",
       "       'Akhisar Ticaret Borsası', 'T3vakfı',\n",
       "       'kredi yurtlar kurumu /kredi alıyorum'], dtype=object)"
      ]
     },
     "execution_count": 300,
     "metadata": {},
     "output_type": "execute_result"
    }
   ],
   "source": [
    "df_test['burs_aldigi_kurum'].unique()"
   ]
  },
  {
   "cell_type": "code",
   "execution_count": 301,
   "id": "9c60449f-4dc5-4a5f-bd3e-b15b8bc429b5",
   "metadata": {},
   "outputs": [
    {
     "data": {
      "text/plain": [
       "burs_aldigi_kurum\n",
       "-                                                                                                        6524\n",
       "KYK                                                                                                       832\n",
       "Kyk                                                                                                       767\n",
       "kyk                                                                                                       187\n",
       "Devlet                                                                                                    144\n",
       "                                                                                                         ... \n",
       "Genclik ve spor Bakanligi Öğrenci Bursu                                                                     1\n",
       "Kredi Yurtlar Kurumu ve ISS Bursu. ISS Bursum 520 TL, Kredi ve Yurtlar Kurumu bursum ise 1250 TL'dir.       1\n",
       "GERKAV- GEREDE KÜLTÜR, KALKINMA VE DAYANIŞMA VAKFI VE TUKD- Türk Üniversiteli Kadınlar Derneği              1\n",
       "Dernek                                                                                                      1\n",
       "kredi yurtlar kurumu /kredi alıyorum                                                                        1\n",
       "Name: count, Length: 1196, dtype: int64"
      ]
     },
     "execution_count": 301,
     "metadata": {},
     "output_type": "execute_result"
    }
   ],
   "source": [
    "df_test['burs_aldigi_kurum'].value_counts()"
   ]
  },
  {
   "cell_type": "code",
   "execution_count": 302,
   "id": "338d8633-187d-41bf-a6cc-d47832a977fc",
   "metadata": {},
   "outputs": [],
   "source": [
    "df_test['burs_aldigi_kurum'] = df_test['burs_aldigi_kurum'].str.lower().str.translate(turkish_characters)\n",
    "df_test['burs_aldigi_kurum'] = df_test['burs_aldigi_kurum'].replace({'-': 'yok'})"
   ]
  },
  {
   "cell_type": "code",
   "execution_count": 303,
   "id": "b168210a-9561-49a9-8c2c-42937c5c17ea",
   "metadata": {},
   "outputs": [],
   "source": [
    "df_test['burs_aldigi_kurum'] = le.fit_transform(df_test['burs_aldigi_kurum'])"
   ]
  },
  {
   "cell_type": "markdown",
   "id": "8ac1000a-74ec-40c2-a686-87cc59774d1f",
   "metadata": {},
   "source": [
    "### bk_burs_miktari"
   ]
  },
  {
   "cell_type": "code",
   "execution_count": 304,
   "id": "a588c911-edcf-4e51-a72a-a39fd39ba503",
   "metadata": {},
   "outputs": [
    {
     "data": {
      "text/plain": [
       "array(['-', '1000₺ ve üstü', '500₺ - 999₺', '0 - 499 ₺'], dtype=object)"
      ]
     },
     "execution_count": 304,
     "metadata": {},
     "output_type": "execute_result"
    }
   ],
   "source": [
    "df_test['bk_burs_miktari'].unique()"
   ]
  },
  {
   "cell_type": "code",
   "execution_count": 305,
   "id": "01c7a8dc-d06e-4511-8aa4-7ecc94ae0b9a",
   "metadata": {},
   "outputs": [],
   "source": [
    "df_test['bk_burs_miktari'] = df_test['bk_burs_miktari'].replace({'-': '0'})"
   ]
  },
  {
   "cell_type": "code",
   "execution_count": 306,
   "id": "ce38febc-03d6-45aa-91ca-b4da8d7cff47",
   "metadata": {},
   "outputs": [],
   "source": [
    "df_test['bk_burs_miktari'] = df_test['bk_burs_miktari'].apply(extract_numbers)"
   ]
  },
  {
   "cell_type": "markdown",
   "id": "b48cc878-4aa1-4275-b147-392cc87a7b01",
   "metadata": {},
   "source": [
    "### a_egitim_durumu"
   ]
  },
  {
   "cell_type": "code",
   "execution_count": 307,
   "id": "c813c07b-a24b-4f71-9715-6258902c6655",
   "metadata": {},
   "outputs": [
    {
     "data": {
      "text/plain": [
       "array(['İlkokul', 'Yüksek Lisans', 'Üniversite', 'Eğitimi yok', 'Lise',\n",
       "       'Ortaokul', 'Doktora'], dtype=object)"
      ]
     },
     "execution_count": 307,
     "metadata": {},
     "output_type": "execute_result"
    }
   ],
   "source": [
    "df_test['a_egitim_durumu'].unique()"
   ]
  },
  {
   "cell_type": "code",
   "execution_count": 308,
   "id": "f46d43d3-f11d-4497-9d9e-51626f76ce3a",
   "metadata": {},
   "outputs": [],
   "source": [
    "anne_egitim_mapping2 = {'Eğitimi yok': 0,\n",
    "                      'İlkokul': 1,\n",
    "                      'Ortaokul': 2,\n",
    "                      'Lise': 3,\n",
    "                      'Üniversite':4,\n",
    "                      'Yüksek Lisans':5,\n",
    "                      'Doktora':5}\n",
    "\n",
    "df_test['a_egitim_durumu'] = df_test['a_egitim_durumu'].map(anne_egitim_mapping2).astype(int)"
   ]
  },
  {
   "cell_type": "markdown",
   "id": "0bd6548d-9177-4f5d-a47a-0829b2d0000a",
   "metadata": {},
   "source": [
    "### a_calisma_durumu"
   ]
  },
  {
   "cell_type": "code",
   "execution_count": 309,
   "id": "ca7fd351-9748-4d75-b629-e44f86d91801",
   "metadata": {},
   "outputs": [
    {
     "data": {
      "text/plain": [
       "array(['Evet', 'Hayır'], dtype=object)"
      ]
     },
     "execution_count": 309,
     "metadata": {},
     "output_type": "execute_result"
    }
   ],
   "source": [
    "df_test['a_calisma_durumu'].unique()"
   ]
  },
  {
   "cell_type": "code",
   "execution_count": 310,
   "id": "fd9d8ade-fbb9-4b14-89ec-4ca9dc01fd16",
   "metadata": {},
   "outputs": [],
   "source": [
    "acalismaanne = {'Hayır':0, 'Evet':1}\n",
    "\n",
    "df_test['a_calisma_durumu'] = df_test['a_calisma_durumu'].map(acalismaanne).astype(int)"
   ]
  },
  {
   "cell_type": "markdown",
   "id": "f762688c-c3e1-4b02-979e-adc1caaf0b4d",
   "metadata": {},
   "source": [
    "### a_sektor"
   ]
  },
  {
   "cell_type": "code",
   "execution_count": 311,
   "id": "c42de19f-392a-4777-97a9-d29cf82a6175",
   "metadata": {},
   "outputs": [
    {
     "data": {
      "text/plain": [
       "array(['Özel Sektör', '-', 'Kamu', 'Diğer'], dtype=object)"
      ]
     },
     "execution_count": 311,
     "metadata": {},
     "output_type": "execute_result"
    }
   ],
   "source": [
    "df_test['a_sektor'].unique()"
   ]
  },
  {
   "cell_type": "code",
   "execution_count": 312,
   "id": "1f7cdc7b-bb9a-4816-b93f-8fa4263811d9",
   "metadata": {},
   "outputs": [],
   "source": [
    "a_sektor_map2 = {\n",
    "               '-': 0,\n",
    "               'Diğer': 1,\n",
    "               'Kamu': 2,\n",
    "               'Özel Sektör': 3}\n",
    "\n",
    "df_test['a_sektor'] = df_test['a_sektor'].map(a_sektor_map2).astype(int)"
   ]
  },
  {
   "cell_type": "markdown",
   "id": "d210c2f0-5ac5-4ea9-97b5-700c2e9e5866",
   "metadata": {},
   "source": [
    "### b_egitim_durumu"
   ]
  },
  {
   "cell_type": "code",
   "execution_count": 313,
   "id": "8f5a0668-b819-4b08-932a-ef007f5f91fe",
   "metadata": {},
   "outputs": [
    {
     "data": {
      "text/plain": [
       "array(['Ortaokul', 'İlkokul', 'Üniversite', 'Lise', 'Yüksek Lisans',\n",
       "       'Doktora', 'Eğitimi yok'], dtype=object)"
      ]
     },
     "execution_count": 313,
     "metadata": {},
     "output_type": "execute_result"
    }
   ],
   "source": [
    "df_test['b_egitim_durumu'].unique()"
   ]
  },
  {
   "cell_type": "code",
   "execution_count": 314,
   "id": "42b2c6df-4085-47fc-9cdc-57406585bf16",
   "metadata": {},
   "outputs": [],
   "source": [
    "baba_egitim_mapping2 = {'Eğitimi yok': 0,\n",
    "                      'İlkokul': 1,\n",
    "                      'Ortaokul': 2,\n",
    "                      'Lise': 3,\n",
    "                      'Üniversite':4,\n",
    "                      'Yüksek Lisans':5,\n",
    "                      'Doktora':5}\n",
    "\n",
    "df_test['b_egitim_durumu'] = df_test['b_egitim_durumu'].map(baba_egitim_mapping2).astype(int)"
   ]
  },
  {
   "cell_type": "markdown",
   "id": "bb7ee313-0b15-4b18-8560-bfafa5e11a3a",
   "metadata": {},
   "source": [
    "### b_calisma_durumu "
   ]
  },
  {
   "cell_type": "code",
   "execution_count": 315,
   "id": "3e8aa501-4e75-4ae7-ba44-6c721fa2dedb",
   "metadata": {},
   "outputs": [
    {
     "data": {
      "text/plain": [
       "array(['Evet', 'Hayır'], dtype=object)"
      ]
     },
     "execution_count": 315,
     "metadata": {},
     "output_type": "execute_result"
    }
   ],
   "source": [
    "df_test['b_calisma_durumu'].unique()"
   ]
  },
  {
   "cell_type": "code",
   "execution_count": 316,
   "id": "f6fc3300-c42e-4375-a8de-6f6a9c3b960c",
   "metadata": {},
   "outputs": [],
   "source": [
    "bcalisma = {'Hayır':0, 'Evet':1}\n",
    "\n",
    "df_test['b_calisma_durumu'] = df_test['b_calisma_durumu'].map(bcalisma).astype(int)"
   ]
  },
  {
   "cell_type": "markdown",
   "id": "6c0fcb6d-2262-4e4e-9951-e67150ba48b9",
   "metadata": {},
   "source": [
    "### b_sektor"
   ]
  },
  {
   "cell_type": "code",
   "execution_count": 317,
   "id": "a6f8c18c-f4ab-4558-8bcf-9c2d9b1f3ed7",
   "metadata": {},
   "outputs": [
    {
     "data": {
      "text/plain": [
       "array(['Diğer', 'Özel Sektör', '-', 'Kamu'], dtype=object)"
      ]
     },
     "execution_count": 317,
     "metadata": {},
     "output_type": "execute_result"
    }
   ],
   "source": [
    "df_test['b_sektor'].unique()"
   ]
  },
  {
   "cell_type": "code",
   "execution_count": 318,
   "id": "dd8ab4d6-79bf-46c8-82f0-709ce4a19c3e",
   "metadata": {},
   "outputs": [],
   "source": [
    "b_sektor_map2 = {\n",
    "               '-': 0,\n",
    "               'Diğer': 1,\n",
    "               'Kamu': 2,\n",
    "               'Özel Sektör': 3}\n",
    "\n",
    "df_test['b_sektor'] = df_test['b_sektor'].map(b_sektor_map2).astype(int)"
   ]
  },
  {
   "cell_type": "markdown",
   "id": "3ac77fec-5bff-49ac-ae27-b925413e5050",
   "metadata": {},
   "source": [
    "### k_sayisi"
   ]
  },
  {
   "cell_type": "code",
   "execution_count": 319,
   "id": "36243614-fb40-4fbf-b787-cbed4c701d92",
   "metadata": {},
   "outputs": [
    {
     "data": {
      "text/plain": [
       "array([2., 3., 0., 4., 1.])"
      ]
     },
     "execution_count": 319,
     "metadata": {},
     "output_type": "execute_result"
    }
   ],
   "source": [
    "df_test['k_sayisi'].unique()"
   ]
  },
  {
   "cell_type": "code",
   "execution_count": 320,
   "id": "032227e6-1c8f-4c85-88bc-4dc974663e49",
   "metadata": {},
   "outputs": [],
   "source": [
    "df_test['k_sayisi'] = df_test['k_sayisi'].astype(int)"
   ]
  },
  {
   "cell_type": "markdown",
   "id": "6cbc4ebe-c4f5-4630-9b86-4f9b8d13e9e7",
   "metadata": {},
   "source": [
    "### gir_klube_uyemi"
   ]
  },
  {
   "cell_type": "code",
   "execution_count": 321,
   "id": "f2eecd8e-2eed-4972-ac9f-9be4539ba803",
   "metadata": {},
   "outputs": [
    {
     "data": {
      "text/plain": [
       "array(['Hayır', 'Evet'], dtype=object)"
      ]
     },
     "execution_count": 321,
     "metadata": {},
     "output_type": "execute_result"
    }
   ],
   "source": [
    "df_test['gir_klube_uyemi'].unique()"
   ]
  },
  {
   "cell_type": "code",
   "execution_count": 322,
   "id": "817d249f-0670-4929-bc4e-2b605ef7f3f7",
   "metadata": {},
   "outputs": [],
   "source": [
    "gir_kulube2 = {'Hayır':0, 'Evet':1}\n",
    "\n",
    "df_test['gir_klube_uyemi'] = df_test['gir_klube_uyemi'].map(gir_kulube2).astype(int)"
   ]
  },
  {
   "cell_type": "markdown",
   "id": "8e95d23b-8bfa-428a-9f48-788c15a68f8f",
   "metadata": {},
   "source": [
    "### kulup_ismi"
   ]
  },
  {
   "cell_type": "code",
   "execution_count": 323,
   "id": "1d0c3cf4-c693-47ab-9c34-596709d5a3ec",
   "metadata": {},
   "outputs": [
    {
     "data": {
      "text/plain": [
       "array([nan])"
      ]
     },
     "execution_count": 323,
     "metadata": {},
     "output_type": "execute_result"
    }
   ],
   "source": [
    "df_test['kulup_ismi'].unique()"
   ]
  },
  {
   "cell_type": "code",
   "execution_count": 324,
   "id": "1ab1f8a1-700b-4656-85e1-dd98e3782c79",
   "metadata": {},
   "outputs": [],
   "source": [
    "df_test['kulup_ismi'] = df_test['kulup_ismi'].fillna('-')"
   ]
  },
  {
   "cell_type": "code",
   "execution_count": 325,
   "id": "bd0c577e-8514-4d44-9ef3-e529268da0a2",
   "metadata": {},
   "outputs": [],
   "source": [
    "df_test['kulup_ismi'] = le.fit_transform(df_test['kulup_ismi'])"
   ]
  },
  {
   "cell_type": "markdown",
   "id": "52be70fa-c052-4da8-b1dd-0ebafc88a7cf",
   "metadata": {},
   "source": [
    "### spor_dali_mesgulmu"
   ]
  },
  {
   "cell_type": "code",
   "execution_count": 326,
   "id": "bd9fd832-867a-4cc6-9a09-c46c40ae67e1",
   "metadata": {},
   "outputs": [
    {
     "data": {
      "text/plain": [
       "array(['Evet', 'Hayır'], dtype=object)"
      ]
     },
     "execution_count": 326,
     "metadata": {},
     "output_type": "execute_result"
    }
   ],
   "source": [
    "df_test['spor_dali_mesgulmu'].unique()"
   ]
  },
  {
   "cell_type": "code",
   "execution_count": 327,
   "id": "36060f34-f679-4a83-809d-a0711a8cd4e0",
   "metadata": {},
   "outputs": [],
   "source": [
    "spor_dalimes = {'Hayır':0, 'Evet':1}\n",
    "\n",
    "df_test['spor_dali_mesgulmu'] = df_test['spor_dali_mesgulmu'].map(spor_dalimes).astype(int)"
   ]
  },
  {
   "cell_type": "markdown",
   "id": "442eb7b9-5206-4a81-8743-7b2e4efda954",
   "metadata": {},
   "source": [
    "### spor_rolu_ne"
   ]
  },
  {
   "cell_type": "code",
   "execution_count": 328,
   "id": "4432970e-fcfa-4e8d-8ea5-39688063118f",
   "metadata": {},
   "outputs": [
    {
     "data": {
      "text/plain": [
       "array(['Takım Oyuncusu', 'Bireysel Spor', '-', 'Lider/Kaptan', 'Diğer'],\n",
       "      dtype=object)"
      ]
     },
     "execution_count": 328,
     "metadata": {},
     "output_type": "execute_result"
    }
   ],
   "source": [
    "df_test['spor_rolu_ne'].unique()"
   ]
  },
  {
   "cell_type": "code",
   "execution_count": 329,
   "id": "18a58b3c-c917-4349-b3ed-37364895130c",
   "metadata": {},
   "outputs": [],
   "source": [
    "spor_rolune_map2 = {\n",
    "    '-': 0,\n",
    "    'Diğer': 1,\n",
    "    'Lider/Kaptan':2,\n",
    "    'Bireysel Spor':3,\n",
    "    'Takım Oyuncusu':4\n",
    "}\n",
    "\n",
    "df_test['spor_rolu_ne'] = df_test['spor_rolu_ne'].map(spor_rolune_map2).astype(int)"
   ]
  },
  {
   "cell_type": "markdown",
   "id": "39cc7db4-fbf5-4847-8a04-18b378507bfd",
   "metadata": {},
   "source": [
    "### aktif_stk_uyesimi"
   ]
  },
  {
   "cell_type": "code",
   "execution_count": 330,
   "id": "09515df0-f3b1-43db-b0b5-bbd443e9976e",
   "metadata": {},
   "outputs": [
    {
     "data": {
      "text/plain": [
       "array(['Evet', 'Hayır'], dtype=object)"
      ]
     },
     "execution_count": 330,
     "metadata": {},
     "output_type": "execute_result"
    }
   ],
   "source": [
    "df_test['aktif_stk_uyesimi'].unique()"
   ]
  },
  {
   "cell_type": "code",
   "execution_count": 331,
   "id": "61b86c5e-cc15-459b-bc8b-4987cddf22c7",
   "metadata": {},
   "outputs": [],
   "source": [
    "stk_aktif = {'Hayır':0, 'Evet':1}\n",
    "\n",
    "df_test['aktif_stk_uyesimi'] = df_test['aktif_stk_uyesimi'].map(stk_aktif).astype(int)"
   ]
  },
  {
   "cell_type": "markdown",
   "id": "257a2898-5382-49c6-b287-2719d2fb0c1b",
   "metadata": {},
   "source": [
    "### hangi_stk"
   ]
  },
  {
   "cell_type": "code",
   "execution_count": 332,
   "id": "77b02670-3bef-421c-8697-c96a99a876c4",
   "metadata": {},
   "outputs": [
    {
     "data": {
      "text/plain": [
       "array(['Kızılay da gönüllü dağıtım', '-',\n",
       "       'Lise gezilerde liderlik yapıyordum', ...,\n",
       "       'Hayvanlara yardım adı altında hayvanlara yardım edip mama taşımıştım.',\n",
       "       'Ağaç dikme, huzur evi ziyareti',\n",
       "       \"YetGen, YGA vb. programlarda yer aldım. Hacettepe Endüstri ve Sistem Topluluğun 'da 2021 yılında aktif üye olarak yer alırken 2022 -2023 eğitim öğretim yılı boyunca organizasyon birimi koordinatörlüğü yaptım. 2023-2024 eğitim öğretim yılında da Denetim Kurulu Başkanlığı yürüteceğim. Ayrıca Kalite Derneği GençKal Ankara'da da aktif üye olarak görev almaktayım.\"],\n",
       "      dtype=object)"
      ]
     },
     "execution_count": 332,
     "metadata": {},
     "output_type": "execute_result"
    }
   ],
   "source": [
    "df_test['hangi_stk'].unique()"
   ]
  },
  {
   "cell_type": "code",
   "execution_count": 333,
   "id": "2f5b6103-ef07-466b-991f-c445585b8f12",
   "metadata": {
    "scrolled": true
   },
   "outputs": [
    {
     "data": {
      "text/plain": [
       "hangi_stk\n",
       "-                                                                                                                                                                                                                                                                                                                                                                                                                                                                                               4735\n",
       "Kızılay                                                                                                                                                                                                                                                                                                                                                                                                                                                                                           54\n",
       "Afad                                                                                                                                                                                                                                                                                                                                                                                                                                                                                              10\n",
       "Tema vakfı                                                                                                                                                                                                                                                                                                                                                                                                                                                                                         8\n",
       "Yeşilay                                                                                                                                                                                                                                                                                                                                                                                                                                                                                            7\n",
       "                                                                                                                                                                                                                                                                                                                                                                                                                                                                                                ... \n",
       "Kızılay da görev alıyorum                                                                                                                                                                                                                                                                                                                                                                                                                                                                          1\n",
       "Gönüllü öğretmenlik faaliyeti                                                                                                                                                                                                                                                                                                                                                                                                                                                                      1\n",
       "T.C. Gençlik Spor Merkezleri gönüllüsü olmakla beraber, Manavgat Belediyesinin gençlik merkezi ve gençlik çalışmalarında gönüllü olarak yer alıyorum. Daha önce Gençlik Meclisi'nin kurulmasına katkı sağlamış ve ilk asil üyelerinden biri oldum. Başkent Gençlik Meclisi üyesiyim ve buradaki çalışmalara katılıyorum. IEEE Global Turkey Topluluğunun yönetim üyeliklerinde bulundum. Antalya Kültür Turizm ve Dayanışma Derneğinde gönüllü olarak gençlik birimi yöneticiliği yapıyorum.       1\n",
       "Kan verme                                                                                                                                                                                                                                                                                                                                                                                                                                                                                          1\n",
       "YetGen, YGA vb. programlarda yer aldım. Hacettepe Endüstri ve Sistem Topluluğun 'da 2021 yılında aktif üye olarak yer alırken 2022 -2023 eğitim öğretim yılı boyunca organizasyon birimi koordinatörlüğü yaptım. 2023-2024 eğitim öğretim yılında da Denetim Kurulu Başkanlığı yürüteceğim. Ayrıca Kalite Derneği GençKal Ankara'da da aktif üye olarak görev almaktayım.                                                                                                                          1\n",
       "Name: count, Length: 6154, dtype: int64"
      ]
     },
     "execution_count": 333,
     "metadata": {},
     "output_type": "execute_result"
    }
   ],
   "source": [
    "df_test['hangi_stk'].value_counts()"
   ]
  },
  {
   "cell_type": "code",
   "execution_count": 334,
   "id": "16d01818-5892-47af-8fe6-97650864814c",
   "metadata": {},
   "outputs": [],
   "source": [
    "df_test['hangi_stk'] = df_test['hangi_stk'].str.translate(turkish_characters)"
   ]
  },
  {
   "cell_type": "code",
   "execution_count": 335,
   "id": "dbb6581a-aaa7-4156-b000-3a49e70e0a99",
   "metadata": {},
   "outputs": [],
   "source": [
    "df_test['hangi_stk'] = df_test['hangi_stk'].str.lower().replace('[,/]', ' ', regex=True).str.strip()"
   ]
  },
  {
   "cell_type": "code",
   "execution_count": 336,
   "id": "f18ced79-a282-4253-9b2e-f83401585ff2",
   "metadata": {},
   "outputs": [],
   "source": [
    "df_test['hangi_stk'] = le.fit_transform(df_test['hangi_stk'])"
   ]
  },
  {
   "cell_type": "markdown",
   "id": "e7aaa6d6-c9b4-4e10-b983-15b8c6deea85",
   "metadata": {},
   "source": [
    "### stk_proje_katildimi"
   ]
  },
  {
   "cell_type": "code",
   "execution_count": 337,
   "id": "082e66a0-975d-446e-a9fa-e4ed8a9500dd",
   "metadata": {},
   "outputs": [],
   "source": [
    "df_test['stk_proje_katildimi'] = df_test['stk_proje_katildimi'].fillna('-')"
   ]
  },
  {
   "cell_type": "code",
   "execution_count": 338,
   "id": "9caf9631-96be-49a3-ba4f-a591292bccee",
   "metadata": {},
   "outputs": [],
   "source": [
    "df_test['stk_proje_katildimi'] = le.fit_transform(df_test['stk_proje_katildimi'])"
   ]
  },
  {
   "cell_type": "markdown",
   "id": "b335a12a-0ae5-4b2a-81c6-3ea7bc2f1559",
   "metadata": {},
   "source": [
    "### gir_deneyim_varmi"
   ]
  },
  {
   "cell_type": "code",
   "execution_count": 339,
   "id": "523af10d-1cd6-417e-ba83-6a8a2b3277e9",
   "metadata": {},
   "outputs": [
    {
     "data": {
      "text/plain": [
       "array(['Hayır', 'Evet'], dtype=object)"
      ]
     },
     "execution_count": 339,
     "metadata": {},
     "output_type": "execute_result"
    }
   ],
   "source": [
    "df_test['gir_deneyim_varmi'].unique()"
   ]
  },
  {
   "cell_type": "code",
   "execution_count": 340,
   "id": "e9bfcddd-e67e-4c21-8087-f6dc543b106e",
   "metadata": {},
   "outputs": [],
   "source": [
    "gir_dene2 = {'Hayır':0, 'Evet':1}\n",
    "\n",
    "df_test['gir_deneyim_varmi'] = df_test['gir_deneyim_varmi'].map(gir_dene2).astype(int)"
   ]
  },
  {
   "cell_type": "markdown",
   "id": "02262686-9cdd-4556-8f0c-30a3a1b2b358",
   "metadata": {},
   "source": [
    "### gir_deneyim_acikla"
   ]
  },
  {
   "cell_type": "code",
   "execution_count": 341,
   "id": "d38d859f-5d38-49a0-8d03-df9f9c3d03fb",
   "metadata": {},
   "outputs": [
    {
     "data": {
      "text/plain": [
       "array(['-',\n",
       "       '12 aydır, yolculuğuna bir yıl önce başlamış olan Finsmart adlı girişimde Growth Marketing Specialist Webflow Developer pozisyonunda çalışıyorum. Girişimin kuruluşundan büyüyüşüne kadar birçok görevde rol aldım ve birçok departmanı deneyimleme fırsatı elde ettim. Türkiye ve Polonya Girişimcilik ekosistemini yakından tanıma fırsatı yakaladım ve birçok girişimciyle tanıştım. Girişimimizde Çiğdem Toraman ve Suat Görgülü gibi sektöründeki güçlü isimlerle birebir çalışma ve deneyimlerinden faydalanarak kendime bir meslek edinme şansı elde ettim.',\n",
       "       \"TÜBİTAK 1512 kapsamında bir grup arkadaşımla beraber tutoring şirketi kurmak için başvuru yapmıştık. Şirketimizde tutoring yaparak öğreticiler kendilerine deneyim katacaktı aynı zamanda öğrenci-öğretici ilişkisini bizler kurmuş olacaktık. TÜBİTAK teknolojik bir yön de aradığından yapay zeka destekli bireyselleştirilmiş ders programları ve kazanım değerlendirmeleri eklemiştik fakat yapay zekayı destekleyecek veri tabanımız olmadığı için şirket fikrimizi geliştirmek üzere TÜBİTAK1512'den çekilmek durumunda kaldık.\",\n",
       "       ...,\n",
       "       'Lisemin 50. Yıl şenliklerini ben ve ekibim sıfırdan yaratarak düzenledik. Yüzyüzeyken konuşuruz, Adamlar, Anıl Piyancı gibi şarkıcıları ağırladık. Aynı zamanda İstanbul Küçükçiftlik Park’ta birçok etkinlik düzenledik.',\n",
       "       'kendi girişim fikirlerimi gerçekleştirmeye çalışıyorum.',\n",
       "       'Eğitim olarak deneyimim var. Aynı zamanda “Aspire Leaders Program”öğrencisiyim.'],\n",
       "      dtype=object)"
      ]
     },
     "execution_count": 341,
     "metadata": {},
     "output_type": "execute_result"
    }
   ],
   "source": [
    "df_test['gir_deneyim_acikla'].unique()"
   ]
  },
  {
   "cell_type": "code",
   "execution_count": 342,
   "id": "490ac734-a57d-40e1-855a-32d662a293d4",
   "metadata": {},
   "outputs": [],
   "source": [
    "df_test['gir_deneyim_acikla'] = df_test['gir_deneyim_acikla'].apply(lambda x: 0 if x == '-' else 1)"
   ]
  },
  {
   "cell_type": "markdown",
   "id": "df16d9c1-1541-46f0-a716-11659a26a5db",
   "metadata": {},
   "source": [
    "### ing_varmi"
   ]
  },
  {
   "cell_type": "code",
   "execution_count": 343,
   "id": "5d2d197b-5b1f-445c-98fb-1501cc0a6a90",
   "metadata": {},
   "outputs": [
    {
     "data": {
      "text/plain": [
       "array(['Evet', 'Hayır'], dtype=object)"
      ]
     },
     "execution_count": 343,
     "metadata": {},
     "output_type": "execute_result"
    }
   ],
   "source": [
    "df_test['ing_varmi'].unique()"
   ]
  },
  {
   "cell_type": "code",
   "execution_count": 344,
   "id": "95b81d2e-6165-48fc-8f41-26b4d952e379",
   "metadata": {},
   "outputs": [],
   "source": [
    "ingvarmi2 = {'Hayır':0, 'Evet':1}\n",
    "\n",
    "df_test['ing_varmi'] = df_test['ing_varmi'].map(ingvarmi2).astype(int)"
   ]
  },
  {
   "cell_type": "markdown",
   "id": "86148b09-7b4e-4e25-a3c5-63ac5ef8879c",
   "metadata": {},
   "source": [
    "### ing_seviye"
   ]
  },
  {
   "cell_type": "code",
   "execution_count": 345,
   "id": "f5790f8f-0256-4973-ae64-45d2951bffab",
   "metadata": {},
   "outputs": [],
   "source": [
    "df_test['ing_seviye'] = df_test['ing_seviye'].fillna(0)"
   ]
  },
  {
   "cell_type": "markdown",
   "id": "23f8d4de-63db-4317-89d0-336843736e96",
   "metadata": {},
   "source": [
    "### ikinci_uni_varmi"
   ]
  },
  {
   "cell_type": "code",
   "execution_count": 346,
   "id": "7e7e7c1e-fa0f-4aa9-8cf2-69dfe7d151a6",
   "metadata": {},
   "outputs": [],
   "source": [
    "df_test['ikinci_uni_varmi'] = df_test['ikinci_uni_varmi'].fillna(0)"
   ]
  },
  {
   "cell_type": "code",
   "execution_count": null,
   "id": "7657b8ce-1452-4b09-bdb7-95e4902a63bd",
   "metadata": {},
   "outputs": [],
   "source": []
  },
  {
   "cell_type": "code",
   "execution_count": 347,
   "id": "5c6d798d-8733-4e0f-b6d5-a6001ba804bc",
   "metadata": {},
   "outputs": [],
   "source": [
    "df_test.drop(columns=['d_yeri', 'ikametgah', 'lise_adi','cinsiyet',\n",
    "                      'burs_yuzdesi', 'lise_adi','lise_diger',\n",
    "                      'lise_bolumu', 'baska_uni_mezunmu', 'lise_bolum_diger', 'kulup_ismi', 'lise_sehir',\n",
    "                      'baska_burs_varmi', 'burs_aldigi_kurum', 'bk_burs_miktari', 'hangi_stk', 'ing_seviye', 'stk_proje_katildimi', 'ikinci_uni_varmi'], inplace=True)"
   ]
  },
  {
   "cell_type": "code",
   "execution_count": 348,
   "id": "2fb3a7e3-55fc-4125-a114-31136150480a",
   "metadata": {},
   "outputs": [],
   "source": [
    "df_test[[\n",
    "       'uni_adi', 'uni_turu',\n",
    "       'bolum']] = scaler.fit_transform(df_test[[\n",
    "       'uni_adi', 'uni_turu',\n",
    "       'bolum']])"
   ]
  },
  {
   "cell_type": "code",
   "execution_count": 349,
   "id": "d487bb13-1707-4a75-b8b4-7f08397c1fb8",
   "metadata": {},
   "outputs": [
    {
     "data": {
      "text/html": [
       "<div>\n",
       "<style scoped>\n",
       "    .dataframe tbody tr th:only-of-type {\n",
       "        vertical-align: middle;\n",
       "    }\n",
       "\n",
       "    .dataframe tbody tr th {\n",
       "        vertical-align: top;\n",
       "    }\n",
       "\n",
       "    .dataframe thead th {\n",
       "        text-align: right;\n",
       "    }\n",
       "</style>\n",
       "<table border=\"1\" class=\"dataframe\">\n",
       "  <thead>\n",
       "    <tr style=\"text-align: right;\">\n",
       "      <th></th>\n",
       "      <th>b_yili</th>\n",
       "      <th>D_puani</th>\n",
       "      <th>uni_adi</th>\n",
       "      <th>uni_turu</th>\n",
       "      <th>bursu_varmi</th>\n",
       "      <th>bolum</th>\n",
       "      <th>uni_kacinci_sinif</th>\n",
       "      <th>uni_not_ort</th>\n",
       "      <th>lise_turu</th>\n",
       "      <th>lise_mez_notu</th>\n",
       "      <th>a_egitim_durumu</th>\n",
       "      <th>a_calisma_durumu</th>\n",
       "      <th>a_sektor</th>\n",
       "      <th>b_egitim_durumu</th>\n",
       "      <th>b_calisma_durumu</th>\n",
       "      <th>b_sektor</th>\n",
       "      <th>k_sayisi</th>\n",
       "      <th>gir_klube_uyemi</th>\n",
       "      <th>spor_dali_mesgulmu</th>\n",
       "      <th>spor_rolu_ne</th>\n",
       "      <th>aktif_stk_uyesimi</th>\n",
       "      <th>gir_deneyim_varmi</th>\n",
       "      <th>gir_deneyim_acikla</th>\n",
       "      <th>ing_varmi</th>\n",
       "      <th>id</th>\n",
       "      <th>yil</th>\n",
       "      <th>yas</th>\n",
       "      <th>ay</th>\n",
       "    </tr>\n",
       "  </thead>\n",
       "  <tbody>\n",
       "    <tr>\n",
       "      <th>0</th>\n",
       "      <td>2014</td>\n",
       "      <td>52.0</td>\n",
       "      <td>0.306247</td>\n",
       "      <td>2.147174</td>\n",
       "      <td>1</td>\n",
       "      <td>1.195041</td>\n",
       "      <td>3</td>\n",
       "      <td>3</td>\n",
       "      <td>0</td>\n",
       "      <td>1</td>\n",
       "      <td>4</td>\n",
       "      <td>0</td>\n",
       "      <td>0</td>\n",
       "      <td>4</td>\n",
       "      <td>2</td>\n",
       "      <td>0</td>\n",
       "      <td>1</td>\n",
       "      <td>1</td>\n",
       "      <td>1</td>\n",
       "      <td>1</td>\n",
       "      <td>0</td>\n",
       "      <td>0</td>\n",
       "      <td>0</td>\n",
       "      <td>0</td>\n",
       "      <td>0</td>\n",
       "      <td>1994</td>\n",
       "      <td>30</td>\n",
       "      <td>6</td>\n",
       "    </tr>\n",
       "    <tr>\n",
       "      <th>1</th>\n",
       "      <td>2014</td>\n",
       "      <td>30.0</td>\n",
       "      <td>0.306247</td>\n",
       "      <td>2.147174</td>\n",
       "      <td>0</td>\n",
       "      <td>-1.164822</td>\n",
       "      <td>3</td>\n",
       "      <td>2</td>\n",
       "      <td>0</td>\n",
       "      <td>1</td>\n",
       "      <td>4</td>\n",
       "      <td>1</td>\n",
       "      <td>2</td>\n",
       "      <td>5</td>\n",
       "      <td>2</td>\n",
       "      <td>0</td>\n",
       "      <td>1</td>\n",
       "      <td>0</td>\n",
       "      <td>0</td>\n",
       "      <td>0</td>\n",
       "      <td>0</td>\n",
       "      <td>1</td>\n",
       "      <td>1</td>\n",
       "      <td>0</td>\n",
       "      <td>1</td>\n",
       "      <td>1993</td>\n",
       "      <td>31</td>\n",
       "      <td>11</td>\n",
       "    </tr>\n",
       "    <tr>\n",
       "      <th>2</th>\n",
       "      <td>2014</td>\n",
       "      <td>18.0</td>\n",
       "      <td>0.306247</td>\n",
       "      <td>2.147174</td>\n",
       "      <td>0</td>\n",
       "      <td>-0.028235</td>\n",
       "      <td>1</td>\n",
       "      <td>0</td>\n",
       "      <td>0</td>\n",
       "      <td>1</td>\n",
       "      <td>1</td>\n",
       "      <td>0</td>\n",
       "      <td>0</td>\n",
       "      <td>1</td>\n",
       "      <td>1</td>\n",
       "      <td>3</td>\n",
       "      <td>6</td>\n",
       "      <td>1</td>\n",
       "      <td>0</td>\n",
       "      <td>0</td>\n",
       "      <td>0</td>\n",
       "      <td>0</td>\n",
       "      <td>0</td>\n",
       "      <td>0</td>\n",
       "      <td>2</td>\n",
       "      <td>2000</td>\n",
       "      <td>24</td>\n",
       "      <td>1</td>\n",
       "    </tr>\n",
       "    <tr>\n",
       "      <th>3</th>\n",
       "      <td>2014</td>\n",
       "      <td>40.0</td>\n",
       "      <td>0.306247</td>\n",
       "      <td>2.147174</td>\n",
       "      <td>1</td>\n",
       "      <td>-1.579002</td>\n",
       "      <td>3</td>\n",
       "      <td>2</td>\n",
       "      <td>0</td>\n",
       "      <td>1</td>\n",
       "      <td>1</td>\n",
       "      <td>0</td>\n",
       "      <td>0</td>\n",
       "      <td>4</td>\n",
       "      <td>2</td>\n",
       "      <td>0</td>\n",
       "      <td>10</td>\n",
       "      <td>1</td>\n",
       "      <td>0</td>\n",
       "      <td>0</td>\n",
       "      <td>0</td>\n",
       "      <td>0</td>\n",
       "      <td>0</td>\n",
       "      <td>0</td>\n",
       "      <td>3</td>\n",
       "      <td>1991</td>\n",
       "      <td>33</td>\n",
       "      <td>4</td>\n",
       "    </tr>\n",
       "    <tr>\n",
       "      <th>4</th>\n",
       "      <td>2014</td>\n",
       "      <td>24.0</td>\n",
       "      <td>0.306247</td>\n",
       "      <td>2.147174</td>\n",
       "      <td>1</td>\n",
       "      <td>0.270360</td>\n",
       "      <td>0</td>\n",
       "      <td>2</td>\n",
       "      <td>1</td>\n",
       "      <td>1</td>\n",
       "      <td>1</td>\n",
       "      <td>0</td>\n",
       "      <td>0</td>\n",
       "      <td>4</td>\n",
       "      <td>2</td>\n",
       "      <td>0</td>\n",
       "      <td>1</td>\n",
       "      <td>0</td>\n",
       "      <td>0</td>\n",
       "      <td>0</td>\n",
       "      <td>0</td>\n",
       "      <td>0</td>\n",
       "      <td>0</td>\n",
       "      <td>0</td>\n",
       "      <td>4</td>\n",
       "      <td>2000</td>\n",
       "      <td>24</td>\n",
       "      <td>1</td>\n",
       "    </tr>\n",
       "    <tr>\n",
       "      <th>...</th>\n",
       "      <td>...</td>\n",
       "      <td>...</td>\n",
       "      <td>...</td>\n",
       "      <td>...</td>\n",
       "      <td>...</td>\n",
       "      <td>...</td>\n",
       "      <td>...</td>\n",
       "      <td>...</td>\n",
       "      <td>...</td>\n",
       "      <td>...</td>\n",
       "      <td>...</td>\n",
       "      <td>...</td>\n",
       "      <td>...</td>\n",
       "      <td>...</td>\n",
       "      <td>...</td>\n",
       "      <td>...</td>\n",
       "      <td>...</td>\n",
       "      <td>...</td>\n",
       "      <td>...</td>\n",
       "      <td>...</td>\n",
       "      <td>...</td>\n",
       "      <td>...</td>\n",
       "      <td>...</td>\n",
       "      <td>...</td>\n",
       "      <td>...</td>\n",
       "      <td>...</td>\n",
       "      <td>...</td>\n",
       "      <td>...</td>\n",
       "    </tr>\n",
       "    <tr>\n",
       "      <th>65120</th>\n",
       "      <td>2022</td>\n",
       "      <td>0.0</td>\n",
       "      <td>0.796832</td>\n",
       "      <td>2.147174</td>\n",
       "      <td>1</td>\n",
       "      <td>1.195041</td>\n",
       "      <td>2</td>\n",
       "      <td>0</td>\n",
       "      <td>0</td>\n",
       "      <td>1</td>\n",
       "      <td>1</td>\n",
       "      <td>0</td>\n",
       "      <td>0</td>\n",
       "      <td>2</td>\n",
       "      <td>1</td>\n",
       "      <td>3</td>\n",
       "      <td>4</td>\n",
       "      <td>0</td>\n",
       "      <td>0</td>\n",
       "      <td>0</td>\n",
       "      <td>0</td>\n",
       "      <td>0</td>\n",
       "      <td>0</td>\n",
       "      <td>0</td>\n",
       "      <td>65120</td>\n",
       "      <td>2000</td>\n",
       "      <td>24</td>\n",
       "      <td>1</td>\n",
       "    </tr>\n",
       "    <tr>\n",
       "      <th>65121</th>\n",
       "      <td>2022</td>\n",
       "      <td>0.0</td>\n",
       "      <td>-1.165509</td>\n",
       "      <td>-0.465729</td>\n",
       "      <td>0</td>\n",
       "      <td>1.175777</td>\n",
       "      <td>1</td>\n",
       "      <td>0</td>\n",
       "      <td>0</td>\n",
       "      <td>2</td>\n",
       "      <td>3</td>\n",
       "      <td>0</td>\n",
       "      <td>0</td>\n",
       "      <td>3</td>\n",
       "      <td>1</td>\n",
       "      <td>3</td>\n",
       "      <td>4</td>\n",
       "      <td>0</td>\n",
       "      <td>0</td>\n",
       "      <td>0</td>\n",
       "      <td>0</td>\n",
       "      <td>0</td>\n",
       "      <td>0</td>\n",
       "      <td>0</td>\n",
       "      <td>65121</td>\n",
       "      <td>2000</td>\n",
       "      <td>24</td>\n",
       "      <td>1</td>\n",
       "    </tr>\n",
       "    <tr>\n",
       "      <th>65122</th>\n",
       "      <td>2022</td>\n",
       "      <td>0.0</td>\n",
       "      <td>-0.380573</td>\n",
       "      <td>-0.465729</td>\n",
       "      <td>0</td>\n",
       "      <td>-0.066763</td>\n",
       "      <td>4</td>\n",
       "      <td>0</td>\n",
       "      <td>0</td>\n",
       "      <td>2</td>\n",
       "      <td>3</td>\n",
       "      <td>0</td>\n",
       "      <td>0</td>\n",
       "      <td>3</td>\n",
       "      <td>0</td>\n",
       "      <td>0</td>\n",
       "      <td>3</td>\n",
       "      <td>0</td>\n",
       "      <td>0</td>\n",
       "      <td>0</td>\n",
       "      <td>0</td>\n",
       "      <td>0</td>\n",
       "      <td>0</td>\n",
       "      <td>0</td>\n",
       "      <td>65122</td>\n",
       "      <td>2000</td>\n",
       "      <td>24</td>\n",
       "      <td>1</td>\n",
       "    </tr>\n",
       "    <tr>\n",
       "      <th>65123</th>\n",
       "      <td>2022</td>\n",
       "      <td>0.0</td>\n",
       "      <td>-1.983151</td>\n",
       "      <td>-0.465729</td>\n",
       "      <td>0</td>\n",
       "      <td>0.154775</td>\n",
       "      <td>3</td>\n",
       "      <td>0</td>\n",
       "      <td>0</td>\n",
       "      <td>1</td>\n",
       "      <td>1</td>\n",
       "      <td>1</td>\n",
       "      <td>3</td>\n",
       "      <td>3</td>\n",
       "      <td>1</td>\n",
       "      <td>2</td>\n",
       "      <td>2</td>\n",
       "      <td>0</td>\n",
       "      <td>0</td>\n",
       "      <td>0</td>\n",
       "      <td>0</td>\n",
       "      <td>0</td>\n",
       "      <td>0</td>\n",
       "      <td>0</td>\n",
       "      <td>65123</td>\n",
       "      <td>2000</td>\n",
       "      <td>24</td>\n",
       "      <td>1</td>\n",
       "    </tr>\n",
       "    <tr>\n",
       "      <th>65124</th>\n",
       "      <td>2022</td>\n",
       "      <td>0.0</td>\n",
       "      <td>-2.669970</td>\n",
       "      <td>-0.465729</td>\n",
       "      <td>0</td>\n",
       "      <td>1.031296</td>\n",
       "      <td>4</td>\n",
       "      <td>2</td>\n",
       "      <td>0</td>\n",
       "      <td>2</td>\n",
       "      <td>1</td>\n",
       "      <td>0</td>\n",
       "      <td>0</td>\n",
       "      <td>1</td>\n",
       "      <td>1</td>\n",
       "      <td>1</td>\n",
       "      <td>2</td>\n",
       "      <td>0</td>\n",
       "      <td>1</td>\n",
       "      <td>4</td>\n",
       "      <td>1</td>\n",
       "      <td>1</td>\n",
       "      <td>1</td>\n",
       "      <td>1</td>\n",
       "      <td>65124</td>\n",
       "      <td>2000</td>\n",
       "      <td>24</td>\n",
       "      <td>1</td>\n",
       "    </tr>\n",
       "  </tbody>\n",
       "</table>\n",
       "<p>65125 rows × 28 columns</p>\n",
       "</div>"
      ],
      "text/plain": [
       "       b_yili  D_puani   uni_adi  uni_turu  bursu_varmi     bolum  uni_kacinci_sinif  uni_not_ort  lise_turu  lise_mez_notu  a_egitim_durumu  a_calisma_durumu  a_sektor  b_egitim_durumu  b_calisma_durumu  b_sektor  k_sayisi  gir_klube_uyemi  spor_dali_mesgulmu  spor_rolu_ne  aktif_stk_uyesimi  gir_deneyim_varmi  gir_deneyim_acikla  ing_varmi     id   yil  yas  ay\n",
       "0        2014     52.0  0.306247  2.147174            1  1.195041                  3            3          0              1                4                 0         0                4                 2         0         1                1                   1             1                  0                  0                   0          0      0  1994   30   6\n",
       "1        2014     30.0  0.306247  2.147174            0 -1.164822                  3            2          0              1                4                 1         2                5                 2         0         1                0                   0             0                  0                  1                   1          0      1  1993   31  11\n",
       "2        2014     18.0  0.306247  2.147174            0 -0.028235                  1            0          0              1                1                 0         0                1                 1         3         6                1                   0             0                  0                  0                   0          0      2  2000   24   1\n",
       "3        2014     40.0  0.306247  2.147174            1 -1.579002                  3            2          0              1                1                 0         0                4                 2         0        10                1                   0             0                  0                  0                   0          0      3  1991   33   4\n",
       "4        2014     24.0  0.306247  2.147174            1  0.270360                  0            2          1              1                1                 0         0                4                 2         0         1                0                   0             0                  0                  0                   0          0      4  2000   24   1\n",
       "...       ...      ...       ...       ...          ...       ...                ...          ...        ...            ...              ...               ...       ...              ...               ...       ...       ...              ...                 ...           ...                ...                ...                 ...        ...    ...   ...  ...  ..\n",
       "65120    2022      0.0  0.796832  2.147174            1  1.195041                  2            0          0              1                1                 0         0                2                 1         3         4                0                   0             0                  0                  0                   0          0  65120  2000   24   1\n",
       "65121    2022      0.0 -1.165509 -0.465729            0  1.175777                  1            0          0              2                3                 0         0                3                 1         3         4                0                   0             0                  0                  0                   0          0  65121  2000   24   1\n",
       "65122    2022      0.0 -0.380573 -0.465729            0 -0.066763                  4            0          0              2                3                 0         0                3                 0         0         3                0                   0             0                  0                  0                   0          0  65122  2000   24   1\n",
       "65123    2022      0.0 -1.983151 -0.465729            0  0.154775                  3            0          0              1                1                 1         3                3                 1         2         2                0                   0             0                  0                  0                   0          0  65123  2000   24   1\n",
       "65124    2022      0.0 -2.669970 -0.465729            0  1.031296                  4            2          0              2                1                 0         0                1                 1         1         2                0                   1             4                  1                  1                   1          1  65124  2000   24   1\n",
       "\n",
       "[65125 rows x 28 columns]"
      ]
     },
     "execution_count": 349,
     "metadata": {},
     "output_type": "execute_result"
    }
   ],
   "source": [
    "pd.set_option('display.max_columns', 500)\n",
    "pd.set_option('display.width', 1000)\n",
    "\n",
    "df_train"
   ]
  },
  {
   "cell_type": "code",
   "execution_count": 350,
   "id": "88cc814f-49d8-4a65-8ec9-7af90c8ddf91",
   "metadata": {},
   "outputs": [
    {
     "data": {
      "text/html": [
       "<div>\n",
       "<style scoped>\n",
       "    .dataframe tbody tr th:only-of-type {\n",
       "        vertical-align: middle;\n",
       "    }\n",
       "\n",
       "    .dataframe tbody tr th {\n",
       "        vertical-align: top;\n",
       "    }\n",
       "\n",
       "    .dataframe thead th {\n",
       "        text-align: right;\n",
       "    }\n",
       "</style>\n",
       "<table border=\"1\" class=\"dataframe\">\n",
       "  <thead>\n",
       "    <tr style=\"text-align: right;\">\n",
       "      <th></th>\n",
       "      <th>b_yili</th>\n",
       "      <th>uni_adi</th>\n",
       "      <th>uni_turu</th>\n",
       "      <th>bursu_varmi</th>\n",
       "      <th>bolum</th>\n",
       "      <th>uni_kacinci_sinif</th>\n",
       "      <th>uni_not_ort</th>\n",
       "      <th>lise_turu</th>\n",
       "      <th>lise_mez_notu</th>\n",
       "      <th>a_egitim_durumu</th>\n",
       "      <th>a_calisma_durumu</th>\n",
       "      <th>a_sektor</th>\n",
       "      <th>b_egitim_durumu</th>\n",
       "      <th>b_calisma_durumu</th>\n",
       "      <th>b_sektor</th>\n",
       "      <th>k_sayisi</th>\n",
       "      <th>gir_klube_uyemi</th>\n",
       "      <th>spor_dali_mesgulmu</th>\n",
       "      <th>spor_rolu_ne</th>\n",
       "      <th>aktif_stk_uyesimi</th>\n",
       "      <th>gir_deneyim_varmi</th>\n",
       "      <th>gir_deneyim_acikla</th>\n",
       "      <th>ing_varmi</th>\n",
       "      <th>id</th>\n",
       "      <th>yil</th>\n",
       "      <th>yas</th>\n",
       "      <th>ay</th>\n",
       "    </tr>\n",
       "  </thead>\n",
       "  <tbody>\n",
       "    <tr>\n",
       "      <th>0</th>\n",
       "      <td>2023</td>\n",
       "      <td>0.137464</td>\n",
       "      <td>-0.446120</td>\n",
       "      <td>0</td>\n",
       "      <td>0.374136</td>\n",
       "      <td>1</td>\n",
       "      <td>2</td>\n",
       "      <td>0</td>\n",
       "      <td>1</td>\n",
       "      <td>1</td>\n",
       "      <td>1</td>\n",
       "      <td>3</td>\n",
       "      <td>2</td>\n",
       "      <td>1</td>\n",
       "      <td>1</td>\n",
       "      <td>2</td>\n",
       "      <td>0</td>\n",
       "      <td>1</td>\n",
       "      <td>4</td>\n",
       "      <td>1</td>\n",
       "      <td>0</td>\n",
       "      <td>0</td>\n",
       "      <td>1</td>\n",
       "      <td>0</td>\n",
       "      <td>2002</td>\n",
       "      <td>22</td>\n",
       "      <td>6</td>\n",
       "    </tr>\n",
       "    <tr>\n",
       "      <th>1</th>\n",
       "      <td>2023</td>\n",
       "      <td>-0.580683</td>\n",
       "      <td>-0.446120</td>\n",
       "      <td>0</td>\n",
       "      <td>0.709254</td>\n",
       "      <td>1</td>\n",
       "      <td>0</td>\n",
       "      <td>0</td>\n",
       "      <td>2</td>\n",
       "      <td>1</td>\n",
       "      <td>0</td>\n",
       "      <td>0</td>\n",
       "      <td>1</td>\n",
       "      <td>1</td>\n",
       "      <td>3</td>\n",
       "      <td>3</td>\n",
       "      <td>0</td>\n",
       "      <td>1</td>\n",
       "      <td>3</td>\n",
       "      <td>0</td>\n",
       "      <td>0</td>\n",
       "      <td>0</td>\n",
       "      <td>1</td>\n",
       "      <td>1</td>\n",
       "      <td>2004</td>\n",
       "      <td>20</td>\n",
       "      <td>5</td>\n",
       "    </tr>\n",
       "    <tr>\n",
       "      <th>2</th>\n",
       "      <td>2023</td>\n",
       "      <td>-0.311377</td>\n",
       "      <td>2.241548</td>\n",
       "      <td>1</td>\n",
       "      <td>1.333793</td>\n",
       "      <td>1</td>\n",
       "      <td>0</td>\n",
       "      <td>1</td>\n",
       "      <td>1</td>\n",
       "      <td>5</td>\n",
       "      <td>0</td>\n",
       "      <td>0</td>\n",
       "      <td>4</td>\n",
       "      <td>0</td>\n",
       "      <td>0</td>\n",
       "      <td>0</td>\n",
       "      <td>0</td>\n",
       "      <td>0</td>\n",
       "      <td>3</td>\n",
       "      <td>0</td>\n",
       "      <td>0</td>\n",
       "      <td>0</td>\n",
       "      <td>1</td>\n",
       "      <td>2</td>\n",
       "      <td>2002</td>\n",
       "      <td>22</td>\n",
       "      <td>4</td>\n",
       "    </tr>\n",
       "    <tr>\n",
       "      <th>3</th>\n",
       "      <td>2023</td>\n",
       "      <td>0.065650</td>\n",
       "      <td>-0.446120</td>\n",
       "      <td>0</td>\n",
       "      <td>1.227165</td>\n",
       "      <td>1</td>\n",
       "      <td>0</td>\n",
       "      <td>0</td>\n",
       "      <td>2</td>\n",
       "      <td>1</td>\n",
       "      <td>0</td>\n",
       "      <td>0</td>\n",
       "      <td>3</td>\n",
       "      <td>1</td>\n",
       "      <td>3</td>\n",
       "      <td>4</td>\n",
       "      <td>0</td>\n",
       "      <td>0</td>\n",
       "      <td>0</td>\n",
       "      <td>1</td>\n",
       "      <td>0</td>\n",
       "      <td>0</td>\n",
       "      <td>0</td>\n",
       "      <td>3</td>\n",
       "      <td>2003</td>\n",
       "      <td>21</td>\n",
       "      <td>3</td>\n",
       "    </tr>\n",
       "    <tr>\n",
       "      <th>4</th>\n",
       "      <td>2023</td>\n",
       "      <td>-1.011571</td>\n",
       "      <td>-0.446120</td>\n",
       "      <td>0</td>\n",
       "      <td>1.303328</td>\n",
       "      <td>3</td>\n",
       "      <td>3</td>\n",
       "      <td>1</td>\n",
       "      <td>2</td>\n",
       "      <td>4</td>\n",
       "      <td>1</td>\n",
       "      <td>2</td>\n",
       "      <td>4</td>\n",
       "      <td>1</td>\n",
       "      <td>2</td>\n",
       "      <td>1</td>\n",
       "      <td>0</td>\n",
       "      <td>0</td>\n",
       "      <td>0</td>\n",
       "      <td>1</td>\n",
       "      <td>1</td>\n",
       "      <td>1</td>\n",
       "      <td>1</td>\n",
       "      <td>4</td>\n",
       "      <td>2002</td>\n",
       "      <td>22</td>\n",
       "      <td>1</td>\n",
       "    </tr>\n",
       "    <tr>\n",
       "      <th>...</th>\n",
       "      <td>...</td>\n",
       "      <td>...</td>\n",
       "      <td>...</td>\n",
       "      <td>...</td>\n",
       "      <td>...</td>\n",
       "      <td>...</td>\n",
       "      <td>...</td>\n",
       "      <td>...</td>\n",
       "      <td>...</td>\n",
       "      <td>...</td>\n",
       "      <td>...</td>\n",
       "      <td>...</td>\n",
       "      <td>...</td>\n",
       "      <td>...</td>\n",
       "      <td>...</td>\n",
       "      <td>...</td>\n",
       "      <td>...</td>\n",
       "      <td>...</td>\n",
       "      <td>...</td>\n",
       "      <td>...</td>\n",
       "      <td>...</td>\n",
       "      <td>...</td>\n",
       "      <td>...</td>\n",
       "      <td>...</td>\n",
       "      <td>...</td>\n",
       "      <td>...</td>\n",
       "      <td>...</td>\n",
       "    </tr>\n",
       "    <tr>\n",
       "      <th>11044</th>\n",
       "      <td>2023</td>\n",
       "      <td>-0.688405</td>\n",
       "      <td>-0.446120</td>\n",
       "      <td>0</td>\n",
       "      <td>-0.996804</td>\n",
       "      <td>2</td>\n",
       "      <td>1</td>\n",
       "      <td>0</td>\n",
       "      <td>2</td>\n",
       "      <td>1</td>\n",
       "      <td>0</td>\n",
       "      <td>0</td>\n",
       "      <td>2</td>\n",
       "      <td>0</td>\n",
       "      <td>0</td>\n",
       "      <td>0</td>\n",
       "      <td>1</td>\n",
       "      <td>0</td>\n",
       "      <td>0</td>\n",
       "      <td>1</td>\n",
       "      <td>0</td>\n",
       "      <td>0</td>\n",
       "      <td>1</td>\n",
       "      <td>11044</td>\n",
       "      <td>2002</td>\n",
       "      <td>22</td>\n",
       "      <td>1</td>\n",
       "    </tr>\n",
       "    <tr>\n",
       "      <th>11045</th>\n",
       "      <td>2023</td>\n",
       "      <td>0.227233</td>\n",
       "      <td>-0.446120</td>\n",
       "      <td>0</td>\n",
       "      <td>-0.539824</td>\n",
       "      <td>3</td>\n",
       "      <td>3</td>\n",
       "      <td>0</td>\n",
       "      <td>2</td>\n",
       "      <td>1</td>\n",
       "      <td>0</td>\n",
       "      <td>0</td>\n",
       "      <td>1</td>\n",
       "      <td>1</td>\n",
       "      <td>2</td>\n",
       "      <td>3</td>\n",
       "      <td>1</td>\n",
       "      <td>0</td>\n",
       "      <td>0</td>\n",
       "      <td>1</td>\n",
       "      <td>0</td>\n",
       "      <td>0</td>\n",
       "      <td>0</td>\n",
       "      <td>11045</td>\n",
       "      <td>2001</td>\n",
       "      <td>23</td>\n",
       "      <td>9</td>\n",
       "    </tr>\n",
       "    <tr>\n",
       "      <th>11046</th>\n",
       "      <td>2023</td>\n",
       "      <td>-0.293424</td>\n",
       "      <td>-0.446120</td>\n",
       "      <td>0</td>\n",
       "      <td>-1.057735</td>\n",
       "      <td>1</td>\n",
       "      <td>0</td>\n",
       "      <td>1</td>\n",
       "      <td>2</td>\n",
       "      <td>1</td>\n",
       "      <td>0</td>\n",
       "      <td>0</td>\n",
       "      <td>4</td>\n",
       "      <td>1</td>\n",
       "      <td>1</td>\n",
       "      <td>2</td>\n",
       "      <td>1</td>\n",
       "      <td>1</td>\n",
       "      <td>4</td>\n",
       "      <td>1</td>\n",
       "      <td>0</td>\n",
       "      <td>0</td>\n",
       "      <td>1</td>\n",
       "      <td>11046</td>\n",
       "      <td>2004</td>\n",
       "      <td>20</td>\n",
       "      <td>6</td>\n",
       "    </tr>\n",
       "    <tr>\n",
       "      <th>11047</th>\n",
       "      <td>2023</td>\n",
       "      <td>-0.957710</td>\n",
       "      <td>-0.446120</td>\n",
       "      <td>0</td>\n",
       "      <td>-1.316690</td>\n",
       "      <td>4</td>\n",
       "      <td>1</td>\n",
       "      <td>0</td>\n",
       "      <td>2</td>\n",
       "      <td>1</td>\n",
       "      <td>0</td>\n",
       "      <td>0</td>\n",
       "      <td>2</td>\n",
       "      <td>1</td>\n",
       "      <td>1</td>\n",
       "      <td>2</td>\n",
       "      <td>1</td>\n",
       "      <td>1</td>\n",
       "      <td>3</td>\n",
       "      <td>1</td>\n",
       "      <td>1</td>\n",
       "      <td>1</td>\n",
       "      <td>1</td>\n",
       "      <td>11047</td>\n",
       "      <td>2001</td>\n",
       "      <td>23</td>\n",
       "      <td>10</td>\n",
       "    </tr>\n",
       "    <tr>\n",
       "      <th>11048</th>\n",
       "      <td>2023</td>\n",
       "      <td>-0.580683</td>\n",
       "      <td>-0.446120</td>\n",
       "      <td>0</td>\n",
       "      <td>-0.996804</td>\n",
       "      <td>4</td>\n",
       "      <td>3</td>\n",
       "      <td>0</td>\n",
       "      <td>2</td>\n",
       "      <td>1</td>\n",
       "      <td>0</td>\n",
       "      <td>0</td>\n",
       "      <td>4</td>\n",
       "      <td>1</td>\n",
       "      <td>3</td>\n",
       "      <td>3</td>\n",
       "      <td>0</td>\n",
       "      <td>0</td>\n",
       "      <td>0</td>\n",
       "      <td>1</td>\n",
       "      <td>0</td>\n",
       "      <td>0</td>\n",
       "      <td>1</td>\n",
       "      <td>11048</td>\n",
       "      <td>1999</td>\n",
       "      <td>25</td>\n",
       "      <td>9</td>\n",
       "    </tr>\n",
       "  </tbody>\n",
       "</table>\n",
       "<p>11049 rows × 27 columns</p>\n",
       "</div>"
      ],
      "text/plain": [
       "       b_yili   uni_adi  uni_turu  bursu_varmi     bolum  uni_kacinci_sinif  uni_not_ort  lise_turu  lise_mez_notu  a_egitim_durumu  a_calisma_durumu  a_sektor  b_egitim_durumu  b_calisma_durumu  b_sektor  k_sayisi  gir_klube_uyemi  spor_dali_mesgulmu  spor_rolu_ne  aktif_stk_uyesimi  gir_deneyim_varmi  gir_deneyim_acikla  ing_varmi     id   yil  yas  ay\n",
       "0        2023  0.137464 -0.446120            0  0.374136                  1            2          0              1                1                 1         3                2                 1         1         2                0                   1             4                  1                  0                   0          1      0  2002   22   6\n",
       "1        2023 -0.580683 -0.446120            0  0.709254                  1            0          0              2                1                 0         0                1                 1         3         3                0                   1             3                  0                  0                   0          1      1  2004   20   5\n",
       "2        2023 -0.311377  2.241548            1  1.333793                  1            0          1              1                5                 0         0                4                 0         0         0                0                   0             3                  0                  0                   0          1      2  2002   22   4\n",
       "3        2023  0.065650 -0.446120            0  1.227165                  1            0          0              2                1                 0         0                3                 1         3         4                0                   0             0                  1                  0                   0          0      3  2003   21   3\n",
       "4        2023 -1.011571 -0.446120            0  1.303328                  3            3          1              2                4                 1         2                4                 1         2         1                0                   0             0                  1                  1                   1          1      4  2002   22   1\n",
       "...       ...       ...       ...          ...       ...                ...          ...        ...            ...              ...               ...       ...              ...               ...       ...       ...              ...                 ...           ...                ...                ...                 ...        ...    ...   ...  ...  ..\n",
       "11044    2023 -0.688405 -0.446120            0 -0.996804                  2            1          0              2                1                 0         0                2                 0         0         0                1                   0             0                  1                  0                   0          1  11044  2002   22   1\n",
       "11045    2023  0.227233 -0.446120            0 -0.539824                  3            3          0              2                1                 0         0                1                 1         2         3                1                   0             0                  1                  0                   0          0  11045  2001   23   9\n",
       "11046    2023 -0.293424 -0.446120            0 -1.057735                  1            0          1              2                1                 0         0                4                 1         1         2                1                   1             4                  1                  0                   0          1  11046  2004   20   6\n",
       "11047    2023 -0.957710 -0.446120            0 -1.316690                  4            1          0              2                1                 0         0                2                 1         1         2                1                   1             3                  1                  1                   1          1  11047  2001   23  10\n",
       "11048    2023 -0.580683 -0.446120            0 -0.996804                  4            3          0              2                1                 0         0                4                 1         3         3                0                   0             0                  1                  0                   0          1  11048  1999   25   9\n",
       "\n",
       "[11049 rows x 27 columns]"
      ]
     },
     "execution_count": 350,
     "metadata": {},
     "output_type": "execute_result"
    }
   ],
   "source": [
    "pd.set_option('display.max_columns', 500)\n",
    "pd.set_option('display.width', 1000)\n",
    "\n",
    "df_test"
   ]
  },
  {
   "cell_type": "markdown",
   "id": "2d767a66-844b-4464-9a07-47925b0288ce",
   "metadata": {},
   "source": [
    "## Sonuçlar"
   ]
  },
  {
   "cell_type": "code",
   "execution_count": 351,
   "id": "d9be88a9-66a8-4f9f-a6d2-4db17d8e616b",
   "metadata": {},
   "outputs": [],
   "source": [
    "test_test_df = df_test.drop('id',axis=1)  # tüm bu yapılanlar neticesinde artık sonuca vardık.\n",
    "# id'i silerek uygun hale getiriyoruz"
   ]
  },
  {
   "cell_type": "code",
   "execution_count": 352,
   "id": "2af8b961-17fa-4393-a27f-911853a5b1a8",
   "metadata": {},
   "outputs": [],
   "source": [
    "prediction_test= catb_model2.predict(test_test_df) # catboost modelimizi test datamıza entegre ediyoruz\n",
    "prediction_test_int = np.round(prediction_test).astype(int) # çıkacak değerlendirme puanını düzenliyoruz."
   ]
  },
  {
   "cell_type": "code",
   "execution_count": 353,
   "id": "c96d2c2a-4bbf-4d06-9fea-d7aec1a57273",
   "metadata": {},
   "outputs": [],
   "source": [
    "#Sonuçları Kaydetme \n",
    "result_df = df_test[['id']].copy()  # id'i kullanmak için copy ediyoruz\n",
    "result_df['Degerlendirme Puani'] = prediction_test_int  # Elde ettiğimiz tahminleri yazdırıyoruz.\n",
    "\n",
    "# nihayetinde sonuçları csv'ye kaydediyoruz.\n",
    "result_df.to_csv('ttahmin.csv', index=False)"
   ]
  },
  {
   "cell_type": "code",
   "execution_count": null,
   "id": "bbae2ebe-3487-4937-bdc6-88645cf99a64",
   "metadata": {},
   "outputs": [],
   "source": []
  }
 ],
 "metadata": {
  "kernelspec": {
   "display_name": "Python 3 (ipykernel)",
   "language": "python",
   "name": "python3"
  },
  "language_info": {
   "codemirror_mode": {
    "name": "ipython",
    "version": 3
   },
   "file_extension": ".py",
   "mimetype": "text/x-python",
   "name": "python",
   "nbconvert_exporter": "python",
   "pygments_lexer": "ipython3",
   "version": "3.12.1"
  }
 },
 "nbformat": 4,
 "nbformat_minor": 5
}
